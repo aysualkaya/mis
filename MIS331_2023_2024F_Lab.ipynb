{
  "cells": [
    {
      "cell_type": "markdown",
      "metadata": {
        "id": "view-in-github",
        "colab_type": "text"
      },
      "source": [
        "<a href=\"https://colab.research.google.com/github/aysualkaya/mis/blob/main/MIS331_2023_2024F_Lab.ipynb\" target=\"_parent\"><img src=\"https://colab.research.google.com/assets/colab-badge.svg\" alt=\"Open In Colab\"/></a>"
      ]
    },
    {
      "cell_type": "markdown",
      "metadata": {
        "id": "SV3noVEid8W5"
      },
      "source": [
        "# Lab 1 | Introduction to Python & Colab"
      ]
    },
    {
      "cell_type": "markdown",
      "metadata": {
        "id": "cdcWcxHPaCC_"
      },
      "source": [
        "## Introduction to Python & Colab"
      ]
    },
    {
      "cell_type": "code",
      "execution_count": null,
      "metadata": {
        "colab": {
          "base_uri": "https://localhost:8080/"
        },
        "id": "erYDmnVMZbv6",
        "outputId": "db0abb88-36d4-4d41-e0a6-2906f4ba842a"
      },
      "outputs": [
        {
          "output_type": "execute_result",
          "data": {
            "text/plain": [
              "32"
            ]
          },
          "metadata": {},
          "execution_count": 39
        }
      ],
      "source": [
        "3 + 5\n",
        "\n",
        "(3 + 5)/10\n",
        "\n",
        "2**5 # power of a number\n",
        "pow(2,5) # power of a number with method call"
      ]
    },
    {
      "cell_type": "markdown",
      "metadata": {
        "id": "SbKetOAyapDF"
      },
      "source": [
        "## Variables"
      ]
    },
    {
      "cell_type": "code",
      "execution_count": null,
      "metadata": {
        "id": "QtMv8LCXas7i"
      },
      "outputs": [],
      "source": [
        "x = 2\n",
        "x\n",
        "\n",
        "y = 1+3 # first: right-hand side is calculated\n",
        "y\n",
        "\n",
        "z = x+y # first: call the values of variables x and y, then add those values 2+4\n",
        "z\n",
        "\n",
        "x = 5\n",
        "x\n",
        "\n",
        "x = x+2 # first call the value of variable x, then do the summation: 5+2\n",
        "x\n",
        "\n",
        "a = b = c = 10 # we can assign the same value to multiple variables in a chained way\n",
        "# So the values of the variables will be: a=10 b=10 c=10\n"
      ]
    },
    {
      "cell_type": "markdown",
      "metadata": {
        "id": "QxXSEJOzbBbP"
      },
      "source": [
        "## Types: Numeric"
      ]
    },
    {
      "cell_type": "code",
      "execution_count": null,
      "metadata": {
        "colab": {
          "base_uri": "https://localhost:8080/"
        },
        "id": "y0UXMyuTbUwr",
        "outputId": "596a72c4-0823-44bf-9cfd-e8850cce313c"
      },
      "outputs": [
        {
          "output_type": "execute_result",
          "data": {
            "text/plain": [
              "bool"
            ]
          },
          "metadata": {},
          "execution_count": 41
        }
      ],
      "source": [
        "d = 1.5\n",
        "type(x) # type is float\n",
        "\n",
        "d = 1.5 + 2.5\n",
        "d # float type\n",
        "\n",
        "1 < 2 # the output is a bool (boolean) type which either can be True or False\n",
        "\n",
        "b = 10 < 5\n",
        "type(b)"
      ]
    },
    {
      "cell_type": "markdown",
      "metadata": {
        "id": "E7SyIDydbiYD"
      },
      "source": [
        "## Types: Boolean"
      ]
    },
    {
      "cell_type": "code",
      "execution_count": null,
      "metadata": {
        "colab": {
          "base_uri": "https://localhost:8080/"
        },
        "id": "27vWgLeGbkX4",
        "outputId": "893b9e87-2c5d-4c23-81c8-e4f5513a6101"
      },
      "outputs": [
        {
          "output_type": "stream",
          "name": "stdout",
          "text": [
            "Hi there!\n",
            "100\n",
            "<class 'int'>\n",
            "<class 'int'>\n",
            "True\n",
            "True\n",
            "True\n"
          ]
        }
      ],
      "source": [
        "print(\"Hi there!\")\n",
        "print(100)\n",
        "\n",
        "x = 2\n",
        "print(type(x))\n",
        "x = 2+3 # result 5\n",
        "print(type(x))\n",
        "\n",
        "# True and False is a value, similar to the integer values like 1 and 2, or string values like 'MIS' and 'Lecture'\n",
        "\n",
        "print(5>1) # result is True\n",
        "\n",
        "b = 5 > 1 # result is True\n",
        "print(b)\n",
        "\n",
        "c = True\n",
        "print(c)"
      ]
    },
    {
      "cell_type": "markdown",
      "metadata": {
        "id": "GgcUc1LTbsVG"
      },
      "source": [
        "## Types: String"
      ]
    },
    {
      "cell_type": "code",
      "execution_count": null,
      "metadata": {
        "colab": {
          "base_uri": "https://localhost:8080/"
        },
        "id": "POp31x2rbv3o",
        "outputId": "99a61d10-8ea6-46a7-b183-b9eb38debfe3"
      },
      "outputs": [
        {
          "output_type": "execute_result",
          "data": {
            "text/plain": [
              "\"I'm Meltem my age is: 32 \""
            ],
            "application/vnd.google.colaboratory.intrinsic+json": {
              "type": "string"
            }
          },
          "metadata": {},
          "execution_count": 43
        }
      ],
      "source": [
        "my_age = 32\n",
        "my_name = 'Meltem'\n",
        "\n",
        "# we can use variables within a placeholder in a string with f-string\n",
        "introduce_myself = f\"I'm {my_name} my age is: {my_age} \"\n",
        "introduce_myself"
      ]
    },
    {
      "cell_type": "markdown",
      "metadata": {
        "id": "VYkyIkGfb-9P"
      },
      "source": [
        "## Containers\n"
      ]
    },
    {
      "cell_type": "code",
      "execution_count": null,
      "metadata": {
        "colab": {
          "base_uri": "https://localhost:8080/"
        },
        "id": "AjCcyf1fcIw5",
        "outputId": "36d103d6-e59d-41d5-e12c-efb137c98c0b"
      },
      "outputs": [
        {
          "output_type": "execute_result",
          "data": {
            "text/plain": [
              "True"
            ]
          },
          "metadata": {},
          "execution_count": 44
        }
      ],
      "source": [
        "my_list = [1,2,3,4]\n",
        "my_list\n",
        "type(my_list)\n",
        "\n",
        "my_tuple = (1,2,3,4)\n",
        "type(my_tuple)\n",
        "\n",
        "# Dictionary is a collection of key:value pair. Dictionary includes one or more key value pairs in it, as follows:\n",
        "my_dictionary = {'name':'Meltem', 'age':32, \"is_adult\": 31>18}\n",
        "my_dictionary # the value of key:is_adult will be calculated as True during creation of my_dictionary\n",
        "\n",
        "my_dictionary['name'] # will print the value of key 'name', which is 'Meltem'\n",
        "my_dictionary['age'] # will print the value of key 'age', which is 31\n",
        "my_dictionary['is_adult'] # will print the value of key 'id_adult', which is the result of 31>18 which is True\n"
      ]
    },
    {
      "cell_type": "markdown",
      "metadata": {
        "id": "OKlHWJzJca-X"
      },
      "source": [
        "## Containers: Element Types"
      ]
    },
    {
      "cell_type": "code",
      "execution_count": null,
      "metadata": {
        "colab": {
          "base_uri": "https://localhost:8080/"
        },
        "id": "84MrcUMKce59",
        "outputId": "bf342fcf-1cad-4ae9-8e5f-5104f1a4d309"
      },
      "outputs": [
        {
          "output_type": "stream",
          "name": "stdout",
          "text": [
            "True\n"
          ]
        },
        {
          "output_type": "execute_result",
          "data": {
            "text/plain": [
              "float"
            ]
          },
          "metadata": {},
          "execution_count": 45
        }
      ],
      "source": [
        "my_list = [1,2,3,4]\n",
        "\n",
        "my_list[0]\n",
        "# my_list:[1,2,3,4]\n",
        "# indexes: 0,1,2,3\n",
        "\n",
        "my_list[3]\n",
        "\n",
        "my_list_mul_types = [1, 5>1,'Hey!', 2.3, 'Hi!']\n",
        "# my_list_mul_types = [1, True,'Hey!', 2.3, 'Hi!']\n",
        "\n",
        "print(my_list_mul_types[1]) # prints True\n",
        "\n",
        "type(my_list_mul_types[3])"
      ]
    },
    {
      "cell_type": "markdown",
      "metadata": {
        "id": "bvXnbjfqcjqh"
      },
      "source": [
        "##Containers: Accessing Elements & Assigning Values"
      ]
    },
    {
      "cell_type": "code",
      "execution_count": null,
      "metadata": {
        "colab": {
          "base_uri": "https://localhost:8080/"
        },
        "id": "X38R0wYMcprP",
        "outputId": "61db584d-5bbf-47cf-ec38-43ad588d5cf2"
      },
      "outputs": [
        {
          "output_type": "stream",
          "name": "stdout",
          "text": [
            "[1, 2, 3, 4]\n",
            "[9, 2, 3, 4]\n",
            "[9, 2, 33, 4]\n",
            "['Ayşe', 2, 33, 4]\n",
            "['Ayşe', 'Ayşe', 33, 4]\n"
          ]
        }
      ],
      "source": [
        "my_list = [1,2,3,4]\n",
        "print(my_list)\n",
        "\n",
        "my_list[0] = 9\n",
        "print(my_list)\n",
        "\n",
        "my_list[2] = 33\n",
        "print(my_list)\n",
        "\n",
        "my_list[0] = 'Ayşe'\n",
        "print(my_list)\n",
        "\n",
        "my_list[1] = my_list[0] # 'Ayşe'\n",
        "print(my_list)"
      ]
    },
    {
      "cell_type": "markdown",
      "metadata": {
        "id": "lYGTgZjict3Y"
      },
      "source": [
        "## Containers: Operations on lists | Append, Insert, Pop"
      ]
    },
    {
      "cell_type": "code",
      "execution_count": null,
      "metadata": {
        "colab": {
          "base_uri": "https://localhost:8080/"
        },
        "id": "2VEEHophc5v0",
        "outputId": "ff408090-b38e-467e-9840-5b0d1ec655b8"
      },
      "outputs": [
        {
          "output_type": "stream",
          "name": "stdout",
          "text": [
            "['Ayşe', 'Ayşe', 33, 4, 5]\n",
            "['Ayşe', 'Ayşe', 33, 4]\n",
            "['Ayşe', 'Ayşe', 33, 4, 5]\n",
            "['Ayşe', 'Ayşe', 33, 4, 5, 6]\n",
            "[0, 'Ayşe', 'Ayşe', 33, 4, 5, 6]\n",
            "[0, 'Ayşe', 'Ayşe', 33, 4, 5, 6, True, 'test']\n",
            "9\n",
            "[0, 'Ayşe', 'Ayşe', 33, 4, 5, 6, True, 'test', 99, 98]\n",
            "11\n",
            "[0, 'Ayşe', 'Ayşe', 33, 4, 5, 6, True, 'test', 99, 98, [97, 96]]\n",
            "12\n",
            "[0, -1, 'Ayşe', 'Ayşe', 33, 4, 5, 6, True, 'test', 99, 98, [97, 96]]\n",
            "13\n",
            "[-1, 'Ayşe', 'Ayşe', 33, 4, 5, 6, True, 'test', 99, 98, [97, 96]]\n",
            "12\n",
            "['Ayşe', 'Ayşe', 33, 4, 5, 6, True, 'test', 99, 98, [97, 96]]\n",
            "11\n"
          ]
        }
      ],
      "source": [
        "print(my_list + [5]) # temporary operation, not a change on my_list\n",
        "print(my_list)\n",
        "\n",
        "my_list = my_list + [5]\n",
        "print(my_list)\n",
        "\n",
        "my_list.append(6)\n",
        "print(my_list)\n",
        "\n",
        "my_list = [0] + my_list\n",
        "print(my_list)\n",
        "\n",
        "# my_list = my_list + [True] + ['test']\n",
        "\n",
        "my_list = my_list + [True, 'test']\n",
        "print(my_list)\n",
        "print(len(my_list))\n",
        "\n",
        "my_list = my_list + [99,98]\n",
        "print(my_list)\n",
        "print(len(my_list))\n",
        "\n",
        "my_list = my_list + [[97,96]]\n",
        "print(my_list)\n",
        "print(len(my_list))\n",
        "\n",
        "my_list.insert(1, -1)\n",
        "print(my_list)\n",
        "print(len(my_list))\n",
        "\n",
        "my_list.pop(0)\n",
        "print(my_list)\n",
        "print(len(my_list))\n",
        "\n",
        "my_list.pop(0)\n",
        "print(my_list)\n",
        "print(len(my_list))"
      ]
    },
    {
      "cell_type": "markdown",
      "metadata": {
        "id": "MWmepeMKc-H4"
      },
      "source": [
        "## Containers: Advanced Accessing Elements & Assigning Values"
      ]
    },
    {
      "cell_type": "code",
      "execution_count": null,
      "metadata": {
        "colab": {
          "base_uri": "https://localhost:8080/"
        },
        "id": "KNg4jW2KdNb8",
        "outputId": "bbab69c6-dfd1-41ae-a6b5-06f5b8fe1631"
      },
      "outputs": [
        {
          "output_type": "stream",
          "name": "stdout",
          "text": [
            "['Ayşe', 'Ayşe', 33, 4, 5]\n",
            "[4, 5]\n",
            "[97, 96]\n",
            "98\n",
            "['Ayşe', 'Ayşe', 33]\n",
            "['Ayşe', 'Ayşe', 33]\n",
            "[99, 98, [97, 96]]\n",
            "['Ayşe', 33, 5, True, 99, [97, 96]]\n",
            "[[97, 96], 98, 99, 'test', True, 6, 5, 4, 33, 'Ayşe', 'Ayşe']\n",
            "Changed list: ['Ayşe', 100, 101, 33, 4, 5, 6, True, 'test', 99, 98, [97, 96]]\n",
            "12\n"
          ]
        }
      ],
      "source": [
        "# beginning index (included) : last index (excluded)\n",
        "print(my_list[0:5]) # it will print index:0,1,2,3,4\n",
        "print(my_list[3:5]) # it will print index:3,4\n",
        "\n",
        "# we can use both positive or negative indexes to access the elements of a list\n",
        "print(my_list[-1]) # last element is a list : [97,96]\n",
        "# my_list = [1, 2, 3, 4]\n",
        "# indexes:   0, 1, 2, 3\n",
        "# indexes:  -4,-3,-2,-1\n",
        "\n",
        "print(my_list[-2]) # 2nd last element is an integer: 98\n",
        "\n",
        "print(my_list[0:3]) # indexes: 0,1,2\n",
        "print(my_list[:3]) # indexes: 0,1,2\n",
        "\n",
        "print(my_list[-3:]) # indexes: -3,-2,-1\n",
        "\n",
        "print(my_list[::2]) # every 2nd element\n",
        "\n",
        "print(my_list[::-1]) # list with order reversed\n",
        "\n",
        "# 2nd and 3rd element of the list will be equal to 100 and 101 respectively\n",
        "my_list[1:2] = [100,101] # list element assignment to a new variables\n",
        "\n",
        "print(f'Changed list: {my_list}')\n",
        "\n",
        "# print the length of my_list\n",
        "print(len(my_list))"
      ]
    },
    {
      "cell_type": "markdown",
      "metadata": {
        "id": "_HW1oRAEdaVf"
      },
      "source": [
        "## Conditional Statements"
      ]
    },
    {
      "cell_type": "code",
      "execution_count": null,
      "metadata": {
        "colab": {
          "base_uri": "https://localhost:8080/"
        },
        "id": "3hXoQKkbdcWF",
        "outputId": "4ffb2203-b5ef-4669-8aac-346ed82038d2"
      },
      "outputs": [
        {
          "output_type": "stream",
          "name": "stdout",
          "text": [
            "True\n",
            "10 is higher than 5! :)\n",
            "higher!\n",
            "['Ayşe', 100, 101, 33, 4, 5, 6, True, 'test', 99, 98, [97, 96]]\n",
            "12\n"
          ]
        }
      ],
      "source": [
        "# if the given number is higher than 5, print number is higher\n",
        "# else if the given number is NOT higher than 5, print number is NOT higher\n",
        "\n",
        "number = 10\n",
        "print(number > 5)\n",
        "\n",
        "if number > 5: # python will convert number>5 to True internally\n",
        "  # any code that is to be executed IF number > 5\n",
        "  print(f\"{number} is higher than 5! :)\")\n",
        "\n",
        "if number < 5:\n",
        "  # any code that is to be executed IF number < 5\n",
        "  print(f\"{number} is NOT higher than 5! :(\")\n",
        "\n",
        "if number > 5:\n",
        "  print(\"higher!\") # if number > 5 check is True, so if the result is True, then this code will run\n",
        "elif number < 5: ## this check (elif number < 5) will be performed only after if number > 5 check above is False\n",
        "  print(\"lower!\") ### the code in this line is run only if number < 5 check is True\n",
        "\n",
        "print(my_list)\n",
        "print(len(my_list))\n"
      ]
    },
    {
      "cell_type": "markdown",
      "metadata": {
        "id": "qAJA-VT6dl8K"
      },
      "source": [
        "##Control Flow: Loops"
      ]
    },
    {
      "cell_type": "code",
      "execution_count": null,
      "metadata": {
        "colab": {
          "base_uri": "https://localhost:8080/"
        },
        "id": "HRUTadW-dszX",
        "outputId": "7e67bfb6-345b-46e3-e7a1-6215d29ac7ab"
      },
      "outputs": [
        {
          "output_type": "stream",
          "name": "stdout",
          "text": [
            "The current element is: Ayşe\n",
            "The type of the current element is: <class 'str'>\n",
            "The current element is: 100\n",
            "The type of the current element is: <class 'int'>\n",
            "The current element is: 101\n",
            "The type of the current element is: <class 'int'>\n",
            "The current element is: 33\n",
            "The type of the current element is: <class 'int'>\n",
            "The current element is: 4\n",
            "The type of the current element is: <class 'int'>\n",
            "The current element is: 5\n",
            "The type of the current element is: <class 'int'>\n",
            "The current element is: 6\n",
            "The type of the current element is: <class 'int'>\n",
            "The current element is: True\n",
            "The type of the current element is: <class 'bool'>\n",
            "The current element is: test\n",
            "The type of the current element is: <class 'str'>\n",
            "The current element is: 99\n",
            "The type of the current element is: <class 'int'>\n",
            "The current element is: 98\n",
            "The type of the current element is: <class 'int'>\n",
            "The current element is: [97, 96]\n",
            "The type of the current element is: <class 'list'>\n",
            "The current element is:1\n",
            "The current element is:2\n",
            "The current element is:3\n",
            "The current element is:4\n",
            "The current element is:1\n",
            "The current element is:True\n",
            "The current element is:Hi!\n",
            "The current element is:2.3\n",
            "0\n",
            "1\n",
            "2\n",
            "3\n",
            "4\n",
            "The current index: 0\n",
            "The current element is: Ayşe\n",
            "The type of the current element is: <class 'str'>\n",
            "The current index: 2\n",
            "The current element is: 101\n",
            "The type of the current element is: <class 'int'>\n",
            "The current index: 4\n",
            "The current element is: 4\n",
            "The type of the current element is: <class 'int'>\n",
            "The current index: 6\n",
            "The current element is: 6\n",
            "The type of the current element is: <class 'int'>\n",
            "The current index: 8\n",
            "The current element is: test\n",
            "The type of the current element is: <class 'str'>\n",
            "The current index: 10\n",
            "The current element is: 98\n",
            "The type of the current element is: <class 'int'>\n"
          ]
        }
      ],
      "source": [
        "# i is the variable represents element\n",
        "for i in my_list: # iterating over a list: my_list\n",
        "  print(f\"The current element is: {i}\")\n",
        "  print(f\"The type of the current element is: {type(i)}\")\n",
        "\n",
        "for i in [1,2,3,4]:\n",
        "  print(f\"The current element is:{i}\")\n",
        "\n",
        "for i in [1,True,'Hi!', 2.3]:\n",
        "  print(f\"The current element is:{i}\")\n",
        "\n",
        "for i in range(0,5):\n",
        "  print(i)\n",
        "\n",
        "for i in range(0,len(my_list),2): # i is the variable represent indexes\n",
        "  element = my_list[i]\n",
        "  print(f\"The current index: {i}\")\n",
        "  print(f\"The current element is: {element}\")\n",
        "  print(f\"The type of the current element is: {type(element)}\")"
      ]
    },
    {
      "cell_type": "markdown",
      "metadata": {
        "id": "iEz9ljNbeOEl"
      },
      "source": [
        "# Lab 2 | Data Description"
      ]
    },
    {
      "cell_type": "code",
      "source": [
        "import pandas as pd\n",
        "from sklearn.linear_model import LinearRegression\n",
        "import numpy as np\n",
        "import matplotlib.pyplot as plt\n",
        "import seaborn as sns\n",
        "\n",
        "# Load the data\n",
        "file_path = '/content/sample_data/Enquirer.xls'\n",
        "data = pd.read_excel(file_path)\n",
        "\n",
        "# Selecting the explanatory variables and the dependent variable\n",
        "X = data[['% on ADC', '% Free Lunch', 'Median Income']]\n",
        "y = data['% Passed']\n",
        "\n",
        "# Performing the linear regression\n",
        "regression_model = LinearRegression()\n",
        "regression_model.fit(X, y)\n",
        "\n",
        "# Predictions from the model\n",
        "predictions = regression_model.predict(X)\n",
        "\n",
        "# Calculation of SST, SSR, SSE\n",
        "SST = np.sum((y - np.mean(y))**2)\n",
        "SSR = np.sum((predictions - np.mean(y))**2)\n",
        "SSE = np.sum((y - predictions)**2)\n",
        "\n",
        "# Coefficient of Determination (R²) and Estimated Variance of Error\n",
        "r_squared = regression_model.score(X, y)\n",
        "estimated_variance_error = SSE / (len(y) - len(X.columns) - 1)\n",
        "\n",
        "# Interpretation of results\n",
        "coefficients = regression_model.coef_\n",
        "intercept = regression_model.intercept_\n",
        "\n",
        "# Visualization\n",
        "# Setting up the visualization style\n",
        "sns.set_style('whitegrid')\n",
        "\n",
        "# Scatter plots of each explanatory variable vs. the dependent variable\n",
        "fig, axes = plt.subplots(1, 3, figsize=(15, 5))\n",
        "sns.scatterplot(ax=axes[0], data=data, x='% on ADC', y='% Passed')\n",
        "axes[0].set_title('% on ADC vs. % Passed')\n",
        "sns.scatterplot(ax=axes[1], data=data, x='% Free Lunch', y='% Passed')\n",
        "axes[1].set_title('% Free Lunch vs. % Passed')\n",
        "sns.scatterplot(ax=axes[2], data=data, x='Median Income', y='% Passed')\n",
        "axes[2].set_title('Median Income vs. % Passed')\n",
        "plt.tight_layout()\n",
        "plt.show()\n",
        "\n",
        "# Regression line plot for each explanatory variable\n",
        "fig, axes = plt.subplots(1, 3, figsize=(15, 5))\n",
        "sns.regplot(ax=axes[0], data=data, x='% on ADC', y='% Passed')\n",
        "axes[0].set_title('Regression Line: % on ADC vs. % Passed')\n",
        "sns.regplot(ax=axes[1], data=data, x='% Free Lunch', y='% Passed')\n",
        "axes[1].set_title('Regression Line: % Free Lunch vs. % Passed')\n",
        "sns.regplot(ax=axes[2], data=data, x='Median Income', y='% Passed')\n",
        "axes[2].set_title('Regression Line: Median Income vs. % Passed')\n",
        "plt.tight_layout()\n",
        "plt.show()\n"
      ],
      "metadata": {
        "colab": {
          "base_uri": "https://localhost:8080/",
          "height": 686
        },
        "id": "2GkrQqdZz-k-",
        "outputId": "d049694a-9fa4-4df0-cf91-8ac5cbf6065e"
      },
      "execution_count": null,
      "outputs": [
        {
          "output_type": "display_data",
          "data": {
            "text/plain": [
              "<Figure size 1500x500 with 3 Axes>"
            ],
            "image/png": "[encoded data removed]"
          },
          "metadata": {}
        },
        {
          "output_type": "display_data",
          "data": {
            "text/plain": [
              "<Figure size 1500x500 with 3 Axes>"
            ],
            "image/png": "[encoded data removed]"
          },
          "metadata": {}
        }
      ]
    },
    {
      "cell_type": "markdown",
      "source": [],
      "metadata": {
        "id": "xldcRgGvz2Z1"
      }
    },
    {
      "cell_type": "markdown",
      "metadata": {
        "id": "9jiKnhhqa4xS"
      },
      "source": [
        "# Lab 3 | Data Preprocessing"
      ]
    },
    {
      "cell_type": "markdown",
      "metadata": {
        "id": "kiBgQQfQBTyT"
      },
      "source": [
        "## Import Data"
      ]
    },
    {
      "cell_type": "code",
      "execution_count": null,
      "metadata": {
        "colab": {
          "base_uri": "https://localhost:8080/"
        },
        "id": "WQEQEX45a7Wg",
        "outputId": "d6dac769-6393-45d2-a877-17d6cbd7d448"
      },
      "outputs": [
        {
          "output_type": "stream",
          "name": "stdout",
          "text": [
            "Index(['TotalDrinkUnitSales', 'TotalDrinkSales', 'TotalFoodSales',\n",
            "       'TotalFoodUnitSales', 'TotalNonConUnitSales', 'TotalNonConSales',\n",
            "       'customer_id', 'marital_status', 'yearly_income', 'gender',\n",
            "       'total_children', 'num_children_at_home', 'education', 'member_card',\n",
            "       'occupation', 'houseowner', 'num_cars_owned', 'TotalSales'],\n",
            "      dtype='object')\n"
          ]
        },
        {
          "output_type": "execute_result",
          "data": {
            "text/plain": [
              "(10281, 18)"
            ]
          },
          "metadata": {},
          "execution_count": 21
        }
      ],
      "source": [
        "import pandas as pd\n",
        "\n",
        "# Please drag and drop or upload the salesFact file right into the Files menu (left hand side) and under sample_data folder\n",
        "data = pd.read_csv(\"sample_data/salesFact.csv\")\n",
        "data.columns\n",
        "data.head()\n",
        "\n",
        "# Another option for uploading data is to mount the drive to this runtime:\n",
        "# from google.colab import drive\n",
        "# drive.mount('/content/drive')\n",
        "\n",
        "# Creating a new attribute called: TotalSales\n",
        "data['TotalSales'] = data['TotalDrinkSales'] + data['TotalFoodSales'] + data['TotalNonConSales']\n",
        "print(data.columns)\n",
        "data.shape"
      ]
    },
    {
      "cell_type": "markdown",
      "metadata": {
        "id": "QarTzWyMBggd"
      },
      "source": [
        "## Discretization"
      ]
    },
    {
      "cell_type": "markdown",
      "metadata": {
        "id": "a-nmEb0VBjPn"
      },
      "source": [
        "### Discretization: qcut function"
      ]
    },
    {
      "cell_type": "code",
      "execution_count": null,
      "metadata": {
        "colab": {
          "base_uri": "https://localhost:8080/"
        },
        "id": "oB8Ewl-LnhIu",
        "outputId": "74341a82-8891-49fd-d411-cffd455f0a03"
      },
      "outputs": [
        {
          "output_type": "stream",
          "name": "stdout",
          "text": [
            "low     5141\n",
            "high    5140\n",
            "Name: tsbin, dtype: int64\n",
            "92.0\n"
          ]
        },
        {
          "output_type": "execute_result",
          "data": {
            "text/plain": [
              "92.0"
            ]
          },
          "metadata": {},
          "execution_count": 22
        }
      ],
      "source": [
        "# qcut: Quantile-based discretization function\n",
        "# all bins (both low and high) will have (if the whole is even, or else roughly) the same number of observations\n",
        "data['tsbin'] = pd.qcut(data['TotalSales'], q=2, labels=[\"low\",\"high\"])\n",
        "# param q is set to 2, which means, TotalSales data values are divided into 2 equal bins (categories)\n",
        "print(data['tsbin'].value_counts())\n",
        "data[['TotalSales', 'tsbin']]\n",
        "print(data['TotalSales'].median()) # this is the cut-off value for the two bins\n",
        "data[data.tsbin == 'low'].TotalSales.max() #the max value for the \"low\" category. Any customer that has a totalsales value above this will be categorized as \"high\""
      ]
    },
    {
      "cell_type": "code",
      "execution_count": null,
      "metadata": {
        "colab": {
          "base_uri": "https://localhost:8080/"
        },
        "id": "HHD_6ZGZqrFp",
        "outputId": "2a7782a0-a7a7-4a07-a747-d8565ad0c25d"
      },
      "outputs": [
        {
          "output_type": "stream",
          "name": "stdout",
          "text": [
            "high      4112\n",
            "normal    4110\n",
            "low       2059\n",
            "Name: tsbin2, dtype: int64\n"
          ]
        },
        {
          "output_type": "execute_result",
          "data": {
            "text/plain": [
              "count     10281\n",
              "unique        3\n",
              "top        high\n",
              "freq       4112\n",
              "Name: tsbin2, dtype: object"
            ]
          },
          "metadata": {},
          "execution_count": 23
        }
      ],
      "source": [
        "# qcut function by giving quantile intervals\n",
        "# we covered all the data from %0 (first q element) to %100 (last q element)\n",
        "# quantile intervals: (%0,%20], (%20,%60], (%60,%100]\n",
        "data['tsbin2'] = pd.qcut(data['TotalSales'], q=[0,0.2,0.6,1.0], labels=[\"low\",\"normal\",\"high\"])\n",
        "print(data['tsbin2'].value_counts())\n",
        "data['tsbin2'].describe()"
      ]
    },
    {
      "cell_type": "markdown",
      "metadata": {
        "id": "zgbHxQh_CCJj"
      },
      "source": [
        "### Discretization: cut function"
      ]
    },
    {
      "cell_type": "code",
      "execution_count": null,
      "metadata": {
        "colab": {
          "base_uri": "https://localhost:8080/"
        },
        "id": "WGwTeDltsgqk",
        "outputId": "2e1b4003-cd4c-434e-e9e5-a5852114172d"
      },
      "outputs": [
        {
          "output_type": "stream",
          "name": "stdout",
          "text": [
            "high      5727\n",
            "normal     864\n",
            "low        300\n",
            "Name: tsbin3, dtype: int64\n",
            "2080.58\n",
            "high      7572\n",
            "low       1845\n",
            "normal     864\n",
            "Name: tsbin3, dtype: int64\n"
          ]
        },
        {
          "output_type": "execute_result",
          "data": {
            "text/plain": [
              "count     10281\n",
              "unique        3\n",
              "top        high\n",
              "freq       7572\n",
              "Name: tsbin3, dtype: object"
            ]
          },
          "metadata": {},
          "execution_count": 24
        }
      ],
      "source": [
        "# cut: it is used to specifically define the bin edges\n",
        "# the intervals: (0,10],(10,30],(30,250] -> 3 different bins\n",
        "#                 low    normal   high\n",
        "# 0 is NOT included in category: \"low\"\n",
        "# 0.1 is included in category: \"low\"\n",
        "data['tsbin3'] = pd.cut(data['TotalSales'], bins=[0,10,30,250], labels=[\"low\",\"normal\",\"high\"])\n",
        "print(data['tsbin3'].value_counts())\n",
        "data['tsbin3'].describe()\n",
        "\n",
        "# note that the total count is not the same as the total value of rows in the dataset! This is due to the following two issues:\n",
        "# 1) the lower edges are not included, so values equal to zero are not taken into account,\n",
        "# 2) there are data points larger than the max value we have given for the intervals (250)\n",
        "\n",
        "print(data['TotalSales'].max())\n",
        "x = data['TotalSales'].max()\n",
        "\n",
        "data['tsbin3'] = pd.cut(data['TotalSales'], bins=[-1,10,30,x], labels=[\"low\",\"normal\",\"high\"])\n",
        "print(data['tsbin3'].value_counts())\n",
        "data['tsbin3'].describe()"
      ]
    },
    {
      "cell_type": "markdown",
      "metadata": {
        "id": "UV3Trg77CZNv"
      },
      "source": [
        "## Z-Normalization"
      ]
    },
    {
      "cell_type": "code",
      "execution_count": null,
      "metadata": {
        "colab": {
          "base_uri": "https://localhost:8080/"
        },
        "id": "zQLBxRHZvofx",
        "outputId": "9f6992ac-fd57-4667-ccb1-afe12838009a"
      },
      "outputs": [
        {
          "output_type": "stream",
          "name": "stdout",
          "text": [
            "       TotalSales  TotalSalesZ\n",
            "0            0.00    -0.731996\n",
            "1            0.00    -0.731996\n",
            "2          203.17     0.197826\n",
            "3            0.00    -0.731996\n",
            "4            1.08    -0.727053\n",
            "...           ...          ...\n",
            "10276      230.34     0.322172\n",
            "10277      167.24     0.033390\n",
            "10278        0.00    -0.731996\n",
            "10279      232.77     0.333293\n",
            "10280      246.90     0.397960\n",
            "\n",
            "[10281 rows x 2 columns]\n",
            "159.9441299484486\n",
            "218.5041280759024\n"
          ]
        }
      ],
      "source": [
        "data['TotalSalesZ'] = (data['TotalSales'] - data['TotalSales'].mean()) / data['TotalSales'].std()\n",
        "data.columns\n",
        "data['TotalSalesZ'].mean()\n",
        "data['TotalSalesZ'].std()\n",
        "print(data[['TotalSales','TotalSalesZ']])\n",
        "print(data['TotalSales'].mean())\n",
        "print(data['TotalSales'].std())"
      ]
    },
    {
      "cell_type": "markdown",
      "metadata": {
        "id": "4Cuhd8aFCc2f"
      },
      "source": [
        "## Missing Values"
      ]
    },
    {
      "cell_type": "code",
      "execution_count": null,
      "metadata": {
        "colab": {
          "base_uri": "https://localhost:8080/"
        },
        "id": "-kXKJifTxNK0",
        "outputId": "0c659066-d923-4195-8294-55292ab62c70"
      },
      "outputs": [
        {
          "output_type": "stream",
          "name": "stdout",
          "text": [
            "<class 'list'>\n",
            "<class 'pandas.core.frame.DataFrame'>\n",
            "     Name   Age\n",
            "0     Ali  30.0\n",
            "1    Veli  20.0\n",
            "2   Melis  22.0\n",
            "3    Ayşe   NaN\n",
            "4  Meltem   NaN\n",
            "24.0\n"
          ]
        },
        {
          "output_type": "execute_result",
          "data": {
            "text/plain": [
              "    Name   Age\n",
              "0    Ali  30.0\n",
              "1   Veli  20.0\n",
              "2  Melis  22.0"
            ],
            "text/html": [
              "\n",
              "  <div id=\"df-fb790d67-4be3-49b0-b0a3-c5afe442549b\" class=\"colab-df-container\">\n",
              "    <div>\n",
              "<style scoped>\n",
              "    .dataframe tbody tr th:only-of-type {\n",
              "        vertical-align: middle;\n",
              "    }\n",
              "\n",
              "    .dataframe tbody tr th {\n",
              "        vertical-align: top;\n",
              "    }\n",
              "\n",
              "    .dataframe thead th {\n",
              "        text-align: right;\n",
              "    }\n",
              "</style>\n",
              "<table border=\"1\" class=\"dataframe\">\n",
              "  <thead>\n",
              "    <tr style=\"text-align: right;\">\n",
              "      <th></th>\n",
              "      <th>Name</th>\n",
              "      <th>Age</th>\n",
              "    </tr>\n",
              "  </thead>\n",
              "  <tbody>\n",
              "    <tr>\n",
              "      <th>0</th>\n",
              "      <td>Ali</td>\n",
              "      <td>30.0</td>\n",
              "    </tr>\n",
              "    <tr>\n",
              "      <th>1</th>\n",
              "      <td>Veli</td>\n",
              "      <td>20.0</td>\n",
              "    </tr>\n",
              "    <tr>\n",
              "      <th>2</th>\n",
              "      <td>Melis</td>\n",
              "      <td>22.0</td>\n",
              "    </tr>\n",
              "  </tbody>\n",
              "</table>\n",
              "</div>\n",
              "    <div class=\"colab-df-buttons\">\n",
              "\n",
              "  <div class=\"colab-df-container\">\n",
              "    <button class=\"colab-df-convert\" onclick=\"convertToInteractive('df-fb790d67-4be3-49b0-b0a3-c5afe442549b')\"\n",
              "            title=\"Convert this dataframe to an interactive table.\"\n",
              "            style=\"display:none;\">\n",
              "\n",
              "  <svg xmlns=\"http://www.w3.org/2000/svg\" height=\"24px\" viewBox=\"0 -960 960 960\">\n",
              "    <path d=\"M120-120v-720h720v720H120Zm60-500h600v-160H180v160Zm220 220h160v-160H400v160Zm0 220h160v-160H400v160ZM180-400h160v-160H180v160Zm440 0h160v-160H620v160ZM180-180h160v-160H180v160Zm440 0h160v-160H620v160Z\"/>\n",
              "  </svg>\n",
              "    </button>\n",
              "\n",
              "  <style>\n",
              "    .colab-df-container {\n",
              "      display:flex;\n",
              "      gap: 12px;\n",
              "    }\n",
              "\n",
              "    .colab-df-convert {\n",
              "      background-color: #E8F0FE;\n",
              "      border: none;\n",
              "      border-radius: 50%;\n",
              "      cursor: pointer;\n",
              "      display: none;\n",
              "      fill: #1967D2;\n",
              "      height: 32px;\n",
              "      padding: 0 0 0 0;\n",
              "      width: 32px;\n",
              "    }\n",
              "\n",
              "    .colab-df-convert:hover {\n",
              "      background-color: #E2EBFA;\n",
              "      box-shadow: 0px 1px 2px rgba(60, 64, 67, 0.3), 0px 1px 3px 1px rgba(60, 64, 67, 0.15);\n",
              "      fill: #174EA6;\n",
              "    }\n",
              "\n",
              "    .colab-df-buttons div {\n",
              "      margin-bottom: 4px;\n",
              "    }\n",
              "\n",
              "    [theme=dark] .colab-df-convert {\n",
              "      background-color: #3B4455;\n",
              "      fill: #D2E3FC;\n",
              "    }\n",
              "\n",
              "    [theme=dark] .colab-df-convert:hover {\n",
              "      background-color: #434B5C;\n",
              "      box-shadow: 0px 1px 3px 1px rgba(0, 0, 0, 0.15);\n",
              "      filter: drop-shadow(0px 1px 2px rgba(0, 0, 0, 0.3));\n",
              "      fill: #FFFFFF;\n",
              "    }\n",
              "  </style>\n",
              "\n",
              "    <script>\n",
              "      const buttonEl =\n",
              "        document.querySelector('#df-fb790d67-4be3-49b0-b0a3-c5afe442549b button.colab-df-convert');\n",
              "      buttonEl.style.display =\n",
              "        google.colab.kernel.accessAllowed ? 'block' : 'none';\n",
              "\n",
              "      async function convertToInteractive(key) {\n",
              "        const element = document.querySelector('#df-fb790d67-4be3-49b0-b0a3-c5afe442549b');\n",
              "        const dataTable =\n",
              "          await google.colab.kernel.invokeFunction('convertToInteractive',\n",
              "                                                    [key], {});\n",
              "        if (!dataTable) return;\n",
              "\n",
              "        const docLinkHtml = 'Like what you see? Visit the ' +\n",
              "          '<a target=\"_blank\" href=https://colab.research.google.com/notebooks/data_table.ipynb>data table notebook</a>'\n",
              "          + ' to learn more about interactive tables.';\n",
              "        element.innerHTML = '';\n",
              "        dataTable['output_type'] = 'display_data';\n",
              "        await google.colab.output.renderOutput(dataTable, element);\n",
              "        const docLink = document.createElement('div');\n",
              "        docLink.innerHTML = docLinkHtml;\n",
              "        element.appendChild(docLink);\n",
              "      }\n",
              "    </script>\n",
              "  </div>\n",
              "\n",
              "\n",
              "<div id=\"df-84012920-d797-4f54-a9c0-8321007dec7d\">\n",
              "  <button class=\"colab-df-quickchart\" onclick=\"quickchart('df-84012920-d797-4f54-a9c0-8321007dec7d')\"\n",
              "            title=\"Suggest charts\"\n",
              "            style=\"display:none;\">\n",
              "\n",
              "<svg xmlns=\"http://www.w3.org/2000/svg\" height=\"24px\"viewBox=\"0 0 24 24\"\n",
              "     width=\"24px\">\n",
              "    <g>\n",
              "        <path d=\"M19 3H5c-1.1 0-2 .9-2 2v14c0 1.1.9 2 2 2h14c1.1 0 2-.9 2-2V5c0-1.1-.9-2-2-2zM9 17H7v-7h2v7zm4 0h-2V7h2v10zm4 0h-2v-4h2v4z\"/>\n",
              "    </g>\n",
              "</svg>\n",
              "  </button>\n",
              "\n",
              "<style>\n",
              "  .colab-df-quickchart {\n",
              "      --bg-color: #E8F0FE;\n",
              "      --fill-color: #1967D2;\n",
              "      --hover-bg-color: #E2EBFA;\n",
              "      --hover-fill-color: #174EA6;\n",
              "      --disabled-fill-color: #AAA;\n",
              "      --disabled-bg-color: #DDD;\n",
              "  }\n",
              "\n",
              "  [theme=dark] .colab-df-quickchart {\n",
              "      --bg-color: #3B4455;\n",
              "      --fill-color: #D2E3FC;\n",
              "      --hover-bg-color: #434B5C;\n",
              "      --hover-fill-color: #FFFFFF;\n",
              "      --disabled-bg-color: #3B4455;\n",
              "      --disabled-fill-color: #666;\n",
              "  }\n",
              "\n",
              "  .colab-df-quickchart {\n",
              "    background-color: var(--bg-color);\n",
              "    border: none;\n",
              "    border-radius: 50%;\n",
              "    cursor: pointer;\n",
              "    display: none;\n",
              "    fill: var(--fill-color);\n",
              "    height: 32px;\n",
              "    padding: 0;\n",
              "    width: 32px;\n",
              "  }\n",
              "\n",
              "  .colab-df-quickchart:hover {\n",
              "    background-color: var(--hover-bg-color);\n",
              "    box-shadow: 0 1px 2px rgba(60, 64, 67, 0.3), 0 1px 3px 1px rgba(60, 64, 67, 0.15);\n",
              "    fill: var(--button-hover-fill-color);\n",
              "  }\n",
              "\n",
              "  .colab-df-quickchart-complete:disabled,\n",
              "  .colab-df-quickchart-complete:disabled:hover {\n",
              "    background-color: var(--disabled-bg-color);\n",
              "    fill: var(--disabled-fill-color);\n",
              "    box-shadow: none;\n",
              "  }\n",
              "\n",
              "  .colab-df-spinner {\n",
              "    border: 2px solid var(--fill-color);\n",
              "    border-color: transparent;\n",
              "    border-bottom-color: var(--fill-color);\n",
              "    animation:\n",
              "      spin 1s steps(1) infinite;\n",
              "  }\n",
              "\n",
              "  @keyframes spin {\n",
              "    0% {\n",
              "      border-color: transparent;\n",
              "      border-bottom-color: var(--fill-color);\n",
              "      border-left-color: var(--fill-color);\n",
              "    }\n",
              "    20% {\n",
              "      border-color: transparent;\n",
              "      border-left-color: var(--fill-color);\n",
              "      border-top-color: var(--fill-color);\n",
              "    }\n",
              "    30% {\n",
              "      border-color: transparent;\n",
              "      border-left-color: var(--fill-color);\n",
              "      border-top-color: var(--fill-color);\n",
              "      border-right-color: var(--fill-color);\n",
              "    }\n",
              "    40% {\n",
              "      border-color: transparent;\n",
              "      border-right-color: var(--fill-color);\n",
              "      border-top-color: var(--fill-color);\n",
              "    }\n",
              "    60% {\n",
              "      border-color: transparent;\n",
              "      border-right-color: var(--fill-color);\n",
              "    }\n",
              "    80% {\n",
              "      border-color: transparent;\n",
              "      border-right-color: var(--fill-color);\n",
              "      border-bottom-color: var(--fill-color);\n",
              "    }\n",
              "    90% {\n",
              "      border-color: transparent;\n",
              "      border-bottom-color: var(--fill-color);\n",
              "    }\n",
              "  }\n",
              "</style>\n",
              "\n",
              "  <script>\n",
              "    async function quickchart(key) {\n",
              "      const quickchartButtonEl =\n",
              "        document.querySelector('#' + key + ' button');\n",
              "      quickchartButtonEl.disabled = true;  // To prevent multiple clicks.\n",
              "      quickchartButtonEl.classList.add('colab-df-spinner');\n",
              "      try {\n",
              "        const charts = await google.colab.kernel.invokeFunction(\n",
              "            'suggestCharts', [key], {});\n",
              "      } catch (error) {\n",
              "        console.error('Error during call to suggestCharts:', error);\n",
              "      }\n",
              "      quickchartButtonEl.classList.remove('colab-df-spinner');\n",
              "      quickchartButtonEl.classList.add('colab-df-quickchart-complete');\n",
              "    }\n",
              "    (() => {\n",
              "      let quickchartButtonEl =\n",
              "        document.querySelector('#df-84012920-d797-4f54-a9c0-8321007dec7d button');\n",
              "      quickchartButtonEl.style.display =\n",
              "        google.colab.kernel.accessAllowed ? 'block' : 'none';\n",
              "    })();\n",
              "  </script>\n",
              "</div>\n",
              "\n",
              "  <div id=\"id_8d46e9a7-2c8d-449a-9935-a84ca0690d5b\">\n",
              "    <style>\n",
              "      .colab-df-generate {\n",
              "        background-color: #E8F0FE;\n",
              "        border: none;\n",
              "        border-radius: 50%;\n",
              "        cursor: pointer;\n",
              "        display: none;\n",
              "        fill: #1967D2;\n",
              "        height: 32px;\n",
              "        padding: 0 0 0 0;\n",
              "        width: 32px;\n",
              "      }\n",
              "\n",
              "      .colab-df-generate:hover {\n",
              "        background-color: #E2EBFA;\n",
              "        box-shadow: 0px 1px 2px rgba(60, 64, 67, 0.3), 0px 1px 3px 1px rgba(60, 64, 67, 0.15);\n",
              "        fill: #174EA6;\n",
              "      }\n",
              "\n",
              "      [theme=dark] .colab-df-generate {\n",
              "        background-color: #3B4455;\n",
              "        fill: #D2E3FC;\n",
              "      }\n",
              "\n",
              "      [theme=dark] .colab-df-generate:hover {\n",
              "        background-color: #434B5C;\n",
              "        box-shadow: 0px 1px 3px 1px rgba(0, 0, 0, 0.15);\n",
              "        filter: drop-shadow(0px 1px 2px rgba(0, 0, 0, 0.3));\n",
              "        fill: #FFFFFF;\n",
              "      }\n",
              "    </style>\n",
              "    <button class=\"colab-df-generate\" onclick=\"generateWithVariable('data_drop_missing')\"\n",
              "            title=\"Generate code using this dataframe.\"\n",
              "            style=\"display:none;\">\n",
              "\n",
              "  <svg xmlns=\"http://www.w3.org/2000/svg\" height=\"24px\"viewBox=\"0 0 24 24\"\n",
              "       width=\"24px\">\n",
              "    <path d=\"M7,19H8.4L18.45,9,17,7.55,7,17.6ZM5,21V16.75L18.45,3.32a2,2,0,0,1,2.83,0l1.4,1.43a1.91,1.91,0,0,1,.58,1.4,1.91,1.91,0,0,1-.58,1.4L9.25,21ZM18.45,9,17,7.55Zm-12,3A5.31,5.31,0,0,0,4.9,8.1,5.31,5.31,0,0,0,1,6.5,5.31,5.31,0,0,0,4.9,4.9,5.31,5.31,0,0,0,6.5,1,5.31,5.31,0,0,0,8.1,4.9,5.31,5.31,0,0,0,12,6.5,5.46,5.46,0,0,0,6.5,12Z\"/>\n",
              "  </svg>\n",
              "    </button>\n",
              "    <script>\n",
              "      (() => {\n",
              "      const buttonEl =\n",
              "        document.querySelector('#id_8d46e9a7-2c8d-449a-9935-a84ca0690d5b button.colab-df-generate');\n",
              "      buttonEl.style.display =\n",
              "        google.colab.kernel.accessAllowed ? 'block' : 'none';\n",
              "\n",
              "      buttonEl.onclick = () => {\n",
              "        google.colab.notebook.generateWithVariable('data_drop_missing');\n",
              "      }\n",
              "      })();\n",
              "    </script>\n",
              "  </div>\n",
              "\n",
              "    </div>\n",
              "  </div>\n"
            ]
          },
          "metadata": {},
          "execution_count": 26
        }
      ],
      "source": [
        "custom_data = [['Ali', 30], ['Veli', 20], ['Melis', 22], ['Ayşe',], ['Meltem',]]\n",
        "custom_labels = ['Name', 'Age']\n",
        "print(type(custom_labels))\n",
        "\n",
        "custom = pd.DataFrame(data=custom_data, columns=custom_labels)\n",
        "print(type(custom))\n",
        "custom.head()\n",
        "\n",
        "data_remove_missing = custom.copy()\n",
        "print(data_remove_missing.head())\n",
        "\n",
        "print(custom.Age.mean())\n",
        "# fillna method is used to replace missing values in a column with the given parameter value\n",
        "# in this example, the missing values in Age column will be replaced by the mean of the Age column values\n",
        "#custom['Age'] = custom.Age.fillna(custom.Age.mean())\n",
        "#custom.head()\n",
        "# We can replace missing values with a constant as well\n",
        "# In this example, the missing values in Age column will be replaced by 50\n",
        "#custom.Age.fillna(50, inplace=True)\n",
        "#custom.head()\n",
        "# We can directly drop the row as a whole, which has at least one missing value\n",
        "# In this example, 2 rows has missing values, has no Age values, therefore the rows having name of Ayşe and Meltem are dropped\n",
        "data_drop_missing = custom.dropna()\n",
        "data_drop_missing"
      ]
    },
    {
      "cell_type": "markdown",
      "metadata": {
        "id": "QhBgjdfyCplh"
      },
      "source": [
        "## One Hot Encoding"
      ]
    },
    {
      "cell_type": "code",
      "execution_count": null,
      "metadata": {
        "colab": {
          "base_uri": "https://localhost:8080/"
        },
        "id": "mZ1Nsco70TTq",
        "outputId": "4c0a1b59-e6dd-42c5-cc9b-92fb09b907b5"
      },
      "outputs": [
        {
          "output_type": "execute_result",
          "data": {
            "text/plain": [
              "       TotalDrinkUnitSales  TotalDrinkSales  TotalFoodSales  \\\n",
              "0                        0             0.00            0.00   \n",
              "1                        0             0.00            0.00   \n",
              "2                        7            15.34          124.01   \n",
              "3                        0             0.00            0.00   \n",
              "4                        0             0.00            1.08   \n",
              "...                    ...              ...             ...   \n",
              "10276                   10            36.70           81.17   \n",
              "10277                    4             5.98          112.09   \n",
              "10278                    0             0.00            0.00   \n",
              "10279                    7            12.92          164.98   \n",
              "10280                   24            62.70          148.96   \n",
              "\n",
              "       TotalFoodUnitSales  TotalNonConUnitSales  TotalNonConSales  \\\n",
              "0                       0                     0              0.00   \n",
              "1                       0                     0              0.00   \n",
              "2                      53                    29             63.82   \n",
              "3                       0                     0              0.00   \n",
              "4                       2                     0              0.00   \n",
              "...                   ...                   ...               ...   \n",
              "10276                  47                    41            112.47   \n",
              "10277                  51                    25             49.17   \n",
              "10278                   0                     0              0.00   \n",
              "10279                  83                    22             54.87   \n",
              "10280                  55                    14             35.24   \n",
              "\n",
              "       customer_id marital_status  yearly_income  total_children  ...  tsbin2  \\\n",
              "0                1              M    $30K - $50K               4  ...     low   \n",
              "1                2              S    $70K - $90K               1  ...     low   \n",
              "2                3              M    $50K - $70K               1  ...    high   \n",
              "3                4              M    $10K - $30K               4  ...     low   \n",
              "4                5              S    $30K - $50K               3  ...     low   \n",
              "...            ...            ...            ...             ...  ...     ...   \n",
              "10276        10277              M   $90K - $110K               4  ...    high   \n",
              "10277        10278              M    $30K - $50K               0  ...    high   \n",
              "10278        10279              S  $130K - $150K               3  ...     low   \n",
              "10279        10280              M        $150K +               5  ...    high   \n",
              "10280        10281              S    $50K - $70K               5  ...    high   \n",
              "\n",
              "      tsbin3 TotalSalesZ gender_F  gender_M  member_card_Bronze  \\\n",
              "0        low   -0.731996        1         0                   1   \n",
              "1        low   -0.731996        0         1                   1   \n",
              "2       high    0.197826        1         0                   1   \n",
              "3        low   -0.731996        0         1                   0   \n",
              "4        low   -0.727053        1         0                   0   \n",
              "...      ...         ...      ...       ...                 ...   \n",
              "10276   high    0.322172        0         1                   1   \n",
              "10277   high    0.033390        1         0                   1   \n",
              "10278    low   -0.731996        0         1                   1   \n",
              "10279   high    0.333293        1         0                   0   \n",
              "10280   high    0.397960        1         0                   1   \n",
              "\n",
              "      member_card_Golden member_card_Normal member_card_Silver  gender  \n",
              "0                      0                  0                  0       F  \n",
              "1                      0                  0                  0       M  \n",
              "2                      0                  0                  0       F  \n",
              "3                      0                  1                  0       M  \n",
              "4                      0                  0                  1       F  \n",
              "...                  ...                ...                ...     ...  \n",
              "10276                  0                  0                  0       M  \n",
              "10277                  0                  0                  0       F  \n",
              "10278                  0                  0                  0       M  \n",
              "10279                  1                  0                  0       F  \n",
              "10280                  0                  0                  0       F  \n",
              "\n",
              "[10281 rows x 27 columns]"
            ],
            "text/html": [
              "\n",
              "  <div id=\"df-92829aa6-1a14-4c20-a748-4410610642ae\" class=\"colab-df-container\">\n",
              "    <div>\n",
              "<style scoped>\n",
              "    .dataframe tbody tr th:only-of-type {\n",
              "        vertical-align: middle;\n",
              "    }\n",
              "\n",
              "    .dataframe tbody tr th {\n",
              "        vertical-align: top;\n",
              "    }\n",
              "\n",
              "    .dataframe thead th {\n",
              "        text-align: right;\n",
              "    }\n",
              "</style>\n",
              "<table border=\"1\" class=\"dataframe\">\n",
              "  <thead>\n",
              "    <tr style=\"text-align: right;\">\n",
              "      <th></th>\n",
              "      <th>TotalDrinkUnitSales</th>\n",
              "      <th>TotalDrinkSales</th>\n",
              "      <th>TotalFoodSales</th>\n",
              "      <th>TotalFoodUnitSales</th>\n",
              "      <th>TotalNonConUnitSales</th>\n",
              "      <th>TotalNonConSales</th>\n",
              "      <th>customer_id</th>\n",
              "      <th>marital_status</th>\n",
              "      <th>yearly_income</th>\n",
              "      <th>total_children</th>\n",
              "      <th>...</th>\n",
              "      <th>tsbin2</th>\n",
              "      <th>tsbin3</th>\n",
              "      <th>TotalSalesZ</th>\n",
              "      <th>gender_F</th>\n",
              "      <th>gender_M</th>\n",
              "      <th>member_card_Bronze</th>\n",
              "      <th>member_card_Golden</th>\n",
              "      <th>member_card_Normal</th>\n",
              "      <th>member_card_Silver</th>\n",
              "      <th>gender</th>\n",
              "    </tr>\n",
              "  </thead>\n",
              "  <tbody>\n",
              "    <tr>\n",
              "      <th>0</th>\n",
              "      <td>0</td>\n",
              "      <td>0.00</td>\n",
              "      <td>0.00</td>\n",
              "      <td>0</td>\n",
              "      <td>0</td>\n",
              "      <td>0.00</td>\n",
              "      <td>1</td>\n",
              "      <td>M</td>\n",
              "      <td>$30K - $50K</td>\n",
              "      <td>4</td>\n",
              "      <td>...</td>\n",
              "      <td>low</td>\n",
              "      <td>low</td>\n",
              "      <td>-0.731996</td>\n",
              "      <td>1</td>\n",
              "      <td>0</td>\n",
              "      <td>1</td>\n",
              "      <td>0</td>\n",
              "      <td>0</td>\n",
              "      <td>0</td>\n",
              "      <td>F</td>\n",
              "    </tr>\n",
              "    <tr>\n",
              "      <th>1</th>\n",
              "      <td>0</td>\n",
              "      <td>0.00</td>\n",
              "      <td>0.00</td>\n",
              "      <td>0</td>\n",
              "      <td>0</td>\n",
              "      <td>0.00</td>\n",
              "      <td>2</td>\n",
              "      <td>S</td>\n",
              "      <td>$70K - $90K</td>\n",
              "      <td>1</td>\n",
              "      <td>...</td>\n",
              "      <td>low</td>\n",
              "      <td>low</td>\n",
              "      <td>-0.731996</td>\n",
              "      <td>0</td>\n",
              "      <td>1</td>\n",
              "      <td>1</td>\n",
              "      <td>0</td>\n",
              "      <td>0</td>\n",
              "      <td>0</td>\n",
              "      <td>M</td>\n",
              "    </tr>\n",
              "    <tr>\n",
              "      <th>2</th>\n",
              "      <td>7</td>\n",
              "      <td>15.34</td>\n",
              "      <td>124.01</td>\n",
              "      <td>53</td>\n",
              "      <td>29</td>\n",
              "      <td>63.82</td>\n",
              "      <td>3</td>\n",
              "      <td>M</td>\n",
              "      <td>$50K - $70K</td>\n",
              "      <td>1</td>\n",
              "      <td>...</td>\n",
              "      <td>high</td>\n",
              "      <td>high</td>\n",
              "      <td>0.197826</td>\n",
              "      <td>1</td>\n",
              "      <td>0</td>\n",
              "      <td>1</td>\n",
              "      <td>0</td>\n",
              "      <td>0</td>\n",
              "      <td>0</td>\n",
              "      <td>F</td>\n",
              "    </tr>\n",
              "    <tr>\n",
              "      <th>3</th>\n",
              "      <td>0</td>\n",
              "      <td>0.00</td>\n",
              "      <td>0.00</td>\n",
              "      <td>0</td>\n",
              "      <td>0</td>\n",
              "      <td>0.00</td>\n",
              "      <td>4</td>\n",
              "      <td>M</td>\n",
              "      <td>$10K - $30K</td>\n",
              "      <td>4</td>\n",
              "      <td>...</td>\n",
              "      <td>low</td>\n",
              "      <td>low</td>\n",
              "      <td>-0.731996</td>\n",
              "      <td>0</td>\n",
              "      <td>1</td>\n",
              "      <td>0</td>\n",
              "      <td>0</td>\n",
              "      <td>1</td>\n",
              "      <td>0</td>\n",
              "      <td>M</td>\n",
              "    </tr>\n",
              "    <tr>\n",
              "      <th>4</th>\n",
              "      <td>0</td>\n",
              "      <td>0.00</td>\n",
              "      <td>1.08</td>\n",
              "      <td>2</td>\n",
              "      <td>0</td>\n",
              "      <td>0.00</td>\n",
              "      <td>5</td>\n",
              "      <td>S</td>\n",
              "      <td>$30K - $50K</td>\n",
              "      <td>3</td>\n",
              "      <td>...</td>\n",
              "      <td>low</td>\n",
              "      <td>low</td>\n",
              "      <td>-0.727053</td>\n",
              "      <td>1</td>\n",
              "      <td>0</td>\n",
              "      <td>0</td>\n",
              "      <td>0</td>\n",
              "      <td>0</td>\n",
              "      <td>1</td>\n",
              "      <td>F</td>\n",
              "    </tr>\n",
              "    <tr>\n",
              "      <th>...</th>\n",
              "      <td>...</td>\n",
              "      <td>...</td>\n",
              "      <td>...</td>\n",
              "      <td>...</td>\n",
              "      <td>...</td>\n",
              "      <td>...</td>\n",
              "      <td>...</td>\n",
              "      <td>...</td>\n",
              "      <td>...</td>\n",
              "      <td>...</td>\n",
              "      <td>...</td>\n",
              "      <td>...</td>\n",
              "      <td>...</td>\n",
              "      <td>...</td>\n",
              "      <td>...</td>\n",
              "      <td>...</td>\n",
              "      <td>...</td>\n",
              "      <td>...</td>\n",
              "      <td>...</td>\n",
              "      <td>...</td>\n",
              "      <td>...</td>\n",
              "    </tr>\n",
              "    <tr>\n",
              "      <th>10276</th>\n",
              "      <td>10</td>\n",
              "      <td>36.70</td>\n",
              "      <td>81.17</td>\n",
              "      <td>47</td>\n",
              "      <td>41</td>\n",
              "      <td>112.47</td>\n",
              "      <td>10277</td>\n",
              "      <td>M</td>\n",
              "      <td>$90K - $110K</td>\n",
              "      <td>4</td>\n",
              "      <td>...</td>\n",
              "      <td>high</td>\n",
              "      <td>high</td>\n",
              "      <td>0.322172</td>\n",
              "      <td>0</td>\n",
              "      <td>1</td>\n",
              "      <td>1</td>\n",
              "      <td>0</td>\n",
              "      <td>0</td>\n",
              "      <td>0</td>\n",
              "      <td>M</td>\n",
              "    </tr>\n",
              "    <tr>\n",
              "      <th>10277</th>\n",
              "      <td>4</td>\n",
              "      <td>5.98</td>\n",
              "      <td>112.09</td>\n",
              "      <td>51</td>\n",
              "      <td>25</td>\n",
              "      <td>49.17</td>\n",
              "      <td>10278</td>\n",
              "      <td>M</td>\n",
              "      <td>$30K - $50K</td>\n",
              "      <td>0</td>\n",
              "      <td>...</td>\n",
              "      <td>high</td>\n",
              "      <td>high</td>\n",
              "      <td>0.033390</td>\n",
              "      <td>1</td>\n",
              "      <td>0</td>\n",
              "      <td>1</td>\n",
              "      <td>0</td>\n",
              "      <td>0</td>\n",
              "      <td>0</td>\n",
              "      <td>F</td>\n",
              "    </tr>\n",
              "    <tr>\n",
              "      <th>10278</th>\n",
              "      <td>0</td>\n",
              "      <td>0.00</td>\n",
              "      <td>0.00</td>\n",
              "      <td>0</td>\n",
              "      <td>0</td>\n",
              "      <td>0.00</td>\n",
              "      <td>10279</td>\n",
              "      <td>S</td>\n",
              "      <td>$130K - $150K</td>\n",
              "      <td>3</td>\n",
              "      <td>...</td>\n",
              "      <td>low</td>\n",
              "      <td>low</td>\n",
              "      <td>-0.731996</td>\n",
              "      <td>0</td>\n",
              "      <td>1</td>\n",
              "      <td>1</td>\n",
              "      <td>0</td>\n",
              "      <td>0</td>\n",
              "      <td>0</td>\n",
              "      <td>M</td>\n",
              "    </tr>\n",
              "    <tr>\n",
              "      <th>10279</th>\n",
              "      <td>7</td>\n",
              "      <td>12.92</td>\n",
              "      <td>164.98</td>\n",
              "      <td>83</td>\n",
              "      <td>22</td>\n",
              "      <td>54.87</td>\n",
              "      <td>10280</td>\n",
              "      <td>M</td>\n",
              "      <td>$150K +</td>\n",
              "      <td>5</td>\n",
              "      <td>...</td>\n",
              "      <td>high</td>\n",
              "      <td>high</td>\n",
              "      <td>0.333293</td>\n",
              "      <td>1</td>\n",
              "      <td>0</td>\n",
              "      <td>0</td>\n",
              "      <td>1</td>\n",
              "      <td>0</td>\n",
              "      <td>0</td>\n",
              "      <td>F</td>\n",
              "    </tr>\n",
              "    <tr>\n",
              "      <th>10280</th>\n",
              "      <td>24</td>\n",
              "      <td>62.70</td>\n",
              "      <td>148.96</td>\n",
              "      <td>55</td>\n",
              "      <td>14</td>\n",
              "      <td>35.24</td>\n",
              "      <td>10281</td>\n",
              "      <td>S</td>\n",
              "      <td>$50K - $70K</td>\n",
              "      <td>5</td>\n",
              "      <td>...</td>\n",
              "      <td>high</td>\n",
              "      <td>high</td>\n",
              "      <td>0.397960</td>\n",
              "      <td>1</td>\n",
              "      <td>0</td>\n",
              "      <td>1</td>\n",
              "      <td>0</td>\n",
              "      <td>0</td>\n",
              "      <td>0</td>\n",
              "      <td>F</td>\n",
              "    </tr>\n",
              "  </tbody>\n",
              "</table>\n",
              "<p>10281 rows × 27 columns</p>\n",
              "</div>\n",
              "    <div class=\"colab-df-buttons\">\n",
              "\n",
              "  <div class=\"colab-df-container\">\n",
              "    <button class=\"colab-df-convert\" onclick=\"convertToInteractive('df-92829aa6-1a14-4c20-a748-4410610642ae')\"\n",
              "            title=\"Convert this dataframe to an interactive table.\"\n",
              "            style=\"display:none;\">\n",
              "\n",
              "  <svg xmlns=\"http://www.w3.org/2000/svg\" height=\"24px\" viewBox=\"0 -960 960 960\">\n",
              "    <path d=\"M120-120v-720h720v720H120Zm60-500h600v-160H180v160Zm220 220h160v-160H400v160Zm0 220h160v-160H400v160ZM180-400h160v-160H180v160Zm440 0h160v-160H620v160ZM180-180h160v-160H180v160Zm440 0h160v-160H620v160Z\"/>\n",
              "  </svg>\n",
              "    </button>\n",
              "\n",
              "  <style>\n",
              "    .colab-df-container {\n",
              "      display:flex;\n",
              "      gap: 12px;\n",
              "    }\n",
              "\n",
              "    .colab-df-convert {\n",
              "      background-color: #E8F0FE;\n",
              "      border: none;\n",
              "      border-radius: 50%;\n",
              "      cursor: pointer;\n",
              "      display: none;\n",
              "      fill: #1967D2;\n",
              "      height: 32px;\n",
              "      padding: 0 0 0 0;\n",
              "      width: 32px;\n",
              "    }\n",
              "\n",
              "    .colab-df-convert:hover {\n",
              "      background-color: #E2EBFA;\n",
              "      box-shadow: 0px 1px 2px rgba(60, 64, 67, 0.3), 0px 1px 3px 1px rgba(60, 64, 67, 0.15);\n",
              "      fill: #174EA6;\n",
              "    }\n",
              "\n",
              "    .colab-df-buttons div {\n",
              "      margin-bottom: 4px;\n",
              "    }\n",
              "\n",
              "    [theme=dark] .colab-df-convert {\n",
              "      background-color: #3B4455;\n",
              "      fill: #D2E3FC;\n",
              "    }\n",
              "\n",
              "    [theme=dark] .colab-df-convert:hover {\n",
              "      background-color: #434B5C;\n",
              "      box-shadow: 0px 1px 3px 1px rgba(0, 0, 0, 0.15);\n",
              "      filter: drop-shadow(0px 1px 2px rgba(0, 0, 0, 0.3));\n",
              "      fill: #FFFFFF;\n",
              "    }\n",
              "  </style>\n",
              "\n",
              "    <script>\n",
              "      const buttonEl =\n",
              "        document.querySelector('#df-92829aa6-1a14-4c20-a748-4410610642ae button.colab-df-convert');\n",
              "      buttonEl.style.display =\n",
              "        google.colab.kernel.accessAllowed ? 'block' : 'none';\n",
              "\n",
              "      async function convertToInteractive(key) {\n",
              "        const element = document.querySelector('#df-92829aa6-1a14-4c20-a748-4410610642ae');\n",
              "        const dataTable =\n",
              "          await google.colab.kernel.invokeFunction('convertToInteractive',\n",
              "                                                    [key], {});\n",
              "        if (!dataTable) return;\n",
              "\n",
              "        const docLinkHtml = 'Like what you see? Visit the ' +\n",
              "          '<a target=\"_blank\" href=https://colab.research.google.com/notebooks/data_table.ipynb>data table notebook</a>'\n",
              "          + ' to learn more about interactive tables.';\n",
              "        element.innerHTML = '';\n",
              "        dataTable['output_type'] = 'display_data';\n",
              "        await google.colab.output.renderOutput(dataTable, element);\n",
              "        const docLink = document.createElement('div');\n",
              "        docLink.innerHTML = docLinkHtml;\n",
              "        element.appendChild(docLink);\n",
              "      }\n",
              "    </script>\n",
              "  </div>\n",
              "\n",
              "\n",
              "<div id=\"df-11682477-dab1-4ffa-9650-3a28bf5ae881\">\n",
              "  <button class=\"colab-df-quickchart\" onclick=\"quickchart('df-11682477-dab1-4ffa-9650-3a28bf5ae881')\"\n",
              "            title=\"Suggest charts\"\n",
              "            style=\"display:none;\">\n",
              "\n",
              "<svg xmlns=\"http://www.w3.org/2000/svg\" height=\"24px\"viewBox=\"0 0 24 24\"\n",
              "     width=\"24px\">\n",
              "    <g>\n",
              "        <path d=\"M19 3H5c-1.1 0-2 .9-2 2v14c0 1.1.9 2 2 2h14c1.1 0 2-.9 2-2V5c0-1.1-.9-2-2-2zM9 17H7v-7h2v7zm4 0h-2V7h2v10zm4 0h-2v-4h2v4z\"/>\n",
              "    </g>\n",
              "</svg>\n",
              "  </button>\n",
              "\n",
              "<style>\n",
              "  .colab-df-quickchart {\n",
              "      --bg-color: #E8F0FE;\n",
              "      --fill-color: #1967D2;\n",
              "      --hover-bg-color: #E2EBFA;\n",
              "      --hover-fill-color: #174EA6;\n",
              "      --disabled-fill-color: #AAA;\n",
              "      --disabled-bg-color: #DDD;\n",
              "  }\n",
              "\n",
              "  [theme=dark] .colab-df-quickchart {\n",
              "      --bg-color: #3B4455;\n",
              "      --fill-color: #D2E3FC;\n",
              "      --hover-bg-color: #434B5C;\n",
              "      --hover-fill-color: #FFFFFF;\n",
              "      --disabled-bg-color: #3B4455;\n",
              "      --disabled-fill-color: #666;\n",
              "  }\n",
              "\n",
              "  .colab-df-quickchart {\n",
              "    background-color: var(--bg-color);\n",
              "    border: none;\n",
              "    border-radius: 50%;\n",
              "    cursor: pointer;\n",
              "    display: none;\n",
              "    fill: var(--fill-color);\n",
              "    height: 32px;\n",
              "    padding: 0;\n",
              "    width: 32px;\n",
              "  }\n",
              "\n",
              "  .colab-df-quickchart:hover {\n",
              "    background-color: var(--hover-bg-color);\n",
              "    box-shadow: 0 1px 2px rgba(60, 64, 67, 0.3), 0 1px 3px 1px rgba(60, 64, 67, 0.15);\n",
              "    fill: var(--button-hover-fill-color);\n",
              "  }\n",
              "\n",
              "  .colab-df-quickchart-complete:disabled,\n",
              "  .colab-df-quickchart-complete:disabled:hover {\n",
              "    background-color: var(--disabled-bg-color);\n",
              "    fill: var(--disabled-fill-color);\n",
              "    box-shadow: none;\n",
              "  }\n",
              "\n",
              "  .colab-df-spinner {\n",
              "    border: 2px solid var(--fill-color);\n",
              "    border-color: transparent;\n",
              "    border-bottom-color: var(--fill-color);\n",
              "    animation:\n",
              "      spin 1s steps(1) infinite;\n",
              "  }\n",
              "\n",
              "  @keyframes spin {\n",
              "    0% {\n",
              "      border-color: transparent;\n",
              "      border-bottom-color: var(--fill-color);\n",
              "      border-left-color: var(--fill-color);\n",
              "    }\n",
              "    20% {\n",
              "      border-color: transparent;\n",
              "      border-left-color: var(--fill-color);\n",
              "      border-top-color: var(--fill-color);\n",
              "    }\n",
              "    30% {\n",
              "      border-color: transparent;\n",
              "      border-left-color: var(--fill-color);\n",
              "      border-top-color: var(--fill-color);\n",
              "      border-right-color: var(--fill-color);\n",
              "    }\n",
              "    40% {\n",
              "      border-color: transparent;\n",
              "      border-right-color: var(--fill-color);\n",
              "      border-top-color: var(--fill-color);\n",
              "    }\n",
              "    60% {\n",
              "      border-color: transparent;\n",
              "      border-right-color: var(--fill-color);\n",
              "    }\n",
              "    80% {\n",
              "      border-color: transparent;\n",
              "      border-right-color: var(--fill-color);\n",
              "      border-bottom-color: var(--fill-color);\n",
              "    }\n",
              "    90% {\n",
              "      border-color: transparent;\n",
              "      border-bottom-color: var(--fill-color);\n",
              "    }\n",
              "  }\n",
              "</style>\n",
              "\n",
              "  <script>\n",
              "    async function quickchart(key) {\n",
              "      const quickchartButtonEl =\n",
              "        document.querySelector('#' + key + ' button');\n",
              "      quickchartButtonEl.disabled = true;  // To prevent multiple clicks.\n",
              "      quickchartButtonEl.classList.add('colab-df-spinner');\n",
              "      try {\n",
              "        const charts = await google.colab.kernel.invokeFunction(\n",
              "            'suggestCharts', [key], {});\n",
              "      } catch (error) {\n",
              "        console.error('Error during call to suggestCharts:', error);\n",
              "      }\n",
              "      quickchartButtonEl.classList.remove('colab-df-spinner');\n",
              "      quickchartButtonEl.classList.add('colab-df-quickchart-complete');\n",
              "    }\n",
              "    (() => {\n",
              "      let quickchartButtonEl =\n",
              "        document.querySelector('#df-11682477-dab1-4ffa-9650-3a28bf5ae881 button');\n",
              "      quickchartButtonEl.style.display =\n",
              "        google.colab.kernel.accessAllowed ? 'block' : 'none';\n",
              "    })();\n",
              "  </script>\n",
              "</div>\n",
              "\n",
              "  <div id=\"id_f534c229-eeb6-428c-bfa6-f15fd2d03266\">\n",
              "    <style>\n",
              "      .colab-df-generate {\n",
              "        background-color: #E8F0FE;\n",
              "        border: none;\n",
              "        border-radius: 50%;\n",
              "        cursor: pointer;\n",
              "        display: none;\n",
              "        fill: #1967D2;\n",
              "        height: 32px;\n",
              "        padding: 0 0 0 0;\n",
              "        width: 32px;\n",
              "      }\n",
              "\n",
              "      .colab-df-generate:hover {\n",
              "        background-color: #E2EBFA;\n",
              "        box-shadow: 0px 1px 2px rgba(60, 64, 67, 0.3), 0px 1px 3px 1px rgba(60, 64, 67, 0.15);\n",
              "        fill: #174EA6;\n",
              "      }\n",
              "\n",
              "      [theme=dark] .colab-df-generate {\n",
              "        background-color: #3B4455;\n",
              "        fill: #D2E3FC;\n",
              "      }\n",
              "\n",
              "      [theme=dark] .colab-df-generate:hover {\n",
              "        background-color: #434B5C;\n",
              "        box-shadow: 0px 1px 3px 1px rgba(0, 0, 0, 0.15);\n",
              "        filter: drop-shadow(0px 1px 2px rgba(0, 0, 0, 0.3));\n",
              "        fill: #FFFFFF;\n",
              "      }\n",
              "    </style>\n",
              "    <button class=\"colab-df-generate\" onclick=\"generateWithVariable('data_encoded')\"\n",
              "            title=\"Generate code using this dataframe.\"\n",
              "            style=\"display:none;\">\n",
              "\n",
              "  <svg xmlns=\"http://www.w3.org/2000/svg\" height=\"24px\"viewBox=\"0 0 24 24\"\n",
              "       width=\"24px\">\n",
              "    <path d=\"M7,19H8.4L18.45,9,17,7.55,7,17.6ZM5,21V16.75L18.45,3.32a2,2,0,0,1,2.83,0l1.4,1.43a1.91,1.91,0,0,1,.58,1.4,1.91,1.91,0,0,1-.58,1.4L9.25,21ZM18.45,9,17,7.55Zm-12,3A5.31,5.31,0,0,0,4.9,8.1,5.31,5.31,0,0,0,1,6.5,5.31,5.31,0,0,0,4.9,4.9,5.31,5.31,0,0,0,6.5,1,5.31,5.31,0,0,0,8.1,4.9,5.31,5.31,0,0,0,12,6.5,5.46,5.46,0,0,0,6.5,12Z\"/>\n",
              "  </svg>\n",
              "    </button>\n",
              "    <script>\n",
              "      (() => {\n",
              "      const buttonEl =\n",
              "        document.querySelector('#id_f534c229-eeb6-428c-bfa6-f15fd2d03266 button.colab-df-generate');\n",
              "      buttonEl.style.display =\n",
              "        google.colab.kernel.accessAllowed ? 'block' : 'none';\n",
              "\n",
              "      buttonEl.onclick = () => {\n",
              "        google.colab.notebook.generateWithVariable('data_encoded');\n",
              "      }\n",
              "      })();\n",
              "    </script>\n",
              "  </div>\n",
              "\n",
              "    </div>\n",
              "  </div>\n"
            ]
          },
          "metadata": {},
          "execution_count": 27
        }
      ],
      "source": [
        "data['gender'].unique()\n",
        "data['gender'].value_counts()\n",
        "\n",
        "# get_dummies function exists in Pandas\n",
        "# This function, takes the dataframe as the 1st param, and columns (one or more) as the 2nd param\n",
        "# and first checks the unique values for those column values respectively\n",
        "# as the example, the unique values in the gender columns are only 'F' and 'M'\n",
        "# another example, the unique values in the member_card columns are 'Bronze', 'Normal', 'Silver', 'Golden'\n",
        "# hence, 2 new columns will be generated as : gender_F and gender_M\n",
        "# and, 4 new columns will be generated as : member_card_Bronze, member_card_Normal, member_card_Silver, member_card_Golden\n",
        "# in those newly generated columns, the values will be either 1 or 0\n",
        "# 1 implies true, 0 implies false\n",
        "data_encoded = pd.get_dummies(data, columns=['gender', 'member_card'])\n",
        "\n",
        "# get_dummies method generated multiple columns and dropped the original ones for the given columns\n",
        "# In this example, you will not see original gender and member_card anymore.\n",
        "data_encoded.columns\n",
        "\n",
        "data_encoded['gender'] = data['gender']\n",
        "data_encoded[['gender','gender_F', 'gender_M']]\n",
        "data_encoded\n",
        "# we have included the original categorical valued columns to the dataset\n"
      ]
    },
    {
      "cell_type": "markdown",
      "metadata": {
        "id": "lEWg5kf3DGfs"
      },
      "source": [
        "## Renaming Columns"
      ]
    },
    {
      "cell_type": "code",
      "execution_count": null,
      "metadata": {
        "colab": {
          "base_uri": "https://localhost:8080/"
        },
        "id": "UI0QhC27DIfT",
        "outputId": "cc208264-166c-48dd-d8db-f0e4b2ec4bdf"
      },
      "outputs": [
        {
          "output_type": "execute_result",
          "data": {
            "text/plain": [
              "Index(['TotalDrinkUnitSales', 'TotalDrinkSales', 'TotalFoodSales',\n",
              "       'TotalFoodUnitSales', 'TotalNonConUnitSales', 'TotalNonConSales',\n",
              "       'customer_id', 'marital_status', 'yearly_income', 'total_children',\n",
              "       'num_children_at_home', 'education', 'occupation', 'houseowner',\n",
              "       'num_cars_owned', 'TotalSales', 'tsbin', 'tsbin2', 'tsbin3',\n",
              "       'TotalSalesZ', 'is_female', 'is_male', 'member_card_Bronze',\n",
              "       'member_card_Golden', 'member_card_Normal', 'member_card_Silver',\n",
              "       'gender'],\n",
              "      dtype='object')"
            ]
          },
          "metadata": {},
          "execution_count": 28
        }
      ],
      "source": [
        "data_encoded = data_encoded.rename(columns={'gender_F': 'is_female'})\n",
        "data_encoded.columns\n",
        "data_encoded = data_encoded.rename(columns={'gender_M': 'is_male'})\n",
        "data_encoded.columns"
      ]
    },
    {
      "cell_type": "markdown",
      "metadata": {
        "id": "OLc5OcNuDPAv"
      },
      "source": [
        "### Preprocessing: preparing the features"
      ]
    },
    {
      "cell_type": "code",
      "execution_count": null,
      "metadata": {
        "colab": {
          "base_uri": "https://localhost:8080/"
        },
        "id": "M-ZZCL1-2Wsi",
        "outputId": "71c46a35-f99a-48b1-fda6-28b14aa93417"
      },
      "outputs": [
        {
          "output_type": "stream",
          "name": "stdout",
          "text": [
            "Index(['TotalDrinkUnitSales', 'TotalDrinkSales', 'TotalFoodSales',\n",
            "       'TotalFoodUnitSales', 'TotalNonConUnitSales', 'TotalNonConSales',\n",
            "       'customer_id', 'marital_status', 'yearly_income', 'gender',\n",
            "       'total_children', 'num_children_at_home', 'education', 'member_card',\n",
            "       'occupation', 'houseowner', 'num_cars_owned', 'TotalSales', 'tsbin',\n",
            "       'tsbin2', 'tsbin3', 'TotalSalesZ'],\n",
            "      dtype='object')\n",
            "Index(['TotalDrinkSales', 'TotalFoodSales', 'TotalNonConSales'], dtype='object')\n"
          ]
        }
      ],
      "source": [
        "print(data.columns)\n",
        "#Create the feature dataframe\n",
        "features = data[['TotalDrinkSales', 'TotalFoodSales', 'TotalNonConSales']]\n",
        "\n",
        "print(features.columns)"
      ]
    },
    {
      "cell_type": "markdown",
      "metadata": {
        "id": "c0m739G_Dagk"
      },
      "source": [
        "### Preprocessing: Standard Scaling (z-normalization)"
      ]
    },
    {
      "cell_type": "code",
      "execution_count": null,
      "metadata": {
        "colab": {
          "base_uri": "https://localhost:8080/"
        },
        "id": "LugT6hQB21tS",
        "outputId": "a780d1f6-2e0c-4831-9ac8-ea79257deba7"
      },
      "outputs": [
        {
          "output_type": "stream",
          "name": "stdout",
          "text": [
            "Mean: -4.791780599750376e-17\n",
            "Std: 1.0\n",
            "[[-0.64233006 -0.72704594 -0.69111991]\n",
            " [-0.64233006 -0.72704594 -0.69111991]\n",
            " [ 0.06817196  0.05375531  0.75012362]\n",
            " ...\n",
            " [-0.64233006 -0.72704594 -0.69111991]\n",
            " [-0.04391506  0.31171376  0.54800627]\n",
            " [ 2.26174275  0.21084741  0.10470306]]\n",
            "<class 'numpy.ndarray'>\n",
            "                  TotalDrinkSales  TotalFoodSales  TotalNonConSales\n",
            "TotalDrinkSales          1.000000        0.841790          0.799221\n",
            "TotalFoodSales           0.841790        1.000000          0.909016\n",
            "TotalNonConSales         0.799221        0.909016          1.000000\n",
            "           z_Drink    z_Food  z_NonCon\n",
            "z_Drink   1.000000  0.841790  0.799221\n",
            "z_Food    0.841790  1.000000  0.909016\n",
            "z_NonCon  0.799221  0.909016  1.000000\n"
          ]
        }
      ],
      "source": [
        "#StandardScaler is used for normalization\n",
        "from sklearn.preprocessing import StandardScaler\n",
        "\n",
        "# TotalFoodSales has a dominance effect unless we normalize the data. We may also normalise to free the data of units.\n",
        "\n",
        "# Initiate StandardScaler object and transform the features into scaled values in an array form\n",
        "z = StandardScaler().fit_transform(features)\n",
        "\n",
        "print(f\"Mean: {z.mean()}\")\n",
        "print(f\"Std: {z.std()}\")\n",
        "\n",
        "print(z)\n",
        "print(type(z))\n",
        "\n",
        "# Convert X from array type to Dataframe type for ease of use\n",
        "z_dataframe = pd. DataFrame(z, columns = ['z_Drink', 'z_Food', 'z_NonCon'])\n",
        "\n",
        "# See that the correlation does not change when normalization is applied\n",
        "print(features.corr())\n",
        "print(z_dataframe.corr())"
      ]
    },
    {
      "cell_type": "markdown",
      "metadata": {
        "id": "B8vhRPw3EGVg"
      },
      "source": [
        "### Compute PCA"
      ]
    },
    {
      "cell_type": "code",
      "execution_count": null,
      "metadata": {
        "colab": {
          "base_uri": "https://localhost:8080/"
        },
        "id": "o45xymc_5M-M",
        "outputId": "b6aa44f0-d836-4152-91f0-30431e6a2166"
      },
      "outputs": [
        {
          "output_type": "stream",
          "name": "stdout",
          "text": [
            "Proportion of Variance: [0.90027564 0.07111569 0.02860868]\n",
            "Explained Variance: [2.70108964 0.21336781 0.08583438]\n",
            "               PC3   z_Drink    z_Food  z_NonCon\n",
            "PC3       1.000000 -0.049198  0.225150 -0.180868\n",
            "z_Drink  -0.049198  1.000000  0.841790  0.799221\n",
            "z_Food    0.225150  0.841790  1.000000  0.909016\n",
            "z_NonCon -0.180868  0.799221  0.909016  1.000000\n"
          ]
        }
      ],
      "source": [
        "from sklearn.decomposition import PCA\n",
        "\n",
        "# Initiate the model, PCA object\n",
        "pca = PCA(n_components=3)\n",
        "\n",
        "z_pca = pca.fit_transform(z)\n",
        "z_pca\n",
        "\n",
        "print(f'Proportion of Variance: {pca.explained_variance_ratio_}')\n",
        "print(f'Explained Variance: {pca.explained_variance_}')\n",
        "z_pca\n",
        "z_pca_dataframe = pd.DataFrame(z_pca, columns=['PC1', 'PC2', 'PC3'])\n",
        "z_pca_dataframe.corr()\n",
        "corr_data = pd.concat([z_dataframe, z_pca_dataframe], axis=1)\n",
        "corr_data.shape\n",
        "corr_data.corr()\n",
        "print(corr_data[['PC3', 'z_Drink', 'z_Food', 'z_NonCon']].corr())"
      ]
    },
    {
      "cell_type": "markdown",
      "metadata": {
        "id": "Y_og7YShDMc5"
      },
      "source": [
        "##PCA"
      ]
    },
    {
      "cell_type": "markdown",
      "metadata": {
        "id": "WfknwluF9_Mp"
      },
      "source": [
        "### Preprocessing: preparing the features"
      ]
    },
    {
      "cell_type": "code",
      "execution_count": null,
      "metadata": {
        "colab": {
          "base_uri": "https://localhost:8080/"
        },
        "id": "qqluHxV59_Mp",
        "outputId": "ccd1cf1a-3e16-4e39-e3ba-8ba83c1607dd"
      },
      "outputs": [
        {
          "output_type": "stream",
          "name": "stdout",
          "text": [
            "Index(['TotalDrinkUnitSales', 'TotalDrinkSales', 'TotalFoodSales',\n",
            "       'TotalFoodUnitSales', 'TotalNonConUnitSales', 'TotalNonConSales',\n",
            "       'customer_id', 'marital_status', 'yearly_income', 'gender',\n",
            "       'total_children', 'num_children_at_home', 'education', 'member_card',\n",
            "       'occupation', 'houseowner', 'num_cars_owned', 'TotalSales', 'tsbin',\n",
            "       'tsbin2', 'tsbin3', 'TotalSalesZ'],\n",
            "      dtype='object')\n",
            "Index(['TotalDrinkUnitSales', 'TotalFoodUnitSales', 'TotalNonConUnitSales'], dtype='object')\n"
          ]
        }
      ],
      "source": [
        "print(data.columns)\n",
        "#Create the feature dataframe\n",
        "features = data[['TotalDrinkUnitSales', 'TotalFoodUnitSales', 'TotalNonConUnitSales']]\n",
        "\n",
        "print(features.columns)"
      ]
    },
    {
      "cell_type": "markdown",
      "metadata": {
        "id": "iIP6jakl9_Mp"
      },
      "source": [
        "### Preprocessing: Standard Scaling (z-normalization)"
      ]
    },
    {
      "cell_type": "code",
      "execution_count": null,
      "metadata": {
        "colab": {
          "base_uri": "https://localhost:8080/"
        },
        "id": "1-vUHQeP9_Mq",
        "outputId": "3399b099-7d5e-462a-93f3-3455dd7e627e"
      },
      "outputs": [
        {
          "output_type": "stream",
          "name": "stdout",
          "text": [
            "Mean: -1.7508429114472525e-17\n",
            "Std: 1.0\n",
            "[[-0.65515733 -0.72797435 -0.69789691]\n",
            " [-0.65515733 -0.72797435 -0.69789691]\n",
            " [ 0.00380911 -0.01692499  0.71427082]\n",
            " ...\n",
            " [-0.65515733 -0.72797435 -0.69789691]\n",
            " [ 0.00380911  0.38555577  0.37340275]\n",
            " [ 1.60415617  0.00990706 -0.01616077]]\n",
            "<class 'numpy.ndarray'>\n",
            "        z_Drink    z_Food  z_NonCon\n",
            "0     -0.655157 -0.727974 -0.697897\n",
            "1     -0.655157 -0.727974 -0.697897\n",
            "2      0.003809 -0.016925  0.714271\n",
            "3     -0.655157 -0.727974 -0.697897\n",
            "4     -0.655157 -0.701142 -0.697897\n",
            "...         ...       ...       ...\n",
            "10276  0.286223 -0.097421  1.298616\n",
            "10277 -0.278605 -0.043757  0.519489\n",
            "10278 -0.655157 -0.727974 -0.697897\n",
            "10279  0.003809  0.385556  0.373403\n",
            "10280  1.604156  0.009907 -0.016161\n",
            "\n",
            "[10281 rows x 3 columns]\n",
            "                      TotalDrinkUnitSales  TotalFoodUnitSales  \\\n",
            "TotalDrinkUnitSales              1.000000            0.866710   \n",
            "TotalFoodUnitSales               0.866710            1.000000   \n",
            "TotalNonConUnitSales             0.825863            0.920768   \n",
            "\n",
            "                      TotalNonConUnitSales  \n",
            "TotalDrinkUnitSales               0.825863  \n",
            "TotalFoodUnitSales                0.920768  \n",
            "TotalNonConUnitSales              1.000000  \n",
            "           z_Drink    z_Food  z_NonCon\n",
            "z_Drink   1.000000  0.866710  0.825863\n",
            "z_Food    0.866710  1.000000  0.920768\n",
            "z_NonCon  0.825863  0.920768  1.000000\n"
          ]
        }
      ],
      "source": [
        "#StandardScaler is used for normalization\n",
        "from sklearn.preprocessing import StandardScaler\n",
        "\n",
        "# TotalFoodSales has a dominance effect unless we normalize the data. We may also normalise to free the data of units.\n",
        "\n",
        "# Initiate StandardScaler object and transform the features into scaled values in an array form\n",
        "z = StandardScaler().fit_transform(features)\n",
        "\n",
        "print(f\"Mean: {z.mean()}\")\n",
        "print(f\"Std: {z.std()}\")\n",
        "\n",
        "print(z)\n",
        "print(type(z))\n",
        "\n",
        "# Convert X from array type to Dataframe type for ease of use\n",
        "z_dataframe = pd. DataFrame(z, columns = ['z_Drink', 'z_Food', 'z_NonCon'])\n",
        "print(z_dataframe)\n",
        "# See that the correlation does not change when normalization is applied\n",
        "print(features.corr())\n",
        "print(z_dataframe.corr())"
      ]
    },
    {
      "cell_type": "markdown",
      "metadata": {
        "id": "UCgrTjeh9_Mq"
      },
      "source": [
        "### Compute PCA"
      ]
    },
    {
      "cell_type": "code",
      "execution_count": null,
      "metadata": {
        "colab": {
          "base_uri": "https://localhost:8080/"
        },
        "id": "ORjZ432x9_Mq",
        "outputId": "422c8513-bde3-4ed1-afce-5450bbc96706"
      },
      "outputs": [
        {
          "output_type": "stream",
          "name": "stdout",
          "text": [
            "Proportion of Variance: [0.91426938 0.06116387 0.02456675]\n",
            "Explained Variance: [2.74307496 0.18350945 0.07370742]\n"
          ]
        },
        {
          "output_type": "execute_result",
          "data": {
            "text/plain": [
              "           z_Drink    z_Food  z_NonCon           PC1           PC2  \\\n",
              "z_Drink   1.000000  0.866710  0.825863  9.376306e-01  3.439170e-01   \n",
              "z_Food    0.866710  1.000000  0.920768  9.724753e-01 -1.001631e-01   \n",
              "z_NonCon  0.825863  0.920768  1.000000  9.580964e-01 -2.349043e-01   \n",
              "PC1       0.937631  0.972475  0.958096  1.000000e+00  2.893684e-16   \n",
              "PC2       0.343917 -0.100163 -0.234904  2.893684e-16  1.000000e+00   \n",
              "PC3      -0.050694  0.210378 -0.163925  6.965313e-19 -3.914081e-17   \n",
              "\n",
              "                   PC3  \n",
              "z_Drink  -5.069385e-02  \n",
              "z_Food    2.103784e-01  \n",
              "z_NonCon -1.639247e-01  \n",
              "PC1       6.965313e-19  \n",
              "PC2      -3.914081e-17  \n",
              "PC3       1.000000e+00  "
            ],
            "text/html": [
              "\n",
              "  <div id=\"df-70f5d9ed-53e9-4476-ad81-05e487182eb0\" class=\"colab-df-container\">\n",
              "    <div>\n",
              "<style scoped>\n",
              "    .dataframe tbody tr th:only-of-type {\n",
              "        vertical-align: middle;\n",
              "    }\n",
              "\n",
              "    .dataframe tbody tr th {\n",
              "        vertical-align: top;\n",
              "    }\n",
              "\n",
              "    .dataframe thead th {\n",
              "        text-align: right;\n",
              "    }\n",
              "</style>\n",
              "<table border=\"1\" class=\"dataframe\">\n",
              "  <thead>\n",
              "    <tr style=\"text-align: right;\">\n",
              "      <th></th>\n",
              "      <th>z_Drink</th>\n",
              "      <th>z_Food</th>\n",
              "      <th>z_NonCon</th>\n",
              "      <th>PC1</th>\n",
              "      <th>PC2</th>\n",
              "      <th>PC3</th>\n",
              "    </tr>\n",
              "  </thead>\n",
              "  <tbody>\n",
              "    <tr>\n",
              "      <th>z_Drink</th>\n",
              "      <td>1.000000</td>\n",
              "      <td>0.866710</td>\n",
              "      <td>0.825863</td>\n",
              "      <td>9.376306e-01</td>\n",
              "      <td>3.439170e-01</td>\n",
              "      <td>-5.069385e-02</td>\n",
              "    </tr>\n",
              "    <tr>\n",
              "      <th>z_Food</th>\n",
              "      <td>0.866710</td>\n",
              "      <td>1.000000</td>\n",
              "      <td>0.920768</td>\n",
              "      <td>9.724753e-01</td>\n",
              "      <td>-1.001631e-01</td>\n",
              "      <td>2.103784e-01</td>\n",
              "    </tr>\n",
              "    <tr>\n",
              "      <th>z_NonCon</th>\n",
              "      <td>0.825863</td>\n",
              "      <td>0.920768</td>\n",
              "      <td>1.000000</td>\n",
              "      <td>9.580964e-01</td>\n",
              "      <td>-2.349043e-01</td>\n",
              "      <td>-1.639247e-01</td>\n",
              "    </tr>\n",
              "    <tr>\n",
              "      <th>PC1</th>\n",
              "      <td>0.937631</td>\n",
              "      <td>0.972475</td>\n",
              "      <td>0.958096</td>\n",
              "      <td>1.000000e+00</td>\n",
              "      <td>2.893684e-16</td>\n",
              "      <td>6.965313e-19</td>\n",
              "    </tr>\n",
              "    <tr>\n",
              "      <th>PC2</th>\n",
              "      <td>0.343917</td>\n",
              "      <td>-0.100163</td>\n",
              "      <td>-0.234904</td>\n",
              "      <td>2.893684e-16</td>\n",
              "      <td>1.000000e+00</td>\n",
              "      <td>-3.914081e-17</td>\n",
              "    </tr>\n",
              "    <tr>\n",
              "      <th>PC3</th>\n",
              "      <td>-0.050694</td>\n",
              "      <td>0.210378</td>\n",
              "      <td>-0.163925</td>\n",
              "      <td>6.965313e-19</td>\n",
              "      <td>-3.914081e-17</td>\n",
              "      <td>1.000000e+00</td>\n",
              "    </tr>\n",
              "  </tbody>\n",
              "</table>\n",
              "</div>\n",
              "    <div class=\"colab-df-buttons\">\n",
              "\n",
              "  <div class=\"colab-df-container\">\n",
              "    <button class=\"colab-df-convert\" onclick=\"convertToInteractive('df-70f5d9ed-53e9-4476-ad81-05e487182eb0')\"\n",
              "            title=\"Convert this dataframe to an interactive table.\"\n",
              "            style=\"display:none;\">\n",
              "\n",
              "  <svg xmlns=\"http://www.w3.org/2000/svg\" height=\"24px\" viewBox=\"0 -960 960 960\">\n",
              "    <path d=\"M120-120v-720h720v720H120Zm60-500h600v-160H180v160Zm220 220h160v-160H400v160Zm0 220h160v-160H400v160ZM180-400h160v-160H180v160Zm440 0h160v-160H620v160ZM180-180h160v-160H180v160Zm440 0h160v-160H620v160Z\"/>\n",
              "  </svg>\n",
              "    </button>\n",
              "\n",
              "  <style>\n",
              "    .colab-df-container {\n",
              "      display:flex;\n",
              "      gap: 12px;\n",
              "    }\n",
              "\n",
              "    .colab-df-convert {\n",
              "      background-color: #E8F0FE;\n",
              "      border: none;\n",
              "      border-radius: 50%;\n",
              "      cursor: pointer;\n",
              "      display: none;\n",
              "      fill: #1967D2;\n",
              "      height: 32px;\n",
              "      padding: 0 0 0 0;\n",
              "      width: 32px;\n",
              "    }\n",
              "\n",
              "    .colab-df-convert:hover {\n",
              "      background-color: #E2EBFA;\n",
              "      box-shadow: 0px 1px 2px rgba(60, 64, 67, 0.3), 0px 1px 3px 1px rgba(60, 64, 67, 0.15);\n",
              "      fill: #174EA6;\n",
              "    }\n",
              "\n",
              "    .colab-df-buttons div {\n",
              "      margin-bottom: 4px;\n",
              "    }\n",
              "\n",
              "    [theme=dark] .colab-df-convert {\n",
              "      background-color: #3B4455;\n",
              "      fill: #D2E3FC;\n",
              "    }\n",
              "\n",
              "    [theme=dark] .colab-df-convert:hover {\n",
              "      background-color: #434B5C;\n",
              "      box-shadow: 0px 1px 3px 1px rgba(0, 0, 0, 0.15);\n",
              "      filter: drop-shadow(0px 1px 2px rgba(0, 0, 0, 0.3));\n",
              "      fill: #FFFFFF;\n",
              "    }\n",
              "  </style>\n",
              "\n",
              "    <script>\n",
              "      const buttonEl =\n",
              "        document.querySelector('#df-70f5d9ed-53e9-4476-ad81-05e487182eb0 button.colab-df-convert');\n",
              "      buttonEl.style.display =\n",
              "        google.colab.kernel.accessAllowed ? 'block' : 'none';\n",
              "\n",
              "      async function convertToInteractive(key) {\n",
              "        const element = document.querySelector('#df-70f5d9ed-53e9-4476-ad81-05e487182eb0');\n",
              "        const dataTable =\n",
              "          await google.colab.kernel.invokeFunction('convertToInteractive',\n",
              "                                                    [key], {});\n",
              "        if (!dataTable) return;\n",
              "\n",
              "        const docLinkHtml = 'Like what you see? Visit the ' +\n",
              "          '<a target=\"_blank\" href=https://colab.research.google.com/notebooks/data_table.ipynb>data table notebook</a>'\n",
              "          + ' to learn more about interactive tables.';\n",
              "        element.innerHTML = '';\n",
              "        dataTable['output_type'] = 'display_data';\n",
              "        await google.colab.output.renderOutput(dataTable, element);\n",
              "        const docLink = document.createElement('div');\n",
              "        docLink.innerHTML = docLinkHtml;\n",
              "        element.appendChild(docLink);\n",
              "      }\n",
              "    </script>\n",
              "  </div>\n",
              "\n",
              "\n",
              "<div id=\"df-beeff398-3122-49ab-a4bc-990518fc504a\">\n",
              "  <button class=\"colab-df-quickchart\" onclick=\"quickchart('df-beeff398-3122-49ab-a4bc-990518fc504a')\"\n",
              "            title=\"Suggest charts\"\n",
              "            style=\"display:none;\">\n",
              "\n",
              "<svg xmlns=\"http://www.w3.org/2000/svg\" height=\"24px\"viewBox=\"0 0 24 24\"\n",
              "     width=\"24px\">\n",
              "    <g>\n",
              "        <path d=\"M19 3H5c-1.1 0-2 .9-2 2v14c0 1.1.9 2 2 2h14c1.1 0 2-.9 2-2V5c0-1.1-.9-2-2-2zM9 17H7v-7h2v7zm4 0h-2V7h2v10zm4 0h-2v-4h2v4z\"/>\n",
              "    </g>\n",
              "</svg>\n",
              "  </button>\n",
              "\n",
              "<style>\n",
              "  .colab-df-quickchart {\n",
              "      --bg-color: #E8F0FE;\n",
              "      --fill-color: #1967D2;\n",
              "      --hover-bg-color: #E2EBFA;\n",
              "      --hover-fill-color: #174EA6;\n",
              "      --disabled-fill-color: #AAA;\n",
              "      --disabled-bg-color: #DDD;\n",
              "  }\n",
              "\n",
              "  [theme=dark] .colab-df-quickchart {\n",
              "      --bg-color: #3B4455;\n",
              "      --fill-color: #D2E3FC;\n",
              "      --hover-bg-color: #434B5C;\n",
              "      --hover-fill-color: #FFFFFF;\n",
              "      --disabled-bg-color: #3B4455;\n",
              "      --disabled-fill-color: #666;\n",
              "  }\n",
              "\n",
              "  .colab-df-quickchart {\n",
              "    background-color: var(--bg-color);\n",
              "    border: none;\n",
              "    border-radius: 50%;\n",
              "    cursor: pointer;\n",
              "    display: none;\n",
              "    fill: var(--fill-color);\n",
              "    height: 32px;\n",
              "    padding: 0;\n",
              "    width: 32px;\n",
              "  }\n",
              "\n",
              "  .colab-df-quickchart:hover {\n",
              "    background-color: var(--hover-bg-color);\n",
              "    box-shadow: 0 1px 2px rgba(60, 64, 67, 0.3), 0 1px 3px 1px rgba(60, 64, 67, 0.15);\n",
              "    fill: var(--button-hover-fill-color);\n",
              "  }\n",
              "\n",
              "  .colab-df-quickchart-complete:disabled,\n",
              "  .colab-df-quickchart-complete:disabled:hover {\n",
              "    background-color: var(--disabled-bg-color);\n",
              "    fill: var(--disabled-fill-color);\n",
              "    box-shadow: none;\n",
              "  }\n",
              "\n",
              "  .colab-df-spinner {\n",
              "    border: 2px solid var(--fill-color);\n",
              "    border-color: transparent;\n",
              "    border-bottom-color: var(--fill-color);\n",
              "    animation:\n",
              "      spin 1s steps(1) infinite;\n",
              "  }\n",
              "\n",
              "  @keyframes spin {\n",
              "    0% {\n",
              "      border-color: transparent;\n",
              "      border-bottom-color: var(--fill-color);\n",
              "      border-left-color: var(--fill-color);\n",
              "    }\n",
              "    20% {\n",
              "      border-color: transparent;\n",
              "      border-left-color: var(--fill-color);\n",
              "      border-top-color: var(--fill-color);\n",
              "    }\n",
              "    30% {\n",
              "      border-color: transparent;\n",
              "      border-left-color: var(--fill-color);\n",
              "      border-top-color: var(--fill-color);\n",
              "      border-right-color: var(--fill-color);\n",
              "    }\n",
              "    40% {\n",
              "      border-color: transparent;\n",
              "      border-right-color: var(--fill-color);\n",
              "      border-top-color: var(--fill-color);\n",
              "    }\n",
              "    60% {\n",
              "      border-color: transparent;\n",
              "      border-right-color: var(--fill-color);\n",
              "    }\n",
              "    80% {\n",
              "      border-color: transparent;\n",
              "      border-right-color: var(--fill-color);\n",
              "      border-bottom-color: var(--fill-color);\n",
              "    }\n",
              "    90% {\n",
              "      border-color: transparent;\n",
              "      border-bottom-color: var(--fill-color);\n",
              "    }\n",
              "  }\n",
              "</style>\n",
              "\n",
              "  <script>\n",
              "    async function quickchart(key) {\n",
              "      const quickchartButtonEl =\n",
              "        document.querySelector('#' + key + ' button');\n",
              "      quickchartButtonEl.disabled = true;  // To prevent multiple clicks.\n",
              "      quickchartButtonEl.classList.add('colab-df-spinner');\n",
              "      try {\n",
              "        const charts = await google.colab.kernel.invokeFunction(\n",
              "            'suggestCharts', [key], {});\n",
              "      } catch (error) {\n",
              "        console.error('Error during call to suggestCharts:', error);\n",
              "      }\n",
              "      quickchartButtonEl.classList.remove('colab-df-spinner');\n",
              "      quickchartButtonEl.classList.add('colab-df-quickchart-complete');\n",
              "    }\n",
              "    (() => {\n",
              "      let quickchartButtonEl =\n",
              "        document.querySelector('#df-beeff398-3122-49ab-a4bc-990518fc504a button');\n",
              "      quickchartButtonEl.style.display =\n",
              "        google.colab.kernel.accessAllowed ? 'block' : 'none';\n",
              "    })();\n",
              "  </script>\n",
              "</div>\n",
              "\n",
              "    </div>\n",
              "  </div>\n"
            ]
          },
          "metadata": {},
          "execution_count": 34
        }
      ],
      "source": [
        "from sklearn.decomposition import PCA\n",
        "\n",
        "# Initiate the model, PCA object\n",
        "pca = PCA(n_components=3)\n",
        "\n",
        "z_pca = pca.fit_transform(z)\n",
        "z_pca\n",
        "\n",
        "print(f'Proportion of Variance: {pca.explained_variance_ratio_}')\n",
        "print(f'Explained Variance: {pca.explained_variance_}')\n",
        "z_pca\n",
        "z_pca_dataframe = pd.DataFrame(z_pca, columns=['PC1', 'PC2', 'PC3'])\n",
        "z_pca_dataframe.corr()\n",
        "corr_data = pd.concat([z_dataframe, z_pca_dataframe], axis=1)\n",
        "corr_data.shape\n",
        "corr_data.corr()\n"
      ]
    },
    {
      "cell_type": "markdown",
      "metadata": {
        "id": "STYpl_c4lBMB"
      },
      "source": [
        "# Lab 4 | Clustering"
      ]
    },
    {
      "cell_type": "markdown",
      "metadata": {
        "id": "GWD2y9DnlXo2"
      },
      "source": [
        "## Import Data"
      ]
    },
    {
      "cell_type": "code",
      "execution_count": null,
      "metadata": {
        "colab": {
          "base_uri": "https://localhost:8080/",
          "height": 1000
        },
        "id": "D5rQ_nHtlawS",
        "outputId": "05bf9092-2b7a-4419-ed15-2c1c7de108af"
      },
      "outputs": [
        {
          "output_type": "display_data",
          "data": {
            "text/plain": [
              "       TotalDrinkUnitSales  TotalDrinkSales  TotalFoodSales  \\\n",
              "0                        0             0.00            0.00   \n",
              "1                        0             0.00            0.00   \n",
              "2                        7            15.34          124.01   \n",
              "3                        0             0.00            0.00   \n",
              "4                        0             0.00            1.08   \n",
              "...                    ...              ...             ...   \n",
              "10276                   10            36.70           81.17   \n",
              "10277                    4             5.98          112.09   \n",
              "10278                    0             0.00            0.00   \n",
              "10279                    7            12.92          164.98   \n",
              "10280                   24            62.70          148.96   \n",
              "\n",
              "       TotalFoodUnitSales  TotalNonConUnitSales  TotalNonConSales  \\\n",
              "0                       0                     0              0.00   \n",
              "1                       0                     0              0.00   \n",
              "2                      53                    29             63.82   \n",
              "3                       0                     0              0.00   \n",
              "4                       2                     0              0.00   \n",
              "...                   ...                   ...               ...   \n",
              "10276                  47                    41            112.47   \n",
              "10277                  51                    25             49.17   \n",
              "10278                   0                     0              0.00   \n",
              "10279                  83                    22             54.87   \n",
              "10280                  55                    14             35.24   \n",
              "\n",
              "       customer_id marital_status  yearly_income gender  total_children  \\\n",
              "0                1              M    $30K - $50K      F               4   \n",
              "1                2              S    $70K - $90K      M               1   \n",
              "2                3              M    $50K - $70K      F               1   \n",
              "3                4              M    $10K - $30K      M               4   \n",
              "4                5              S    $30K - $50K      F               3   \n",
              "...            ...            ...            ...    ...             ...   \n",
              "10276        10277              M   $90K - $110K      M               4   \n",
              "10277        10278              M    $30K - $50K      F               0   \n",
              "10278        10279              S  $130K - $150K      M               3   \n",
              "10279        10280              M        $150K +      F               5   \n",
              "10280        10281              S    $50K - $70K      F               5   \n",
              "\n",
              "       num_children_at_home            education member_card      occupation  \\\n",
              "0                         2  Partial High School      Bronze  Skilled Manual   \n",
              "1                         0  Partial High School      Bronze    Professional   \n",
              "2                         1     Bachelors Degree      Bronze    Professional   \n",
              "3                         4  Partial High School      Normal  Skilled Manual   \n",
              "4                         0      Partial College      Silver          Manual   \n",
              "...                     ...                  ...         ...             ...   \n",
              "10276                     3  Partial High School      Bronze      Management   \n",
              "10277                     0      Partial College      Bronze    Professional   \n",
              "10278                     0  Partial High School      Bronze      Management   \n",
              "10279                     2   High School Degree      Golden    Professional   \n",
              "10280                     0     Bachelors Degree      Bronze      Management   \n",
              "\n",
              "      houseowner  num_cars_owned  \n",
              "0              Y               4  \n",
              "1              N               3  \n",
              "2              Y               2  \n",
              "3              N               2  \n",
              "4              N               3  \n",
              "...          ...             ...  \n",
              "10276          N               3  \n",
              "10277          N               2  \n",
              "10278          Y               2  \n",
              "10279          Y               2  \n",
              "10280          N               2  \n",
              "\n",
              "[10281 rows x 17 columns]"
            ],
            "text/html": [
              "\n",
              "  <div id=\"df-d7ae4e39-e531-42f1-becc-dc63bf82c224\" class=\"colab-df-container\">\n",
              "    <div>\n",
              "<style scoped>\n",
              "    .dataframe tbody tr th:only-of-type {\n",
              "        vertical-align: middle;\n",
              "    }\n",
              "\n",
              "    .dataframe tbody tr th {\n",
              "        vertical-align: top;\n",
              "    }\n",
              "\n",
              "    .dataframe thead th {\n",
              "        text-align: right;\n",
              "    }\n",
              "</style>\n",
              "<table border=\"1\" class=\"dataframe\">\n",
              "  <thead>\n",
              "    <tr style=\"text-align: right;\">\n",
              "      <th></th>\n",
              "      <th>TotalDrinkUnitSales</th>\n",
              "      <th>TotalDrinkSales</th>\n",
              "      <th>TotalFoodSales</th>\n",
              "      <th>TotalFoodUnitSales</th>\n",
              "      <th>TotalNonConUnitSales</th>\n",
              "      <th>TotalNonConSales</th>\n",
              "      <th>customer_id</th>\n",
              "      <th>marital_status</th>\n",
              "      <th>yearly_income</th>\n",
              "      <th>gender</th>\n",
              "      <th>total_children</th>\n",
              "      <th>num_children_at_home</th>\n",
              "      <th>education</th>\n",
              "      <th>member_card</th>\n",
              "      <th>occupation</th>\n",
              "      <th>houseowner</th>\n",
              "      <th>num_cars_owned</th>\n",
              "    </tr>\n",
              "  </thead>\n",
              "  <tbody>\n",
              "    <tr>\n",
              "      <th>0</th>\n",
              "      <td>0</td>\n",
              "      <td>0.00</td>\n",
              "      <td>0.00</td>\n",
              "      <td>0</td>\n",
              "      <td>0</td>\n",
              "      <td>0.00</td>\n",
              "      <td>1</td>\n",
              "      <td>M</td>\n",
              "      <td>$30K - $50K</td>\n",
              "      <td>F</td>\n",
              "      <td>4</td>\n",
              "      <td>2</td>\n",
              "      <td>Partial High School</td>\n",
              "      <td>Bronze</td>\n",
              "      <td>Skilled Manual</td>\n",
              "      <td>Y</td>\n",
              "      <td>4</td>\n",
              "    </tr>\n",
              "    <tr>\n",
              "      <th>1</th>\n",
              "      <td>0</td>\n",
              "      <td>0.00</td>\n",
              "      <td>0.00</td>\n",
              "      <td>0</td>\n",
              "      <td>0</td>\n",
              "      <td>0.00</td>\n",
              "      <td>2</td>\n",
              "      <td>S</td>\n",
              "      <td>$70K - $90K</td>\n",
              "      <td>M</td>\n",
              "      <td>1</td>\n",
              "      <td>0</td>\n",
              "      <td>Partial High School</td>\n",
              "      <td>Bronze</td>\n",
              "      <td>Professional</td>\n",
              "      <td>N</td>\n",
              "      <td>3</td>\n",
              "    </tr>\n",
              "    <tr>\n",
              "      <th>2</th>\n",
              "      <td>7</td>\n",
              "      <td>15.34</td>\n",
              "      <td>124.01</td>\n",
              "      <td>53</td>\n",
              "      <td>29</td>\n",
              "      <td>63.82</td>\n",
              "      <td>3</td>\n",
              "      <td>M</td>\n",
              "      <td>$50K - $70K</td>\n",
              "      <td>F</td>\n",
              "      <td>1</td>\n",
              "      <td>1</td>\n",
              "      <td>Bachelors Degree</td>\n",
              "      <td>Bronze</td>\n",
              "      <td>Professional</td>\n",
              "      <td>Y</td>\n",
              "      <td>2</td>\n",
              "    </tr>\n",
              "    <tr>\n",
              "      <th>3</th>\n",
              "      <td>0</td>\n",
              "      <td>0.00</td>\n",
              "      <td>0.00</td>\n",
              "      <td>0</td>\n",
              "      <td>0</td>\n",
              "      <td>0.00</td>\n",
              "      <td>4</td>\n",
              "      <td>M</td>\n",
              "      <td>$10K - $30K</td>\n",
              "      <td>M</td>\n",
              "      <td>4</td>\n",
              "      <td>4</td>\n",
              "      <td>Partial High School</td>\n",
              "      <td>Normal</td>\n",
              "      <td>Skilled Manual</td>\n",
              "      <td>N</td>\n",
              "      <td>2</td>\n",
              "    </tr>\n",
              "    <tr>\n",
              "      <th>4</th>\n",
              "      <td>0</td>\n",
              "      <td>0.00</td>\n",
              "      <td>1.08</td>\n",
              "      <td>2</td>\n",
              "      <td>0</td>\n",
              "      <td>0.00</td>\n",
              "      <td>5</td>\n",
              "      <td>S</td>\n",
              "      <td>$30K - $50K</td>\n",
              "      <td>F</td>\n",
              "      <td>3</td>\n",
              "      <td>0</td>\n",
              "      <td>Partial College</td>\n",
              "      <td>Silver</td>\n",
              "      <td>Manual</td>\n",
              "      <td>N</td>\n",
              "      <td>3</td>\n",
              "    </tr>\n",
              "    <tr>\n",
              "      <th>...</th>\n",
              "      <td>...</td>\n",
              "      <td>...</td>\n",
              "      <td>...</td>\n",
              "      <td>...</td>\n",
              "      <td>...</td>\n",
              "      <td>...</td>\n",
              "      <td>...</td>\n",
              "      <td>...</td>\n",
              "      <td>...</td>\n",
              "      <td>...</td>\n",
              "      <td>...</td>\n",
              "      <td>...</td>\n",
              "      <td>...</td>\n",
              "      <td>...</td>\n",
              "      <td>...</td>\n",
              "      <td>...</td>\n",
              "      <td>...</td>\n",
              "    </tr>\n",
              "    <tr>\n",
              "      <th>10276</th>\n",
              "      <td>10</td>\n",
              "      <td>36.70</td>\n",
              "      <td>81.17</td>\n",
              "      <td>47</td>\n",
              "      <td>41</td>\n",
              "      <td>112.47</td>\n",
              "      <td>10277</td>\n",
              "      <td>M</td>\n",
              "      <td>$90K - $110K</td>\n",
              "      <td>M</td>\n",
              "      <td>4</td>\n",
              "      <td>3</td>\n",
              "      <td>Partial High School</td>\n",
              "      <td>Bronze</td>\n",
              "      <td>Management</td>\n",
              "      <td>N</td>\n",
              "      <td>3</td>\n",
              "    </tr>\n",
              "    <tr>\n",
              "      <th>10277</th>\n",
              "      <td>4</td>\n",
              "      <td>5.98</td>\n",
              "      <td>112.09</td>\n",
              "      <td>51</td>\n",
              "      <td>25</td>\n",
              "      <td>49.17</td>\n",
              "      <td>10278</td>\n",
              "      <td>M</td>\n",
              "      <td>$30K - $50K</td>\n",
              "      <td>F</td>\n",
              "      <td>0</td>\n",
              "      <td>0</td>\n",
              "      <td>Partial College</td>\n",
              "      <td>Bronze</td>\n",
              "      <td>Professional</td>\n",
              "      <td>N</td>\n",
              "      <td>2</td>\n",
              "    </tr>\n",
              "    <tr>\n",
              "      <th>10278</th>\n",
              "      <td>0</td>\n",
              "      <td>0.00</td>\n",
              "      <td>0.00</td>\n",
              "      <td>0</td>\n",
              "      <td>0</td>\n",
              "      <td>0.00</td>\n",
              "      <td>10279</td>\n",
              "      <td>S</td>\n",
              "      <td>$130K - $150K</td>\n",
              "      <td>M</td>\n",
              "      <td>3</td>\n",
              "      <td>0</td>\n",
              "      <td>Partial High School</td>\n",
              "      <td>Bronze</td>\n",
              "      <td>Management</td>\n",
              "      <td>Y</td>\n",
              "      <td>2</td>\n",
              "    </tr>\n",
              "    <tr>\n",
              "      <th>10279</th>\n",
              "      <td>7</td>\n",
              "      <td>12.92</td>\n",
              "      <td>164.98</td>\n",
              "      <td>83</td>\n",
              "      <td>22</td>\n",
              "      <td>54.87</td>\n",
              "      <td>10280</td>\n",
              "      <td>M</td>\n",
              "      <td>$150K +</td>\n",
              "      <td>F</td>\n",
              "      <td>5</td>\n",
              "      <td>2</td>\n",
              "      <td>High School Degree</td>\n",
              "      <td>Golden</td>\n",
              "      <td>Professional</td>\n",
              "      <td>Y</td>\n",
              "      <td>2</td>\n",
              "    </tr>\n",
              "    <tr>\n",
              "      <th>10280</th>\n",
              "      <td>24</td>\n",
              "      <td>62.70</td>\n",
              "      <td>148.96</td>\n",
              "      <td>55</td>\n",
              "      <td>14</td>\n",
              "      <td>35.24</td>\n",
              "      <td>10281</td>\n",
              "      <td>S</td>\n",
              "      <td>$50K - $70K</td>\n",
              "      <td>F</td>\n",
              "      <td>5</td>\n",
              "      <td>0</td>\n",
              "      <td>Bachelors Degree</td>\n",
              "      <td>Bronze</td>\n",
              "      <td>Management</td>\n",
              "      <td>N</td>\n",
              "      <td>2</td>\n",
              "    </tr>\n",
              "  </tbody>\n",
              "</table>\n",
              "<p>10281 rows × 17 columns</p>\n",
              "</div>\n",
              "    <div class=\"colab-df-buttons\">\n",
              "\n",
              "  <div class=\"colab-df-container\">\n",
              "    <button class=\"colab-df-convert\" onclick=\"convertToInteractive('df-d7ae4e39-e531-42f1-becc-dc63bf82c224')\"\n",
              "            title=\"Convert this dataframe to an interactive table.\"\n",
              "            style=\"display:none;\">\n",
              "\n",
              "  <svg xmlns=\"http://www.w3.org/2000/svg\" height=\"24px\" viewBox=\"0 -960 960 960\">\n",
              "    <path d=\"M120-120v-720h720v720H120Zm60-500h600v-160H180v160Zm220 220h160v-160H400v160Zm0 220h160v-160H400v160ZM180-400h160v-160H180v160Zm440 0h160v-160H620v160ZM180-180h160v-160H180v160Zm440 0h160v-160H620v160Z\"/>\n",
              "  </svg>\n",
              "    </button>\n",
              "\n",
              "  <style>\n",
              "    .colab-df-container {\n",
              "      display:flex;\n",
              "      gap: 12px;\n",
              "    }\n",
              "\n",
              "    .colab-df-convert {\n",
              "      background-color: #E8F0FE;\n",
              "      border: none;\n",
              "      border-radius: 50%;\n",
              "      cursor: pointer;\n",
              "      display: none;\n",
              "      fill: #1967D2;\n",
              "      height: 32px;\n",
              "      padding: 0 0 0 0;\n",
              "      width: 32px;\n",
              "    }\n",
              "\n",
              "    .colab-df-convert:hover {\n",
              "      background-color: #E2EBFA;\n",
              "      box-shadow: 0px 1px 2px rgba(60, 64, 67, 0.3), 0px 1px 3px 1px rgba(60, 64, 67, 0.15);\n",
              "      fill: #174EA6;\n",
              "    }\n",
              "\n",
              "    .colab-df-buttons div {\n",
              "      margin-bottom: 4px;\n",
              "    }\n",
              "\n",
              "    [theme=dark] .colab-df-convert {\n",
              "      background-color: #3B4455;\n",
              "      fill: #D2E3FC;\n",
              "    }\n",
              "\n",
              "    [theme=dark] .colab-df-convert:hover {\n",
              "      background-color: #434B5C;\n",
              "      box-shadow: 0px 1px 3px 1px rgba(0, 0, 0, 0.15);\n",
              "      filter: drop-shadow(0px 1px 2px rgba(0, 0, 0, 0.3));\n",
              "      fill: #FFFFFF;\n",
              "    }\n",
              "  </style>\n",
              "\n",
              "    <script>\n",
              "      const buttonEl =\n",
              "        document.querySelector('#df-d7ae4e39-e531-42f1-becc-dc63bf82c224 button.colab-df-convert');\n",
              "      buttonEl.style.display =\n",
              "        google.colab.kernel.accessAllowed ? 'block' : 'none';\n",
              "\n",
              "      async function convertToInteractive(key) {\n",
              "        const element = document.querySelector('#df-d7ae4e39-e531-42f1-becc-dc63bf82c224');\n",
              "        const dataTable =\n",
              "          await google.colab.kernel.invokeFunction('convertToInteractive',\n",
              "                                                    [key], {});\n",
              "        if (!dataTable) return;\n",
              "\n",
              "        const docLinkHtml = 'Like what you see? Visit the ' +\n",
              "          '<a target=\"_blank\" href=https://colab.research.google.com/notebooks/data_table.ipynb>data table notebook</a>'\n",
              "          + ' to learn more about interactive tables.';\n",
              "        element.innerHTML = '';\n",
              "        dataTable['output_type'] = 'display_data';\n",
              "        await google.colab.output.renderOutput(dataTable, element);\n",
              "        const docLink = document.createElement('div');\n",
              "        docLink.innerHTML = docLinkHtml;\n",
              "        element.appendChild(docLink);\n",
              "      }\n",
              "    </script>\n",
              "  </div>\n",
              "\n",
              "\n",
              "<div id=\"df-e7bd5780-7346-4b33-acd8-3e81f1a0bf13\">\n",
              "  <button class=\"colab-df-quickchart\" onclick=\"quickchart('df-e7bd5780-7346-4b33-acd8-3e81f1a0bf13')\"\n",
              "            title=\"Suggest charts\"\n",
              "            style=\"display:none;\">\n",
              "\n",
              "<svg xmlns=\"http://www.w3.org/2000/svg\" height=\"24px\"viewBox=\"0 0 24 24\"\n",
              "     width=\"24px\">\n",
              "    <g>\n",
              "        <path d=\"M19 3H5c-1.1 0-2 .9-2 2v14c0 1.1.9 2 2 2h14c1.1 0 2-.9 2-2V5c0-1.1-.9-2-2-2zM9 17H7v-7h2v7zm4 0h-2V7h2v10zm4 0h-2v-4h2v4z\"/>\n",
              "    </g>\n",
              "</svg>\n",
              "  </button>\n",
              "\n",
              "<style>\n",
              "  .colab-df-quickchart {\n",
              "      --bg-color: #E8F0FE;\n",
              "      --fill-color: #1967D2;\n",
              "      --hover-bg-color: #E2EBFA;\n",
              "      --hover-fill-color: #174EA6;\n",
              "      --disabled-fill-color: #AAA;\n",
              "      --disabled-bg-color: #DDD;\n",
              "  }\n",
              "\n",
              "  [theme=dark] .colab-df-quickchart {\n",
              "      --bg-color: #3B4455;\n",
              "      --fill-color: #D2E3FC;\n",
              "      --hover-bg-color: #434B5C;\n",
              "      --hover-fill-color: #FFFFFF;\n",
              "      --disabled-bg-color: #3B4455;\n",
              "      --disabled-fill-color: #666;\n",
              "  }\n",
              "\n",
              "  .colab-df-quickchart {\n",
              "    background-color: var(--bg-color);\n",
              "    border: none;\n",
              "    border-radius: 50%;\n",
              "    cursor: pointer;\n",
              "    display: none;\n",
              "    fill: var(--fill-color);\n",
              "    height: 32px;\n",
              "    padding: 0;\n",
              "    width: 32px;\n",
              "  }\n",
              "\n",
              "  .colab-df-quickchart:hover {\n",
              "    background-color: var(--hover-bg-color);\n",
              "    box-shadow: 0 1px 2px rgba(60, 64, 67, 0.3), 0 1px 3px 1px rgba(60, 64, 67, 0.15);\n",
              "    fill: var(--button-hover-fill-color);\n",
              "  }\n",
              "\n",
              "  .colab-df-quickchart-complete:disabled,\n",
              "  .colab-df-quickchart-complete:disabled:hover {\n",
              "    background-color: var(--disabled-bg-color);\n",
              "    fill: var(--disabled-fill-color);\n",
              "    box-shadow: none;\n",
              "  }\n",
              "\n",
              "  .colab-df-spinner {\n",
              "    border: 2px solid var(--fill-color);\n",
              "    border-color: transparent;\n",
              "    border-bottom-color: var(--fill-color);\n",
              "    animation:\n",
              "      spin 1s steps(1) infinite;\n",
              "  }\n",
              "\n",
              "  @keyframes spin {\n",
              "    0% {\n",
              "      border-color: transparent;\n",
              "      border-bottom-color: var(--fill-color);\n",
              "      border-left-color: var(--fill-color);\n",
              "    }\n",
              "    20% {\n",
              "      border-color: transparent;\n",
              "      border-left-color: var(--fill-color);\n",
              "      border-top-color: var(--fill-color);\n",
              "    }\n",
              "    30% {\n",
              "      border-color: transparent;\n",
              "      border-left-color: var(--fill-color);\n",
              "      border-top-color: var(--fill-color);\n",
              "      border-right-color: var(--fill-color);\n",
              "    }\n",
              "    40% {\n",
              "      border-color: transparent;\n",
              "      border-right-color: var(--fill-color);\n",
              "      border-top-color: var(--fill-color);\n",
              "    }\n",
              "    60% {\n",
              "      border-color: transparent;\n",
              "      border-right-color: var(--fill-color);\n",
              "    }\n",
              "    80% {\n",
              "      border-color: transparent;\n",
              "      border-right-color: var(--fill-color);\n",
              "      border-bottom-color: var(--fill-color);\n",
              "    }\n",
              "    90% {\n",
              "      border-color: transparent;\n",
              "      border-bottom-color: var(--fill-color);\n",
              "    }\n",
              "  }\n",
              "</style>\n",
              "\n",
              "  <script>\n",
              "    async function quickchart(key) {\n",
              "      const quickchartButtonEl =\n",
              "        document.querySelector('#' + key + ' button');\n",
              "      quickchartButtonEl.disabled = true;  // To prevent multiple clicks.\n",
              "      quickchartButtonEl.classList.add('colab-df-spinner');\n",
              "      try {\n",
              "        const charts = await google.colab.kernel.invokeFunction(\n",
              "            'suggestCharts', [key], {});\n",
              "      } catch (error) {\n",
              "        console.error('Error during call to suggestCharts:', error);\n",
              "      }\n",
              "      quickchartButtonEl.classList.remove('colab-df-spinner');\n",
              "      quickchartButtonEl.classList.add('colab-df-quickchart-complete');\n",
              "    }\n",
              "    (() => {\n",
              "      let quickchartButtonEl =\n",
              "        document.querySelector('#df-e7bd5780-7346-4b33-acd8-3e81f1a0bf13 button');\n",
              "      quickchartButtonEl.style.display =\n",
              "        google.colab.kernel.accessAllowed ? 'block' : 'none';\n",
              "    })();\n",
              "  </script>\n",
              "</div>\n",
              "\n",
              "  <div id=\"id_86892e0c-088d-49cd-9097-4ded84e46b72\">\n",
              "    <style>\n",
              "      .colab-df-generate {\n",
              "        background-color: #E8F0FE;\n",
              "        border: none;\n",
              "        border-radius: 50%;\n",
              "        cursor: pointer;\n",
              "        display: none;\n",
              "        fill: #1967D2;\n",
              "        height: 32px;\n",
              "        padding: 0 0 0 0;\n",
              "        width: 32px;\n",
              "      }\n",
              "\n",
              "      .colab-df-generate:hover {\n",
              "        background-color: #E2EBFA;\n",
              "        box-shadow: 0px 1px 2px rgba(60, 64, 67, 0.3), 0px 1px 3px 1px rgba(60, 64, 67, 0.15);\n",
              "        fill: #174EA6;\n",
              "      }\n",
              "\n",
              "      [theme=dark] .colab-df-generate {\n",
              "        background-color: #3B4455;\n",
              "        fill: #D2E3FC;\n",
              "      }\n",
              "\n",
              "      [theme=dark] .colab-df-generate:hover {\n",
              "        background-color: #434B5C;\n",
              "        box-shadow: 0px 1px 3px 1px rgba(0, 0, 0, 0.15);\n",
              "        filter: drop-shadow(0px 1px 2px rgba(0, 0, 0, 0.3));\n",
              "        fill: #FFFFFF;\n",
              "      }\n",
              "    </style>\n",
              "    <button class=\"colab-df-generate\" onclick=\"generateWithVariable('data')\"\n",
              "            title=\"Generate code using this dataframe.\"\n",
              "            style=\"display:none;\">\n",
              "\n",
              "  <svg xmlns=\"http://www.w3.org/2000/svg\" height=\"24px\"viewBox=\"0 0 24 24\"\n",
              "       width=\"24px\">\n",
              "    <path d=\"M7,19H8.4L18.45,9,17,7.55,7,17.6ZM5,21V16.75L18.45,3.32a2,2,0,0,1,2.83,0l1.4,1.43a1.91,1.91,0,0,1,.58,1.4,1.91,1.91,0,0,1-.58,1.4L9.25,21ZM18.45,9,17,7.55Zm-12,3A5.31,5.31,0,0,0,4.9,8.1,5.31,5.31,0,0,0,1,6.5,5.31,5.31,0,0,0,4.9,4.9,5.31,5.31,0,0,0,6.5,1,5.31,5.31,0,0,0,8.1,4.9,5.31,5.31,0,0,0,12,6.5,5.46,5.46,0,0,0,6.5,12Z\"/>\n",
              "  </svg>\n",
              "    </button>\n",
              "    <script>\n",
              "      (() => {\n",
              "      const buttonEl =\n",
              "        document.querySelector('#id_86892e0c-088d-49cd-9097-4ded84e46b72 button.colab-df-generate');\n",
              "      buttonEl.style.display =\n",
              "        google.colab.kernel.accessAllowed ? 'block' : 'none';\n",
              "\n",
              "      buttonEl.onclick = () => {\n",
              "        google.colab.notebook.generateWithVariable('data');\n",
              "      }\n",
              "      })();\n",
              "    </script>\n",
              "  </div>\n",
              "\n",
              "    </div>\n",
              "  </div>\n"
            ]
          },
          "metadata": {}
        },
        {
          "output_type": "stream",
          "name": "stdout",
          "text": [
            "The shape of our data: (10281, 17)\n"
          ]
        },
        {
          "output_type": "error",
          "ename": "KeyError",
          "evalue": "ignored",
          "traceback": [
            "\u001b[0;31m---------------------------------------------------------------------------\u001b[0m",
            "\u001b[0;31mKeyError\u001b[0m                                  Traceback (most recent call last)",
            "\u001b[0;32m/usr/local/lib/python3.10/dist-packages/pandas/core/indexes/base.py\u001b[0m in \u001b[0;36mget_loc\u001b[0;34m(self, key, method, tolerance)\u001b[0m\n\u001b[1;32m   3801\u001b[0m             \u001b[0;32mtry\u001b[0m\u001b[0;34m:\u001b[0m\u001b[0;34m\u001b[0m\u001b[0;34m\u001b[0m\u001b[0m\n\u001b[0;32m-> 3802\u001b[0;31m                 \u001b[0;32mreturn\u001b[0m \u001b[0mself\u001b[0m\u001b[0;34m.\u001b[0m\u001b[0m_engine\u001b[0m\u001b[0;34m.\u001b[0m\u001b[0mget_loc\u001b[0m\u001b[0;34m(\u001b[0m\u001b[0mcasted_key\u001b[0m\u001b[0;34m)\u001b[0m\u001b[0;34m\u001b[0m\u001b[0;34m\u001b[0m\u001b[0m\n\u001b[0m\u001b[1;32m   3803\u001b[0m             \u001b[0;32mexcept\u001b[0m \u001b[0mKeyError\u001b[0m \u001b[0;32mas\u001b[0m \u001b[0merr\u001b[0m\u001b[0;34m:\u001b[0m\u001b[0;34m\u001b[0m\u001b[0;34m\u001b[0m\u001b[0m\n",
            "\u001b[0;32m/usr/local/lib/python3.10/dist-packages/pandas/_libs/index.pyx\u001b[0m in \u001b[0;36mpandas._libs.index.IndexEngine.get_loc\u001b[0;34m()\u001b[0m\n",
            "\u001b[0;32m/usr/local/lib/python3.10/dist-packages/pandas/_libs/index.pyx\u001b[0m in \u001b[0;36mpandas._libs.index.IndexEngine.get_loc\u001b[0;34m()\u001b[0m\n",
            "\u001b[0;32mpandas/_libs/hashtable_class_helper.pxi\u001b[0m in \u001b[0;36mpandas._libs.hashtable.PyObjectHashTable.get_item\u001b[0;34m()\u001b[0m\n",
            "\u001b[0;32mpandas/_libs/hashtable_class_helper.pxi\u001b[0m in \u001b[0;36mpandas._libs.hashtable.PyObjectHashTable.get_item\u001b[0;34m()\u001b[0m\n",
            "\u001b[0;31mKeyError\u001b[0m: 'origin'",
            "\nThe above exception was the direct cause of the following exception:\n",
            "\u001b[0;31mKeyError\u001b[0m                                  Traceback (most recent call last)",
            "\u001b[0;32m<ipython-input-53-2b542d3803ee>\u001b[0m in \u001b[0;36m<cell line: 8>\u001b[0;34m()\u001b[0m\n\u001b[1;32m      6\u001b[0m \u001b[0mprint\u001b[0m\u001b[0;34m(\u001b[0m\u001b[0;34mf\"The shape of our data: {data.shape}\"\u001b[0m\u001b[0;34m)\u001b[0m \u001b[0;31m# the number of rows and columns\u001b[0m\u001b[0;34m\u001b[0m\u001b[0;34m\u001b[0m\u001b[0m\n\u001b[1;32m      7\u001b[0m \u001b[0;34m\u001b[0m\u001b[0m\n\u001b[0;32m----> 8\u001b[0;31m \u001b[0mdata\u001b[0m\u001b[0;34m[\u001b[0m\u001b[0;34m'origin'\u001b[0m\u001b[0;34m]\u001b[0m\u001b[0;34m.\u001b[0m\u001b[0munique\u001b[0m\u001b[0;34m(\u001b[0m\u001b[0;34m)\u001b[0m \u001b[0;31m# unique values within the column (American, Asian, European)\u001b[0m\u001b[0;34m\u001b[0m\u001b[0;34m\u001b[0m\u001b[0m\n\u001b[0m\u001b[1;32m      9\u001b[0m \u001b[0mdata\u001b[0m\u001b[0;34m[\u001b[0m\u001b[0;34m'origin'\u001b[0m\u001b[0;34m]\u001b[0m\u001b[0;34m.\u001b[0m\u001b[0mvalue_counts\u001b[0m\u001b[0;34m(\u001b[0m\u001b[0;34m)\u001b[0m \u001b[0;31m# gives the frequency for each unique value\u001b[0m\u001b[0;34m\u001b[0m\u001b[0;34m\u001b[0m\u001b[0m\n",
            "\u001b[0;32m/usr/local/lib/python3.10/dist-packages/pandas/core/frame.py\u001b[0m in \u001b[0;36m__getitem__\u001b[0;34m(self, key)\u001b[0m\n\u001b[1;32m   3805\u001b[0m             \u001b[0;32mif\u001b[0m \u001b[0mself\u001b[0m\u001b[0;34m.\u001b[0m\u001b[0mcolumns\u001b[0m\u001b[0;34m.\u001b[0m\u001b[0mnlevels\u001b[0m \u001b[0;34m>\u001b[0m \u001b[0;36m1\u001b[0m\u001b[0;34m:\u001b[0m\u001b[0;34m\u001b[0m\u001b[0;34m\u001b[0m\u001b[0m\n\u001b[1;32m   3806\u001b[0m                 \u001b[0;32mreturn\u001b[0m \u001b[0mself\u001b[0m\u001b[0;34m.\u001b[0m\u001b[0m_getitem_multilevel\u001b[0m\u001b[0;34m(\u001b[0m\u001b[0mkey\u001b[0m\u001b[0;34m)\u001b[0m\u001b[0;34m\u001b[0m\u001b[0;34m\u001b[0m\u001b[0m\n\u001b[0;32m-> 3807\u001b[0;31m             \u001b[0mindexer\u001b[0m \u001b[0;34m=\u001b[0m \u001b[0mself\u001b[0m\u001b[0;34m.\u001b[0m\u001b[0mcolumns\u001b[0m\u001b[0;34m.\u001b[0m\u001b[0mget_loc\u001b[0m\u001b[0;34m(\u001b[0m\u001b[0mkey\u001b[0m\u001b[0;34m)\u001b[0m\u001b[0;34m\u001b[0m\u001b[0;34m\u001b[0m\u001b[0m\n\u001b[0m\u001b[1;32m   3808\u001b[0m             \u001b[0;32mif\u001b[0m \u001b[0mis_integer\u001b[0m\u001b[0;34m(\u001b[0m\u001b[0mindexer\u001b[0m\u001b[0;34m)\u001b[0m\u001b[0;34m:\u001b[0m\u001b[0;34m\u001b[0m\u001b[0;34m\u001b[0m\u001b[0m\n\u001b[1;32m   3809\u001b[0m                 \u001b[0mindexer\u001b[0m \u001b[0;34m=\u001b[0m \u001b[0;34m[\u001b[0m\u001b[0mindexer\u001b[0m\u001b[0;34m]\u001b[0m\u001b[0;34m\u001b[0m\u001b[0;34m\u001b[0m\u001b[0m\n",
            "\u001b[0;32m/usr/local/lib/python3.10/dist-packages/pandas/core/indexes/base.py\u001b[0m in \u001b[0;36mget_loc\u001b[0;34m(self, key, method, tolerance)\u001b[0m\n\u001b[1;32m   3802\u001b[0m                 \u001b[0;32mreturn\u001b[0m \u001b[0mself\u001b[0m\u001b[0;34m.\u001b[0m\u001b[0m_engine\u001b[0m\u001b[0;34m.\u001b[0m\u001b[0mget_loc\u001b[0m\u001b[0;34m(\u001b[0m\u001b[0mcasted_key\u001b[0m\u001b[0;34m)\u001b[0m\u001b[0;34m\u001b[0m\u001b[0;34m\u001b[0m\u001b[0m\n\u001b[1;32m   3803\u001b[0m             \u001b[0;32mexcept\u001b[0m \u001b[0mKeyError\u001b[0m \u001b[0;32mas\u001b[0m \u001b[0merr\u001b[0m\u001b[0;34m:\u001b[0m\u001b[0;34m\u001b[0m\u001b[0;34m\u001b[0m\u001b[0m\n\u001b[0;32m-> 3804\u001b[0;31m                 \u001b[0;32mraise\u001b[0m \u001b[0mKeyError\u001b[0m\u001b[0;34m(\u001b[0m\u001b[0mkey\u001b[0m\u001b[0;34m)\u001b[0m \u001b[0;32mfrom\u001b[0m \u001b[0merr\u001b[0m\u001b[0;34m\u001b[0m\u001b[0;34m\u001b[0m\u001b[0m\n\u001b[0m\u001b[1;32m   3805\u001b[0m             \u001b[0;32mexcept\u001b[0m \u001b[0mTypeError\u001b[0m\u001b[0;34m:\u001b[0m\u001b[0;34m\u001b[0m\u001b[0;34m\u001b[0m\u001b[0m\n\u001b[1;32m   3806\u001b[0m                 \u001b[0;31m# If we have a listlike key, _check_indexing_error will raise\u001b[0m\u001b[0;34m\u001b[0m\u001b[0;34m\u001b[0m\u001b[0m\n",
            "\u001b[0;31mKeyError\u001b[0m: 'origin'"
          ]
        }
      ],
      "source": [
        "import pandas as pd\n",
        "\n",
        "data = pd.read_csv(\"sample_data/salesFact.csv\", encoding=\"latin1\")\n",
        "\n",
        "display(data)\n",
        "print(f\"The shape of our data: {data.shape}\") # the number of rows and columns\n",
        "\n",
        "data['origin'].unique() # unique values within the column (American, Asian, European)\n",
        "data['origin'].value_counts() # gives the frequency for each unique value"
      ]
    },
    {
      "cell_type": "markdown",
      "metadata": {
        "id": "qSC9vaaZmNGP"
      },
      "source": [
        "## Preprocessing"
      ]
    },
    {
      "cell_type": "markdown",
      "metadata": {
        "id": "FUD38i-EmP0v"
      },
      "source": [
        "### Preprocessing: Choosing features"
      ]
    },
    {
      "cell_type": "code",
      "execution_count": null,
      "metadata": {
        "id": "1r4Opmq5mTf7",
        "colab": {
          "base_uri": "https://localhost:8080/",
          "height": 425
        },
        "outputId": "d800ec25-6750-4c80-b43f-28f35ff8091c"
      },
      "outputs": [
        {
          "output_type": "error",
          "ename": "KeyError",
          "evalue": "ignored",
          "traceback": [
            "\u001b[0;31m---------------------------------------------------------------------------\u001b[0m",
            "\u001b[0;31mKeyError\u001b[0m                                  Traceback (most recent call last)",
            "\u001b[0;32m<ipython-input-36-21e69f1abc8b>\u001b[0m in \u001b[0;36m<cell line: 3>\u001b[0;34m()\u001b[0m\n\u001b[1;32m      1\u001b[0m \u001b[0;31m# Exclude origin from dataframe\u001b[0m\u001b[0;34m\u001b[0m\u001b[0;34m\u001b[0m\u001b[0m\n\u001b[1;32m      2\u001b[0m \u001b[0;34m\u001b[0m\u001b[0m\n\u001b[0;32m----> 3\u001b[0;31m \u001b[0mX\u001b[0m \u001b[0;34m=\u001b[0m \u001b[0mdata\u001b[0m\u001b[0;34m.\u001b[0m\u001b[0mdrop\u001b[0m\u001b[0;34m(\u001b[0m\u001b[0mcolumns\u001b[0m \u001b[0;34m=\u001b[0m \u001b[0;34m[\u001b[0m\u001b[0;34m'origin'\u001b[0m\u001b[0;34m]\u001b[0m\u001b[0;34m,\u001b[0m \u001b[0maxis\u001b[0m \u001b[0;34m=\u001b[0m \u001b[0;36m1\u001b[0m\u001b[0;34m)\u001b[0m \u001b[0;31m# axis:1 for columns, axis:0 for indices\u001b[0m\u001b[0;34m\u001b[0m\u001b[0;34m\u001b[0m\u001b[0m\n\u001b[0m\u001b[1;32m      4\u001b[0m \u001b[0;34m\u001b[0m\u001b[0m\n\u001b[1;32m      5\u001b[0m \u001b[0mdisplay\u001b[0m\u001b[0;34m(\u001b[0m\u001b[0mX\u001b[0m\u001b[0;34m)\u001b[0m\u001b[0;34m\u001b[0m\u001b[0;34m\u001b[0m\u001b[0m\n",
            "\u001b[0;32m/usr/local/lib/python3.10/dist-packages/pandas/util/_decorators.py\u001b[0m in \u001b[0;36mwrapper\u001b[0;34m(*args, **kwargs)\u001b[0m\n\u001b[1;32m    329\u001b[0m                     \u001b[0mstacklevel\u001b[0m\u001b[0;34m=\u001b[0m\u001b[0mfind_stack_level\u001b[0m\u001b[0;34m(\u001b[0m\u001b[0;34m)\u001b[0m\u001b[0;34m,\u001b[0m\u001b[0;34m\u001b[0m\u001b[0;34m\u001b[0m\u001b[0m\n\u001b[1;32m    330\u001b[0m                 )\n\u001b[0;32m--> 331\u001b[0;31m             \u001b[0;32mreturn\u001b[0m \u001b[0mfunc\u001b[0m\u001b[0;34m(\u001b[0m\u001b[0;34m*\u001b[0m\u001b[0margs\u001b[0m\u001b[0;34m,\u001b[0m \u001b[0;34m**\u001b[0m\u001b[0mkwargs\u001b[0m\u001b[0;34m)\u001b[0m\u001b[0;34m\u001b[0m\u001b[0;34m\u001b[0m\u001b[0m\n\u001b[0m\u001b[1;32m    332\u001b[0m \u001b[0;34m\u001b[0m\u001b[0m\n\u001b[1;32m    333\u001b[0m         \u001b[0;31m# error: \"Callable[[VarArg(Any), KwArg(Any)], Any]\" has no\u001b[0m\u001b[0;34m\u001b[0m\u001b[0;34m\u001b[0m\u001b[0m\n",
            "\u001b[0;32m/usr/local/lib/python3.10/dist-packages/pandas/core/frame.py\u001b[0m in \u001b[0;36mdrop\u001b[0;34m(self, labels, axis, index, columns, level, inplace, errors)\u001b[0m\n\u001b[1;32m   5397\u001b[0m                 \u001b[0mweight\u001b[0m  \u001b[0;36m1.0\u001b[0m     \u001b[0;36m0.8\u001b[0m\u001b[0;34m\u001b[0m\u001b[0;34m\u001b[0m\u001b[0m\n\u001b[1;32m   5398\u001b[0m         \"\"\"\n\u001b[0;32m-> 5399\u001b[0;31m         return super().drop(\n\u001b[0m\u001b[1;32m   5400\u001b[0m             \u001b[0mlabels\u001b[0m\u001b[0;34m=\u001b[0m\u001b[0mlabels\u001b[0m\u001b[0;34m,\u001b[0m\u001b[0;34m\u001b[0m\u001b[0;34m\u001b[0m\u001b[0m\n\u001b[1;32m   5401\u001b[0m             \u001b[0maxis\u001b[0m\u001b[0;34m=\u001b[0m\u001b[0maxis\u001b[0m\u001b[0;34m,\u001b[0m\u001b[0;34m\u001b[0m\u001b[0;34m\u001b[0m\u001b[0m\n",
            "\u001b[0;32m/usr/local/lib/python3.10/dist-packages/pandas/util/_decorators.py\u001b[0m in \u001b[0;36mwrapper\u001b[0;34m(*args, **kwargs)\u001b[0m\n\u001b[1;32m    329\u001b[0m                     \u001b[0mstacklevel\u001b[0m\u001b[0;34m=\u001b[0m\u001b[0mfind_stack_level\u001b[0m\u001b[0;34m(\u001b[0m\u001b[0;34m)\u001b[0m\u001b[0;34m,\u001b[0m\u001b[0;34m\u001b[0m\u001b[0;34m\u001b[0m\u001b[0m\n\u001b[1;32m    330\u001b[0m                 )\n\u001b[0;32m--> 331\u001b[0;31m             \u001b[0;32mreturn\u001b[0m \u001b[0mfunc\u001b[0m\u001b[0;34m(\u001b[0m\u001b[0;34m*\u001b[0m\u001b[0margs\u001b[0m\u001b[0;34m,\u001b[0m \u001b[0;34m**\u001b[0m\u001b[0mkwargs\u001b[0m\u001b[0;34m)\u001b[0m\u001b[0;34m\u001b[0m\u001b[0;34m\u001b[0m\u001b[0m\n\u001b[0m\u001b[1;32m    332\u001b[0m \u001b[0;34m\u001b[0m\u001b[0m\n\u001b[1;32m    333\u001b[0m         \u001b[0;31m# error: \"Callable[[VarArg(Any), KwArg(Any)], Any]\" has no\u001b[0m\u001b[0;34m\u001b[0m\u001b[0;34m\u001b[0m\u001b[0m\n",
            "\u001b[0;32m/usr/local/lib/python3.10/dist-packages/pandas/core/generic.py\u001b[0m in \u001b[0;36mdrop\u001b[0;34m(self, labels, axis, index, columns, level, inplace, errors)\u001b[0m\n\u001b[1;32m   4503\u001b[0m         \u001b[0;32mfor\u001b[0m \u001b[0maxis\u001b[0m\u001b[0;34m,\u001b[0m \u001b[0mlabels\u001b[0m \u001b[0;32min\u001b[0m \u001b[0maxes\u001b[0m\u001b[0;34m.\u001b[0m\u001b[0mitems\u001b[0m\u001b[0;34m(\u001b[0m\u001b[0;34m)\u001b[0m\u001b[0;34m:\u001b[0m\u001b[0;34m\u001b[0m\u001b[0;34m\u001b[0m\u001b[0m\n\u001b[1;32m   4504\u001b[0m             \u001b[0;32mif\u001b[0m \u001b[0mlabels\u001b[0m \u001b[0;32mis\u001b[0m \u001b[0;32mnot\u001b[0m \u001b[0;32mNone\u001b[0m\u001b[0;34m:\u001b[0m\u001b[0;34m\u001b[0m\u001b[0;34m\u001b[0m\u001b[0m\n\u001b[0;32m-> 4505\u001b[0;31m                 \u001b[0mobj\u001b[0m \u001b[0;34m=\u001b[0m \u001b[0mobj\u001b[0m\u001b[0;34m.\u001b[0m\u001b[0m_drop_axis\u001b[0m\u001b[0;34m(\u001b[0m\u001b[0mlabels\u001b[0m\u001b[0;34m,\u001b[0m \u001b[0maxis\u001b[0m\u001b[0;34m,\u001b[0m \u001b[0mlevel\u001b[0m\u001b[0;34m=\u001b[0m\u001b[0mlevel\u001b[0m\u001b[0;34m,\u001b[0m \u001b[0merrors\u001b[0m\u001b[0;34m=\u001b[0m\u001b[0merrors\u001b[0m\u001b[0;34m)\u001b[0m\u001b[0;34m\u001b[0m\u001b[0;34m\u001b[0m\u001b[0m\n\u001b[0m\u001b[1;32m   4506\u001b[0m \u001b[0;34m\u001b[0m\u001b[0m\n\u001b[1;32m   4507\u001b[0m         \u001b[0;32mif\u001b[0m \u001b[0minplace\u001b[0m\u001b[0;34m:\u001b[0m\u001b[0;34m\u001b[0m\u001b[0;34m\u001b[0m\u001b[0m\n",
            "\u001b[0;32m/usr/local/lib/python3.10/dist-packages/pandas/core/generic.py\u001b[0m in \u001b[0;36m_drop_axis\u001b[0;34m(self, labels, axis, level, errors, only_slice)\u001b[0m\n\u001b[1;32m   4544\u001b[0m                 \u001b[0mnew_axis\u001b[0m \u001b[0;34m=\u001b[0m \u001b[0maxis\u001b[0m\u001b[0;34m.\u001b[0m\u001b[0mdrop\u001b[0m\u001b[0;34m(\u001b[0m\u001b[0mlabels\u001b[0m\u001b[0;34m,\u001b[0m \u001b[0mlevel\u001b[0m\u001b[0;34m=\u001b[0m\u001b[0mlevel\u001b[0m\u001b[0;34m,\u001b[0m \u001b[0merrors\u001b[0m\u001b[0;34m=\u001b[0m\u001b[0merrors\u001b[0m\u001b[0;34m)\u001b[0m\u001b[0;34m\u001b[0m\u001b[0;34m\u001b[0m\u001b[0m\n\u001b[1;32m   4545\u001b[0m             \u001b[0;32melse\u001b[0m\u001b[0;34m:\u001b[0m\u001b[0;34m\u001b[0m\u001b[0;34m\u001b[0m\u001b[0m\n\u001b[0;32m-> 4546\u001b[0;31m                 \u001b[0mnew_axis\u001b[0m \u001b[0;34m=\u001b[0m \u001b[0maxis\u001b[0m\u001b[0;34m.\u001b[0m\u001b[0mdrop\u001b[0m\u001b[0;34m(\u001b[0m\u001b[0mlabels\u001b[0m\u001b[0;34m,\u001b[0m \u001b[0merrors\u001b[0m\u001b[0;34m=\u001b[0m\u001b[0merrors\u001b[0m\u001b[0;34m)\u001b[0m\u001b[0;34m\u001b[0m\u001b[0;34m\u001b[0m\u001b[0m\n\u001b[0m\u001b[1;32m   4547\u001b[0m             \u001b[0mindexer\u001b[0m \u001b[0;34m=\u001b[0m \u001b[0maxis\u001b[0m\u001b[0;34m.\u001b[0m\u001b[0mget_indexer\u001b[0m\u001b[0;34m(\u001b[0m\u001b[0mnew_axis\u001b[0m\u001b[0;34m)\u001b[0m\u001b[0;34m\u001b[0m\u001b[0;34m\u001b[0m\u001b[0m\n\u001b[1;32m   4548\u001b[0m \u001b[0;34m\u001b[0m\u001b[0m\n",
            "\u001b[0;32m/usr/local/lib/python3.10/dist-packages/pandas/core/indexes/base.py\u001b[0m in \u001b[0;36mdrop\u001b[0;34m(self, labels, errors)\u001b[0m\n\u001b[1;32m   6932\u001b[0m         \u001b[0;32mif\u001b[0m \u001b[0mmask\u001b[0m\u001b[0;34m.\u001b[0m\u001b[0many\u001b[0m\u001b[0;34m(\u001b[0m\u001b[0;34m)\u001b[0m\u001b[0;34m:\u001b[0m\u001b[0;34m\u001b[0m\u001b[0;34m\u001b[0m\u001b[0m\n\u001b[1;32m   6933\u001b[0m             \u001b[0;32mif\u001b[0m \u001b[0merrors\u001b[0m \u001b[0;34m!=\u001b[0m \u001b[0;34m\"ignore\"\u001b[0m\u001b[0;34m:\u001b[0m\u001b[0;34m\u001b[0m\u001b[0;34m\u001b[0m\u001b[0m\n\u001b[0;32m-> 6934\u001b[0;31m                 \u001b[0;32mraise\u001b[0m \u001b[0mKeyError\u001b[0m\u001b[0;34m(\u001b[0m\u001b[0;34mf\"{list(labels[mask])} not found in axis\"\u001b[0m\u001b[0;34m)\u001b[0m\u001b[0;34m\u001b[0m\u001b[0;34m\u001b[0m\u001b[0m\n\u001b[0m\u001b[1;32m   6935\u001b[0m             \u001b[0mindexer\u001b[0m \u001b[0;34m=\u001b[0m \u001b[0mindexer\u001b[0m\u001b[0;34m[\u001b[0m\u001b[0;34m~\u001b[0m\u001b[0mmask\u001b[0m\u001b[0;34m]\u001b[0m\u001b[0;34m\u001b[0m\u001b[0;34m\u001b[0m\u001b[0m\n\u001b[1;32m   6936\u001b[0m         \u001b[0;32mreturn\u001b[0m \u001b[0mself\u001b[0m\u001b[0;34m.\u001b[0m\u001b[0mdelete\u001b[0m\u001b[0;34m(\u001b[0m\u001b[0mindexer\u001b[0m\u001b[0;34m)\u001b[0m\u001b[0;34m\u001b[0m\u001b[0;34m\u001b[0m\u001b[0m\n",
            "\u001b[0;31mKeyError\u001b[0m: \"['origin'] not found in axis\""
          ]
        }
      ],
      "source": [
        "# Exclude origin from dataframe\n",
        "\n",
        "X = data.drop(columns = ['origin'], axis = 1) # axis:1 for columns, axis:0 for indices\n",
        "\n",
        "display(X)"
      ]
    },
    {
      "cell_type": "markdown",
      "metadata": {
        "id": "dpDbq6xbmniu"
      },
      "source": [
        "###Preprocessing: Data Encoding (not used in the cluster analysis)"
      ]
    },
    {
      "cell_type": "code",
      "execution_count": null,
      "metadata": {
        "id": "yeq9_ZojmrFG"
      },
      "outputs": [],
      "source": [
        "# although we are not including the origin column in our analysis, we may want to.\n",
        "# origin is a categorical variable, so we need to encode this column if we want to include it in the cluster analysis.\n",
        "\n",
        "# find all rows which origin value is equal to 'American', take only origin column of that row and assign 1 in place of it\n",
        "data.loc[data.yearly_income == 'American', 'origin'] = 1\n",
        "\n",
        "# find all rows where the origin value is equal to 'Asian' and assign the value 2 in place of it\n",
        "data.loc[data.yearly_income == 'Asian', 'origin'] = 2\n",
        "\n",
        "# find all rows where the origin value is equal to 'European' and assign the value 3 in place of it\n",
        "data.loc[data.yearly_income == 'European', 'origin'] = 3\n",
        "\n"
      ]
    },
    {
      "cell_type": "markdown",
      "metadata": {
        "id": "fNF-YgOYnuS3"
      },
      "source": [
        "### Preprocessing: Standard Scaling"
      ]
    },
    {
      "cell_type": "code",
      "execution_count": null,
      "metadata": {
        "id": "fb8CsX5WnxmX"
      },
      "outputs": [],
      "source": [
        "from sklearn.preprocessing import StandardScaler\n",
        "\n",
        "# StandardScaler is used for normalization\n",
        "X.scaled = StandardScaler().fit_transform(X.values)\n",
        "\n",
        "# by scaling the data values, we can get rid of huge differences between values accross columns\n"
      ]
    },
    {
      "cell_type": "markdown",
      "metadata": {
        "id": "WcMGyhwpoGrg"
      },
      "source": [
        "## K-Means"
      ]
    },
    {
      "cell_type": "markdown",
      "metadata": {
        "id": "nuoQ0eq7oI31"
      },
      "source": [
        "### K-Means: Compute"
      ]
    },
    {
      "cell_type": "code",
      "execution_count": null,
      "metadata": {
        "id": "uSwt5P6voK23"
      },
      "outputs": [],
      "source": [
        "!pip install scikit-learn-extra\n",
        "\n",
        "import pandas as pd\n",
        "from sklearn_extra.cluster import KMedoids\n",
        "from sklearn.metrics import silhouette_score\n",
        "import matplotlib.pyplot as plt\n",
        "\n",
        "# Adjust the file path if needed\n",
        "# Assuming you're clustering based on the same features as before\n",
        "features = data[['TotalDrinkSales', 'TotalFoodSales', 'TotalNonConSales']]\n",
        "max_clusters = 10  # You can adjust this based on your dataset\n",
        "silhouette_scores = []\n",
        "\n",
        "for n_clusters in range(2, max_clusters + 1):\n",
        "    kmedoids = KMedoids(n_clusters=n_clusters, random_state=42)\n",
        "    cluster_labels = kmedoids.fit_predict(features)\n",
        "    silhouette_avg = silhouette_score(features, cluster_labels)\n",
        "    silhouette_scores.append(silhouette_avg)\n",
        "\n",
        "# Plotting the silhouette scores\n",
        "plt.figure(figsize=(10, 6))\n",
        "plt.plot(range(2, max_clusters + 1), silhouette_scores, marker='o')\n",
        "plt.title('Silhouette Scores for Different Numbers of Clusters')\n",
        "plt.xlabel('Number of clusters')\n",
        "plt.ylabel('Silhouette score')\n",
        "plt.show()\n",
        "optimal_clusters = 4  # Replace with the number you found optimal\n",
        "kmedoids = KMedoids(n_clusters=optimal_clusters, random_state=42)\n",
        "data['Cluster'] = kmedoids.fit_predict(features)\n",
        "\n",
        "# Add your profiling code here\n",
        "\n"
      ]
    },
    {
      "cell_type": "markdown",
      "metadata": {
        "id": "RILVMuPgpUhk"
      },
      "source": [
        "### K-Means: Results"
      ]
    },
    {
      "cell_type": "code",
      "execution_count": null,
      "metadata": {
        "id": "ZFMNjd7qpWTA"
      },
      "outputs": [],
      "source": [
        "display(pd.crosstab(data['origin'], data['label'], rownames=['origin'], colnames=['label']))\n",
        "\n",
        "# let's create a dataframe with columns labels to display the cluster means more conveniently\n",
        "clusterCenters = pd.DataFrame(data = model.cluster_centers_, columns=X.columns)\n",
        "display(clusterCenters)\n",
        "\n",
        "# boxplot of different variables for each cluster\n",
        "data.boxplot(column=['mpg', 'weight'], by=['label'])\n",
        "\n",
        "# scatter plot\n",
        "\n",
        "data.plot.scatter(x='mpg', y='label')\n",
        "data.plot.scatter(x='weight', y='label')\n",
        "data.plot.scatter(x='horsepower', y='label')\n",
        "data.plot.scatter(x='acceleration', y='label')\n",
        "data.plot.scatter(x='displacement', y='label')\n",
        "data.plot.scatter(x='cylinders', y='label')\n",
        "data.plot.scatter(x='modelyear', y='label')"
      ]
    },
    {
      "cell_type": "markdown",
      "metadata": {
        "id": "7TfVxCtLrUFg"
      },
      "source": [
        "### K-Means: Choosing a cluster number by Elbow Method"
      ]
    },
    {
      "cell_type": "code",
      "execution_count": null,
      "metadata": {
        "id": "xAthgoMsraSU"
      },
      "outputs": [],
      "source": [
        "from sklearn.cluster import KMeans\n",
        "from sklearn.preprocessing import StandardScaler\n",
        "from yellowbrick.cluster import KElbowVisualizer\n",
        "from sklearn.datasets import make_blobs\n",
        "\n",
        "# Generate sample data\n",
        "X, _ = make_blobs(n_samples=300, centers=4, random_state=42)\n",
        "\n",
        "# Standardize the features (you might have a different preprocessing step)\n",
        "scaler = StandardScaler()\n",
        "X_scaled = scaler.fit_transform(X)\n",
        "\n",
        "# Initiate a scikit-learn K-Means model\n",
        "model = KMeans()\n",
        "\n",
        "# Initiate the KElbowVisualizer with the number of clusters\n",
        "visualizer = KElbowVisualizer(model, k=(1, 10))\n",
        "\n",
        "# Fit the data and visualize\n",
        "visualizer.fit(X_scaled)\n",
        "visualizer.show()\n"
      ]
    },
    {
      "cell_type": "markdown",
      "metadata": {
        "id": "4jO_7GyNu1MF"
      },
      "source": [
        "## K-Medoids"
      ]
    },
    {
      "cell_type": "markdown",
      "metadata": {
        "id": "3YQqNlILu5zo"
      },
      "source": [
        "### K-Medoids: Install & Import Libraries"
      ]
    },
    {
      "cell_type": "code",
      "execution_count": null,
      "metadata": {
        "id": "wzR2BThzu-dZ"
      },
      "outputs": [],
      "source": [
        "!pip install scikit-learn-extra\n",
        "\n",
        "from sklearn_extra.cluster import KMedoids"
      ]
    },
    {
      "cell_type": "markdown",
      "metadata": {
        "id": "pC2ra8NCvR_t"
      },
      "source": [
        "### K-Medoids: Compute"
      ]
    },
    {
      "cell_type": "code",
      "execution_count": null,
      "metadata": {
        "id": "X1OBVfMcvUlw"
      },
      "outputs": [],
      "source": [
        "from sklearn_extra.cluster import KMedoids\n",
        "import pandas as pd\n",
        "from sklearn.preprocessing import StandardScaler\n",
        "\n",
        "# Assuming you have your data in a DataFrame named 'data'\n",
        "# You might need to replace 'customer_id' with the actual identifier column in your dataset\n",
        "\n",
        "# Assuming X_scaled is a subset of your data (features to be used for clustering)\n",
        "# Replace this with your actual features\n",
        "features = [\n",
        "    'TotalDrinkUnitSales', 'TotalDrinkSales',\n",
        "    'TotalFoodUnitSales', 'TotalFoodSales',\n",
        "    'TotalNonConUnitSales', 'TotalNonConSales'\n",
        "]\n",
        "\n",
        "X_scaled = data[features].values\n",
        "\n",
        "# Standardize the features\n",
        "scaler = StandardScaler()\n",
        "X_scaled = scaler.fit_transform(X_scaled)\n",
        "\n",
        "# Create the model with 3 clusters\n",
        "model = KMedoids(n_clusters=3)\n",
        "\n",
        "# Train the model\n",
        "model.fit(X_scaled)\n",
        "\n",
        "# Print the cluster centers (medoids, real data points)\n",
        "print(\"Cluster Centers (Medoids):\")\n",
        "print(model.cluster_centers_)\n",
        "\n",
        "# Print the assigned cluster ids for each data point\n",
        "print(\"Assigned Cluster IDs:\")\n",
        "print(model.labels_)\n",
        "\n",
        "# Create a new attribute in the original data\n",
        "data['label_KMedoids'] = model.labels_\n",
        "\n",
        "# Generate a cross-tab to compare the attributes\n",
        "cross_tab = pd.crosstab(data['customer_id'], data['label_KMedoids'], rownames=['customer_id'], colnames=['label_KMedoids'])\n",
        "print(\"Cross Tab:\")\n",
        "print(cross_tab)\n"
      ]
    },
    {
      "cell_type": "code",
      "execution_count": null,
      "metadata": {
        "id": "5onOkRHewNJ7"
      },
      "outputs": [],
      "source": [
        "# Create the model using PAM\n",
        "# PAM would give more accurate results for the datasets, but it is slower than the default\n",
        "model = KMedoids(n_clusters=3, method='pam')\n",
        "\n",
        "# Train the model\n",
        "model.fit(X_scaled)\n",
        "\n",
        "# Print the cluster centers\n",
        "print(model.cluster_centers_)\n",
        "\n",
        "# Print the assigned cluster ids for each data point\n",
        "print(model.labels_)\n",
        "\n",
        "# Create a new attribute in the original data\n",
        "data['label_KMedoids_pam'] = model.labels_\n",
        "\n",
        "# Generate a crosstab to compare the attributes\n",
        "pd.crosstab(data['origin'], data['label_KMedoids_pam'], rownames=['origin'], colnames=['label_KMedoids_pam'])\n"
      ]
    },
    {
      "cell_type": "markdown",
      "metadata": {
        "id": "yxi34umr1W7F"
      },
      "source": [
        "##Hierarchical Clustering"
      ]
    },
    {
      "cell_type": "markdown",
      "metadata": {
        "id": "WcsgZl8hw_qd"
      },
      "source": [
        "### Hierarchical Clustering: Dendrogram"
      ]
    },
    {
      "cell_type": "code",
      "execution_count": null,
      "metadata": {
        "id": "_Y0C9l1KxDl0"
      },
      "outputs": [],
      "source": [
        "import scipy.cluster.hierarchy as shc\n",
        "import matplotlib.pyplot as plt\n",
        "\n",
        "# adjust the size of the plot, define width=30 and height=20\n",
        "plt.figure(figsize=(30,20))\n",
        "\n",
        "# Create the dendrogram - it will be drawn to the output automatically\n",
        "dend = shc.dendrogram(shc.linkage(X_scaled, method=\"complete\"))"
      ]
    },
    {
      "cell_type": "markdown",
      "metadata": {
        "id": "ml5GV-jjx8mm"
      },
      "source": [
        "### Hierarchical Clustering: Compute"
      ]
    },
    {
      "cell_type": "code",
      "execution_count": null,
      "metadata": {
        "id": "n2-BtqR5yB8T"
      },
      "outputs": [],
      "source": [
        "from sklearn.cluster import AgglomerativeClustering\n",
        "\n",
        "# Create the model with 4 clusters and \"complete\" as the linkage method\n",
        "model = AgglomerativeClustering(n_clusters=4, linkage=\"complete\")\n",
        "\n",
        "# Fit the model\n",
        "model.fit(X_scaled)\n",
        "\n",
        "# Assign computed clusters for each data point to a new attribute in the original data\n",
        "data['label_hier4'] = model.labels_"
      ]
    },
    {
      "cell_type": "code",
      "execution_count": null,
      "metadata": {
        "id": "mDKnc_FDybAR"
      },
      "outputs": [],
      "source": [
        "# Create the model with 5 clusters and \"complete\" as the linkage method\n",
        "model = AgglomerativeClustering(n_clusters=5, linkage=\"complete\")\n",
        "\n",
        "# Fit the model\n",
        "model.fit(X_scaled)\n",
        "\n",
        "# Assign computed clusters for each data point to a new attribute in the original data\n",
        "data['label_hier5'] = model.labels_\n",
        "\n",
        "display(data.columns)\n",
        "\n",
        "# Display hierarchical clustering results of 4-cluster & 5-cluster\n",
        "display(data[['label_hier4', 'label_hier5']])\n",
        "\n",
        "# Compare hierarchical clustering results of 4-cluster - 5-cluster\n",
        "pd.crosstab(data['label_hier4'], data['label_hier5'], rownames=['label_hier4'], colnames=['label_hier5'])"
      ]
    },
    {
      "cell_type": "markdown",
      "metadata": {
        "id": "VwARMI2azXZQ"
      },
      "source": [
        "## DBSCAN: Density-based Clustering"
      ]
    },
    {
      "cell_type": "code",
      "execution_count": null,
      "metadata": {
        "id": "2eAZ8GqLzbR9"
      },
      "outputs": [],
      "source": [
        "from sklearn.cluster import DBSCAN\n",
        "\n",
        "# Create the model with 0.5 eps (epsilon neighbourhood - radius) and 5 minimum samples\n",
        "# min_samples is the number of samples in a neighbourhood to be considered a core point\n",
        "model = DBSCAN(eps=0.5, min_samples=5)\n",
        "\n",
        "# Fit the model\n",
        "model.fit(X_scaled)\n",
        "\n",
        "# Assign computed clusters for each data point to a new attribute in the original data\n",
        "data['label_dbscan1'] = model.labels_\n",
        "\n",
        "print(data['label_dbscan1'].value_counts())\n",
        "\n",
        "data['label_dbscan1']"
      ]
    },
    {
      "cell_type": "markdown",
      "metadata": {
        "id": "zPKuLiTukwfZ"
      },
      "source": []
    },
    {
      "cell_type": "code",
      "execution_count": null,
      "metadata": {
        "id": "2V7q8ZtZ0DgG"
      },
      "outputs": [],
      "source": [
        "# increase eps while keeping min_sample the same\n",
        "model = DBSCAN(eps=1, min_samples=5)\n",
        "\n",
        "# Fit the model\n",
        "model.fit(X_scaled)\n",
        "\n",
        "# Assign computed clusters for each data point to a new attribute in the original data\n",
        "data['label_dbscan2'] = model.labels_\n",
        "\n",
        "print(data['label_dbscan2'].value_counts())\n",
        "data['label_dbscan2']"
      ]
    },
    {
      "cell_type": "code",
      "execution_count": null,
      "metadata": {
        "id": "dYqhmdNU0xc7"
      },
      "outputs": [],
      "source": [
        "# keep the eps=0.5, increase min_sample\n",
        "model = DBSCAN(eps=0.5, min_samples=7)\n",
        "\n",
        "# Fit the model\n",
        "model.fit(X_scaled)\n",
        "\n",
        "# Assign computed clusters for each data point to a new attribute in the original data\n",
        "data['label_dbscan3'] = model.labels_\n",
        "\n",
        "print(data['label_dbscan3'].value_counts())\n",
        "data['label_dbscan3']"
      ]
    },
    {
      "cell_type": "code",
      "execution_count": null,
      "metadata": {
        "id": "J8UzHyALOqXD"
      },
      "outputs": [],
      "source": [
        "from mlxtend.preprocessing import TransactionEncoder\n",
        "from mlxtend.frequent_patterns import apriori, association_rules\n",
        "import pandas as pd\n",
        "\n",
        "transactions = [\n",
        "    ['K', 'A', 'D', 'B'],\n",
        "    ['C', 'A', 'D', 'B', 'E'],\n",
        "    ['C', 'A', 'B', 'E'],\n",
        "    ['A', 'D', 'B']\n",
        "]\n",
        "\n",
        "encoder = TransactionEncoder()\n",
        "one_hot = encoder.fit(transactions).transform(transactions)\n",
        "df = pd.DataFrame(one_hot, columns=encoder.columns_)\n",
        "\n",
        "min_support = 0.60\n",
        "min_confidence = 0.80\n",
        "\n",
        "frequent_itemsets = apriori(df, min_support=min_support, use_colnames=True)\n",
        "\n",
        "rules = association_rules(frequent_itemsets, metric=\"confidence\", min_threshold=min_confidence)\n",
        "\n",
        "print(\"Frequent Itemsets with min_support =\", min_support)\n",
        "print(frequent_itemsets)\n",
        "print(\"\\nStrong Rules with min_confidence =\", min_confidence)\n",
        "print(rules[['antecedents', 'consequents', 'support', 'confidence']])\n",
        "\n",
        "experiment_supports = [0.50, 0.70]\n",
        "experiment_confidences = [0.70, 0.90]\n",
        "\n",
        "for support in experiment_supports:\n",
        "    for confidence in experiment_confidences:\n",
        "        frequent_itemsets = apriori(df, min_support=support, use_colnames=True)\n",
        "\n",
        "        rules = association_rules(frequent_itemsets, metric=\"confidence\", min_threshold=confidence)\n",
        "\n",
        "        print(\"\\n--- Experiment: min_support =\", support, \"min_confidence =\", confidence, \"---\")\n",
        "        print(\"Frequent Itemsets:\")\n",
        "        print(frequent_itemsets)\n",
        "        print(\"Strong Rules:\")\n",
        "        print(rules[['antecedents', 'consequents', 'support', 'confidence']])\n"
      ]
    },
    {
      "cell_type": "markdown",
      "metadata": {
        "id": "E5RY2usxgVa3"
      },
      "source": [
        "# Lab 5 | Frequent Pattern Mining"
      ]
    },
    {
      "cell_type": "markdown",
      "metadata": {
        "id": "BFiBaLSngat_"
      },
      "source": [
        "## Install & Import Libraries"
      ]
    },
    {
      "cell_type": "code",
      "execution_count": null,
      "metadata": {
        "id": "2ffmITmDgfux",
        "colab": {
          "base_uri": "https://localhost:8080/",
          "height": 419
        },
        "outputId": "e818fcb4-b783-46e1-bf05-19530648e2f4"
      },
      "outputs": [
        {
          "output_type": "error",
          "ename": "FileNotFoundError",
          "evalue": "ignored",
          "traceback": [
            "\u001b[0;31m---------------------------------------------------------------------------\u001b[0m",
            "\u001b[0;31mFileNotFoundError\u001b[0m                         Traceback (most recent call last)",
            "\u001b[0;32m<ipython-input-4-6ad35075066b>\u001b[0m in \u001b[0;36m<cell line: 7>\u001b[0;34m()\u001b[0m\n\u001b[1;32m      5\u001b[0m \u001b[0;32mfrom\u001b[0m \u001b[0msklearn\u001b[0m\u001b[0;34m.\u001b[0m\u001b[0mpreprocessing\u001b[0m \u001b[0;32mimport\u001b[0m \u001b[0mStandardScaler\u001b[0m\u001b[0;34m\u001b[0m\u001b[0;34m\u001b[0m\u001b[0m\n\u001b[1;32m      6\u001b[0m \u001b[0;34m\u001b[0m\u001b[0m\n\u001b[0;32m----> 7\u001b[0;31m \u001b[0mdata\u001b[0m \u001b[0;34m=\u001b[0m \u001b[0mpd\u001b[0m\u001b[0;34m.\u001b[0m\u001b[0mread_csv\u001b[0m\u001b[0;34m(\u001b[0m\u001b[0;34m'salesFact 1.csv'\u001b[0m\u001b[0;34m)\u001b[0m\u001b[0;34m\u001b[0m\u001b[0;34m\u001b[0m\u001b[0m\n\u001b[0m\u001b[1;32m      8\u001b[0m \u001b[0;34m\u001b[0m\u001b[0m\n\u001b[1;32m      9\u001b[0m \u001b[0mcontinuous_vars\u001b[0m \u001b[0;34m=\u001b[0m \u001b[0mdata\u001b[0m\u001b[0;34m[\u001b[0m\u001b[0;34m[\u001b[0m\u001b[0;34m'TotalDrinkUnitSales'\u001b[0m\u001b[0;34m,\u001b[0m \u001b[0;34m'TotalDrinkSales'\u001b[0m\u001b[0;34m,\u001b[0m \u001b[0;34m'TotalFoodSales'\u001b[0m\u001b[0;34m,\u001b[0m \u001b[0;34m'TotalFoodUnitSales'\u001b[0m\u001b[0;34m,\u001b[0m \u001b[0;34m'TotalNonConUnitSales'\u001b[0m\u001b[0;34m,\u001b[0m \u001b[0;34m'TotalNonConSales'\u001b[0m\u001b[0;34m]\u001b[0m\u001b[0;34m]\u001b[0m\u001b[0;34m\u001b[0m\u001b[0;34m\u001b[0m\u001b[0m\n",
            "\u001b[0;32m/usr/local/lib/python3.10/dist-packages/pandas/util/_decorators.py\u001b[0m in \u001b[0;36mwrapper\u001b[0;34m(*args, **kwargs)\u001b[0m\n\u001b[1;32m    209\u001b[0m                 \u001b[0;32melse\u001b[0m\u001b[0;34m:\u001b[0m\u001b[0;34m\u001b[0m\u001b[0;34m\u001b[0m\u001b[0m\n\u001b[1;32m    210\u001b[0m                     \u001b[0mkwargs\u001b[0m\u001b[0;34m[\u001b[0m\u001b[0mnew_arg_name\u001b[0m\u001b[0;34m]\u001b[0m \u001b[0;34m=\u001b[0m \u001b[0mnew_arg_value\u001b[0m\u001b[0;34m\u001b[0m\u001b[0;34m\u001b[0m\u001b[0m\n\u001b[0;32m--> 211\u001b[0;31m             \u001b[0;32mreturn\u001b[0m \u001b[0mfunc\u001b[0m\u001b[0;34m(\u001b[0m\u001b[0;34m*\u001b[0m\u001b[0margs\u001b[0m\u001b[0;34m,\u001b[0m \u001b[0;34m**\u001b[0m\u001b[0mkwargs\u001b[0m\u001b[0;34m)\u001b[0m\u001b[0;34m\u001b[0m\u001b[0;34m\u001b[0m\u001b[0m\n\u001b[0m\u001b[1;32m    212\u001b[0m \u001b[0;34m\u001b[0m\u001b[0m\n\u001b[1;32m    213\u001b[0m         \u001b[0;32mreturn\u001b[0m \u001b[0mcast\u001b[0m\u001b[0;34m(\u001b[0m\u001b[0mF\u001b[0m\u001b[0;34m,\u001b[0m \u001b[0mwrapper\u001b[0m\u001b[0;34m)\u001b[0m\u001b[0;34m\u001b[0m\u001b[0;34m\u001b[0m\u001b[0m\n",
            "\u001b[0;32m/usr/local/lib/python3.10/dist-packages/pandas/util/_decorators.py\u001b[0m in \u001b[0;36mwrapper\u001b[0;34m(*args, **kwargs)\u001b[0m\n\u001b[1;32m    329\u001b[0m                     \u001b[0mstacklevel\u001b[0m\u001b[0;34m=\u001b[0m\u001b[0mfind_stack_level\u001b[0m\u001b[0;34m(\u001b[0m\u001b[0;34m)\u001b[0m\u001b[0;34m,\u001b[0m\u001b[0;34m\u001b[0m\u001b[0;34m\u001b[0m\u001b[0m\n\u001b[1;32m    330\u001b[0m                 )\n\u001b[0;32m--> 331\u001b[0;31m             \u001b[0;32mreturn\u001b[0m \u001b[0mfunc\u001b[0m\u001b[0;34m(\u001b[0m\u001b[0;34m*\u001b[0m\u001b[0margs\u001b[0m\u001b[0;34m,\u001b[0m \u001b[0;34m**\u001b[0m\u001b[0mkwargs\u001b[0m\u001b[0;34m)\u001b[0m\u001b[0;34m\u001b[0m\u001b[0;34m\u001b[0m\u001b[0m\n\u001b[0m\u001b[1;32m    332\u001b[0m \u001b[0;34m\u001b[0m\u001b[0m\n\u001b[1;32m    333\u001b[0m         \u001b[0;31m# error: \"Callable[[VarArg(Any), KwArg(Any)], Any]\" has no\u001b[0m\u001b[0;34m\u001b[0m\u001b[0;34m\u001b[0m\u001b[0m\n",
            "\u001b[0;32m/usr/local/lib/python3.10/dist-packages/pandas/io/parsers/readers.py\u001b[0m in \u001b[0;36mread_csv\u001b[0;34m(filepath_or_buffer, sep, delimiter, header, names, index_col, usecols, squeeze, prefix, mangle_dupe_cols, dtype, engine, converters, true_values, false_values, skipinitialspace, skiprows, skipfooter, nrows, na_values, keep_default_na, na_filter, verbose, skip_blank_lines, parse_dates, infer_datetime_format, keep_date_col, date_parser, dayfirst, cache_dates, iterator, chunksize, compression, thousands, decimal, lineterminator, quotechar, quoting, doublequote, escapechar, comment, encoding, encoding_errors, dialect, error_bad_lines, warn_bad_lines, on_bad_lines, delim_whitespace, low_memory, memory_map, float_precision, storage_options)\u001b[0m\n\u001b[1;32m    948\u001b[0m     \u001b[0mkwds\u001b[0m\u001b[0;34m.\u001b[0m\u001b[0mupdate\u001b[0m\u001b[0;34m(\u001b[0m\u001b[0mkwds_defaults\u001b[0m\u001b[0;34m)\u001b[0m\u001b[0;34m\u001b[0m\u001b[0;34m\u001b[0m\u001b[0m\n\u001b[1;32m    949\u001b[0m \u001b[0;34m\u001b[0m\u001b[0m\n\u001b[0;32m--> 950\u001b[0;31m     \u001b[0;32mreturn\u001b[0m \u001b[0m_read\u001b[0m\u001b[0;34m(\u001b[0m\u001b[0mfilepath_or_buffer\u001b[0m\u001b[0;34m,\u001b[0m \u001b[0mkwds\u001b[0m\u001b[0;34m)\u001b[0m\u001b[0;34m\u001b[0m\u001b[0;34m\u001b[0m\u001b[0m\n\u001b[0m\u001b[1;32m    951\u001b[0m \u001b[0;34m\u001b[0m\u001b[0m\n\u001b[1;32m    952\u001b[0m \u001b[0;34m\u001b[0m\u001b[0m\n",
            "\u001b[0;32m/usr/local/lib/python3.10/dist-packages/pandas/io/parsers/readers.py\u001b[0m in \u001b[0;36m_read\u001b[0;34m(filepath_or_buffer, kwds)\u001b[0m\n\u001b[1;32m    603\u001b[0m \u001b[0;34m\u001b[0m\u001b[0m\n\u001b[1;32m    604\u001b[0m     \u001b[0;31m# Create the parser.\u001b[0m\u001b[0;34m\u001b[0m\u001b[0;34m\u001b[0m\u001b[0m\n\u001b[0;32m--> 605\u001b[0;31m     \u001b[0mparser\u001b[0m \u001b[0;34m=\u001b[0m \u001b[0mTextFileReader\u001b[0m\u001b[0;34m(\u001b[0m\u001b[0mfilepath_or_buffer\u001b[0m\u001b[0;34m,\u001b[0m \u001b[0;34m**\u001b[0m\u001b[0mkwds\u001b[0m\u001b[0;34m)\u001b[0m\u001b[0;34m\u001b[0m\u001b[0;34m\u001b[0m\u001b[0m\n\u001b[0m\u001b[1;32m    606\u001b[0m \u001b[0;34m\u001b[0m\u001b[0m\n\u001b[1;32m    607\u001b[0m     \u001b[0;32mif\u001b[0m \u001b[0mchunksize\u001b[0m \u001b[0;32mor\u001b[0m \u001b[0miterator\u001b[0m\u001b[0;34m:\u001b[0m\u001b[0;34m\u001b[0m\u001b[0;34m\u001b[0m\u001b[0m\n",
            "\u001b[0;32m/usr/local/lib/python3.10/dist-packages/pandas/io/parsers/readers.py\u001b[0m in \u001b[0;36m__init__\u001b[0;34m(self, f, engine, **kwds)\u001b[0m\n\u001b[1;32m   1440\u001b[0m \u001b[0;34m\u001b[0m\u001b[0m\n\u001b[1;32m   1441\u001b[0m         \u001b[0mself\u001b[0m\u001b[0;34m.\u001b[0m\u001b[0mhandles\u001b[0m\u001b[0;34m:\u001b[0m \u001b[0mIOHandles\u001b[0m \u001b[0;34m|\u001b[0m \u001b[0;32mNone\u001b[0m \u001b[0;34m=\u001b[0m \u001b[0;32mNone\u001b[0m\u001b[0;34m\u001b[0m\u001b[0;34m\u001b[0m\u001b[0m\n\u001b[0;32m-> 1442\u001b[0;31m         \u001b[0mself\u001b[0m\u001b[0;34m.\u001b[0m\u001b[0m_engine\u001b[0m \u001b[0;34m=\u001b[0m \u001b[0mself\u001b[0m\u001b[0;34m.\u001b[0m\u001b[0m_make_engine\u001b[0m\u001b[0;34m(\u001b[0m\u001b[0mf\u001b[0m\u001b[0;34m,\u001b[0m \u001b[0mself\u001b[0m\u001b[0;34m.\u001b[0m\u001b[0mengine\u001b[0m\u001b[0;34m)\u001b[0m\u001b[0;34m\u001b[0m\u001b[0;34m\u001b[0m\u001b[0m\n\u001b[0m\u001b[1;32m   1443\u001b[0m \u001b[0;34m\u001b[0m\u001b[0m\n\u001b[1;32m   1444\u001b[0m     \u001b[0;32mdef\u001b[0m \u001b[0mclose\u001b[0m\u001b[0;34m(\u001b[0m\u001b[0mself\u001b[0m\u001b[0;34m)\u001b[0m \u001b[0;34m->\u001b[0m \u001b[0;32mNone\u001b[0m\u001b[0;34m:\u001b[0m\u001b[0;34m\u001b[0m\u001b[0;34m\u001b[0m\u001b[0m\n",
            "\u001b[0;32m/usr/local/lib/python3.10/dist-packages/pandas/io/parsers/readers.py\u001b[0m in \u001b[0;36m_make_engine\u001b[0;34m(self, f, engine)\u001b[0m\n\u001b[1;32m   1733\u001b[0m                 \u001b[0;32mif\u001b[0m \u001b[0;34m\"b\"\u001b[0m \u001b[0;32mnot\u001b[0m \u001b[0;32min\u001b[0m \u001b[0mmode\u001b[0m\u001b[0;34m:\u001b[0m\u001b[0;34m\u001b[0m\u001b[0;34m\u001b[0m\u001b[0m\n\u001b[1;32m   1734\u001b[0m                     \u001b[0mmode\u001b[0m \u001b[0;34m+=\u001b[0m \u001b[0;34m\"b\"\u001b[0m\u001b[0;34m\u001b[0m\u001b[0;34m\u001b[0m\u001b[0m\n\u001b[0;32m-> 1735\u001b[0;31m             self.handles = get_handle(\n\u001b[0m\u001b[1;32m   1736\u001b[0m                 \u001b[0mf\u001b[0m\u001b[0;34m,\u001b[0m\u001b[0;34m\u001b[0m\u001b[0;34m\u001b[0m\u001b[0m\n\u001b[1;32m   1737\u001b[0m                 \u001b[0mmode\u001b[0m\u001b[0;34m,\u001b[0m\u001b[0;34m\u001b[0m\u001b[0;34m\u001b[0m\u001b[0m\n",
            "\u001b[0;32m/usr/local/lib/python3.10/dist-packages/pandas/io/common.py\u001b[0m in \u001b[0;36mget_handle\u001b[0;34m(path_or_buf, mode, encoding, compression, memory_map, is_text, errors, storage_options)\u001b[0m\n\u001b[1;32m    854\u001b[0m         \u001b[0;32mif\u001b[0m \u001b[0mioargs\u001b[0m\u001b[0;34m.\u001b[0m\u001b[0mencoding\u001b[0m \u001b[0;32mand\u001b[0m \u001b[0;34m\"b\"\u001b[0m \u001b[0;32mnot\u001b[0m \u001b[0;32min\u001b[0m \u001b[0mioargs\u001b[0m\u001b[0;34m.\u001b[0m\u001b[0mmode\u001b[0m\u001b[0;34m:\u001b[0m\u001b[0;34m\u001b[0m\u001b[0;34m\u001b[0m\u001b[0m\n\u001b[1;32m    855\u001b[0m             \u001b[0;31m# Encoding\u001b[0m\u001b[0;34m\u001b[0m\u001b[0;34m\u001b[0m\u001b[0m\n\u001b[0;32m--> 856\u001b[0;31m             handle = open(\n\u001b[0m\u001b[1;32m    857\u001b[0m                 \u001b[0mhandle\u001b[0m\u001b[0;34m,\u001b[0m\u001b[0;34m\u001b[0m\u001b[0;34m\u001b[0m\u001b[0m\n\u001b[1;32m    858\u001b[0m                 \u001b[0mioargs\u001b[0m\u001b[0;34m.\u001b[0m\u001b[0mmode\u001b[0m\u001b[0;34m,\u001b[0m\u001b[0;34m\u001b[0m\u001b[0;34m\u001b[0m\u001b[0m\n",
            "\u001b[0;31mFileNotFoundError\u001b[0m: [Errno 2] No such file or directory: 'salesFact 1.csv'"
          ]
        }
      ],
      "source": [
        "import pandas as pd\n",
        "import scipy.cluster.hierarchy as shc\n",
        "import matplotlib.pyplot as plt\n",
        "from sklearn.cluster import AgglomerativeClustering\n",
        "from sklearn.preprocessing import StandardScaler\n",
        "\n",
        "data = pd.read_csv('salesFact 1.csv')\n",
        "\n",
        "continuous_vars = data[['TotalDrinkUnitSales', 'TotalDrinkSales', 'TotalFoodSales', 'TotalFoodUnitSales', 'TotalNonConUnitSales', 'TotalNonConSales']]\n",
        "\n",
        "scaler = StandardScaler()\n",
        "X_scaled = scaler.fit_transform(continuous_vars)\n",
        "\n",
        "plt.figure(figsize=(10, 7))\n",
        "dend = shc.dendrogram(shc.linkage(X_scaled, method=\"complete\", optimal_ordering=True))\n",
        "\n",
        "plt.savefig('dendrogram.png')\n",
        "plt.close()\n",
        "\n",
        "model_4 = AgglomerativeClustering(n_clusters=4, linkage=\"complete\")\n",
        "model_4.fit(X_scaled)\n",
        "data['label_hier4'] = model_4.labels_\n",
        "\n",
        "model_5 = AgglomerativeClustering(n_clusters=5, linkage=\"complete\")\n",
        "model_5.fit(X_scaled)\n",
        "data['label_hier5'] = model_5.labels_\n",
        "\n",
        "print(data[['label_hier4', 'label_hier5']].head())\n",
        "\n",
        "comparison = pd.crosstab(data['label_hier4'], data['label_hier5'], rownames=['label_hier4'], colnames=['label_hier5'])\n",
        "print(comparison)\n"
      ]
    },
    {
      "cell_type": "markdown",
      "metadata": {
        "id": "YHnkHHk8gxud"
      },
      "source": [
        "## Create and run the helper functions"
      ]
    },
    {
      "cell_type": "code",
      "execution_count": null,
      "metadata": {
        "id": "k5HupIX4W1AW"
      },
      "outputs": [],
      "source": [
        "# Helper Utility Functions\n",
        "\n",
        "# used for converting pandas Dataframe to transactional format (list of lists)\n",
        "def convertToTransactions(data):\n",
        "  rowCount = data.shape[0]\n",
        "  columnCount = data.shape[1]\n",
        "\n",
        "  transactions = []\n",
        "  for i in range(0, rowCount):\n",
        "    transaction = []\n",
        "    for j in range(0, columnCount):\n",
        "      value = str(data.loc[i, j])\n",
        "      if value!='nan':\n",
        "        transaction.append(value)\n",
        "    transactions.append(transaction)\n",
        "  return transactions\n",
        "\n",
        "# used for converting the transactional format (list of lists) into a pandas Dataframe, by sorting\n",
        "def convertToDataFrame(results, sortBy=None):\n",
        "  rules = []\n",
        "  for item in results:\n",
        "    for rule in item.ordered_statistics:\n",
        "      items = item[0]\n",
        "      support = item.support\n",
        "      lhs = str([x for x in rule.items_base])\n",
        "      arrow =  \" -> \"\n",
        "      rhs = str([x for x in rule.items_add])\n",
        "      confidence = rule.confidence\n",
        "      lift = rule.lift\n",
        "      rules.append([items, support,lhs,arrow,rhs,confidence,lift])\n",
        "  output = pd.DataFrame(rules, columns=['items', 'support', 'lhs', 'direction', 'rhs', 'confidence', 'lift'])\n",
        "\n",
        "  if sortBy:\n",
        "    output = output.sort_values(by=[sortBy], ascending=False) # another option than assigning: inplace=True\n",
        "  return output\n",
        "\n",
        "# used for only generating the frequent itemsets by sorting, if you do not want to see the rules\n",
        "def getFrequentItemset(transactions, support, length, sortBy=None):\n",
        "  if isinstance(transactions, pd.DataFrame):\n",
        "    transactions = convertToTransactions(transactions)\n",
        "\n",
        "  records = apriori(transactions, min_support = support, max_length = length)\n",
        "  results = list(records)\n",
        "\n",
        "  rules = []\n",
        "  for item in results:\n",
        "    for rule in item.ordered_statistics:\n",
        "      items = item[0]\n",
        "      support = item.support\n",
        "      rules.append([items,support])\n",
        "  output = pd.DataFrame(rules, columns=['items', 'support'])\n",
        "\n",
        "  if sortBy:\n",
        "    output = output.sort_values(by=[sortBy], ascending=False) # another option than assigning: inplace=True\n",
        "  return output"
      ]
    },
    {
      "cell_type": "markdown",
      "metadata": {
        "id": "gwmJy9etkSeZ"
      },
      "source": [
        "## Import Data"
      ]
    },
    {
      "cell_type": "code",
      "execution_count": null,
      "metadata": {
        "colab": {
          "base_uri": "https://localhost:8080/",
          "height": 242
        },
        "id": "VtRPt4cfkUoU",
        "outputId": "26433f87-ea11-4ee1-eb74-627d719337ce"
      },
      "outputs": [
        {
          "output_type": "error",
          "ename": "NameError",
          "evalue": "ignored",
          "traceback": [
            "\u001b[0;31m---------------------------------------------------------------------------\u001b[0m",
            "\u001b[0;31mNameError\u001b[0m                                 Traceback (most recent call last)",
            "\u001b[0;32m<ipython-input-3-49c94ee07e2d>\u001b[0m in \u001b[0;36m<cell line: 3>\u001b[0;34m()\u001b[0m\n\u001b[1;32m      1\u001b[0m \u001b[0;31m# do not forget to upload the dataset to the sample_data folder\u001b[0m\u001b[0;34m\u001b[0m\u001b[0;34m\u001b[0m\u001b[0m\n\u001b[1;32m      2\u001b[0m \u001b[0;34m\u001b[0m\u001b[0m\n\u001b[0;32m----> 3\u001b[0;31m \u001b[0mdata\u001b[0m \u001b[0;34m=\u001b[0m \u001b[0mpd\u001b[0m\u001b[0;34m.\u001b[0m\u001b[0mread_csv\u001b[0m\u001b[0;34m(\u001b[0m\u001b[0;34m'sample_data/MarketBasket.csv'\u001b[0m\u001b[0;34m,\u001b[0m \u001b[0mheader\u001b[0m\u001b[0;34m=\u001b[0m\u001b[0;32mNone\u001b[0m\u001b[0;34m)\u001b[0m\u001b[0;34m\u001b[0m\u001b[0;34m\u001b[0m\u001b[0m\n\u001b[0m\u001b[1;32m      4\u001b[0m \u001b[0;34m\u001b[0m\u001b[0m\n\u001b[1;32m      5\u001b[0m \u001b[0mprint\u001b[0m\u001b[0;34m(\u001b[0m\u001b[0mdata\u001b[0m\u001b[0;34m.\u001b[0m\u001b[0mshape\u001b[0m\u001b[0;34m)\u001b[0m\u001b[0;34m\u001b[0m\u001b[0;34m\u001b[0m\u001b[0m\n",
            "\u001b[0;31mNameError\u001b[0m: name 'pd' is not defined"
          ]
        }
      ],
      "source": [
        "# do not forget to upload the dataset to the sample_data folder\n",
        "\n",
        "data = pd.read_csv('sample_data/MarketBasket.csv', header=None)\n",
        "\n",
        "print(data.shape)\n",
        "display(data.head(5))"
      ]
    },
    {
      "cell_type": "markdown",
      "metadata": {
        "id": "0uFDUv2OklDb"
      },
      "source": [
        "## Preprocessing: Generate Transactions"
      ]
    },
    {
      "cell_type": "code",
      "execution_count": null,
      "metadata": {
        "colab": {
          "background_save": true
        },
        "id": "OGUzvv9kkpPT"
      },
      "outputs": [],
      "source": [
        "# In order to use the existing apriori function, we need to first convert the imported data to transactional format (list of lists)\n",
        "# Let's use our helper utility function to achieve this\n",
        "\n",
        "transactions = convertToTransactions(data)\n",
        "\n",
        "print(transactions)"
      ]
    },
    {
      "cell_type": "markdown",
      "metadata": {
        "id": "f7b3ctkzlHr5"
      },
      "source": [
        "## Preprocessing (Bonus): Generate Encoded Transactions"
      ]
    },
    {
      "cell_type": "code",
      "execution_count": null,
      "metadata": {
        "colab": {
          "background_save": true
        },
        "id": "CkWVdFvLlNzL"
      },
      "outputs": [],
      "source": [
        "# Import the library for transaction encoding\n",
        "from mlxtend.preprocessing import TransactionEncoder\n",
        "\n",
        "# Create the model\n",
        "model = TransactionEncoder()\n",
        "\n",
        "# Compute the encoding for transactions we have\n",
        "encoded = model.fit_transform(transactions)\n",
        "\n",
        "#display(len(model.columns_))\n",
        "#display(model.columns_)\n",
        "\n",
        "print(encoded)\n",
        "\n",
        "# Convert to dataFrame to query easily\n",
        "transactions_dataFrame = pd.DataFrame(encoded, columns=model.columns_)\n",
        "print(transactions_dataFrame)\n",
        "\n",
        "transactions_dataFrame[\"almonds\"].value_counts()"
      ]
    },
    {
      "cell_type": "markdown",
      "metadata": {
        "id": "gF1l7tfIl4N-"
      },
      "source": [
        "## Apriori"
      ]
    },
    {
      "cell_type": "code",
      "execution_count": null,
      "metadata": {
        "colab": {
          "background_save": true
        },
        "id": "IXl23Uugl6_g"
      },
      "outputs": [],
      "source": [
        "# Apply apriori with parameters\n",
        "records = apriori(transactions, min_support = 0.02, min_confidence=0.1, min_lift=0.8, max_length=5)\n",
        "\n",
        "result = list(records)\n",
        "\n",
        "# This is for adjusting the output width for readability purposes\n",
        "pd.set_option('max_colwidth', None)\n",
        "\n",
        "display(pd.DataFrame(result))"
      ]
    },
    {
      "cell_type": "markdown",
      "metadata": {
        "id": "ubsz2YyLmdzX"
      },
      "source": [
        "##Generate Custom Outputs for Apriori Result"
      ]
    },
    {
      "cell_type": "code",
      "execution_count": null,
      "metadata": {
        "colab": {
          "background_save": true
        },
        "id": "4qQPeouymiHB"
      },
      "outputs": [],
      "source": [
        "# Let's use our helper utility function to see the results in a more suitable format, and apply sorting by the \"lift\" parameter\n",
        "resultDataFrame = convertToDataFrame(result)\n",
        "display(resultDataFrame)"
      ]
    },
    {
      "cell_type": "code",
      "execution_count": null,
      "metadata": {
        "colab": {
          "background_save": true
        },
        "id": "Lg3xafkqqreA"
      },
      "outputs": [],
      "source": [
        "# Let's use our utility function to see only the frequent itemsets by computing apriori, but not the rules\n",
        "frequentItems = getFrequentItemset(transactions, support=0.01, length=10)\n",
        "display(frequentItems)"
      ]
    },
    {
      "cell_type": "markdown",
      "metadata": {
        "id": "7Zi51eb-CV_C"
      },
      "source": [
        "# Lab 6 | Classification\n",
        "\n"
      ]
    },
    {
      "cell_type": "markdown",
      "metadata": {
        "id": "ErDU9TKICgAb"
      },
      "source": [
        "## Import Libraries"
      ]
    },
    {
      "cell_type": "code",
      "execution_count": null,
      "metadata": {
        "id": "L_3Cs_B5CjDS"
      },
      "outputs": [],
      "source": [
        "# Libraries for model assessment\n",
        "from sklearn.metrics import classification_report\n",
        "from sklearn.metrics import confusion_matrix\n",
        "from sklearn.metrics import accuracy_score\n",
        "\n",
        "# Train test split\n",
        "from sklearn.model_selection import train_test_split\n",
        "\n",
        "import pandas as pd\n",
        "\n",
        "from sklearn.datasets import load_iris"
      ]
    },
    {
      "cell_type": "markdown",
      "metadata": {
        "id": "VBmrcRYpCsBp"
      },
      "source": [
        "## Loading the Iris Dataset"
      ]
    },
    {
      "cell_type": "code",
      "execution_count": null,
      "metadata": {
        "colab": {
          "base_uri": "https://localhost:8080/",
          "height": 555
        },
        "id": "gguDD2ptCubo",
        "outputId": "96c1bb6d-5464-4526-d2dd-e91b6ffbde65"
      },
      "outputs": [
        {
          "output_type": "display_data",
          "data": {
            "text/plain": [
              "     sepal length (cm)  sepal width (cm)  petal length (cm)  petal width (cm)\n",
              "0                  5.1               3.5                1.4               0.2\n",
              "1                  4.9               3.0                1.4               0.2\n",
              "2                  4.7               3.2                1.3               0.2\n",
              "3                  4.6               3.1                1.5               0.2\n",
              "4                  5.0               3.6                1.4               0.2\n",
              "..                 ...               ...                ...               ...\n",
              "145                6.7               3.0                5.2               2.3\n",
              "146                6.3               2.5                5.0               1.9\n",
              "147                6.5               3.0                5.2               2.0\n",
              "148                6.2               3.4                5.4               2.3\n",
              "149                5.9               3.0                5.1               1.8\n",
              "\n",
              "[150 rows x 4 columns]"
            ],
            "text/html": [
              "\n",
              "  <div id=\"df-e9795ef3-4718-4fe0-8fda-1a054809849b\" class=\"colab-df-container\">\n",
              "    <div>\n",
              "<style scoped>\n",
              "    .dataframe tbody tr th:only-of-type {\n",
              "        vertical-align: middle;\n",
              "    }\n",
              "\n",
              "    .dataframe tbody tr th {\n",
              "        vertical-align: top;\n",
              "    }\n",
              "\n",
              "    .dataframe thead th {\n",
              "        text-align: right;\n",
              "    }\n",
              "</style>\n",
              "<table border=\"1\" class=\"dataframe\">\n",
              "  <thead>\n",
              "    <tr style=\"text-align: right;\">\n",
              "      <th></th>\n",
              "      <th>sepal length (cm)</th>\n",
              "      <th>sepal width (cm)</th>\n",
              "      <th>petal length (cm)</th>\n",
              "      <th>petal width (cm)</th>\n",
              "    </tr>\n",
              "  </thead>\n",
              "  <tbody>\n",
              "    <tr>\n",
              "      <th>0</th>\n",
              "      <td>5.1</td>\n",
              "      <td>3.5</td>\n",
              "      <td>1.4</td>\n",
              "      <td>0.2</td>\n",
              "    </tr>\n",
              "    <tr>\n",
              "      <th>1</th>\n",
              "      <td>4.9</td>\n",
              "      <td>3.0</td>\n",
              "      <td>1.4</td>\n",
              "      <td>0.2</td>\n",
              "    </tr>\n",
              "    <tr>\n",
              "      <th>2</th>\n",
              "      <td>4.7</td>\n",
              "      <td>3.2</td>\n",
              "      <td>1.3</td>\n",
              "      <td>0.2</td>\n",
              "    </tr>\n",
              "    <tr>\n",
              "      <th>3</th>\n",
              "      <td>4.6</td>\n",
              "      <td>3.1</td>\n",
              "      <td>1.5</td>\n",
              "      <td>0.2</td>\n",
              "    </tr>\n",
              "    <tr>\n",
              "      <th>4</th>\n",
              "      <td>5.0</td>\n",
              "      <td>3.6</td>\n",
              "      <td>1.4</td>\n",
              "      <td>0.2</td>\n",
              "    </tr>\n",
              "    <tr>\n",
              "      <th>...</th>\n",
              "      <td>...</td>\n",
              "      <td>...</td>\n",
              "      <td>...</td>\n",
              "      <td>...</td>\n",
              "    </tr>\n",
              "    <tr>\n",
              "      <th>145</th>\n",
              "      <td>6.7</td>\n",
              "      <td>3.0</td>\n",
              "      <td>5.2</td>\n",
              "      <td>2.3</td>\n",
              "    </tr>\n",
              "    <tr>\n",
              "      <th>146</th>\n",
              "      <td>6.3</td>\n",
              "      <td>2.5</td>\n",
              "      <td>5.0</td>\n",
              "      <td>1.9</td>\n",
              "    </tr>\n",
              "    <tr>\n",
              "      <th>147</th>\n",
              "      <td>6.5</td>\n",
              "      <td>3.0</td>\n",
              "      <td>5.2</td>\n",
              "      <td>2.0</td>\n",
              "    </tr>\n",
              "    <tr>\n",
              "      <th>148</th>\n",
              "      <td>6.2</td>\n",
              "      <td>3.4</td>\n",
              "      <td>5.4</td>\n",
              "      <td>2.3</td>\n",
              "    </tr>\n",
              "    <tr>\n",
              "      <th>149</th>\n",
              "      <td>5.9</td>\n",
              "      <td>3.0</td>\n",
              "      <td>5.1</td>\n",
              "      <td>1.8</td>\n",
              "    </tr>\n",
              "  </tbody>\n",
              "</table>\n",
              "<p>150 rows × 4 columns</p>\n",
              "</div>\n",
              "    <div class=\"colab-df-buttons\">\n",
              "\n",
              "  <div class=\"colab-df-container\">\n",
              "    <button class=\"colab-df-convert\" onclick=\"convertToInteractive('df-e9795ef3-4718-4fe0-8fda-1a054809849b')\"\n",
              "            title=\"Convert this dataframe to an interactive table.\"\n",
              "            style=\"display:none;\">\n",
              "\n",
              "  <svg xmlns=\"http://www.w3.org/2000/svg\" height=\"24px\" viewBox=\"0 -960 960 960\">\n",
              "    <path d=\"M120-120v-720h720v720H120Zm60-500h600v-160H180v160Zm220 220h160v-160H400v160Zm0 220h160v-160H400v160ZM180-400h160v-160H180v160Zm440 0h160v-160H620v160ZM180-180h160v-160H180v160Zm440 0h160v-160H620v160Z\"/>\n",
              "  </svg>\n",
              "    </button>\n",
              "\n",
              "  <style>\n",
              "    .colab-df-container {\n",
              "      display:flex;\n",
              "      gap: 12px;\n",
              "    }\n",
              "\n",
              "    .colab-df-convert {\n",
              "      background-color: #E8F0FE;\n",
              "      border: none;\n",
              "      border-radius: 50%;\n",
              "      cursor: pointer;\n",
              "      display: none;\n",
              "      fill: #1967D2;\n",
              "      height: 32px;\n",
              "      padding: 0 0 0 0;\n",
              "      width: 32px;\n",
              "    }\n",
              "\n",
              "    .colab-df-convert:hover {\n",
              "      background-color: #E2EBFA;\n",
              "      box-shadow: 0px 1px 2px rgba(60, 64, 67, 0.3), 0px 1px 3px 1px rgba(60, 64, 67, 0.15);\n",
              "      fill: #174EA6;\n",
              "    }\n",
              "\n",
              "    .colab-df-buttons div {\n",
              "      margin-bottom: 4px;\n",
              "    }\n",
              "\n",
              "    [theme=dark] .colab-df-convert {\n",
              "      background-color: #3B4455;\n",
              "      fill: #D2E3FC;\n",
              "    }\n",
              "\n",
              "    [theme=dark] .colab-df-convert:hover {\n",
              "      background-color: #434B5C;\n",
              "      box-shadow: 0px 1px 3px 1px rgba(0, 0, 0, 0.15);\n",
              "      filter: drop-shadow(0px 1px 2px rgba(0, 0, 0, 0.3));\n",
              "      fill: #FFFFFF;\n",
              "    }\n",
              "  </style>\n",
              "\n",
              "    <script>\n",
              "      const buttonEl =\n",
              "        document.querySelector('#df-e9795ef3-4718-4fe0-8fda-1a054809849b button.colab-df-convert');\n",
              "      buttonEl.style.display =\n",
              "        google.colab.kernel.accessAllowed ? 'block' : 'none';\n",
              "\n",
              "      async function convertToInteractive(key) {\n",
              "        const element = document.querySelector('#df-e9795ef3-4718-4fe0-8fda-1a054809849b');\n",
              "        const dataTable =\n",
              "          await google.colab.kernel.invokeFunction('convertToInteractive',\n",
              "                                                    [key], {});\n",
              "        if (!dataTable) return;\n",
              "\n",
              "        const docLinkHtml = 'Like what you see? Visit the ' +\n",
              "          '<a target=\"_blank\" href=https://colab.research.google.com/notebooks/data_table.ipynb>data table notebook</a>'\n",
              "          + ' to learn more about interactive tables.';\n",
              "        element.innerHTML = '';\n",
              "        dataTable['output_type'] = 'display_data';\n",
              "        await google.colab.output.renderOutput(dataTable, element);\n",
              "        const docLink = document.createElement('div');\n",
              "        docLink.innerHTML = docLinkHtml;\n",
              "        element.appendChild(docLink);\n",
              "      }\n",
              "    </script>\n",
              "  </div>\n",
              "\n",
              "\n",
              "<div id=\"df-78a95515-4c4d-4e53-8453-2177e098f544\">\n",
              "  <button class=\"colab-df-quickchart\" onclick=\"quickchart('df-78a95515-4c4d-4e53-8453-2177e098f544')\"\n",
              "            title=\"Suggest charts\"\n",
              "            style=\"display:none;\">\n",
              "\n",
              "<svg xmlns=\"http://www.w3.org/2000/svg\" height=\"24px\"viewBox=\"0 0 24 24\"\n",
              "     width=\"24px\">\n",
              "    <g>\n",
              "        <path d=\"M19 3H5c-1.1 0-2 .9-2 2v14c0 1.1.9 2 2 2h14c1.1 0 2-.9 2-2V5c0-1.1-.9-2-2-2zM9 17H7v-7h2v7zm4 0h-2V7h2v10zm4 0h-2v-4h2v4z\"/>\n",
              "    </g>\n",
              "</svg>\n",
              "  </button>\n",
              "\n",
              "<style>\n",
              "  .colab-df-quickchart {\n",
              "      --bg-color: #E8F0FE;\n",
              "      --fill-color: #1967D2;\n",
              "      --hover-bg-color: #E2EBFA;\n",
              "      --hover-fill-color: #174EA6;\n",
              "      --disabled-fill-color: #AAA;\n",
              "      --disabled-bg-color: #DDD;\n",
              "  }\n",
              "\n",
              "  [theme=dark] .colab-df-quickchart {\n",
              "      --bg-color: #3B4455;\n",
              "      --fill-color: #D2E3FC;\n",
              "      --hover-bg-color: #434B5C;\n",
              "      --hover-fill-color: #FFFFFF;\n",
              "      --disabled-bg-color: #3B4455;\n",
              "      --disabled-fill-color: #666;\n",
              "  }\n",
              "\n",
              "  .colab-df-quickchart {\n",
              "    background-color: var(--bg-color);\n",
              "    border: none;\n",
              "    border-radius: 50%;\n",
              "    cursor: pointer;\n",
              "    display: none;\n",
              "    fill: var(--fill-color);\n",
              "    height: 32px;\n",
              "    padding: 0;\n",
              "    width: 32px;\n",
              "  }\n",
              "\n",
              "  .colab-df-quickchart:hover {\n",
              "    background-color: var(--hover-bg-color);\n",
              "    box-shadow: 0 1px 2px rgba(60, 64, 67, 0.3), 0 1px 3px 1px rgba(60, 64, 67, 0.15);\n",
              "    fill: var(--button-hover-fill-color);\n",
              "  }\n",
              "\n",
              "  .colab-df-quickchart-complete:disabled,\n",
              "  .colab-df-quickchart-complete:disabled:hover {\n",
              "    background-color: var(--disabled-bg-color);\n",
              "    fill: var(--disabled-fill-color);\n",
              "    box-shadow: none;\n",
              "  }\n",
              "\n",
              "  .colab-df-spinner {\n",
              "    border: 2px solid var(--fill-color);\n",
              "    border-color: transparent;\n",
              "    border-bottom-color: var(--fill-color);\n",
              "    animation:\n",
              "      spin 1s steps(1) infinite;\n",
              "  }\n",
              "\n",
              "  @keyframes spin {\n",
              "    0% {\n",
              "      border-color: transparent;\n",
              "      border-bottom-color: var(--fill-color);\n",
              "      border-left-color: var(--fill-color);\n",
              "    }\n",
              "    20% {\n",
              "      border-color: transparent;\n",
              "      border-left-color: var(--fill-color);\n",
              "      border-top-color: var(--fill-color);\n",
              "    }\n",
              "    30% {\n",
              "      border-color: transparent;\n",
              "      border-left-color: var(--fill-color);\n",
              "      border-top-color: var(--fill-color);\n",
              "      border-right-color: var(--fill-color);\n",
              "    }\n",
              "    40% {\n",
              "      border-color: transparent;\n",
              "      border-right-color: var(--fill-color);\n",
              "      border-top-color: var(--fill-color);\n",
              "    }\n",
              "    60% {\n",
              "      border-color: transparent;\n",
              "      border-right-color: var(--fill-color);\n",
              "    }\n",
              "    80% {\n",
              "      border-color: transparent;\n",
              "      border-right-color: var(--fill-color);\n",
              "      border-bottom-color: var(--fill-color);\n",
              "    }\n",
              "    90% {\n",
              "      border-color: transparent;\n",
              "      border-bottom-color: var(--fill-color);\n",
              "    }\n",
              "  }\n",
              "</style>\n",
              "\n",
              "  <script>\n",
              "    async function quickchart(key) {\n",
              "      const quickchartButtonEl =\n",
              "        document.querySelector('#' + key + ' button');\n",
              "      quickchartButtonEl.disabled = true;  // To prevent multiple clicks.\n",
              "      quickchartButtonEl.classList.add('colab-df-spinner');\n",
              "      try {\n",
              "        const charts = await google.colab.kernel.invokeFunction(\n",
              "            'suggestCharts', [key], {});\n",
              "      } catch (error) {\n",
              "        console.error('Error during call to suggestCharts:', error);\n",
              "      }\n",
              "      quickchartButtonEl.classList.remove('colab-df-spinner');\n",
              "      quickchartButtonEl.classList.add('colab-df-quickchart-complete');\n",
              "    }\n",
              "    (() => {\n",
              "      let quickchartButtonEl =\n",
              "        document.querySelector('#df-78a95515-4c4d-4e53-8453-2177e098f544 button');\n",
              "      quickchartButtonEl.style.display =\n",
              "        google.colab.kernel.accessAllowed ? 'block' : 'none';\n",
              "    })();\n",
              "  </script>\n",
              "</div>\n",
              "\n",
              "  <div id=\"id_9abec02d-f0c9-4687-9a9c-a26cdefefef2\">\n",
              "    <style>\n",
              "      .colab-df-generate {\n",
              "        background-color: #E8F0FE;\n",
              "        border: none;\n",
              "        border-radius: 50%;\n",
              "        cursor: pointer;\n",
              "        display: none;\n",
              "        fill: #1967D2;\n",
              "        height: 32px;\n",
              "        padding: 0 0 0 0;\n",
              "        width: 32px;\n",
              "      }\n",
              "\n",
              "      .colab-df-generate:hover {\n",
              "        background-color: #E2EBFA;\n",
              "        box-shadow: 0px 1px 2px rgba(60, 64, 67, 0.3), 0px 1px 3px 1px rgba(60, 64, 67, 0.15);\n",
              "        fill: #174EA6;\n",
              "      }\n",
              "\n",
              "      [theme=dark] .colab-df-generate {\n",
              "        background-color: #3B4455;\n",
              "        fill: #D2E3FC;\n",
              "      }\n",
              "\n",
              "      [theme=dark] .colab-df-generate:hover {\n",
              "        background-color: #434B5C;\n",
              "        box-shadow: 0px 1px 3px 1px rgba(0, 0, 0, 0.15);\n",
              "        filter: drop-shadow(0px 1px 2px rgba(0, 0, 0, 0.3));\n",
              "        fill: #FFFFFF;\n",
              "      }\n",
              "    </style>\n",
              "    <button class=\"colab-df-generate\" onclick=\"generateWithVariable('X')\"\n",
              "            title=\"Generate code using this dataframe.\"\n",
              "            style=\"display:none;\">\n",
              "\n",
              "  <svg xmlns=\"http://www.w3.org/2000/svg\" height=\"24px\"viewBox=\"0 0 24 24\"\n",
              "       width=\"24px\">\n",
              "    <path d=\"M7,19H8.4L18.45,9,17,7.55,7,17.6ZM5,21V16.75L18.45,3.32a2,2,0,0,1,2.83,0l1.4,1.43a1.91,1.91,0,0,1,.58,1.4,1.91,1.91,0,0,1-.58,1.4L9.25,21ZM18.45,9,17,7.55Zm-12,3A5.31,5.31,0,0,0,4.9,8.1,5.31,5.31,0,0,0,1,6.5,5.31,5.31,0,0,0,4.9,4.9,5.31,5.31,0,0,0,6.5,1,5.31,5.31,0,0,0,8.1,4.9,5.31,5.31,0,0,0,12,6.5,5.46,5.46,0,0,0,6.5,12Z\"/>\n",
              "  </svg>\n",
              "    </button>\n",
              "    <script>\n",
              "      (() => {\n",
              "      const buttonEl =\n",
              "        document.querySelector('#id_9abec02d-f0c9-4687-9a9c-a26cdefefef2 button.colab-df-generate');\n",
              "      buttonEl.style.display =\n",
              "        google.colab.kernel.accessAllowed ? 'block' : 'none';\n",
              "\n",
              "      buttonEl.onclick = () => {\n",
              "        google.colab.notebook.generateWithVariable('X');\n",
              "      }\n",
              "      })();\n",
              "    </script>\n",
              "  </div>\n",
              "\n",
              "    </div>\n",
              "  </div>\n"
            ]
          },
          "metadata": {}
        },
        {
          "output_type": "display_data",
          "data": {
            "text/plain": [
              "array(['setosa', 'versicolor', 'virginica'], dtype='<U10')"
            ]
          },
          "metadata": {}
        },
        {
          "output_type": "display_data",
          "data": {
            "text/plain": [
              "array([0, 0, 0, 0, 0, 0, 0, 0, 0, 0, 0, 0, 0, 0, 0, 0, 0, 0, 0, 0, 0, 0,\n",
              "       0, 0, 0, 0, 0, 0, 0, 0, 0, 0, 0, 0, 0, 0, 0, 0, 0, 0, 0, 0, 0, 0,\n",
              "       0, 0, 0, 0, 0, 0, 1, 1, 1, 1, 1, 1, 1, 1, 1, 1, 1, 1, 1, 1, 1, 1,\n",
              "       1, 1, 1, 1, 1, 1, 1, 1, 1, 1, 1, 1, 1, 1, 1, 1, 1, 1, 1, 1, 1, 1,\n",
              "       1, 1, 1, 1, 1, 1, 1, 1, 1, 1, 1, 1, 2, 2, 2, 2, 2, 2, 2, 2, 2, 2,\n",
              "       2, 2, 2, 2, 2, 2, 2, 2, 2, 2, 2, 2, 2, 2, 2, 2, 2, 2, 2, 2, 2, 2,\n",
              "       2, 2, 2, 2, 2, 2, 2, 2, 2, 2, 2, 2, 2, 2, 2, 2, 2, 2])"
            ]
          },
          "metadata": {}
        }
      ],
      "source": [
        "iris = load_iris()\n",
        "\n",
        "# dataset, as DataFrame\n",
        "X = pd.DataFrame(iris.data, columns = iris.feature_names)\n",
        "\n",
        "# labels\n",
        "y = iris.target\n",
        "\n",
        "display(X)\n",
        "display(iris.target_names)\n",
        "display(y)"
      ]
    },
    {
      "cell_type": "markdown",
      "metadata": {
        "id": "0_PaMho4DFWX"
      },
      "source": [
        "## Split Dataset"
      ]
    },
    {
      "cell_type": "code",
      "execution_count": null,
      "metadata": {
        "colab": {
          "base_uri": "https://localhost:8080/",
          "height": 242
        },
        "id": "aSqyATBEDI0U",
        "outputId": "f69fca61-a4d8-4588-ec88-0ec0f18273d7"
      },
      "outputs": [
        {
          "output_type": "error",
          "ename": "NameError",
          "evalue": "name 'X' is not defined",
          "traceback": [
            "\u001b[0;31m---------------------------------------------------------------------------\u001b[0m",
            "\u001b[0;31mNameError\u001b[0m                                 Traceback (most recent call last)",
            "\u001b[0;32m<ipython-input-2-214ee5997d03>\u001b[0m in \u001b[0;36m<cell line: 5>\u001b[0;34m()\u001b[0m\n\u001b[1;32m      3\u001b[0m \u001b[0;34m\u001b[0m\u001b[0m\n\u001b[1;32m      4\u001b[0m \u001b[0;31m# Test size: %30\u001b[0m\u001b[0;34m\u001b[0m\u001b[0;34m\u001b[0m\u001b[0m\n\u001b[0;32m----> 5\u001b[0;31m \u001b[0mX_train\u001b[0m\u001b[0;34m,\u001b[0m \u001b[0mX_test\u001b[0m\u001b[0;34m,\u001b[0m \u001b[0my_train\u001b[0m\u001b[0;34m,\u001b[0m \u001b[0my_test\u001b[0m \u001b[0;34m=\u001b[0m \u001b[0mtrain_test_split\u001b[0m\u001b[0;34m(\u001b[0m\u001b[0mX\u001b[0m\u001b[0;34m,\u001b[0m \u001b[0my\u001b[0m\u001b[0;34m,\u001b[0m \u001b[0mtest_size\u001b[0m\u001b[0;34m=\u001b[0m\u001b[0;36m0.30\u001b[0m\u001b[0;34m)\u001b[0m\u001b[0;34m\u001b[0m\u001b[0;34m\u001b[0m\u001b[0m\n\u001b[0m\u001b[1;32m      6\u001b[0m \u001b[0;34m\u001b[0m\u001b[0m\n\u001b[1;32m      7\u001b[0m \u001b[0mprint\u001b[0m\u001b[0;34m(\u001b[0m\u001b[0mX_train\u001b[0m\u001b[0;34m.\u001b[0m\u001b[0mshape\u001b[0m\u001b[0;34m,\u001b[0m \u001b[0mX_test\u001b[0m\u001b[0;34m.\u001b[0m\u001b[0mshape\u001b[0m\u001b[0;34m,\u001b[0m \u001b[0my_train\u001b[0m\u001b[0;34m.\u001b[0m\u001b[0mshape\u001b[0m\u001b[0;34m,\u001b[0m \u001b[0my_test\u001b[0m\u001b[0;34m.\u001b[0m\u001b[0mshape\u001b[0m\u001b[0;34m)\u001b[0m\u001b[0;34m\u001b[0m\u001b[0;34m\u001b[0m\u001b[0m\n",
            "\u001b[0;31mNameError\u001b[0m: name 'X' is not defined"
          ]
        }
      ],
      "source": [
        "# Split data into train and test sets\n",
        "from sklearn.model_selection import train_test_split\n",
        "\n",
        "# Test size: %30\n",
        "X_train, X_test, y_train, y_test = train_test_split(X, y, test_size=0.30)\n",
        "\n",
        "print(X_train.shape, X_test.shape, y_train.shape, y_test.shape)"
      ]
    },
    {
      "cell_type": "code",
      "execution_count": null,
      "metadata": {
        "colab": {
          "base_uri": "https://localhost:8080/",
          "height": 242
        },
        "id": "mYMH6OItDPia",
        "outputId": "1fdeff4e-f53c-4cf3-f1cb-bfd9039dccff"
      },
      "outputs": [
        {
          "output_type": "error",
          "ename": "NameError",
          "evalue": "name 'X_test' is not defined",
          "traceback": [
            "\u001b[0;31m---------------------------------------------------------------------------\u001b[0m",
            "\u001b[0;31mNameError\u001b[0m                                 Traceback (most recent call last)",
            "\u001b[0;32m<ipython-input-1-764445e40cf9>\u001b[0m in \u001b[0;36m<cell line: 2>\u001b[0;34m()\u001b[0m\n\u001b[1;32m      1\u001b[0m \u001b[0;31m# Display the test data\u001b[0m\u001b[0;34m\u001b[0m\u001b[0;34m\u001b[0m\u001b[0m\n\u001b[0;32m----> 2\u001b[0;31m \u001b[0mdisplay\u001b[0m\u001b[0;34m(\u001b[0m\u001b[0mX_test\u001b[0m\u001b[0;34m.\u001b[0m\u001b[0mhead\u001b[0m\u001b[0;34m(\u001b[0m\u001b[0;34m)\u001b[0m\u001b[0;34m)\u001b[0m\u001b[0;34m\u001b[0m\u001b[0;34m\u001b[0m\u001b[0m\n\u001b[0m\u001b[1;32m      3\u001b[0m \u001b[0;34m\u001b[0m\u001b[0m\n\u001b[1;32m      4\u001b[0m \u001b[0;31m# Display the shape of the variable y_test, which contains the labels of test data\u001b[0m\u001b[0;34m\u001b[0m\u001b[0;34m\u001b[0m\u001b[0m\n\u001b[1;32m      5\u001b[0m \u001b[0mdisplay\u001b[0m\u001b[0;34m(\u001b[0m\u001b[0my_test\u001b[0m\u001b[0;34m.\u001b[0m\u001b[0mshape\u001b[0m\u001b[0;34m)\u001b[0m\u001b[0;34m\u001b[0m\u001b[0;34m\u001b[0m\u001b[0m\n",
            "\u001b[0;31mNameError\u001b[0m: name 'X_test' is not defined"
          ]
        }
      ],
      "source": [
        "# Display the test data\n",
        "display(X_test.head())\n",
        "\n",
        "# Display the shape of the variable y_test, which contains the labels of test data\n",
        "display(y_test.shape)\n",
        "\n",
        "# Display the labels of test data\n",
        "display(y_test)\n",
        "\n",
        "print(f\"The type of the y_test: {type(y_test)}\")\n",
        "print(f\"The type of the X_test: {type(X_test)}\")"
      ]
    },
    {
      "cell_type": "markdown",
      "metadata": {
        "id": "aPcl0N9jDVHP"
      },
      "source": [
        "## Decision Tree"
      ]
    },
    {
      "cell_type": "code",
      "execution_count": null,
      "metadata": {
        "id": "LiSfiOOEDfDl",
        "colab": {
          "base_uri": "https://localhost:8080/",
          "height": 242
        },
        "outputId": "a3ee6b62-87b2-40bc-f59b-889a8aae9480"
      },
      "outputs": [
        {
          "output_type": "error",
          "ename": "NameError",
          "evalue": "name 'X_train' is not defined",
          "traceback": [
            "\u001b[0;31m---------------------------------------------------------------------------\u001b[0m",
            "\u001b[0;31mNameError\u001b[0m                                 Traceback (most recent call last)",
            "\u001b[0;32m<ipython-input-2-46cc8907f3a2>\u001b[0m in \u001b[0;36m<cell line: 8>\u001b[0;34m()\u001b[0m\n\u001b[1;32m      6\u001b[0m \u001b[0;34m\u001b[0m\u001b[0m\n\u001b[1;32m      7\u001b[0m \u001b[0;31m# Train the model, using the \"train\" data labels\u001b[0m\u001b[0;34m\u001b[0m\u001b[0;34m\u001b[0m\u001b[0m\n\u001b[0;32m----> 8\u001b[0;31m \u001b[0mmodel\u001b[0m\u001b[0;34m.\u001b[0m\u001b[0mfit\u001b[0m\u001b[0;34m(\u001b[0m\u001b[0mX_train\u001b[0m\u001b[0;34m,\u001b[0m \u001b[0my_train\u001b[0m\u001b[0;34m)\u001b[0m\u001b[0;34m\u001b[0m\u001b[0;34m\u001b[0m\u001b[0m\n\u001b[0m\u001b[1;32m      9\u001b[0m \u001b[0;34m\u001b[0m\u001b[0m\n\u001b[1;32m     10\u001b[0m \u001b[0;31m# Predict labels using \"test\" data\u001b[0m\u001b[0;34m\u001b[0m\u001b[0;34m\u001b[0m\u001b[0m\n",
            "\u001b[0;31mNameError\u001b[0m: name 'X_train' is not defined"
          ]
        }
      ],
      "source": [
        "# Import the library\n",
        "from sklearn.tree import DecisionTreeClassifier\n",
        "\n",
        "# Create the model\n",
        "model = DecisionTreeClassifier() # DecisionTreeClassifier(max_depth=3)\n",
        "\n",
        "# Train the model, using the \"train\" data labels\n",
        "model.fit(X_train, y_train)\n",
        "\n",
        "# Predict labels using \"test\" data\n",
        "y_test_predicted = model.predict(X_test)"
      ]
    },
    {
      "cell_type": "code",
      "execution_count": null,
      "metadata": {
        "colab": {
          "base_uri": "https://localhost:8080/",
          "height": 259
        },
        "id": "WXOyuWciDgkY",
        "outputId": "d7779000-e584-46b1-e3b7-b5b1db9e9baa"
      },
      "outputs": [
        {
          "output_type": "error",
          "ename": "NameError",
          "evalue": "name 'model' is not defined",
          "traceback": [
            "\u001b[0;31m---------------------------------------------------------------------------\u001b[0m",
            "\u001b[0;31mNameError\u001b[0m                                 Traceback (most recent call last)",
            "\u001b[0;32m<ipython-input-1-d0433771f7ae>\u001b[0m in \u001b[0;36m<cell line: 7>\u001b[0;34m()\u001b[0m\n\u001b[1;32m      5\u001b[0m \u001b[0;34m\u001b[0m\u001b[0m\n\u001b[1;32m      6\u001b[0m \u001b[0mplt\u001b[0m\u001b[0;34m.\u001b[0m\u001b[0mfigure\u001b[0m\u001b[0;34m(\u001b[0m\u001b[0mfigsize\u001b[0m\u001b[0;34m=\u001b[0m\u001b[0;34m(\u001b[0m\u001b[0;36m25\u001b[0m\u001b[0;34m,\u001b[0m\u001b[0;36m10\u001b[0m\u001b[0;34m)\u001b[0m\u001b[0;34m)\u001b[0m\u001b[0;34m\u001b[0m\u001b[0;34m\u001b[0m\u001b[0m\n\u001b[0;32m----> 7\u001b[0;31m modeltree = plot_tree(model,\n\u001b[0m\u001b[1;32m      8\u001b[0m                       \u001b[0mfeature_names\u001b[0m\u001b[0;34m=\u001b[0m\u001b[0mX\u001b[0m\u001b[0;34m.\u001b[0m\u001b[0mcolumns\u001b[0m\u001b[0;34m,\u001b[0m\u001b[0;34m\u001b[0m\u001b[0;34m\u001b[0m\u001b[0m\n\u001b[1;32m      9\u001b[0m                       \u001b[0mfilled\u001b[0m\u001b[0;34m=\u001b[0m\u001b[0;32mTrue\u001b[0m\u001b[0;34m,\u001b[0m\u001b[0;34m\u001b[0m\u001b[0;34m\u001b[0m\u001b[0m\n",
            "\u001b[0;31mNameError\u001b[0m: name 'model' is not defined"
          ]
        },
        {
          "output_type": "display_data",
          "data": {
            "text/plain": [
              "<Figure size 2500x1000 with 0 Axes>"
            ]
          },
          "metadata": {}
        }
      ],
      "source": [
        "# Plot the results into a canvas\n",
        "\n",
        "import matplotlib.pyplot as plt\n",
        "from sklearn.tree import plot_tree\n",
        "\n",
        "plt.figure(figsize=(25,10))\n",
        "modeltree = plot_tree(model,\n",
        "                      feature_names=X.columns,\n",
        "                      filled=True,\n",
        "                      rounded=True,\n",
        "                      fontsize=14\n",
        "                      )"
      ]
    },
    {
      "cell_type": "code",
      "execution_count": null,
      "metadata": {
        "colab": {
          "base_uri": "https://localhost:8080/"
        },
        "id": "wunFI0roDlHB",
        "outputId": "620afaaf-3c8b-4606-dc49-7c303c6b6866"
      },
      "outputs": [
        {
          "output_type": "stream",
          "name": "stdout",
          "text": [
            "Distinct labels in the Iris dataset: ['setosa' 'versicolor' 'virginica']\n",
            "\n",
            "Predicted labels:\t [1, 2, 1, 1, 2, 2, 1, 0, 1, 2, 1, 1, 1, 1, 2, 0, 1, 1, 0, 1, 2, 1, 0, 2, 2, 1, 2, 2, 1, 0, 1, 2, 0, 1, 0, 0, 0, 0, 0, 1, 1, 0, 0, 1, 2]\n",
            "Actual labels:\t\t [1, 2, 1, 1, 2, 2, 1, 0, 1, 2, 1, 2, 1, 1, 2, 0, 2, 1, 0, 1, 2, 1, 0, 2, 2, 1, 2, 2, 1, 0, 1, 2, 0, 1, 0, 0, 0, 0, 0, 1, 1, 0, 0, 1, 2]\n"
          ]
        }
      ],
      "source": [
        "# Print the distinct labels (in the Iris data, there are only 3 distinct labels)\n",
        "print(f\"Distinct labels in the Iris dataset: {iris.target_names}\\n\")\n",
        "\n",
        "print(f\"Predicted labels:\\t {list(y_test_predicted)}\")\n",
        "print(f\"Actual labels:\\t\\t {list(y_test)}\")"
      ]
    },
    {
      "cell_type": "markdown",
      "metadata": {
        "id": "9ylaUNzJDm9X"
      },
      "source": [
        "### Model Assessment"
      ]
    },
    {
      "cell_type": "code",
      "execution_count": null,
      "metadata": {
        "colab": {
          "base_uri": "https://localhost:8080/",
          "height": 68
        },
        "id": "PVFwWtifDok-",
        "outputId": "29f6380d-d5fc-4b36-8209-bda3ac98c9ac"
      },
      "outputs": [
        {
          "data": {
            "text/plain": [
              "array([[16,  0,  0],\n",
              "       [ 0, 14,  2],\n",
              "       [ 0,  1, 12]])"
            ]
          },
          "metadata": {},
          "output_type": "display_data"
        }
      ],
      "source": [
        "# Model assessment\n",
        "from sklearn.metrics import confusion_matrix\n",
        "\n",
        "confusionMatrix = confusion_matrix(y_test, y_test_predicted)\n",
        "\n",
        "# Rows are the actual values, columns are predicted values\n",
        "# Setosa Versicolor Virginica\n",
        "# array([[19, 0,  0],\n",
        "#        [ 0,  13, 1],\n",
        "#        [ 0,  0, 12]])\n",
        "# 1st row, 19 flowers are actually Setosa, and it is perfectly predicted as Setosa\n",
        "# 2nd row, 13 flowers are correctly labeled as Versicolor out of the total 14. So, 1 of the flowers has been incorrectly classified\n",
        "# 3rd row, all 12 flowers have been correctly classified as Virginica\n",
        "\n",
        "display(confusionMatrix)"
      ]
    },
    {
      "cell_type": "code",
      "execution_count": null,
      "metadata": {
        "colab": {
          "base_uri": "https://localhost:8080/"
        },
        "id": "otj-5SZCDra1",
        "outputId": "1e8d8f84-9e9f-495f-8289-370156611cf4"
      },
      "outputs": [
        {
          "data": {
            "text/plain": [
              "0.9333333333333333"
            ]
          },
          "execution_count": 9,
          "metadata": {},
          "output_type": "execute_result"
        }
      ],
      "source": [
        "accuracy_score(y_test, y_test_predicted)"
      ]
    },
    {
      "cell_type": "code",
      "execution_count": null,
      "metadata": {
        "colab": {
          "base_uri": "https://localhost:8080/"
        },
        "id": "EPB9nRTKDs-k",
        "outputId": "15876b81-8b3b-481e-defa-099d16862c19"
      },
      "outputs": [
        {
          "name": "stdout",
          "output_type": "stream",
          "text": [
            "              precision    recall  f1-score   support\n",
            "\n",
            "           0       1.00      1.00      1.00        16\n",
            "           1       0.93      0.88      0.90        16\n",
            "           2       0.86      0.92      0.89        13\n",
            "\n",
            "    accuracy                           0.93        45\n",
            "   macro avg       0.93      0.93      0.93        45\n",
            "weighted avg       0.94      0.93      0.93        45\n",
            "\n"
          ]
        }
      ],
      "source": [
        "print(classification_report(y_test, y_test_predicted))"
      ]
    },
    {
      "cell_type": "markdown",
      "metadata": {
        "id": "EyNhdSsqDupV"
      },
      "source": [
        "## Random Forest"
      ]
    },
    {
      "cell_type": "code",
      "execution_count": null,
      "metadata": {
        "id": "JfBKcuZ9Dwr_"
      },
      "outputs": [],
      "source": [
        "# Import library\n",
        "from sklearn.ensemble import RandomForestClassifier\n",
        "\n",
        "# Create the model\n",
        "model = RandomForestClassifier()\n",
        "\n",
        "# Train the model using \"train\" data and labels\n",
        "model.fit(X_train, y_train)\n",
        "\n",
        "# Predict the labels using \"test\" data\n",
        "y_test_predicted = model.predict(X_test)"
      ]
    },
    {
      "cell_type": "code",
      "execution_count": null,
      "metadata": {
        "colab": {
          "base_uri": "https://localhost:8080/"
        },
        "id": "rm9qGUnzDyfq",
        "outputId": "623920e7-48bf-4307-ddd0-6cc5487bcb23"
      },
      "outputs": [
        {
          "name": "stdout",
          "output_type": "stream",
          "text": [
            "Distinct labels in the Iris dataset: ['setosa' 'versicolor' 'virginica']\n",
            "\n",
            "Predicted labels:\t [2, 2, 2, 0, 2, 0, 0, 0, 0, 2, 0, 1, 1, 1, 2, 1, 1, 1, 1, 2, 1, 1, 1, 2, 0, 0, 2, 0, 1, 0, 1, 2, 1, 0, 2, 1, 0, 0, 2, 0, 1, 0, 0, 1, 2]\n",
            "Actual labels:\t\t [2, 2, 2, 0, 2, 0, 0, 0, 0, 2, 0, 2, 1, 1, 2, 1, 1, 1, 1, 2, 1, 1, 1, 2, 0, 0, 2, 0, 1, 0, 1, 1, 1, 0, 2, 1, 0, 0, 2, 0, 1, 0, 0, 1, 2]\n"
          ]
        }
      ],
      "source": [
        "# Print the distinct labels (in the Iris data, there are only 3 distinct labels)\n",
        "print(f\"Distinct labels in the Iris dataset: {iris.target_names}\\n\")\n",
        "\n",
        "print(f\"Predicted labels:\\t {list(y_test_predicted)}\")\n",
        "print(f\"Actual labels:\\t\\t {list(y_test)}\")"
      ]
    },
    {
      "cell_type": "markdown",
      "metadata": {
        "id": "nTaHgY7uD0Jn"
      },
      "source": [
        "### Model Assessment"
      ]
    },
    {
      "cell_type": "code",
      "execution_count": null,
      "metadata": {
        "colab": {
          "base_uri": "https://localhost:8080/",
          "height": 258
        },
        "id": "g-REfpmqD14l",
        "outputId": "b7a4deeb-1b99-4d51-95f3-ed2f89af4162"
      },
      "outputs": [
        {
          "data": {
            "text/plain": [
              "array([[16,  0,  0],\n",
              "       [ 0, 15,  1],\n",
              "       [ 0,  1, 12]])"
            ]
          },
          "metadata": {},
          "output_type": "display_data"
        }
      ],
      "source": [
        "from sklearn.metrics import confusion_matrix\n",
        "\n",
        "confusionMatrix = confusion_matrix(y_test, y_test_predicted)\n",
        "\n",
        "# Rows are true values, Columns are predicted values\n",
        "display(confusionMatrix)"
      ]
    },
    {
      "cell_type": "code",
      "execution_count": null,
      "metadata": {
        "colab": {
          "base_uri": "https://localhost:8080/"
        },
        "id": "9kQbTyVJD3hG",
        "outputId": "37615801-3392-47ef-c886-5feac3309c06"
      },
      "outputs": [
        {
          "data": {
            "text/plain": [
              "0.9555555555555556"
            ]
          },
          "execution_count": 14,
          "metadata": {},
          "output_type": "execute_result"
        }
      ],
      "source": [
        "accuracy_score(y_test, y_test_predicted)"
      ]
    },
    {
      "cell_type": "code",
      "execution_count": null,
      "metadata": {
        "colab": {
          "base_uri": "https://localhost:8080/"
        },
        "id": "UaNXubedD4wc",
        "outputId": "47d58378-7ea2-48b0-e18d-9d67ccd0f3bd"
      },
      "outputs": [
        {
          "name": "stdout",
          "output_type": "stream",
          "text": [
            "              precision    recall  f1-score   support\n",
            "\n",
            "           0       1.00      1.00      1.00        16\n",
            "           1       0.94      0.94      0.94        16\n",
            "           2       0.92      0.92      0.92        13\n",
            "\n",
            "    accuracy                           0.96        45\n",
            "   macro avg       0.95      0.95      0.95        45\n",
            "weighted avg       0.96      0.96      0.96        45\n",
            "\n"
          ]
        }
      ],
      "source": [
        "print(classification_report(y_test, y_test_predicted))"
      ]
    },
    {
      "cell_type": "markdown",
      "metadata": {
        "id": "jORUYLkRCxjS"
      },
      "source": [
        "## KNN"
      ]
    },
    {
      "cell_type": "markdown",
      "metadata": {
        "id": "T1VsYKhdCy2-"
      },
      "source": [
        "### Pre-processing"
      ]
    },
    {
      "cell_type": "code",
      "execution_count": null,
      "metadata": {
        "colab": {
          "base_uri": "https://localhost:8080/"
        },
        "id": "GFsdmeoQC0b4",
        "outputId": "4ad2ede9-8b5a-445e-c3d6-9d20cf08f30b"
      },
      "outputs": [
        {
          "output_type": "stream",
          "name": "stdout",
          "text": [
            "       sepal length (cm)  sepal width (cm)  petal length (cm)  \\\n",
            "count       1.500000e+02      1.500000e+02       1.500000e+02   \n",
            "mean       -1.468455e-15     -1.823726e-15      -1.610564e-15   \n",
            "std         1.003350e+00      1.003350e+00       1.003350e+00   \n",
            "min        -1.870024e+00     -2.433947e+00      -1.567576e+00   \n",
            "25%        -9.006812e-01     -5.923730e-01      -1.226552e+00   \n",
            "50%        -5.250608e-02     -1.319795e-01       3.364776e-01   \n",
            "75%         6.745011e-01      5.586108e-01       7.627583e-01   \n",
            "max         2.492019e+00      3.090775e+00       1.785832e+00   \n",
            "\n",
            "       petal width (cm)  \n",
            "count      1.500000e+02  \n",
            "mean      -9.473903e-16  \n",
            "std        1.003350e+00  \n",
            "min       -1.447076e+00  \n",
            "25%       -1.183812e+00  \n",
            "50%        1.325097e-01  \n",
            "75%        7.906707e-01  \n",
            "max        1.712096e+00  \n"
          ]
        }
      ],
      "source": [
        "# print(X.describe())\n",
        "\n",
        "# Scale the whole data\n",
        "from sklearn.preprocessing import StandardScaler\n",
        "X_scaled = StandardScaler().fit_transform(X)\n",
        "# print(X_scaled)\n",
        "\n",
        "X_scaled = pd.DataFrame(X_scaled, columns=X.columns)\n",
        "print(X_scaled.describe())"
      ]
    },
    {
      "cell_type": "markdown",
      "metadata": {
        "id": "wIfnDZZuC3nF"
      },
      "source": [
        "### Train Test Split (using scaled data)"
      ]
    },
    {
      "cell_type": "code",
      "execution_count": null,
      "metadata": {
        "colab": {
          "base_uri": "https://localhost:8080/"
        },
        "id": "5nTgWjLVEET6",
        "outputId": "58fc1994-9f75-4618-fdde-94d3a5dc52d7"
      },
      "outputs": [
        {
          "name": "stdout",
          "output_type": "stream",
          "text": [
            "(105, 4) (45, 4) (105,) (45,)\n"
          ]
        }
      ],
      "source": [
        "# Split data into train and test sets\n",
        "from sklearn.model_selection import train_test_split\n",
        "\n",
        "# Test size: %30 - compute train test split on \"scaled\" data\n",
        "X_train_scaled, X_test_scaled, y_train, y_test = train_test_split(X_scaled, y, test_size=0.30)\n",
        "\n",
        "print(X_train_scaled.shape, X_test_scaled.shape, y_train.shape, y_test.shape)"
      ]
    },
    {
      "cell_type": "markdown",
      "metadata": {
        "id": "F5iYzLhlEGKP"
      },
      "source": [
        "### KNN: Model Development, Training, and Prediction"
      ]
    },
    {
      "cell_type": "code",
      "execution_count": null,
      "metadata": {
        "id": "lsXV-15kEJwb"
      },
      "outputs": [],
      "source": [
        "# Import the library\n",
        "from sklearn.neighbors import KNeighborsClassifier\n",
        "\n",
        "# Create the model\n",
        "model = KNeighborsClassifier(n_neighbors=10) # n_neighbors = 10\n",
        "\n",
        "# Train the model with \"scaled\"\n",
        "model.fit(X_train_scaled, y_train)\n",
        "\n",
        "# Predict using \"scaled\" test\n",
        "y_test_predicted = model.predict(X_test_scaled)"
      ]
    },
    {
      "cell_type": "markdown",
      "metadata": {
        "id": "DzoJMbzqELRG"
      },
      "source": [
        "### Results: Predicted Clasess"
      ]
    },
    {
      "cell_type": "code",
      "execution_count": null,
      "metadata": {
        "colab": {
          "base_uri": "https://localhost:8080/"
        },
        "id": "dsNFQEKeEOX2",
        "outputId": "28dfe52f-fe2b-46e6-d0cf-41dad3af7860"
      },
      "outputs": [
        {
          "name": "stdout",
          "output_type": "stream",
          "text": [
            "Distinct labels in the Iris dataset: ['setosa' 'versicolor' 'virginica']\n",
            "\n",
            "Predicted labels:\t [2, 0, 0, 1, 1, 1, 0, 1, 1, 1, 1, 1, 1, 1, 1, 1, 1, 2, 2, 1, 2, 1, 0, 0, 1, 1, 0, 0, 0, 1, 1, 1, 1, 0, 2, 2, 0, 1, 0, 2, 2, 2, 2, 0, 2]\n",
            "Actual labels:\t\t [2, 0, 0, 1, 1, 1, 0, 1, 1, 1, 1, 1, 1, 1, 1, 1, 1, 2, 2, 1, 2, 2, 0, 0, 1, 1, 0, 0, 0, 1, 1, 1, 1, 0, 2, 2, 0, 1, 0, 2, 2, 2, 2, 0, 2]\n"
          ]
        }
      ],
      "source": [
        "# Print the distinct labels (in the Iris data, there are only 3 distinct labels)\n",
        "print(f\"Distinct labels in the Iris dataset: {iris.target_names}\\n\")\n",
        "\n",
        "print(f\"Predicted labels:\\t {list(y_test_predicted)}\")\n",
        "print(f\"Actual labels:\\t\\t {list(y_test)}\")"
      ]
    },
    {
      "cell_type": "markdown",
      "metadata": {
        "id": "zmimzTTYEQNR"
      },
      "source": [
        "### Results: Confusion Matrix"
      ]
    },
    {
      "cell_type": "code",
      "execution_count": null,
      "metadata": {
        "colab": {
          "base_uri": "https://localhost:8080/",
          "height": 258
        },
        "id": "goRD_3X4ES6J",
        "outputId": "3085cd63-0bc2-4831-cfd5-20ccf91f9b26"
      },
      "outputs": [
        {
          "data": {
            "text/plain": [
              "array([[12,  0,  0],\n",
              "       [ 0, 21,  0],\n",
              "       [ 0,  1, 11]])"
            ]
          },
          "metadata": {},
          "output_type": "display_data"
        }
      ],
      "source": [
        "from sklearn.metrics import confusion_matrix\n",
        "\n",
        "confusionMatrix = confusion_matrix(y_test, y_test_predicted)\n",
        "\n",
        "# Rows are true values, Columns are predicted values\n",
        "display(confusionMatrix)"
      ]
    },
    {
      "cell_type": "markdown",
      "metadata": {
        "id": "YNSEoN0aEUwm"
      },
      "source": [
        "### Results: Accuracy Score"
      ]
    },
    {
      "cell_type": "code",
      "execution_count": null,
      "metadata": {
        "colab": {
          "base_uri": "https://localhost:8080/"
        },
        "id": "X-JY8CdPEXAY",
        "outputId": "82c9e9b9-fb5a-4009-cd26-eb3334478b94"
      },
      "outputs": [
        {
          "data": {
            "text/plain": [
              "0.9777777777777777"
            ]
          },
          "execution_count": 21,
          "metadata": {},
          "output_type": "execute_result"
        }
      ],
      "source": [
        "accuracy_score(y_test, y_test_predicted)"
      ]
    },
    {
      "cell_type": "markdown",
      "metadata": {
        "id": "TD5ei3-bEYcS"
      },
      "source": [
        "###Results: Classification Report (including accuracy score)"
      ]
    },
    {
      "cell_type": "code",
      "execution_count": null,
      "metadata": {
        "colab": {
          "base_uri": "https://localhost:8080/"
        },
        "id": "VU6Ik8RmEb4W",
        "outputId": "9b7c53f1-95fc-4915-f9ec-b539f01da9ab"
      },
      "outputs": [
        {
          "name": "stdout",
          "output_type": "stream",
          "text": [
            "              precision    recall  f1-score   support\n",
            "\n",
            "           0       1.00      1.00      1.00        12\n",
            "           1       0.95      1.00      0.98        21\n",
            "           2       1.00      0.92      0.96        12\n",
            "\n",
            "    accuracy                           0.98        45\n",
            "   macro avg       0.98      0.97      0.98        45\n",
            "weighted avg       0.98      0.98      0.98        45\n",
            "\n"
          ]
        }
      ],
      "source": [
        "print(classification_report(y_test, y_test_predicted))"
      ]
    },
    {
      "cell_type": "markdown",
      "metadata": {
        "id": "Ok85_wuNEdM1"
      },
      "source": [
        "## Naive Bayes"
      ]
    },
    {
      "cell_type": "markdown",
      "metadata": {
        "id": "tlki1A7yEe3H"
      },
      "source": [
        "###Train Test Split"
      ]
    },
    {
      "cell_type": "code",
      "execution_count": null,
      "metadata": {
        "colab": {
          "base_uri": "https://localhost:8080/"
        },
        "id": "YZs_JmDgEg5s",
        "outputId": "2a8c1d24-d818-47fe-8791-45ba437cf3bb"
      },
      "outputs": [
        {
          "name": "stdout",
          "output_type": "stream",
          "text": [
            "(105, 4) (45, 4) (105,) (45,)\n"
          ]
        }
      ],
      "source": [
        "# Split data into train and test sets\n",
        "from sklearn.model_selection import train_test_split\n",
        "\n",
        "# Test size: %30 - compute train test split on \"scaled\" data\n",
        "X_train, X_test, y_train, y_test = train_test_split(X, y, test_size=0.30)\n",
        "\n",
        "print(X_train.shape, X_test.shape, y_train.shape, y_test.shape)"
      ]
    },
    {
      "cell_type": "markdown",
      "metadata": {
        "id": "PQkxByhXEip1"
      },
      "source": [
        "### Gaussian Naive Bayes: Model Development, Training, and Prediction"
      ]
    },
    {
      "cell_type": "code",
      "execution_count": null,
      "metadata": {
        "id": "jAQCTAsUEnGe"
      },
      "outputs": [],
      "source": [
        "# import the library\n",
        "from sklearn.naive_bayes import GaussianNB\n",
        "\n",
        "# Model development\n",
        "model = GaussianNB()\n",
        "\n",
        "# Train model using train data (NOT scaled!)\n",
        "model.fit(X_train, y_train)\n",
        "\n",
        "# Predict using the test data (NOT scaled!)\n",
        "y_test_predicted = model.predict(X_test)"
      ]
    },
    {
      "cell_type": "markdown",
      "metadata": {
        "id": "0ra-lRwzEo82"
      },
      "source": [
        "### Results: Predicted Classes"
      ]
    },
    {
      "cell_type": "code",
      "execution_count": null,
      "metadata": {
        "colab": {
          "base_uri": "https://localhost:8080/"
        },
        "id": "pwhob9u1Erdu",
        "outputId": "89d64520-3b52-4e0b-a8cd-b0820e884b8d"
      },
      "outputs": [
        {
          "name": "stdout",
          "output_type": "stream",
          "text": [
            "Distinct labels in the Iris dataset: ['setosa' 'versicolor' 'virginica']\n",
            "\n",
            "Predicted labels:\t [1, 2, 2, 1, 2, 2, 2, 1, 2, 1, 2, 1, 0, 0, 1, 2, 1, 1, 0, 0, 2, 1, 1, 1, 0, 0, 2, 2, 0, 0, 1, 0, 1, 2, 2, 0, 0, 1, 2, 1, 1, 1, 1, 2, 2]\n",
            "Actual labels:\t\t [1, 2, 2, 1, 2, 2, 2, 1, 2, 1, 2, 1, 0, 0, 1, 2, 1, 1, 0, 0, 2, 1, 1, 1, 0, 0, 2, 2, 0, 0, 1, 0, 1, 2, 2, 0, 0, 1, 2, 1, 1, 1, 1, 2, 2]\n"
          ]
        }
      ],
      "source": [
        "# Print the distinct labels (in the Iris data, there are only 3 distinct labels)\n",
        "print(f\"Distinct labels in the Iris dataset: {iris.target_names}\\n\")\n",
        "\n",
        "print(f\"Predicted labels:\\t {list(y_test_predicted)}\")\n",
        "print(f\"Actual labels:\\t\\t {list(y_test)}\")"
      ]
    },
    {
      "cell_type": "markdown",
      "metadata": {
        "id": "lixHDKBSEsoJ"
      },
      "source": [
        "### Results: Confusion Matrix"
      ]
    },
    {
      "cell_type": "code",
      "execution_count": null,
      "metadata": {
        "colab": {
          "base_uri": "https://localhost:8080/",
          "height": 258
        },
        "id": "zCUawSyfExSY",
        "outputId": "1e953f1a-7469-4f91-85b9-26103934a5af"
      },
      "outputs": [
        {
          "data": {
            "text/plain": [
              "array([[11,  0,  0],\n",
              "       [ 0, 18,  0],\n",
              "       [ 0,  0, 16]])"
            ]
          },
          "metadata": {},
          "output_type": "display_data"
        }
      ],
      "source": [
        "from sklearn.metrics import confusion_matrix\n",
        "\n",
        "confusionMatrix = confusion_matrix(y_test, y_test_predicted)\n",
        "\n",
        "# Rows are true values, Columns are predicted values\n",
        "display(confusionMatrix)"
      ]
    },
    {
      "cell_type": "markdown",
      "metadata": {
        "id": "fdiO4oyHEy2c"
      },
      "source": [
        "### Results: Classification Report & Accuracy Score"
      ]
    },
    {
      "cell_type": "code",
      "execution_count": null,
      "metadata": {
        "colab": {
          "base_uri": "https://localhost:8080/"
        },
        "id": "IhO8SMATE2PC",
        "outputId": "73a76f9b-b482-413b-f2c9-6ea1907db636"
      },
      "outputs": [
        {
          "name": "stdout",
          "output_type": "stream",
          "text": [
            "Accuracy Score: 1.0\n",
            "              precision    recall  f1-score   support\n",
            "\n",
            "           0       1.00      1.00      1.00        11\n",
            "           1       1.00      1.00      1.00        18\n",
            "           2       1.00      1.00      1.00        16\n",
            "\n",
            "    accuracy                           1.00        45\n",
            "   macro avg       1.00      1.00      1.00        45\n",
            "weighted avg       1.00      1.00      1.00        45\n",
            "\n"
          ]
        }
      ],
      "source": [
        "print(f\"Accuracy Score: {accuracy_score(y_test, y_test_predicted)}\")\n",
        "print(classification_report(y_test, y_test_predicted))"
      ]
    },
    {
      "cell_type": "markdown",
      "metadata": {
        "id": "5FiUCxcNE3zG"
      },
      "source": [
        "### Results: Probability Matrix"
      ]
    },
    {
      "cell_type": "code",
      "execution_count": null,
      "metadata": {
        "colab": {
          "base_uri": "https://localhost:8080/"
        },
        "id": "rbXhYRtyE6y9",
        "outputId": "7d6347b8-d440-40f2-9a0a-57ab747c7fbf"
      },
      "outputs": [
        {
          "data": {
            "text/plain": [
              "array([[1.10962127e-120, 9.83620569e-001, 1.63794308e-002],\n",
              "       [1.64660833e-160, 1.36915774e-001, 8.63084226e-001],\n",
              "       [6.79846077e-180, 3.68369272e-002, 9.63163073e-001],\n",
              "       [5.80809414e-118, 9.34389967e-001, 6.56100333e-002],\n",
              "       [4.40265916e-230, 1.66426110e-006, 9.99998336e-001],\n",
              "       [3.26263277e-227, 1.00358306e-005, 9.99989964e-001],\n",
              "       [2.07577930e-294, 2.08129071e-010, 1.00000000e+000],\n",
              "       [4.50363051e-041, 9.99999048e-001, 9.51803417e-007],\n",
              "       [1.45448658e-197, 6.67401632e-004, 9.99332598e-001],\n",
              "       [1.35940862e-115, 9.87017847e-001, 1.29821533e-002],\n",
              "       [7.27724137e-156, 2.46708859e-001, 7.53291141e-001],\n",
              "       [5.70796213e-108, 9.83853683e-001, 1.61463173e-002],\n",
              "       [1.00000000e+000, 7.22003347e-018, 6.59170072e-024],\n",
              "       [1.00000000e+000, 1.46899255e-016, 3.28329426e-023],\n",
              "       [9.64253618e-084, 9.99832745e-001, 1.67255215e-004],\n",
              "       [1.44749467e-196, 2.63172237e-003, 9.97368278e-001],\n",
              "       [1.08244223e-082, 9.99933667e-001, 6.63325511e-005],\n",
              "       [4.08823821e-108, 9.73595673e-001, 2.64043268e-002],\n",
              "       [1.00000000e+000, 2.43562408e-017, 9.58773517e-024],\n",
              "       [1.00000000e+000, 9.44183162e-019, 1.21949472e-024],\n",
              "       [4.76857835e-255, 3.32789321e-007, 9.99999667e-001],\n",
              "       [4.67126044e-067, 9.99948402e-001, 5.15984608e-005],\n",
              "       [2.68634066e-068, 9.99984744e-001, 1.52560682e-005],\n",
              "       [3.80224292e-134, 6.39050538e-001, 3.60949462e-001],\n",
              "       [9.99999999e-001, 5.42433331e-010, 2.86040898e-016],\n",
              "       [1.00000000e+000, 1.09213310e-017, 4.68095984e-024],\n",
              "       [1.86778576e-309, 3.75651872e-010, 1.00000000e+000],\n",
              "       [9.03896321e-204, 7.32421061e-004, 9.99267579e-001],\n",
              "       [1.00000000e+000, 2.87866028e-018, 2.82198409e-024],\n",
              "       [1.00000000e+000, 1.12301742e-020, 2.91535518e-026],\n",
              "       [2.21960115e-123, 7.58351954e-001, 2.41648046e-001],\n",
              "       [1.00000000e+000, 5.73869541e-011, 1.72976801e-017],\n",
              "       [7.44804772e-097, 9.97809009e-001, 2.19099087e-003],\n",
              "       [1.22199028e-313, 3.82685198e-012, 1.00000000e+000],\n",
              "       [4.28272033e-284, 6.13281705e-010, 9.99999999e-001],\n",
              "       [1.00000000e+000, 9.16256376e-017, 3.57247162e-023],\n",
              "       [1.00000000e+000, 1.41862359e-014, 4.28132694e-020],\n",
              "       [1.05821117e-048, 9.99996644e-001, 3.35568395e-006],\n",
              "       [1.16854018e-183, 1.99100181e-002, 9.80089982e-001],\n",
              "       [2.09191597e-155, 6.29115327e-001, 3.70884673e-001],\n",
              "       [3.26433637e-073, 9.99947524e-001, 5.24760739e-005],\n",
              "       [1.86621183e-086, 9.99751495e-001, 2.48504928e-004],\n",
              "       [8.83425953e-068, 9.99984513e-001, 1.54869870e-005],\n",
              "       [1.09286923e-233, 8.95689612e-006, 9.99991043e-001],\n",
              "       [2.57151139e-176, 3.61102017e-002, 9.63889798e-001]])"
            ]
          },
          "execution_count": 28,
          "metadata": {},
          "output_type": "execute_result"
        }
      ],
      "source": [
        "# Probabilities for each feature\n",
        "model.predict_proba(X_test)\n"
      ]
    },
    {
      "cell_type": "markdown",
      "metadata": {
        "id": "cSZvb4mpfjBD"
      },
      "source": [
        "## New Dataset: Breast Cancer Dataset"
      ]
    },
    {
      "cell_type": "markdown",
      "metadata": {
        "id": "PIDsE2T5HC9x"
      },
      "source": [
        "###Importing Data"
      ]
    },
    {
      "cell_type": "code",
      "execution_count": null,
      "metadata": {
        "colab": {
          "base_uri": "https://localhost:8080/",
          "height": 1000
        },
        "id": "1OhTwkhFHFjm",
        "outputId": "66ff368e-e6af-4bd7-e330-33d56a793f54"
      },
      "outputs": [
        {
          "output_type": "stream",
          "name": "stdout",
          "text": [
            "Shape of the data: (569, 30)\n",
            "       mean radius  mean texture  mean perimeter    mean area  \\\n",
            "count   569.000000    569.000000      569.000000   569.000000   \n",
            "mean     14.127292     19.289649       91.969033   654.889104   \n",
            "std       3.524049      4.301036       24.298981   351.914129   \n",
            "min       6.981000      9.710000       43.790000   143.500000   \n",
            "25%      11.700000     16.170000       75.170000   420.300000   \n",
            "50%      13.370000     18.840000       86.240000   551.100000   \n",
            "75%      15.780000     21.800000      104.100000   782.700000   \n",
            "max      28.110000     39.280000      188.500000  2501.000000   \n",
            "\n",
            "       mean smoothness  mean compactness  mean concavity  mean concave points  \\\n",
            "count       569.000000        569.000000      569.000000           569.000000   \n",
            "mean          0.096360          0.104341        0.088799             0.048919   \n",
            "std           0.014064          0.052813        0.079720             0.038803   \n",
            "min           0.052630          0.019380        0.000000             0.000000   \n",
            "25%           0.086370          0.064920        0.029560             0.020310   \n",
            "50%           0.095870          0.092630        0.061540             0.033500   \n",
            "75%           0.105300          0.130400        0.130700             0.074000   \n",
            "max           0.163400          0.345400        0.426800             0.201200   \n",
            "\n",
            "       mean symmetry  mean fractal dimension  ...  worst radius  \\\n",
            "count     569.000000              569.000000  ...    569.000000   \n",
            "mean        0.181162                0.062798  ...     16.269190   \n",
            "std         0.027414                0.007060  ...      4.833242   \n",
            "min         0.106000                0.049960  ...      7.930000   \n",
            "25%         0.161900                0.057700  ...     13.010000   \n",
            "50%         0.179200                0.061540  ...     14.970000   \n",
            "75%         0.195700                0.066120  ...     18.790000   \n",
            "max         0.304000                0.097440  ...     36.040000   \n",
            "\n",
            "       worst texture  worst perimeter   worst area  worst smoothness  \\\n",
            "count     569.000000       569.000000   569.000000        569.000000   \n",
            "mean       25.677223       107.261213   880.583128          0.132369   \n",
            "std         6.146258        33.602542   569.356993          0.022832   \n",
            "min        12.020000        50.410000   185.200000          0.071170   \n",
            "25%        21.080000        84.110000   515.300000          0.116600   \n",
            "50%        25.410000        97.660000   686.500000          0.131300   \n",
            "75%        29.720000       125.400000  1084.000000          0.146000   \n",
            "max        49.540000       251.200000  4254.000000          0.222600   \n",
            "\n",
            "       worst compactness  worst concavity  worst concave points  \\\n",
            "count         569.000000       569.000000            569.000000   \n",
            "mean            0.254265         0.272188              0.114606   \n",
            "std             0.157336         0.208624              0.065732   \n",
            "min             0.027290         0.000000              0.000000   \n",
            "25%             0.147200         0.114500              0.064930   \n",
            "50%             0.211900         0.226700              0.099930   \n",
            "75%             0.339100         0.382900              0.161400   \n",
            "max             1.058000         1.252000              0.291000   \n",
            "\n",
            "       worst symmetry  worst fractal dimension  \n",
            "count      569.000000               569.000000  \n",
            "mean         0.290076                 0.083946  \n",
            "std          0.061867                 0.018061  \n",
            "min          0.156500                 0.055040  \n",
            "25%          0.250400                 0.071460  \n",
            "50%          0.282200                 0.080040  \n",
            "75%          0.317900                 0.092080  \n",
            "max          0.663800                 0.207500  \n",
            "\n",
            "[8 rows x 30 columns]\n"
          ]
        },
        {
          "output_type": "display_data",
          "data": {
            "text/plain": [
              "array(['malignant', 'benign'], dtype='<U9')"
            ]
          },
          "metadata": {}
        },
        {
          "output_type": "stream",
          "name": "stdout",
          "text": [
            "[0 0 0 0 0 0 0 0 0 0 0 0 0 0 0 0 0 0 0 1 1 1 0 0 0 0 0 0 0 0 0 0 0 0 0 0 0\n",
            " 1 0 0 0 0 0 0 0 0 1 0 1 1 1 1 1 0 0 1 0 0 1 1 1 1 0 1 0 0 1 1 1 1 0 1 0 0\n",
            " 1 0 1 0 0 1 1 1 0 0 1 0 0 0 1 1 1 0 1 1 0 0 1 1 1 0 0 1 1 1 1 0 1 1 0 1 1\n",
            " 1 1 1 1 1 1 0 0 0 1 0 0 1 1 1 0 0 1 0 1 0 0 1 0 0 1 1 0 1 1 0 1 1 1 1 0 1\n",
            " 1 1 1 1 1 1 1 1 0 1 1 1 1 0 0 1 0 1 1 0 0 1 1 0 0 1 1 1 1 0 1 1 0 0 0 1 0\n",
            " 1 0 1 1 1 0 1 1 0 0 1 0 0 0 0 1 0 0 0 1 0 1 0 1 1 0 1 0 0 0 0 1 1 0 0 1 1\n",
            " 1 0 1 1 1 1 1 0 0 1 1 0 1 1 0 0 1 0 1 1 1 1 0 1 1 1 1 1 0 1 0 0 0 0 0 0 0\n",
            " 0 0 0 0 0 0 0 1 1 1 1 1 1 0 1 0 1 1 0 1 1 0 1 0 0 1 1 1 1 1 1 1 1 1 1 1 1\n",
            " 1 0 1 1 0 1 0 1 1 1 1 1 1 1 1 1 1 1 1 1 1 0 1 1 1 0 1 0 1 1 1 1 0 0 0 1 1\n",
            " 1 1 0 1 0 1 0 1 1 1 0 1 1 1 1 1 1 1 0 0 0 1 1 1 1 1 1 1 1 1 1 1 0 0 1 0 0\n",
            " 0 1 0 0 1 1 1 1 1 0 1 1 1 1 1 0 1 1 1 0 1 1 0 0 1 1 1 1 1 1 0 1 1 1 1 1 1\n",
            " 1 0 1 1 1 1 1 0 1 1 0 1 1 1 1 1 1 1 1 1 1 1 1 0 1 0 0 1 0 1 1 1 1 1 0 1 1\n",
            " 0 1 0 1 1 0 1 0 1 1 1 1 1 1 1 1 0 0 1 1 1 1 1 1 0 1 1 1 1 1 1 1 1 1 1 0 1\n",
            " 1 1 1 1 1 1 0 1 0 1 1 0 1 1 1 1 1 0 0 1 0 1 0 1 1 1 1 1 0 1 1 0 1 0 1 0 0\n",
            " 1 1 1 0 1 1 1 1 1 1 1 1 1 1 1 0 1 0 0 1 1 1 1 1 1 1 1 1 1 1 1 1 1 1 1 1 1\n",
            " 1 1 1 1 1 1 1 0 0 0 0 0 0 1]\n"
          ]
        }
      ],
      "source": [
        "from sklearn.datasets import load_breast_cancer\n",
        "import pandas as pd\n",
        "\n",
        "breast_cancer_data = load_breast_cancer()\n",
        "\n",
        "X = pd.DataFrame(breast_cancer_data.data, columns = breast_cancer_data.feature_names)\n",
        "y = breast_cancer_data.target\n",
        "\n",
        "print(f\"Shape of the data: {X.shape}\")\n",
        "print(X.describe())\n",
        "display(breast_cancer_data.target_names)\n",
        "print(y)"
      ]
    },
    {
      "cell_type": "markdown",
      "metadata": {
        "id": "fJuJzuwnHIDU"
      },
      "source": [
        "### Train Test Split"
      ]
    },
    {
      "cell_type": "code",
      "execution_count": null,
      "metadata": {
        "colab": {
          "base_uri": "https://localhost:8080/",
          "height": 229
        },
        "id": "DvUgzHHJHJr3",
        "outputId": "667dc6de-1d25-45b8-d167-a752dc22f096"
      },
      "outputs": [
        {
          "output_type": "error",
          "ename": "NameError",
          "evalue": "name 'X' is not defined",
          "traceback": [
            "\u001b[0;31m---------------------------------------------------------------------------\u001b[0m",
            "\u001b[0;31mNameError\u001b[0m                                 Traceback (most recent call last)",
            "\u001b[0;32m<ipython-input-1-579534cdf3b5>\u001b[0m in \u001b[0;36m<cell line: 4>\u001b[0;34m()\u001b[0m\n\u001b[1;32m      2\u001b[0m \u001b[0;32mfrom\u001b[0m \u001b[0msklearn\u001b[0m\u001b[0;34m.\u001b[0m\u001b[0mmodel_selection\u001b[0m \u001b[0;32mimport\u001b[0m \u001b[0mtrain_test_split\u001b[0m\u001b[0;34m\u001b[0m\u001b[0;34m\u001b[0m\u001b[0m\n\u001b[1;32m      3\u001b[0m \u001b[0;34m\u001b[0m\u001b[0m\n\u001b[0;32m----> 4\u001b[0;31m \u001b[0mX_train\u001b[0m\u001b[0;34m,\u001b[0m \u001b[0mX_test\u001b[0m\u001b[0;34m,\u001b[0m \u001b[0my_train\u001b[0m\u001b[0;34m,\u001b[0m \u001b[0my_test\u001b[0m \u001b[0;34m=\u001b[0m \u001b[0mtrain_test_split\u001b[0m\u001b[0;34m(\u001b[0m\u001b[0mX\u001b[0m\u001b[0;34m,\u001b[0m \u001b[0my\u001b[0m\u001b[0;34m,\u001b[0m \u001b[0mtest_size\u001b[0m\u001b[0;34m=\u001b[0m\u001b[0;36m0.30\u001b[0m\u001b[0;34m)\u001b[0m\u001b[0;34m\u001b[0m\u001b[0;34m\u001b[0m\u001b[0m\n\u001b[0m\u001b[1;32m      5\u001b[0m \u001b[0mprint\u001b[0m\u001b[0;34m(\u001b[0m\u001b[0mX_train\u001b[0m\u001b[0;34m,\u001b[0m \u001b[0mX_test\u001b[0m\u001b[0;34m,\u001b[0m \u001b[0my_train\u001b[0m\u001b[0;34m,\u001b[0m \u001b[0my_test\u001b[0m\u001b[0;34m)\u001b[0m\u001b[0;34m\u001b[0m\u001b[0;34m\u001b[0m\u001b[0m\n",
            "\u001b[0;31mNameError\u001b[0m: name 'X' is not defined"
          ]
        }
      ],
      "source": [
        "# Train test split\n",
        "from sklearn.model_selection import train_test_split\n",
        "\n",
        "X_train, X_test, y_train, y_test = train_test_split(X, y, test_size=0.30)\n",
        "print(X_train, X_test, y_train, y_test)\n"
      ]
    },
    {
      "cell_type": "markdown",
      "metadata": {
        "id": "pega65rhHM3a"
      },
      "source": [
        "### Naive Bayes"
      ]
    },
    {
      "cell_type": "code",
      "execution_count": null,
      "metadata": {
        "id": "OH75JThZHQBl"
      },
      "outputs": [],
      "source": [
        "# Naive Bayes\n",
        "from sklearn.naive_bayes import GaussianNB\n",
        "\n",
        "# Model development\n",
        "model = GaussianNB()\n",
        "\n",
        "# Train the model using \"train\" data\n",
        "model.fit(X_train, y_train)\n",
        "\n",
        "# Predict\n",
        "y_test_predicted = model.predict(X_test)"
      ]
    },
    {
      "cell_type": "code",
      "execution_count": null,
      "metadata": {
        "colab": {
          "base_uri": "https://localhost:8080/"
        },
        "id": "pDQ5aNtMHRVB",
        "outputId": "1c39221b-a57c-431b-ba6a-9d3725caf0a4"
      },
      "outputs": [
        {
          "name": "stdout",
          "output_type": "stream",
          "text": [
            "Distinct labels in the dataset: ['malignant' 'benign']\n",
            "\n",
            "Predicted labels:\t [1, 1, 1, 1, 0, 1, 1, 0, 0, 0, 0, 0, 0, 1, 1, 0, 1, 1, 0, 1, 1, 1, 0, 0, 0, 0, 0, 1, 1, 0, 1, 1, 1, 0, 1, 1, 0, 0, 1, 1, 1, 0, 1, 1, 1, 1, 0, 0, 0, 1, 1, 1, 0, 1, 1, 1, 1, 1, 1, 0, 0, 0, 0, 0, 1, 1, 1, 1, 0, 1, 0, 1, 1, 0, 1, 0, 1, 0, 0, 1, 1, 0, 0, 1, 0, 1, 0, 1, 1, 1, 0, 1, 1, 0, 0, 1, 1, 1, 1, 1, 0, 0, 0, 1, 1, 0, 0, 0, 0, 1, 1, 1, 1, 1, 1, 1, 1, 1, 0, 1, 1, 0, 1, 1, 1, 1, 1, 1, 0, 1, 1, 0, 0, 1, 1, 1, 1, 1, 1, 1, 0, 1, 1, 1, 1, 0, 0, 0, 1, 0, 1, 0, 1, 0, 1, 1, 1, 1, 1, 1, 1, 1, 1, 1, 1, 1, 1, 0, 0, 1, 1]\n",
            "Actual labels:\t\t [1, 1, 1, 0, 0, 1, 1, 0, 0, 0, 1, 1, 0, 1, 1, 0, 1, 1, 0, 1, 1, 1, 0, 0, 0, 0, 0, 1, 1, 0, 1, 1, 1, 0, 1, 1, 0, 0, 1, 1, 1, 0, 1, 1, 1, 1, 0, 0, 0, 1, 1, 1, 0, 1, 1, 1, 1, 1, 1, 0, 0, 0, 0, 1, 1, 1, 1, 1, 0, 1, 0, 1, 1, 0, 1, 0, 0, 0, 0, 1, 1, 0, 0, 1, 1, 1, 0, 1, 1, 1, 0, 1, 1, 0, 0, 1, 1, 1, 1, 1, 1, 0, 0, 1, 1, 0, 0, 0, 0, 1, 1, 1, 1, 1, 1, 1, 1, 1, 0, 1, 1, 0, 1, 1, 1, 1, 1, 1, 0, 1, 1, 0, 0, 1, 1, 1, 1, 1, 1, 1, 0, 1, 1, 1, 1, 0, 0, 0, 1, 0, 1, 0, 1, 0, 1, 1, 1, 1, 1, 1, 1, 1, 1, 1, 1, 1, 1, 0, 0, 1, 1]\n"
          ]
        }
      ],
      "source": [
        "# Print the distinct labels (in the Iris data, there are only 3 distinct labels)\n",
        "print(f\"Distinct labels in the dataset: {breast_cancer_data.target_names}\\n\")\n",
        "\n",
        "print(f\"Predicted labels:\\t {list(y_test_predicted)}\")\n",
        "print(f\"Actual labels:\\t\\t {list(y_test)}\")"
      ]
    },
    {
      "cell_type": "code",
      "execution_count": null,
      "metadata": {
        "colab": {
          "base_uri": "https://localhost:8080/",
          "height": 156
        },
        "id": "LoFl_eqTHSok",
        "outputId": "22914fc0-dd3b-4e2e-e4fc-f85acd5b1c79"
      },
      "outputs": [
        {
          "data": {
            "text/plain": [
              "array([[ 57,   2],\n",
              "       [  5, 107]])"
            ]
          },
          "metadata": {},
          "output_type": "display_data"
        }
      ],
      "source": [
        "from sklearn.metrics import confusion_matrix\n",
        "\n",
        "confusionMatrix = confusion_matrix(y_test, y_test_predicted)\n",
        "\n",
        "# Rows are true values, Columns are predicted values\n",
        "display(confusionMatrix)"
      ]
    },
    {
      "cell_type": "code",
      "execution_count": null,
      "metadata": {
        "colab": {
          "base_uri": "https://localhost:8080/"
        },
        "id": "r9raue-THUf3",
        "outputId": "a0531aba-3ca1-4c3f-b32d-78bf3c977879"
      },
      "outputs": [
        {
          "name": "stdout",
          "output_type": "stream",
          "text": [
            "Accuracy Score: 0.9590643274853801\n",
            "              precision    recall  f1-score   support\n",
            "\n",
            "           0       0.92      0.97      0.94        59\n",
            "           1       0.98      0.96      0.97       112\n",
            "\n",
            "    accuracy                           0.96       171\n",
            "   macro avg       0.95      0.96      0.96       171\n",
            "weighted avg       0.96      0.96      0.96       171\n",
            "\n"
          ]
        }
      ],
      "source": [
        "from sklearn.metrics import accuracy_score\n",
        "from sklearn.metrics import classification_report\n",
        "\n",
        "print(f\"Accuracy Score: {accuracy_score(y_test, y_test_predicted)}\")\n",
        "print(classification_report(y_test, y_test_predicted))"
      ]
    },
    {
      "cell_type": "code",
      "execution_count": null,
      "metadata": {
        "colab": {
          "base_uri": "https://localhost:8080/"
        },
        "id": "FkhHnaDXHVGy",
        "outputId": "99af9572-9a60-4325-d322-376aaa95f71f"
      },
      "outputs": [
        {
          "data": {
            "text/plain": [
              "array([[2.81019597e-011, 1.00000000e+000],\n",
              "       [2.55902955e-011, 1.00000000e+000],\n",
              "       [8.00421280e-016, 1.00000000e+000],\n",
              "       [2.37966232e-002, 9.76203377e-001],\n",
              "       [1.00000000e+000, 0.00000000e+000],\n",
              "       [4.26244061e-011, 1.00000000e+000],\n",
              "       [4.92340917e-013, 1.00000000e+000],\n",
              "       [1.00000000e+000, 5.42341072e-026],\n",
              "       [1.00000000e+000, 1.63578934e-015],\n",
              "       [1.00000000e+000, 6.77996993e-047],\n",
              "       [9.99552194e-001, 4.47805682e-004],\n",
              "       [6.60259144e-001, 3.39740856e-001],\n",
              "       [1.00000000e+000, 1.09549824e-147],\n",
              "       [9.64579096e-010, 9.99999999e-001],\n",
              "       [5.19780087e-015, 1.00000000e+000],\n",
              "       [1.00000000e+000, 1.92815047e-011],\n",
              "       [2.83535440e-014, 1.00000000e+000],\n",
              "       [5.35875408e-011, 1.00000000e+000],\n",
              "       [1.00000000e+000, 2.60745198e-092],\n",
              "       [5.62556579e-012, 1.00000000e+000],\n",
              "       [2.11050144e-013, 1.00000000e+000],\n",
              "       [2.90994151e-016, 1.00000000e+000],\n",
              "       [1.00000000e+000, 1.28830210e-023],\n",
              "       [1.00000000e+000, 3.82834342e-076],\n",
              "       [9.99999573e-001, 4.27426625e-007],\n",
              "       [1.00000000e+000, 8.03253454e-236],\n",
              "       [1.00000000e+000, 1.49068045e-103],\n",
              "       [4.92012294e-009, 9.99999995e-001],\n",
              "       [5.82299324e-015, 1.00000000e+000],\n",
              "       [1.00000000e+000, 1.46826566e-018],\n",
              "       [1.02319968e-015, 1.00000000e+000],\n",
              "       [4.15271058e-002, 9.58472894e-001],\n",
              "       [3.89012550e-012, 1.00000000e+000],\n",
              "       [1.00000000e+000, 4.27827264e-029],\n",
              "       [1.45047225e-015, 1.00000000e+000],\n",
              "       [1.53312992e-014, 1.00000000e+000],\n",
              "       [1.00000000e+000, 3.63682955e-021],\n",
              "       [9.99999999e-001, 9.99765285e-010],\n",
              "       [7.82200696e-015, 1.00000000e+000],\n",
              "       [4.83524172e-012, 1.00000000e+000],\n",
              "       [4.42438710e-011, 1.00000000e+000],\n",
              "       [1.00000000e+000, 6.50500956e-051],\n",
              "       [2.09269443e-014, 1.00000000e+000],\n",
              "       [1.80372563e-017, 1.00000000e+000],\n",
              "       [1.05821159e-015, 1.00000000e+000],\n",
              "       [1.30927508e-013, 1.00000000e+000],\n",
              "       [1.00000000e+000, 2.85010261e-091],\n",
              "       [1.00000000e+000, 1.10315407e-165],\n",
              "       [1.00000000e+000, 3.42922199e-011],\n",
              "       [9.29395723e-011, 1.00000000e+000],\n",
              "       [2.06672083e-012, 1.00000000e+000],\n",
              "       [5.96577773e-011, 1.00000000e+000],\n",
              "       [1.00000000e+000, 1.77405919e-247],\n",
              "       [7.05801975e-019, 1.00000000e+000],\n",
              "       [5.14542779e-017, 1.00000000e+000],\n",
              "       [1.12696762e-015, 1.00000000e+000],\n",
              "       [2.47416269e-017, 1.00000000e+000],\n",
              "       [2.25512325e-013, 1.00000000e+000],\n",
              "       [1.65410040e-005, 9.99983459e-001],\n",
              "       [1.00000000e+000, 3.13306080e-020],\n",
              "       [9.75249528e-001, 2.47504718e-002],\n",
              "       [1.00000000e+000, 1.02141186e-040],\n",
              "       [1.00000000e+000, 1.56421865e-012],\n",
              "       [9.99999998e-001, 2.33218044e-009],\n",
              "       [2.79761676e-010, 1.00000000e+000],\n",
              "       [3.29310556e-013, 1.00000000e+000],\n",
              "       [7.83743913e-015, 1.00000000e+000],\n",
              "       [1.76650527e-016, 1.00000000e+000],\n",
              "       [1.00000000e+000, 8.31852272e-063],\n",
              "       [3.94467875e-008, 9.99999961e-001],\n",
              "       [1.00000000e+000, 1.27455445e-068],\n",
              "       [8.10879781e-019, 1.00000000e+000],\n",
              "       [2.92330000e-012, 1.00000000e+000],\n",
              "       [1.00000000e+000, 2.53374647e-028],\n",
              "       [6.06526602e-012, 1.00000000e+000],\n",
              "       [1.00000000e+000, 6.72453638e-042],\n",
              "       [1.81644826e-001, 8.18355174e-001],\n",
              "       [9.99999997e-001, 2.83713215e-009],\n",
              "       [1.00000000e+000, 3.67800023e-050],\n",
              "       [2.59011683e-011, 1.00000000e+000],\n",
              "       [4.24743161e-003, 9.95752568e-001],\n",
              "       [1.00000000e+000, 1.92262043e-030],\n",
              "       [1.00000000e+000, 1.40300021e-173],\n",
              "       [1.60010983e-015, 1.00000000e+000],\n",
              "       [9.99999719e-001, 2.81452947e-007],\n",
              "       [3.70105327e-015, 1.00000000e+000],\n",
              "       [1.00000000e+000, 9.80580845e-096],\n",
              "       [2.51142163e-011, 1.00000000e+000],\n",
              "       [2.57842552e-012, 1.00000000e+000],\n",
              "       [5.35054199e-002, 9.46494580e-001],\n",
              "       [1.00000000e+000, 3.11548993e-238],\n",
              "       [3.72842000e-011, 1.00000000e+000],\n",
              "       [1.16884788e-014, 1.00000000e+000],\n",
              "       [1.00000000e+000, 4.48371531e-142],\n",
              "       [1.00000000e+000, 2.29352684e-064],\n",
              "       [2.16080941e-017, 1.00000000e+000],\n",
              "       [4.31346889e-009, 9.99999996e-001],\n",
              "       [8.43948791e-016, 1.00000000e+000],\n",
              "       [5.84074222e-016, 1.00000000e+000],\n",
              "       [7.36256998e-017, 1.00000000e+000],\n",
              "       [1.00000000e+000, 6.02287632e-015],\n",
              "       [1.00000000e+000, 2.73949689e-084],\n",
              "       [9.80438457e-001, 1.95615426e-002],\n",
              "       [3.47282569e-015, 1.00000000e+000],\n",
              "       [5.63237387e-013, 1.00000000e+000],\n",
              "       [1.00000000e+000, 1.99086292e-020],\n",
              "       [9.99999997e-001, 3.18590068e-009],\n",
              "       [1.00000000e+000, 1.56023258e-015],\n",
              "       [1.00000000e+000, 1.62265735e-058],\n",
              "       [1.05073167e-014, 1.00000000e+000],\n",
              "       [5.66929075e-009, 9.99999994e-001],\n",
              "       [2.81533027e-012, 1.00000000e+000],\n",
              "       [8.46335605e-008, 9.99999915e-001],\n",
              "       [2.07112786e-004, 9.99792887e-001],\n",
              "       [1.36155470e-012, 1.00000000e+000],\n",
              "       [2.10250604e-010, 1.00000000e+000],\n",
              "       [7.60349147e-014, 1.00000000e+000],\n",
              "       [2.81239528e-012, 1.00000000e+000],\n",
              "       [1.00000000e+000, 1.52376013e-013],\n",
              "       [1.57216159e-006, 9.99998428e-001],\n",
              "       [3.64165818e-013, 1.00000000e+000],\n",
              "       [1.00000000e+000, 7.06783427e-078],\n",
              "       [7.37591244e-013, 1.00000000e+000],\n",
              "       [1.38482018e-013, 1.00000000e+000],\n",
              "       [2.20215109e-006, 9.99997798e-001],\n",
              "       [1.90679724e-017, 1.00000000e+000],\n",
              "       [6.86036353e-013, 1.00000000e+000],\n",
              "       [2.07782001e-012, 1.00000000e+000],\n",
              "       [1.00000000e+000, 6.28434076e-022],\n",
              "       [6.27919327e-009, 9.99999994e-001],\n",
              "       [1.09235815e-013, 1.00000000e+000],\n",
              "       [1.00000000e+000, 7.73054017e-089],\n",
              "       [1.00000000e+000, 2.55657046e-049],\n",
              "       [2.36993994e-015, 1.00000000e+000],\n",
              "       [5.71182422e-012, 1.00000000e+000],\n",
              "       [5.56081641e-012, 1.00000000e+000],\n",
              "       [5.33010361e-004, 9.99466990e-001],\n",
              "       [9.70133237e-011, 1.00000000e+000],\n",
              "       [3.68501144e-007, 9.99999631e-001],\n",
              "       [4.78490417e-012, 1.00000000e+000],\n",
              "       [1.00000000e+000, 2.37004968e-014],\n",
              "       [1.81827010e-007, 9.99999818e-001],\n",
              "       [3.42330642e-008, 9.99999966e-001],\n",
              "       [5.58861760e-004, 9.99441138e-001],\n",
              "       [3.22679980e-015, 1.00000000e+000],\n",
              "       [1.00000000e+000, 1.23996317e-020],\n",
              "       [1.00000000e+000, 1.90021994e-117],\n",
              "       [1.00000000e+000, 7.16076319e-129],\n",
              "       [1.06648205e-015, 1.00000000e+000],\n",
              "       [1.00000000e+000, 1.50864610e-188],\n",
              "       [3.96007088e-018, 1.00000000e+000],\n",
              "       [1.00000000e+000, 5.48020958e-061],\n",
              "       [3.02985727e-012, 1.00000000e+000],\n",
              "       [1.00000000e+000, 3.90184051e-042],\n",
              "       [3.39689634e-005, 9.99966031e-001],\n",
              "       [1.31058296e-012, 1.00000000e+000],\n",
              "       [1.52735916e-015, 1.00000000e+000],\n",
              "       [9.51983380e-013, 1.00000000e+000],\n",
              "       [2.05087650e-015, 1.00000000e+000],\n",
              "       [1.34815536e-013, 1.00000000e+000],\n",
              "       [2.53005255e-005, 9.99974699e-001],\n",
              "       [2.42180832e-004, 9.99757819e-001],\n",
              "       [1.19033401e-006, 9.99998810e-001],\n",
              "       [4.54758408e-014, 1.00000000e+000],\n",
              "       [4.52223142e-012, 1.00000000e+000],\n",
              "       [6.16155457e-014, 1.00000000e+000],\n",
              "       [3.76720171e-010, 1.00000000e+000],\n",
              "       [1.00000000e+000, 1.08477184e-033],\n",
              "       [1.00000000e+000, 2.07690364e-058],\n",
              "       [1.27712841e-011, 1.00000000e+000],\n",
              "       [1.00935501e-012, 1.00000000e+000]])"
            ]
          },
          "execution_count": 35,
          "metadata": {},
          "output_type": "execute_result"
        }
      ],
      "source": [
        "# Probabilities for each feature\n",
        "model.predict_proba(X_test)"
      ]
    },
    {
      "cell_type": "markdown",
      "metadata": {
        "id": "EesmqoZjHXIZ"
      },
      "source": [
        "###KNN - without scaling"
      ]
    },
    {
      "cell_type": "code",
      "execution_count": null,
      "metadata": {
        "id": "Z6t4sEGMHb6B"
      },
      "outputs": [],
      "source": [
        "# Import the library\n",
        "from sklearn.neighbors import KNeighborsClassifier\n",
        "\n",
        "# Create the model\n",
        "model = KNeighborsClassifier()\n",
        "\n",
        "# Train the model\n",
        "model.fit(X_train, y_train)\n",
        "\n",
        "# Predict\n",
        "y_test_predicted = model.predict(X_test)"
      ]
    },
    {
      "cell_type": "code",
      "execution_count": null,
      "metadata": {
        "colab": {
          "base_uri": "https://localhost:8080/"
        },
        "id": "l8YtcqEeHdB1",
        "outputId": "3589abac-122e-49de-a931-f76bd2d6c62f"
      },
      "outputs": [
        {
          "name": "stdout",
          "output_type": "stream",
          "text": [
            "Distinct labels in the dataset: ['malignant' 'benign']\n",
            "\n",
            "Predicted labels:\t [1, 1, 1, 0, 0, 1, 1, 0, 0, 0, 0, 0, 0, 1, 1, 0, 1, 1, 0, 1, 1, 1, 0, 0, 0, 0, 0, 1, 1, 0, 1, 1, 1, 0, 1, 1, 0, 0, 1, 1, 1, 0, 1, 1, 1, 1, 0, 0, 0, 1, 1, 1, 0, 1, 1, 1, 1, 1, 1, 0, 0, 0, 0, 1, 1, 1, 1, 1, 0, 1, 0, 1, 1, 1, 1, 0, 0, 0, 0, 1, 1, 0, 0, 1, 1, 1, 0, 1, 1, 1, 0, 1, 1, 0, 0, 1, 1, 1, 1, 1, 1, 0, 0, 1, 1, 0, 1, 0, 0, 1, 1, 1, 1, 1, 1, 1, 1, 1, 0, 1, 1, 0, 1, 1, 1, 1, 1, 1, 0, 1, 1, 0, 0, 1, 1, 1, 1, 1, 1, 1, 0, 1, 1, 0, 1, 0, 0, 0, 1, 0, 1, 0, 1, 0, 1, 1, 1, 1, 1, 1, 1, 1, 1, 1, 0, 1, 0, 0, 0, 1, 1]\n",
            "Actual labels:\t\t [1, 1, 1, 0, 0, 1, 1, 0, 0, 0, 1, 1, 0, 1, 1, 0, 1, 1, 0, 1, 1, 1, 0, 0, 0, 0, 0, 1, 1, 0, 1, 1, 1, 0, 1, 1, 0, 0, 1, 1, 1, 0, 1, 1, 1, 1, 0, 0, 0, 1, 1, 1, 0, 1, 1, 1, 1, 1, 1, 0, 0, 0, 0, 1, 1, 1, 1, 1, 0, 1, 0, 1, 1, 0, 1, 0, 0, 0, 0, 1, 1, 0, 0, 1, 1, 1, 0, 1, 1, 1, 0, 1, 1, 0, 0, 1, 1, 1, 1, 1, 1, 0, 0, 1, 1, 0, 0, 0, 0, 1, 1, 1, 1, 1, 1, 1, 1, 1, 0, 1, 1, 0, 1, 1, 1, 1, 1, 1, 0, 1, 1, 0, 0, 1, 1, 1, 1, 1, 1, 1, 0, 1, 1, 1, 1, 0, 0, 0, 1, 0, 1, 0, 1, 0, 1, 1, 1, 1, 1, 1, 1, 1, 1, 1, 1, 1, 1, 0, 0, 1, 1]\n"
          ]
        }
      ],
      "source": [
        "# Print the distinct labels (in the Iris data, there are only 3 distinct labels)\n",
        "print(f\"Distinct labels in the dataset: {breast_cancer_data.target_names}\\n\")\n",
        "\n",
        "print(f\"Predicted labels:\\t {list(y_test_predicted)}\")\n",
        "print(f\"Actual labels:\\t\\t {list(y_test)}\")"
      ]
    },
    {
      "cell_type": "code",
      "execution_count": null,
      "metadata": {
        "colab": {
          "base_uri": "https://localhost:8080/",
          "height": 156
        },
        "id": "OQgc6rbVHeY6",
        "outputId": "4d6a02c6-3fbf-49b9-e220-284a1ca6621b"
      },
      "outputs": [
        {
          "data": {
            "text/plain": [
              "array([[ 57,   2],\n",
              "       [  5, 107]])"
            ]
          },
          "metadata": {},
          "output_type": "display_data"
        }
      ],
      "source": [
        "from sklearn.metrics import confusion_matrix\n",
        "\n",
        "confusionMatrix = confusion_matrix(y_test, y_test_predicted)\n",
        "\n",
        "# Rows are true values, Columns are predicted values\n",
        "display(confusionMatrix)"
      ]
    },
    {
      "cell_type": "code",
      "execution_count": null,
      "metadata": {
        "colab": {
          "base_uri": "https://localhost:8080/"
        },
        "id": "_MEmKxHZHf25",
        "outputId": "ea6a7906-ff86-421a-9df4-0deb68f6f399"
      },
      "outputs": [
        {
          "name": "stdout",
          "output_type": "stream",
          "text": [
            "Accuracy Score: 0.9590643274853801\n",
            "              precision    recall  f1-score   support\n",
            "\n",
            "           0       0.92      0.97      0.94        59\n",
            "           1       0.98      0.96      0.97       112\n",
            "\n",
            "    accuracy                           0.96       171\n",
            "   macro avg       0.95      0.96      0.96       171\n",
            "weighted avg       0.96      0.96      0.96       171\n",
            "\n"
          ]
        }
      ],
      "source": [
        "print(f\"Accuracy Score: {accuracy_score(y_test, y_test_predicted)}\")\n",
        "print(classification_report(y_test, y_test_predicted))"
      ]
    },
    {
      "cell_type": "markdown",
      "metadata": {
        "id": "rmY26ZUaHohk"
      },
      "source": [
        "###KNN - with scaling"
      ]
    },
    {
      "cell_type": "code",
      "execution_count": null,
      "metadata": {
        "colab": {
          "base_uri": "https://localhost:8080/",
          "height": 377
        },
        "id": "8oXLUHmaHp-X",
        "outputId": "1a21a2e4-8e83-4dc4-8967-43fc45ab69ac"
      },
      "outputs": [
        {
          "name": "stdout",
          "output_type": "stream",
          "text": [
            "Shape of the data: (569, 30)\n"
          ]
        },
        {
          "data": {
            "text/plain": [
              "array(['malignant', 'benign'], dtype='<U9')"
            ]
          },
          "metadata": {},
          "output_type": "display_data"
        },
        {
          "name": "stdout",
          "output_type": "stream",
          "text": [
            "[0 0 0 0 0 0 0 0 0 0 0 0 0 0 0 0 0 0 0 1 1 1 0 0 0 0 0 0 0 0 0 0 0 0 0 0 0\n",
            " 1 0 0 0 0 0 0 0 0 1 0 1 1 1 1 1 0 0 1 0 0 1 1 1 1 0 1 0 0 1 1 1 1 0 1 0 0\n",
            " 1 0 1 0 0 1 1 1 0 0 1 0 0 0 1 1 1 0 1 1 0 0 1 1 1 0 0 1 1 1 1 0 1 1 0 1 1\n",
            " 1 1 1 1 1 1 0 0 0 1 0 0 1 1 1 0 0 1 0 1 0 0 1 0 0 1 1 0 1 1 0 1 1 1 1 0 1\n",
            " 1 1 1 1 1 1 1 1 0 1 1 1 1 0 0 1 0 1 1 0 0 1 1 0 0 1 1 1 1 0 1 1 0 0 0 1 0\n",
            " 1 0 1 1 1 0 1 1 0 0 1 0 0 0 0 1 0 0 0 1 0 1 0 1 1 0 1 0 0 0 0 1 1 0 0 1 1\n",
            " 1 0 1 1 1 1 1 0 0 1 1 0 1 1 0 0 1 0 1 1 1 1 0 1 1 1 1 1 0 1 0 0 0 0 0 0 0\n",
            " 0 0 0 0 0 0 0 1 1 1 1 1 1 0 1 0 1 1 0 1 1 0 1 0 0 1 1 1 1 1 1 1 1 1 1 1 1\n",
            " 1 0 1 1 0 1 0 1 1 1 1 1 1 1 1 1 1 1 1 1 1 0 1 1 1 0 1 0 1 1 1 1 0 0 0 1 1\n",
            " 1 1 0 1 0 1 0 1 1 1 0 1 1 1 1 1 1 1 0 0 0 1 1 1 1 1 1 1 1 1 1 1 0 0 1 0 0\n",
            " 0 1 0 0 1 1 1 1 1 0 1 1 1 1 1 0 1 1 1 0 1 1 0 0 1 1 1 1 1 1 0 1 1 1 1 1 1\n",
            " 1 0 1 1 1 1 1 0 1 1 0 1 1 1 1 1 1 1 1 1 1 1 1 0 1 0 0 1 0 1 1 1 1 1 0 1 1\n",
            " 0 1 0 1 1 0 1 0 1 1 1 1 1 1 1 1 0 0 1 1 1 1 1 1 0 1 1 1 1 1 1 1 1 1 1 0 1\n",
            " 1 1 1 1 1 1 0 1 0 1 1 0 1 1 1 1 1 0 0 1 0 1 0 1 1 1 1 1 0 1 1 0 1 0 1 0 0\n",
            " 1 1 1 0 1 1 1 1 1 1 1 1 1 1 1 0 1 0 0 1 1 1 1 1 1 1 1 1 1 1 1 1 1 1 1 1 1\n",
            " 1 1 1 1 1 1 1 0 0 0 0 0 0 1]\n"
          ]
        }
      ],
      "source": [
        "from sklearn.datasets import load_breast_cancer\n",
        "import pandas as pd\n",
        "\n",
        "breast_cancer_data = load_breast_cancer()\n",
        "\n",
        "X = pd.DataFrame(breast_cancer_data.data, columns = breast_cancer_data.feature_names)\n",
        "y = breast_cancer_data.target\n",
        "\n",
        "print(f\"Shape of the data: {X.shape}\")\n",
        "#print(X.describe())\n",
        "display(breast_cancer_data.target_names)\n",
        "print(y)"
      ]
    },
    {
      "cell_type": "code",
      "execution_count": null,
      "metadata": {
        "id": "SsN18JYMHrTN"
      },
      "outputs": [],
      "source": [
        "# Scale the data\n",
        "from sklearn.preprocessing import StandardScaler\n",
        "\n",
        "X_scaled = StandardScaler().fit_transform(X)"
      ]
    },
    {
      "cell_type": "code",
      "execution_count": null,
      "metadata": {
        "id": "T-_DyjB0HsH7"
      },
      "outputs": [],
      "source": [
        "# Train test split using SCALED DATA\n",
        "from sklearn.model_selection import train_test_split\n",
        "\n",
        "X_train_scaled, X_test_scaled, y_train, y_test = train_test_split(X_scaled, y, test_size=0.30)"
      ]
    },
    {
      "cell_type": "code",
      "execution_count": null,
      "metadata": {
        "id": "SUSr4Y4KHu8i"
      },
      "outputs": [],
      "source": [
        "# Import the library\n",
        "from sklearn.neighbors import KNeighborsClassifier\n",
        "\n",
        "# Create the model\n",
        "model = KNeighborsClassifier()\n",
        "\n",
        "# Train the model using SCALED Train Data\n",
        "model.fit(X_train_scaled, y_train)\n",
        "\n",
        "# Predict using SCALED Test Data\n",
        "y_test_predicted = model.predict(X_test_scaled)"
      ]
    },
    {
      "cell_type": "code",
      "execution_count": null,
      "metadata": {
        "colab": {
          "base_uri": "https://localhost:8080/"
        },
        "id": "jvQprJ0zHwr_",
        "outputId": "9901b320-7ad4-48ae-e62f-fb3ad93675a3"
      },
      "outputs": [
        {
          "name": "stdout",
          "output_type": "stream",
          "text": [
            "Distinct labels in the dataset: ['malignant' 'benign']\n",
            "\n",
            "Predicted labels:\t [0, 1, 1, 1, 1, 0, 1, 1, 1, 0, 1, 1, 0, 0, 1, 1, 1, 1, 0, 1, 1, 0, 0, 1, 0, 1, 0, 1, 0, 0, 1, 0, 1, 1, 0, 1, 1, 1, 1, 1, 0, 1, 1, 1, 1, 1, 1, 1, 1, 1, 0, 1, 0, 1, 0, 1, 0, 0, 0, 0, 0, 1, 1, 1, 1, 0, 0, 0, 0, 0, 0, 1, 0, 0, 0, 1, 1, 1, 1, 1, 0, 0, 1, 1, 0, 1, 1, 1, 0, 0, 1, 0, 1, 1, 1, 1, 1, 0, 1, 1, 1, 1, 0, 1, 1, 0, 0, 0, 1, 0, 0, 1, 0, 1, 1, 1, 0, 1, 1, 0, 0, 1, 0, 1, 1, 1, 0, 1, 0, 1, 1, 1, 1, 1, 0, 1, 0, 0, 0, 1, 1, 1, 1, 0, 0, 1, 1, 1, 0, 1, 0, 1, 1, 1, 0, 1, 0, 1, 1, 0, 0, 1, 0, 1, 1, 1, 0, 1, 1, 0, 1]\n",
            "Actual labels:\t\t [0, 1, 1, 1, 1, 0, 1, 1, 1, 0, 1, 1, 0, 0, 1, 1, 1, 1, 1, 1, 1, 0, 0, 1, 0, 1, 0, 1, 1, 0, 1, 0, 1, 1, 0, 1, 1, 1, 1, 1, 0, 1, 1, 1, 1, 1, 1, 1, 1, 1, 0, 1, 0, 1, 0, 1, 0, 0, 0, 0, 0, 1, 1, 1, 1, 0, 0, 0, 0, 0, 0, 1, 0, 0, 0, 1, 1, 1, 1, 1, 0, 0, 1, 1, 0, 1, 1, 1, 0, 0, 1, 0, 1, 1, 1, 1, 1, 0, 1, 0, 1, 1, 0, 1, 0, 0, 0, 0, 1, 0, 0, 1, 0, 1, 1, 1, 0, 1, 1, 0, 0, 1, 0, 1, 1, 1, 0, 1, 0, 1, 1, 1, 1, 1, 0, 1, 0, 0, 0, 1, 1, 1, 1, 0, 0, 1, 1, 1, 0, 1, 0, 1, 1, 1, 0, 1, 0, 1, 1, 0, 0, 1, 0, 1, 1, 1, 0, 1, 1, 0, 1]\n"
          ]
        }
      ],
      "source": [
        "# Print the distinct labels (in the Iris data, there are only 3 distinct labels)\n",
        "print(f\"Distinct labels in the dataset: {breast_cancer_data.target_names}\\n\")\n",
        "\n",
        "print(f\"Predicted labels:\\t {list(y_test_predicted)}\")\n",
        "print(f\"Actual labels:\\t\\t {list(y_test)}\")"
      ]
    },
    {
      "cell_type": "code",
      "execution_count": null,
      "metadata": {
        "colab": {
          "base_uri": "https://localhost:8080/",
          "height": 156
        },
        "id": "R7tzcv3mHyGW",
        "outputId": "1f2ae2e9-03ba-4444-922b-314ed1b5c17a"
      },
      "outputs": [
        {
          "data": {
            "text/plain": [
              "array([[ 65,   2],\n",
              "       [  2, 102]])"
            ]
          },
          "metadata": {},
          "output_type": "display_data"
        }
      ],
      "source": [
        "from sklearn.metrics import confusion_matrix\n",
        "\n",
        "confusionMatrix = confusion_matrix(y_test, y_test_predicted)\n",
        "\n",
        "# Rows are true values, Columns are predicted values\n",
        "display(confusionMatrix)"
      ]
    },
    {
      "cell_type": "code",
      "execution_count": null,
      "metadata": {
        "colab": {
          "base_uri": "https://localhost:8080/"
        },
        "id": "QRMPU8LMHzfp",
        "outputId": "9f729a5f-980c-49eb-ea6e-058f5be6a09a"
      },
      "outputs": [
        {
          "name": "stdout",
          "output_type": "stream",
          "text": [
            "Accuracy Score: 0.9766081871345029\n",
            "              precision    recall  f1-score   support\n",
            "\n",
            "           0       0.97      0.97      0.97        67\n",
            "           1       0.98      0.98      0.98       104\n",
            "\n",
            "    accuracy                           0.98       171\n",
            "   macro avg       0.98      0.98      0.98       171\n",
            "weighted avg       0.98      0.98      0.98       171\n",
            "\n"
          ]
        }
      ],
      "source": [
        "print(f\"Accuracy Score: {accuracy_score(y_test, y_test_predicted)}\")\n",
        "print(classification_report(y_test, y_test_predicted))"
      ]
    },
    {
      "cell_type": "markdown",
      "metadata": {
        "id": "E-nXXrGoFnf5"
      },
      "source": []
    },
    {
      "cell_type": "markdown",
      "metadata": {
        "id": "qLYH2a3H-i0G"
      },
      "source": [
        "##Bagging"
      ]
    },
    {
      "cell_type": "code",
      "execution_count": null,
      "metadata": {
        "colab": {
          "base_uri": "https://localhost:8080/",
          "height": 417
        },
        "id": "ErdjT1-ZAh7D",
        "outputId": "3f33a832-70a8-4166-f73b-1b4197388b34"
      },
      "outputs": [
        {
          "output_type": "error",
          "ename": "FileNotFoundError",
          "evalue": "[Errno 2] No such file or directory: 'sample_data/breast_cancer.csv'",
          "traceback": [
            "\u001b[0;31m---------------------------------------------------------------------------\u001b[0m",
            "\u001b[0;31mFileNotFoundError\u001b[0m                         Traceback (most recent call last)",
            "\u001b[0;32m<ipython-input-5-e6b906c2e7eb>\u001b[0m in \u001b[0;36m<cell line: 1>\u001b[0;34m()\u001b[0m\n\u001b[0;32m----> 1\u001b[0;31m \u001b[0mdata\u001b[0m \u001b[0;34m=\u001b[0m \u001b[0mpd\u001b[0m\u001b[0;34m.\u001b[0m\u001b[0mread_csv\u001b[0m\u001b[0;34m(\u001b[0m\u001b[0;34m'sample_data/breast_cancer.csv'\u001b[0m\u001b[0;34m)\u001b[0m\u001b[0;34m\u001b[0m\u001b[0;34m\u001b[0m\u001b[0m\n\u001b[0m\u001b[1;32m      2\u001b[0m \u001b[0;34m\u001b[0m\u001b[0m\n\u001b[1;32m      3\u001b[0m \u001b[0mdisplay\u001b[0m\u001b[0;34m(\u001b[0m\u001b[0mdata\u001b[0m\u001b[0;34m)\u001b[0m\u001b[0;34m\u001b[0m\u001b[0;34m\u001b[0m\u001b[0m\n\u001b[1;32m      4\u001b[0m \u001b[0;34m\u001b[0m\u001b[0m\n\u001b[1;32m      5\u001b[0m \u001b[0mx\u001b[0m \u001b[0;34m=\u001b[0m \u001b[0mdata\u001b[0m\u001b[0;34m.\u001b[0m\u001b[0mdrop\u001b[0m\u001b[0;34m(\u001b[0m\u001b[0;34m'labels'\u001b[0m\u001b[0;34m,\u001b[0m \u001b[0maxis\u001b[0m\u001b[0;34m=\u001b[0m\u001b[0;36m1\u001b[0m\u001b[0;34m)\u001b[0m\u001b[0;34m\u001b[0m\u001b[0;34m\u001b[0m\u001b[0m\n",
            "\u001b[0;32m/usr/local/lib/python3.10/dist-packages/pandas/util/_decorators.py\u001b[0m in \u001b[0;36mwrapper\u001b[0;34m(*args, **kwargs)\u001b[0m\n\u001b[1;32m    209\u001b[0m                 \u001b[0;32melse\u001b[0m\u001b[0;34m:\u001b[0m\u001b[0;34m\u001b[0m\u001b[0;34m\u001b[0m\u001b[0m\n\u001b[1;32m    210\u001b[0m                     \u001b[0mkwargs\u001b[0m\u001b[0;34m[\u001b[0m\u001b[0mnew_arg_name\u001b[0m\u001b[0;34m]\u001b[0m \u001b[0;34m=\u001b[0m \u001b[0mnew_arg_value\u001b[0m\u001b[0;34m\u001b[0m\u001b[0;34m\u001b[0m\u001b[0m\n\u001b[0;32m--> 211\u001b[0;31m             \u001b[0;32mreturn\u001b[0m \u001b[0mfunc\u001b[0m\u001b[0;34m(\u001b[0m\u001b[0;34m*\u001b[0m\u001b[0margs\u001b[0m\u001b[0;34m,\u001b[0m \u001b[0;34m**\u001b[0m\u001b[0mkwargs\u001b[0m\u001b[0;34m)\u001b[0m\u001b[0;34m\u001b[0m\u001b[0;34m\u001b[0m\u001b[0m\n\u001b[0m\u001b[1;32m    212\u001b[0m \u001b[0;34m\u001b[0m\u001b[0m\n\u001b[1;32m    213\u001b[0m         \u001b[0;32mreturn\u001b[0m \u001b[0mcast\u001b[0m\u001b[0;34m(\u001b[0m\u001b[0mF\u001b[0m\u001b[0;34m,\u001b[0m \u001b[0mwrapper\u001b[0m\u001b[0;34m)\u001b[0m\u001b[0;34m\u001b[0m\u001b[0;34m\u001b[0m\u001b[0m\n",
            "\u001b[0;32m/usr/local/lib/python3.10/dist-packages/pandas/util/_decorators.py\u001b[0m in \u001b[0;36mwrapper\u001b[0;34m(*args, **kwargs)\u001b[0m\n\u001b[1;32m    329\u001b[0m                     \u001b[0mstacklevel\u001b[0m\u001b[0;34m=\u001b[0m\u001b[0mfind_stack_level\u001b[0m\u001b[0;34m(\u001b[0m\u001b[0;34m)\u001b[0m\u001b[0;34m,\u001b[0m\u001b[0;34m\u001b[0m\u001b[0;34m\u001b[0m\u001b[0m\n\u001b[1;32m    330\u001b[0m                 )\n\u001b[0;32m--> 331\u001b[0;31m             \u001b[0;32mreturn\u001b[0m \u001b[0mfunc\u001b[0m\u001b[0;34m(\u001b[0m\u001b[0;34m*\u001b[0m\u001b[0margs\u001b[0m\u001b[0;34m,\u001b[0m \u001b[0;34m**\u001b[0m\u001b[0mkwargs\u001b[0m\u001b[0;34m)\u001b[0m\u001b[0;34m\u001b[0m\u001b[0;34m\u001b[0m\u001b[0m\n\u001b[0m\u001b[1;32m    332\u001b[0m \u001b[0;34m\u001b[0m\u001b[0m\n\u001b[1;32m    333\u001b[0m         \u001b[0;31m# error: \"Callable[[VarArg(Any), KwArg(Any)], Any]\" has no\u001b[0m\u001b[0;34m\u001b[0m\u001b[0;34m\u001b[0m\u001b[0m\n",
            "\u001b[0;32m/usr/local/lib/python3.10/dist-packages/pandas/io/parsers/readers.py\u001b[0m in \u001b[0;36mread_csv\u001b[0;34m(filepath_or_buffer, sep, delimiter, header, names, index_col, usecols, squeeze, prefix, mangle_dupe_cols, dtype, engine, converters, true_values, false_values, skipinitialspace, skiprows, skipfooter, nrows, na_values, keep_default_na, na_filter, verbose, skip_blank_lines, parse_dates, infer_datetime_format, keep_date_col, date_parser, dayfirst, cache_dates, iterator, chunksize, compression, thousands, decimal, lineterminator, quotechar, quoting, doublequote, escapechar, comment, encoding, encoding_errors, dialect, error_bad_lines, warn_bad_lines, on_bad_lines, delim_whitespace, low_memory, memory_map, float_precision, storage_options)\u001b[0m\n\u001b[1;32m    948\u001b[0m     \u001b[0mkwds\u001b[0m\u001b[0;34m.\u001b[0m\u001b[0mupdate\u001b[0m\u001b[0;34m(\u001b[0m\u001b[0mkwds_defaults\u001b[0m\u001b[0;34m)\u001b[0m\u001b[0;34m\u001b[0m\u001b[0;34m\u001b[0m\u001b[0m\n\u001b[1;32m    949\u001b[0m \u001b[0;34m\u001b[0m\u001b[0m\n\u001b[0;32m--> 950\u001b[0;31m     \u001b[0;32mreturn\u001b[0m \u001b[0m_read\u001b[0m\u001b[0;34m(\u001b[0m\u001b[0mfilepath_or_buffer\u001b[0m\u001b[0;34m,\u001b[0m \u001b[0mkwds\u001b[0m\u001b[0;34m)\u001b[0m\u001b[0;34m\u001b[0m\u001b[0;34m\u001b[0m\u001b[0m\n\u001b[0m\u001b[1;32m    951\u001b[0m \u001b[0;34m\u001b[0m\u001b[0m\n\u001b[1;32m    952\u001b[0m \u001b[0;34m\u001b[0m\u001b[0m\n",
            "\u001b[0;32m/usr/local/lib/python3.10/dist-packages/pandas/io/parsers/readers.py\u001b[0m in \u001b[0;36m_read\u001b[0;34m(filepath_or_buffer, kwds)\u001b[0m\n\u001b[1;32m    603\u001b[0m \u001b[0;34m\u001b[0m\u001b[0m\n\u001b[1;32m    604\u001b[0m     \u001b[0;31m# Create the parser.\u001b[0m\u001b[0;34m\u001b[0m\u001b[0;34m\u001b[0m\u001b[0m\n\u001b[0;32m--> 605\u001b[0;31m     \u001b[0mparser\u001b[0m \u001b[0;34m=\u001b[0m \u001b[0mTextFileReader\u001b[0m\u001b[0;34m(\u001b[0m\u001b[0mfilepath_or_buffer\u001b[0m\u001b[0;34m,\u001b[0m \u001b[0;34m**\u001b[0m\u001b[0mkwds\u001b[0m\u001b[0;34m)\u001b[0m\u001b[0;34m\u001b[0m\u001b[0;34m\u001b[0m\u001b[0m\n\u001b[0m\u001b[1;32m    606\u001b[0m \u001b[0;34m\u001b[0m\u001b[0m\n\u001b[1;32m    607\u001b[0m     \u001b[0;32mif\u001b[0m \u001b[0mchunksize\u001b[0m \u001b[0;32mor\u001b[0m \u001b[0miterator\u001b[0m\u001b[0;34m:\u001b[0m\u001b[0;34m\u001b[0m\u001b[0;34m\u001b[0m\u001b[0m\n",
            "\u001b[0;32m/usr/local/lib/python3.10/dist-packages/pandas/io/parsers/readers.py\u001b[0m in \u001b[0;36m__init__\u001b[0;34m(self, f, engine, **kwds)\u001b[0m\n\u001b[1;32m   1440\u001b[0m \u001b[0;34m\u001b[0m\u001b[0m\n\u001b[1;32m   1441\u001b[0m         \u001b[0mself\u001b[0m\u001b[0;34m.\u001b[0m\u001b[0mhandles\u001b[0m\u001b[0;34m:\u001b[0m \u001b[0mIOHandles\u001b[0m \u001b[0;34m|\u001b[0m \u001b[0;32mNone\u001b[0m \u001b[0;34m=\u001b[0m \u001b[0;32mNone\u001b[0m\u001b[0;34m\u001b[0m\u001b[0;34m\u001b[0m\u001b[0m\n\u001b[0;32m-> 1442\u001b[0;31m         \u001b[0mself\u001b[0m\u001b[0;34m.\u001b[0m\u001b[0m_engine\u001b[0m \u001b[0;34m=\u001b[0m \u001b[0mself\u001b[0m\u001b[0;34m.\u001b[0m\u001b[0m_make_engine\u001b[0m\u001b[0;34m(\u001b[0m\u001b[0mf\u001b[0m\u001b[0;34m,\u001b[0m \u001b[0mself\u001b[0m\u001b[0;34m.\u001b[0m\u001b[0mengine\u001b[0m\u001b[0;34m)\u001b[0m\u001b[0;34m\u001b[0m\u001b[0;34m\u001b[0m\u001b[0m\n\u001b[0m\u001b[1;32m   1443\u001b[0m \u001b[0;34m\u001b[0m\u001b[0m\n\u001b[1;32m   1444\u001b[0m     \u001b[0;32mdef\u001b[0m \u001b[0mclose\u001b[0m\u001b[0;34m(\u001b[0m\u001b[0mself\u001b[0m\u001b[0;34m)\u001b[0m \u001b[0;34m->\u001b[0m \u001b[0;32mNone\u001b[0m\u001b[0;34m:\u001b[0m\u001b[0;34m\u001b[0m\u001b[0;34m\u001b[0m\u001b[0m\n",
            "\u001b[0;32m/usr/local/lib/python3.10/dist-packages/pandas/io/parsers/readers.py\u001b[0m in \u001b[0;36m_make_engine\u001b[0;34m(self, f, engine)\u001b[0m\n\u001b[1;32m   1733\u001b[0m                 \u001b[0;32mif\u001b[0m \u001b[0;34m\"b\"\u001b[0m \u001b[0;32mnot\u001b[0m \u001b[0;32min\u001b[0m \u001b[0mmode\u001b[0m\u001b[0;34m:\u001b[0m\u001b[0;34m\u001b[0m\u001b[0;34m\u001b[0m\u001b[0m\n\u001b[1;32m   1734\u001b[0m                     \u001b[0mmode\u001b[0m \u001b[0;34m+=\u001b[0m \u001b[0;34m\"b\"\u001b[0m\u001b[0;34m\u001b[0m\u001b[0;34m\u001b[0m\u001b[0m\n\u001b[0;32m-> 1735\u001b[0;31m             self.handles = get_handle(\n\u001b[0m\u001b[1;32m   1736\u001b[0m                 \u001b[0mf\u001b[0m\u001b[0;34m,\u001b[0m\u001b[0;34m\u001b[0m\u001b[0;34m\u001b[0m\u001b[0m\n\u001b[1;32m   1737\u001b[0m                 \u001b[0mmode\u001b[0m\u001b[0;34m,\u001b[0m\u001b[0;34m\u001b[0m\u001b[0;34m\u001b[0m\u001b[0m\n",
            "\u001b[0;32m/usr/local/lib/python3.10/dist-packages/pandas/io/common.py\u001b[0m in \u001b[0;36mget_handle\u001b[0;34m(path_or_buf, mode, encoding, compression, memory_map, is_text, errors, storage_options)\u001b[0m\n\u001b[1;32m    854\u001b[0m         \u001b[0;32mif\u001b[0m \u001b[0mioargs\u001b[0m\u001b[0;34m.\u001b[0m\u001b[0mencoding\u001b[0m \u001b[0;32mand\u001b[0m \u001b[0;34m\"b\"\u001b[0m \u001b[0;32mnot\u001b[0m \u001b[0;32min\u001b[0m \u001b[0mioargs\u001b[0m\u001b[0;34m.\u001b[0m\u001b[0mmode\u001b[0m\u001b[0;34m:\u001b[0m\u001b[0;34m\u001b[0m\u001b[0;34m\u001b[0m\u001b[0m\n\u001b[1;32m    855\u001b[0m             \u001b[0;31m# Encoding\u001b[0m\u001b[0;34m\u001b[0m\u001b[0;34m\u001b[0m\u001b[0m\n\u001b[0;32m--> 856\u001b[0;31m             handle = open(\n\u001b[0m\u001b[1;32m    857\u001b[0m                 \u001b[0mhandle\u001b[0m\u001b[0;34m,\u001b[0m\u001b[0;34m\u001b[0m\u001b[0;34m\u001b[0m\u001b[0m\n\u001b[1;32m    858\u001b[0m                 \u001b[0mioargs\u001b[0m\u001b[0;34m.\u001b[0m\u001b[0mmode\u001b[0m\u001b[0;34m,\u001b[0m\u001b[0;34m\u001b[0m\u001b[0;34m\u001b[0m\u001b[0m\n",
            "\u001b[0;31mFileNotFoundError\u001b[0m: [Errno 2] No such file or directory: 'sample_data/breast_cancer.csv'"
          ]
        }
      ],
      "source": [
        "data = pd.read_csv('sample_data/breast_cancer.csv')\n",
        "\n",
        "display(data)\n",
        "\n",
        "x = data.drop('labels', axis=1)\n",
        "y = data['labels']\n",
        "\n",
        "print(x.shape, y.shape)\n",
        "type(x)\n"
      ]
    },
    {
      "cell_type": "code",
      "execution_count": null,
      "metadata": {
        "id": "hjOp6Ls2BsDW"
      },
      "outputs": [],
      "source": [
        "x_train, x_test, y_train, y_test = train_test_split(x, y, test_size=0.3)\n",
        "\n",
        "print(x_train.shape, x_test.shape, y_train.shape, y_test.shape)"
      ]
    },
    {
      "cell_type": "code",
      "execution_count": null,
      "metadata": {
        "id": "IFT-heFgCGg-"
      },
      "outputs": [],
      "source": [
        "from sklearn.tree import DecisionTreeClassifier\n",
        "\n",
        "model = DecisionTreeClassifier(max_depth = 1)\n",
        "\n",
        "model.fit(x_train, y_train)\n",
        "\n",
        "y_test_predicted = model.predict(x_test)"
      ]
    },
    {
      "cell_type": "code",
      "execution_count": null,
      "metadata": {
        "id": "slXoKXuCCd2G"
      },
      "outputs": [],
      "source": [
        "report_accuracy = accuracy_score(y_test, y_test_predicted)\n",
        "print(report_accuracy)\n",
        "print(f\"The accuracy for the test: {model.score(x_test, y_test)}\")\n",
        "print(f\"The accuracy for the training: {model.score(x_train, y_train)}\")\n"
      ]
    },
    {
      "cell_type": "markdown",
      "metadata": {
        "id": "BnYSR3_K-vVb"
      },
      "source": [
        "###Bagging with Decision Tree Classifier"
      ]
    },
    {
      "cell_type": "code",
      "execution_count": null,
      "metadata": {
        "id": "0Cu7RnOOFVBV"
      },
      "outputs": [],
      "source": [
        "from sklearn.ensemble import BaggingClassifier\n",
        "\n",
        "model_bagging = BaggingClassifier(DecisionTreeClassifier(max_depth = 1), n_estimators=5)\n",
        "\n",
        "model_bagging.fit(x_train, y_train)\n",
        "\n",
        "y_test_predicted = model_bagging.predict(x_test)"
      ]
    },
    {
      "cell_type": "code",
      "execution_count": null,
      "metadata": {
        "id": "MTv0_YKMF45P"
      },
      "outputs": [],
      "source": [
        "print(classification_report(y_test, y_test_predicted))"
      ]
    },
    {
      "cell_type": "code",
      "execution_count": null,
      "metadata": {
        "id": "P3iSvXD_GJhX",
        "outputId": "61a7aa32-c04f-431f-9891-61b5b8aeed96",
        "colab": {
          "base_uri": "https://localhost:8080/",
          "height": 225
        }
      },
      "outputs": [
        {
          "output_type": "error",
          "ename": "NameError",
          "evalue": "name 'pd' is not defined",
          "traceback": [
            "\u001b[0;31m---------------------------------------------------------------------------\u001b[0m",
            "\u001b[0;31mNameError\u001b[0m                                 Traceback (most recent call last)",
            "\u001b[0;32m<ipython-input-3-aae04f94a08b>\u001b[0m in \u001b[0;36m<cell line: 1>\u001b[0;34m()\u001b[0m\n\u001b[0;32m----> 1\u001b[0;31m \u001b[0mx_unknown\u001b[0m \u001b[0;34m=\u001b[0m \u001b[0mpd\u001b[0m\u001b[0;34m.\u001b[0m\u001b[0mread_csv\u001b[0m\u001b[0;34m(\u001b[0m\u001b[0;34m'sample_data/breast_cancer_unknown.csv'\u001b[0m\u001b[0;34m)\u001b[0m\u001b[0;34m\u001b[0m\u001b[0;34m\u001b[0m\u001b[0m\n\u001b[0m\u001b[1;32m      2\u001b[0m \u001b[0;34m\u001b[0m\u001b[0m\n\u001b[1;32m      3\u001b[0m \u001b[0my_unknown_predicted\u001b[0m \u001b[0;34m=\u001b[0m \u001b[0mmodel_bagging\u001b[0m\u001b[0;34m.\u001b[0m\u001b[0mpredict\u001b[0m\u001b[0;34m(\u001b[0m\u001b[0mx_unknown\u001b[0m\u001b[0;34m)\u001b[0m\u001b[0;34m\u001b[0m\u001b[0;34m\u001b[0m\u001b[0m\n\u001b[1;32m      4\u001b[0m \u001b[0mprint\u001b[0m\u001b[0;34m(\u001b[0m\u001b[0my_unknown_predicted\u001b[0m\u001b[0;34m)\u001b[0m\u001b[0;34m\u001b[0m\u001b[0;34m\u001b[0m\u001b[0m\n",
            "\u001b[0;31mNameError\u001b[0m: name 'pd' is not defined"
          ]
        }
      ],
      "source": [
        "x_unknown = pd.read_csv('sample_data/breast_cancer_unknown.csv')\n",
        "\n",
        "y_unknown_predicted = model_bagging.predict(x_unknown)\n",
        "print(y_unknown_predicted)"
      ]
    },
    {
      "cell_type": "markdown",
      "metadata": {
        "id": "Rgn49c9T-0yS"
      },
      "source": [
        "### Bagging with Random Forest Classifier"
      ]
    },
    {
      "cell_type": "code",
      "execution_count": null,
      "metadata": {
        "id": "a3R4JvvgG54r"
      },
      "outputs": [],
      "source": [
        "from sklearn.ensemble import RandomForestClassifier\n",
        "\n",
        "model = RandomForestClassifier()\n",
        "\n",
        "model.fit(x_train, y_train)\n",
        "\n",
        "y_test_predicted = model.predict(x_test)\n",
        "\n",
        "print(classification_report(y_test, y_test_predicted))"
      ]
    },
    {
      "cell_type": "code",
      "execution_count": null,
      "metadata": {
        "id": "K5OVIWrqHbWy"
      },
      "outputs": [],
      "source": [
        "model_bagging = BaggingClassifier(RandomForestClassifier(), n_estimators=5)\n",
        "\n",
        "model_bagging.fit(x_train, y_train)\n",
        "\n",
        "y_test_predicted = model_bagging.predict(x_test)\n",
        "\n",
        "print(classification_report(y_test, y_test_predicted))"
      ]
    },
    {
      "cell_type": "markdown",
      "metadata": {
        "id": "NVIdfuCa-6HU"
      },
      "source": [
        "## Stratified K-Fold"
      ]
    },
    {
      "cell_type": "code",
      "execution_count": null,
      "metadata": {
        "id": "me20BLt7INEn"
      },
      "outputs": [],
      "source": [
        "from sklearn.model_selection import StratifiedKFold\n",
        "\n",
        "split = 5\n",
        "\n",
        "skf = StratifiedKFold(n_splits=split, shuffle=True, random_state = 32)\n",
        "model = DecisionTreeClassifier(max_depth = 3)\n",
        "\n",
        "from sklearn.metrics import precision_score, recall_score, accuracy_score\n",
        "\n",
        "precision = []\n",
        "recall = []\n",
        "accuracy = []\n",
        "\n",
        "for train_index, test_index in skf.split(x, y):\n",
        "  x_train = x.iloc[train_index]\n",
        "  x_test = x.iloc[test_index]\n",
        "\n",
        "  y_train = y.iloc[train_index]\n",
        "  y_test = y.iloc[test_index]\n",
        "\n",
        "  model.fit(x_train, y_train)\n",
        "\n",
        "  y_test_predicted = model.predict(x_test)\n",
        "\n",
        "  accuracy.append(accuracy_score(y_test, y_test_predicted))\n",
        "  recall.append(recall_score(y_test, y_test_predicted))\n",
        "  precision.append(precision_score(y_test, y_test_predicted))\n",
        "\n",
        "print(f\"Precision Average: {sum(precision)/split}\")\n",
        "print(f\"Recall Average: {sum(recall)/split}\")\n",
        "print(f\"Accuracy Average: {sum(accuracy)/split}\")\n"
      ]
    },
    {
      "cell_type": "markdown",
      "metadata": {
        "id": "jlOdwOgm--F1"
      },
      "source": [
        "## Boosting"
      ]
    },
    {
      "cell_type": "code",
      "execution_count": null,
      "metadata": {
        "id": "RID2-ysbKsqP"
      },
      "outputs": [],
      "source": [
        "from sklearn.ensemble import AdaBoostClassifier\n",
        "\n",
        "model_boosting = AdaBoostClassifier(DecisionTreeClassifier(max_depth=3), n_estimators=5, learning_rate = 1, random_state=32)\n",
        "\n",
        "model_boosting.fit(x_train, y_train)\n",
        "\n",
        "y_test_predicted = model_boosting.predict(x_test)\n",
        "\n",
        "print(model_boosting.score(x_test, y_test))\n",
        "print(classification_report(y_test, y_test_predicted))"
      ]
    },
    {
      "cell_type": "code",
      "execution_count": null,
      "metadata": {
        "id": "Xdbtl977Lx42"
      },
      "outputs": [],
      "source": [
        "y_unknown_predicted = model_boosting.predict(x_unknown)\n",
        "print(y_unknown_predicted)"
      ]
    },
    {
      "cell_type": "markdown",
      "metadata": {
        "id": "LpcU6Qzs_Ade"
      },
      "source": [
        "## Voting"
      ]
    },
    {
      "cell_type": "code",
      "execution_count": null,
      "metadata": {
        "id": "pOYAdza0L-Ah"
      },
      "outputs": [],
      "source": [
        "from sklearn.ensemble import VotingClassifier\n",
        "from sklearn.ensemble import RandomForestClassifier\n",
        "model1 = DecisionTreeClassifier()\n",
        "model2 = RandomForestClassifier()\n",
        "\n",
        "model_voting = VotingClassifier(estimators=[('DecisionTree', model1), ('RandomForest', model2)])\n",
        "\n",
        "model_voting.fit(x_train, y_train)\n",
        "\n",
        "#y_test_predicted = model_voting.predict(x_test)\n",
        "model_voting.score(x_test, y_test)\n"
      ]
    },
    {
      "cell_type": "markdown",
      "metadata": {
        "id": "8AVv8mqE_Clb"
      },
      "source": [
        "##Lifting"
      ]
    },
    {
      "cell_type": "code",
      "execution_count": null,
      "metadata": {
        "id": "PdgDhX97NpWW"
      },
      "outputs": [],
      "source": [
        "!pip install scikit-plot"
      ]
    },
    {
      "cell_type": "code",
      "execution_count": null,
      "metadata": {
        "id": "UfPUfhLQNuu4"
      },
      "outputs": [],
      "source": [
        "import matplotlib.pyplot as plt\n",
        "import scikitplot as skplt\n",
        "from sklearn.naive_bayes import GaussianNB\n"
      ]
    },
    {
      "cell_type": "code",
      "execution_count": null,
      "metadata": {
        "id": "JZZXm1cCN7Hd"
      },
      "outputs": [],
      "source": [
        "model = GaussianNB()\n",
        "\n",
        "model.fit(x_train, y_train)\n",
        "\n",
        "y_predicted_prob = model.predict_proba(x_test)\n",
        "\n",
        "skplt.metrics.plot_cumulative_gain(y_test, y_predicted_prob)\n",
        "plt.show()"
      ]
    },
    {
      "cell_type": "markdown",
      "metadata": {
        "id": "6zAhNIFo_rQB"
      },
      "source": [
        "[bağlantı metni](https://)## Neural Network"
      ]
    },
    {
      "cell_type": "code",
      "execution_count": null,
      "metadata": {
        "id": "ArAImhpo_tP9",
        "outputId": "0eeb22e3-7d93-4a61-cda8-9ff5af6f049d",
        "colab": {
          "base_uri": "https://localhost:8080/",
          "height": 478
        }
      },
      "outputs": [
        {
          "output_type": "display_data",
          "data": {
            "text/plain": [
              "     mean radius  mean texture  mean perimeter  mean area  mean smoothness  \\\n",
              "0         11.900         14.65           78.11      432.8          0.11520   \n",
              "1         13.660         15.15           88.27      580.6          0.08268   \n",
              "2         20.310         27.06          132.90     1288.0          0.10000   \n",
              "3         17.990         10.38          122.80     1001.0          0.11840   \n",
              "4         17.470         24.68          116.10      984.6          0.10490   \n",
              "..           ...           ...             ...        ...              ...   \n",
              "546       14.900         22.53          102.10      685.0          0.09947   \n",
              "547        7.729         25.49           47.98      178.8          0.08098   \n",
              "548       14.260         18.17           91.22      633.1          0.06576   \n",
              "549        9.720         18.22           60.73      288.1          0.06950   \n",
              "550       20.130         28.25          131.20     1261.0          0.09780   \n",
              "\n",
              "     mean compactness  mean concavity  mean concave points  mean symmetry  \\\n",
              "0             0.12960         0.03710              0.03003         0.1995   \n",
              "1             0.07548         0.04249              0.02471         0.1792   \n",
              "2             0.10880         0.15190              0.09333         0.1814   \n",
              "3             0.27760         0.30010              0.14710         0.2419   \n",
              "4             0.16030         0.21590              0.10430         0.1538   \n",
              "..                ...             ...                  ...            ...   \n",
              "546           0.22250         0.27330              0.09711         0.2041   \n",
              "547           0.04878         0.00000              0.00000         0.1870   \n",
              "548           0.05220         0.02475              0.01374         0.1635   \n",
              "549           0.02344         0.00000              0.00000         0.1653   \n",
              "550           0.10340         0.14400              0.09791         0.1752   \n",
              "\n",
              "     mean fractal dimension  ...  worst texture  worst perimeter  worst area  \\\n",
              "0                   0.07839  ...          16.51            86.26       509.6   \n",
              "1                   0.05897  ...          19.64            97.96       657.0   \n",
              "2                   0.05572  ...          39.16           162.30      1844.0   \n",
              "3                   0.07871  ...          17.33           184.60      2019.0   \n",
              "4                   0.06365  ...          32.33           155.30      1660.0   \n",
              "..                      ...  ...            ...              ...         ...   \n",
              "546                 0.06898  ...          27.57           125.40       832.7   \n",
              "547                 0.07285  ...          30.92            57.17       248.0   \n",
              "548                 0.05586  ...          25.26           105.80       819.7   \n",
              "549                 0.06447  ...          20.83            62.25       303.8   \n",
              "550                 0.05533  ...          38.25           155.00      1731.0   \n",
              "\n",
              "     worst smoothness  worst compactness  worst concavity  \\\n",
              "0             0.14240            0.25170           0.0942   \n",
              "1             0.12750            0.31040           0.2569   \n",
              "2             0.15220            0.29450           0.3788   \n",
              "3             0.16220            0.66560           0.7119   \n",
              "4             0.13760            0.38300           0.4890   \n",
              "..                ...                ...              ...   \n",
              "546           0.14190            0.70900           0.9019   \n",
              "547           0.12560            0.08340           0.0000   \n",
              "548           0.09445            0.21670           0.1565   \n",
              "549           0.07117            0.02729           0.0000   \n",
              "550           0.11660            0.19220           0.3215   \n",
              "\n",
              "     worst concave points  worst symmetry  worst fractal dimension  labels  \n",
              "0                 0.06042          0.2727                  0.10360       1  \n",
              "1                 0.10540          0.3387                  0.09638       1  \n",
              "2                 0.16970          0.3151                  0.07999       0  \n",
              "3                 0.26540          0.4601                  0.11890       0  \n",
              "4                 0.17210          0.2160                  0.09300       0  \n",
              "..                    ...             ...                      ...     ...  \n",
              "546               0.24750          0.2866                  0.11550       0  \n",
              "547               0.00000          0.3058                  0.09938       1  \n",
              "548               0.07530          0.2636                  0.07676       1  \n",
              "549               0.00000          0.1909                  0.06559       1  \n",
              "550               0.16280          0.2572                  0.06637       0  \n",
              "\n",
              "[551 rows x 31 columns]"
            ],
            "text/html": [
              "\n",
              "  <div id=\"df-8313ccce-e1c1-4c90-be21-9330b0bf4b86\" class=\"colab-df-container\">\n",
              "    <div>\n",
              "<style scoped>\n",
              "    .dataframe tbody tr th:only-of-type {\n",
              "        vertical-align: middle;\n",
              "    }\n",
              "\n",
              "    .dataframe tbody tr th {\n",
              "        vertical-align: top;\n",
              "    }\n",
              "\n",
              "    .dataframe thead th {\n",
              "        text-align: right;\n",
              "    }\n",
              "</style>\n",
              "<table border=\"1\" class=\"dataframe\">\n",
              "  <thead>\n",
              "    <tr style=\"text-align: right;\">\n",
              "      <th></th>\n",
              "      <th>mean radius</th>\n",
              "      <th>mean texture</th>\n",
              "      <th>mean perimeter</th>\n",
              "      <th>mean area</th>\n",
              "      <th>mean smoothness</th>\n",
              "      <th>mean compactness</th>\n",
              "      <th>mean concavity</th>\n",
              "      <th>mean concave points</th>\n",
              "      <th>mean symmetry</th>\n",
              "      <th>mean fractal dimension</th>\n",
              "      <th>...</th>\n",
              "      <th>worst texture</th>\n",
              "      <th>worst perimeter</th>\n",
              "      <th>worst area</th>\n",
              "      <th>worst smoothness</th>\n",
              "      <th>worst compactness</th>\n",
              "      <th>worst concavity</th>\n",
              "      <th>worst concave points</th>\n",
              "      <th>worst symmetry</th>\n",
              "      <th>worst fractal dimension</th>\n",
              "      <th>labels</th>\n",
              "    </tr>\n",
              "  </thead>\n",
              "  <tbody>\n",
              "    <tr>\n",
              "      <th>0</th>\n",
              "      <td>11.900</td>\n",
              "      <td>14.65</td>\n",
              "      <td>78.11</td>\n",
              "      <td>432.8</td>\n",
              "      <td>0.11520</td>\n",
              "      <td>0.12960</td>\n",
              "      <td>0.03710</td>\n",
              "      <td>0.03003</td>\n",
              "      <td>0.1995</td>\n",
              "      <td>0.07839</td>\n",
              "      <td>...</td>\n",
              "      <td>16.51</td>\n",
              "      <td>86.26</td>\n",
              "      <td>509.6</td>\n",
              "      <td>0.14240</td>\n",
              "      <td>0.25170</td>\n",
              "      <td>0.0942</td>\n",
              "      <td>0.06042</td>\n",
              "      <td>0.2727</td>\n",
              "      <td>0.10360</td>\n",
              "      <td>1</td>\n",
              "    </tr>\n",
              "    <tr>\n",
              "      <th>1</th>\n",
              "      <td>13.660</td>\n",
              "      <td>15.15</td>\n",
              "      <td>88.27</td>\n",
              "      <td>580.6</td>\n",
              "      <td>0.08268</td>\n",
              "      <td>0.07548</td>\n",
              "      <td>0.04249</td>\n",
              "      <td>0.02471</td>\n",
              "      <td>0.1792</td>\n",
              "      <td>0.05897</td>\n",
              "      <td>...</td>\n",
              "      <td>19.64</td>\n",
              "      <td>97.96</td>\n",
              "      <td>657.0</td>\n",
              "      <td>0.12750</td>\n",
              "      <td>0.31040</td>\n",
              "      <td>0.2569</td>\n",
              "      <td>0.10540</td>\n",
              "      <td>0.3387</td>\n",
              "      <td>0.09638</td>\n",
              "      <td>1</td>\n",
              "    </tr>\n",
              "    <tr>\n",
              "      <th>2</th>\n",
              "      <td>20.310</td>\n",
              "      <td>27.06</td>\n",
              "      <td>132.90</td>\n",
              "      <td>1288.0</td>\n",
              "      <td>0.10000</td>\n",
              "      <td>0.10880</td>\n",
              "      <td>0.15190</td>\n",
              "      <td>0.09333</td>\n",
              "      <td>0.1814</td>\n",
              "      <td>0.05572</td>\n",
              "      <td>...</td>\n",
              "      <td>39.16</td>\n",
              "      <td>162.30</td>\n",
              "      <td>1844.0</td>\n",
              "      <td>0.15220</td>\n",
              "      <td>0.29450</td>\n",
              "      <td>0.3788</td>\n",
              "      <td>0.16970</td>\n",
              "      <td>0.3151</td>\n",
              "      <td>0.07999</td>\n",
              "      <td>0</td>\n",
              "    </tr>\n",
              "    <tr>\n",
              "      <th>3</th>\n",
              "      <td>17.990</td>\n",
              "      <td>10.38</td>\n",
              "      <td>122.80</td>\n",
              "      <td>1001.0</td>\n",
              "      <td>0.11840</td>\n",
              "      <td>0.27760</td>\n",
              "      <td>0.30010</td>\n",
              "      <td>0.14710</td>\n",
              "      <td>0.2419</td>\n",
              "      <td>0.07871</td>\n",
              "      <td>...</td>\n",
              "      <td>17.33</td>\n",
              "      <td>184.60</td>\n",
              "      <td>2019.0</td>\n",
              "      <td>0.16220</td>\n",
              "      <td>0.66560</td>\n",
              "      <td>0.7119</td>\n",
              "      <td>0.26540</td>\n",
              "      <td>0.4601</td>\n",
              "      <td>0.11890</td>\n",
              "      <td>0</td>\n",
              "    </tr>\n",
              "    <tr>\n",
              "      <th>4</th>\n",
              "      <td>17.470</td>\n",
              "      <td>24.68</td>\n",
              "      <td>116.10</td>\n",
              "      <td>984.6</td>\n",
              "      <td>0.10490</td>\n",
              "      <td>0.16030</td>\n",
              "      <td>0.21590</td>\n",
              "      <td>0.10430</td>\n",
              "      <td>0.1538</td>\n",
              "      <td>0.06365</td>\n",
              "      <td>...</td>\n",
              "      <td>32.33</td>\n",
              "      <td>155.30</td>\n",
              "      <td>1660.0</td>\n",
              "      <td>0.13760</td>\n",
              "      <td>0.38300</td>\n",
              "      <td>0.4890</td>\n",
              "      <td>0.17210</td>\n",
              "      <td>0.2160</td>\n",
              "      <td>0.09300</td>\n",
              "      <td>0</td>\n",
              "    </tr>\n",
              "    <tr>\n",
              "      <th>...</th>\n",
              "      <td>...</td>\n",
              "      <td>...</td>\n",
              "      <td>...</td>\n",
              "      <td>...</td>\n",
              "      <td>...</td>\n",
              "      <td>...</td>\n",
              "      <td>...</td>\n",
              "      <td>...</td>\n",
              "      <td>...</td>\n",
              "      <td>...</td>\n",
              "      <td>...</td>\n",
              "      <td>...</td>\n",
              "      <td>...</td>\n",
              "      <td>...</td>\n",
              "      <td>...</td>\n",
              "      <td>...</td>\n",
              "      <td>...</td>\n",
              "      <td>...</td>\n",
              "      <td>...</td>\n",
              "      <td>...</td>\n",
              "      <td>...</td>\n",
              "    </tr>\n",
              "    <tr>\n",
              "      <th>546</th>\n",
              "      <td>14.900</td>\n",
              "      <td>22.53</td>\n",
              "      <td>102.10</td>\n",
              "      <td>685.0</td>\n",
              "      <td>0.09947</td>\n",
              "      <td>0.22250</td>\n",
              "      <td>0.27330</td>\n",
              "      <td>0.09711</td>\n",
              "      <td>0.2041</td>\n",
              "      <td>0.06898</td>\n",
              "      <td>...</td>\n",
              "      <td>27.57</td>\n",
              "      <td>125.40</td>\n",
              "      <td>832.7</td>\n",
              "      <td>0.14190</td>\n",
              "      <td>0.70900</td>\n",
              "      <td>0.9019</td>\n",
              "      <td>0.24750</td>\n",
              "      <td>0.2866</td>\n",
              "      <td>0.11550</td>\n",
              "      <td>0</td>\n",
              "    </tr>\n",
              "    <tr>\n",
              "      <th>547</th>\n",
              "      <td>7.729</td>\n",
              "      <td>25.49</td>\n",
              "      <td>47.98</td>\n",
              "      <td>178.8</td>\n",
              "      <td>0.08098</td>\n",
              "      <td>0.04878</td>\n",
              "      <td>0.00000</td>\n",
              "      <td>0.00000</td>\n",
              "      <td>0.1870</td>\n",
              "      <td>0.07285</td>\n",
              "      <td>...</td>\n",
              "      <td>30.92</td>\n",
              "      <td>57.17</td>\n",
              "      <td>248.0</td>\n",
              "      <td>0.12560</td>\n",
              "      <td>0.08340</td>\n",
              "      <td>0.0000</td>\n",
              "      <td>0.00000</td>\n",
              "      <td>0.3058</td>\n",
              "      <td>0.09938</td>\n",
              "      <td>1</td>\n",
              "    </tr>\n",
              "    <tr>\n",
              "      <th>548</th>\n",
              "      <td>14.260</td>\n",
              "      <td>18.17</td>\n",
              "      <td>91.22</td>\n",
              "      <td>633.1</td>\n",
              "      <td>0.06576</td>\n",
              "      <td>0.05220</td>\n",
              "      <td>0.02475</td>\n",
              "      <td>0.01374</td>\n",
              "      <td>0.1635</td>\n",
              "      <td>0.05586</td>\n",
              "      <td>...</td>\n",
              "      <td>25.26</td>\n",
              "      <td>105.80</td>\n",
              "      <td>819.7</td>\n",
              "      <td>0.09445</td>\n",
              "      <td>0.21670</td>\n",
              "      <td>0.1565</td>\n",
              "      <td>0.07530</td>\n",
              "      <td>0.2636</td>\n",
              "      <td>0.07676</td>\n",
              "      <td>1</td>\n",
              "    </tr>\n",
              "    <tr>\n",
              "      <th>549</th>\n",
              "      <td>9.720</td>\n",
              "      <td>18.22</td>\n",
              "      <td>60.73</td>\n",
              "      <td>288.1</td>\n",
              "      <td>0.06950</td>\n",
              "      <td>0.02344</td>\n",
              "      <td>0.00000</td>\n",
              "      <td>0.00000</td>\n",
              "      <td>0.1653</td>\n",
              "      <td>0.06447</td>\n",
              "      <td>...</td>\n",
              "      <td>20.83</td>\n",
              "      <td>62.25</td>\n",
              "      <td>303.8</td>\n",
              "      <td>0.07117</td>\n",
              "      <td>0.02729</td>\n",
              "      <td>0.0000</td>\n",
              "      <td>0.00000</td>\n",
              "      <td>0.1909</td>\n",
              "      <td>0.06559</td>\n",
              "      <td>1</td>\n",
              "    </tr>\n",
              "    <tr>\n",
              "      <th>550</th>\n",
              "      <td>20.130</td>\n",
              "      <td>28.25</td>\n",
              "      <td>131.20</td>\n",
              "      <td>1261.0</td>\n",
              "      <td>0.09780</td>\n",
              "      <td>0.10340</td>\n",
              "      <td>0.14400</td>\n",
              "      <td>0.09791</td>\n",
              "      <td>0.1752</td>\n",
              "      <td>0.05533</td>\n",
              "      <td>...</td>\n",
              "      <td>38.25</td>\n",
              "      <td>155.00</td>\n",
              "      <td>1731.0</td>\n",
              "      <td>0.11660</td>\n",
              "      <td>0.19220</td>\n",
              "      <td>0.3215</td>\n",
              "      <td>0.16280</td>\n",
              "      <td>0.2572</td>\n",
              "      <td>0.06637</td>\n",
              "      <td>0</td>\n",
              "    </tr>\n",
              "  </tbody>\n",
              "</table>\n",
              "<p>551 rows × 31 columns</p>\n",
              "</div>\n",
              "    <div class=\"colab-df-buttons\">\n",
              "\n",
              "  <div class=\"colab-df-container\">\n",
              "    <button class=\"colab-df-convert\" onclick=\"convertToInteractive('df-8313ccce-e1c1-4c90-be21-9330b0bf4b86')\"\n",
              "            title=\"Convert this dataframe to an interactive table.\"\n",
              "            style=\"display:none;\">\n",
              "\n",
              "  <svg xmlns=\"http://www.w3.org/2000/svg\" height=\"24px\" viewBox=\"0 -960 960 960\">\n",
              "    <path d=\"M120-120v-720h720v720H120Zm60-500h600v-160H180v160Zm220 220h160v-160H400v160Zm0 220h160v-160H400v160ZM180-400h160v-160H180v160Zm440 0h160v-160H620v160ZM180-180h160v-160H180v160Zm440 0h160v-160H620v160Z\"/>\n",
              "  </svg>\n",
              "    </button>\n",
              "\n",
              "  <style>\n",
              "    .colab-df-container {\n",
              "      display:flex;\n",
              "      gap: 12px;\n",
              "    }\n",
              "\n",
              "    .colab-df-convert {\n",
              "      background-color: #E8F0FE;\n",
              "      border: none;\n",
              "      border-radius: 50%;\n",
              "      cursor: pointer;\n",
              "      display: none;\n",
              "      fill: #1967D2;\n",
              "      height: 32px;\n",
              "      padding: 0 0 0 0;\n",
              "      width: 32px;\n",
              "    }\n",
              "\n",
              "    .colab-df-convert:hover {\n",
              "      background-color: #E2EBFA;\n",
              "      box-shadow: 0px 1px 2px rgba(60, 64, 67, 0.3), 0px 1px 3px 1px rgba(60, 64, 67, 0.15);\n",
              "      fill: #174EA6;\n",
              "    }\n",
              "\n",
              "    .colab-df-buttons div {\n",
              "      margin-bottom: 4px;\n",
              "    }\n",
              "\n",
              "    [theme=dark] .colab-df-convert {\n",
              "      background-color: #3B4455;\n",
              "      fill: #D2E3FC;\n",
              "    }\n",
              "\n",
              "    [theme=dark] .colab-df-convert:hover {\n",
              "      background-color: #434B5C;\n",
              "      box-shadow: 0px 1px 3px 1px rgba(0, 0, 0, 0.15);\n",
              "      filter: drop-shadow(0px 1px 2px rgba(0, 0, 0, 0.3));\n",
              "      fill: #FFFFFF;\n",
              "    }\n",
              "  </style>\n",
              "\n",
              "    <script>\n",
              "      const buttonEl =\n",
              "        document.querySelector('#df-8313ccce-e1c1-4c90-be21-9330b0bf4b86 button.colab-df-convert');\n",
              "      buttonEl.style.display =\n",
              "        google.colab.kernel.accessAllowed ? 'block' : 'none';\n",
              "\n",
              "      async function convertToInteractive(key) {\n",
              "        const element = document.querySelector('#df-8313ccce-e1c1-4c90-be21-9330b0bf4b86');\n",
              "        const dataTable =\n",
              "          await google.colab.kernel.invokeFunction('convertToInteractive',\n",
              "                                                    [key], {});\n",
              "        if (!dataTable) return;\n",
              "\n",
              "        const docLinkHtml = 'Like what you see? Visit the ' +\n",
              "          '<a target=\"_blank\" href=https://colab.research.google.com/notebooks/data_table.ipynb>data table notebook</a>'\n",
              "          + ' to learn more about interactive tables.';\n",
              "        element.innerHTML = '';\n",
              "        dataTable['output_type'] = 'display_data';\n",
              "        await google.colab.output.renderOutput(dataTable, element);\n",
              "        const docLink = document.createElement('div');\n",
              "        docLink.innerHTML = docLinkHtml;\n",
              "        element.appendChild(docLink);\n",
              "      }\n",
              "    </script>\n",
              "  </div>\n",
              "\n",
              "\n",
              "<div id=\"df-301dbd71-f43c-4170-b4c8-18662f4daa61\">\n",
              "  <button class=\"colab-df-quickchart\" onclick=\"quickchart('df-301dbd71-f43c-4170-b4c8-18662f4daa61')\"\n",
              "            title=\"Suggest charts\"\n",
              "            style=\"display:none;\">\n",
              "\n",
              "<svg xmlns=\"http://www.w3.org/2000/svg\" height=\"24px\"viewBox=\"0 0 24 24\"\n",
              "     width=\"24px\">\n",
              "    <g>\n",
              "        <path d=\"M19 3H5c-1.1 0-2 .9-2 2v14c0 1.1.9 2 2 2h14c1.1 0 2-.9 2-2V5c0-1.1-.9-2-2-2zM9 17H7v-7h2v7zm4 0h-2V7h2v10zm4 0h-2v-4h2v4z\"/>\n",
              "    </g>\n",
              "</svg>\n",
              "  </button>\n",
              "\n",
              "<style>\n",
              "  .colab-df-quickchart {\n",
              "      --bg-color: #E8F0FE;\n",
              "      --fill-color: #1967D2;\n",
              "      --hover-bg-color: #E2EBFA;\n",
              "      --hover-fill-color: #174EA6;\n",
              "      --disabled-fill-color: #AAA;\n",
              "      --disabled-bg-color: #DDD;\n",
              "  }\n",
              "\n",
              "  [theme=dark] .colab-df-quickchart {\n",
              "      --bg-color: #3B4455;\n",
              "      --fill-color: #D2E3FC;\n",
              "      --hover-bg-color: #434B5C;\n",
              "      --hover-fill-color: #FFFFFF;\n",
              "      --disabled-bg-color: #3B4455;\n",
              "      --disabled-fill-color: #666;\n",
              "  }\n",
              "\n",
              "  .colab-df-quickchart {\n",
              "    background-color: var(--bg-color);\n",
              "    border: none;\n",
              "    border-radius: 50%;\n",
              "    cursor: pointer;\n",
              "    display: none;\n",
              "    fill: var(--fill-color);\n",
              "    height: 32px;\n",
              "    padding: 0;\n",
              "    width: 32px;\n",
              "  }\n",
              "\n",
              "  .colab-df-quickchart:hover {\n",
              "    background-color: var(--hover-bg-color);\n",
              "    box-shadow: 0 1px 2px rgba(60, 64, 67, 0.3), 0 1px 3px 1px rgba(60, 64, 67, 0.15);\n",
              "    fill: var(--button-hover-fill-color);\n",
              "  }\n",
              "\n",
              "  .colab-df-quickchart-complete:disabled,\n",
              "  .colab-df-quickchart-complete:disabled:hover {\n",
              "    background-color: var(--disabled-bg-color);\n",
              "    fill: var(--disabled-fill-color);\n",
              "    box-shadow: none;\n",
              "  }\n",
              "\n",
              "  .colab-df-spinner {\n",
              "    border: 2px solid var(--fill-color);\n",
              "    border-color: transparent;\n",
              "    border-bottom-color: var(--fill-color);\n",
              "    animation:\n",
              "      spin 1s steps(1) infinite;\n",
              "  }\n",
              "\n",
              "  @keyframes spin {\n",
              "    0% {\n",
              "      border-color: transparent;\n",
              "      border-bottom-color: var(--fill-color);\n",
              "      border-left-color: var(--fill-color);\n",
              "    }\n",
              "    20% {\n",
              "      border-color: transparent;\n",
              "      border-left-color: var(--fill-color);\n",
              "      border-top-color: var(--fill-color);\n",
              "    }\n",
              "    30% {\n",
              "      border-color: transparent;\n",
              "      border-left-color: var(--fill-color);\n",
              "      border-top-color: var(--fill-color);\n",
              "      border-right-color: var(--fill-color);\n",
              "    }\n",
              "    40% {\n",
              "      border-color: transparent;\n",
              "      border-right-color: var(--fill-color);\n",
              "      border-top-color: var(--fill-color);\n",
              "    }\n",
              "    60% {\n",
              "      border-color: transparent;\n",
              "      border-right-color: var(--fill-color);\n",
              "    }\n",
              "    80% {\n",
              "      border-color: transparent;\n",
              "      border-right-color: var(--fill-color);\n",
              "      border-bottom-color: var(--fill-color);\n",
              "    }\n",
              "    90% {\n",
              "      border-color: transparent;\n",
              "      border-bottom-color: var(--fill-color);\n",
              "    }\n",
              "  }\n",
              "</style>\n",
              "\n",
              "  <script>\n",
              "    async function quickchart(key) {\n",
              "      const quickchartButtonEl =\n",
              "        document.querySelector('#' + key + ' button');\n",
              "      quickchartButtonEl.disabled = true;  // To prevent multiple clicks.\n",
              "      quickchartButtonEl.classList.add('colab-df-spinner');\n",
              "      try {\n",
              "        const charts = await google.colab.kernel.invokeFunction(\n",
              "            'suggestCharts', [key], {});\n",
              "      } catch (error) {\n",
              "        console.error('Error during call to suggestCharts:', error);\n",
              "      }\n",
              "      quickchartButtonEl.classList.remove('colab-df-spinner');\n",
              "      quickchartButtonEl.classList.add('colab-df-quickchart-complete');\n",
              "    }\n",
              "    (() => {\n",
              "      let quickchartButtonEl =\n",
              "        document.querySelector('#df-301dbd71-f43c-4170-b4c8-18662f4daa61 button');\n",
              "      quickchartButtonEl.style.display =\n",
              "        google.colab.kernel.accessAllowed ? 'block' : 'none';\n",
              "    })();\n",
              "  </script>\n",
              "</div>\n",
              "\n",
              "  <div id=\"id_c8d5b37f-239f-468b-9fba-bb425de864e8\">\n",
              "    <style>\n",
              "      .colab-df-generate {\n",
              "        background-color: #E8F0FE;\n",
              "        border: none;\n",
              "        border-radius: 50%;\n",
              "        cursor: pointer;\n",
              "        display: none;\n",
              "        fill: #1967D2;\n",
              "        height: 32px;\n",
              "        padding: 0 0 0 0;\n",
              "        width: 32px;\n",
              "      }\n",
              "\n",
              "      .colab-df-generate:hover {\n",
              "        background-color: #E2EBFA;\n",
              "        box-shadow: 0px 1px 2px rgba(60, 64, 67, 0.3), 0px 1px 3px 1px rgba(60, 64, 67, 0.15);\n",
              "        fill: #174EA6;\n",
              "      }\n",
              "\n",
              "      [theme=dark] .colab-df-generate {\n",
              "        background-color: #3B4455;\n",
              "        fill: #D2E3FC;\n",
              "      }\n",
              "\n",
              "      [theme=dark] .colab-df-generate:hover {\n",
              "        background-color: #434B5C;\n",
              "        box-shadow: 0px 1px 3px 1px rgba(0, 0, 0, 0.15);\n",
              "        filter: drop-shadow(0px 1px 2px rgba(0, 0, 0, 0.3));\n",
              "        fill: #FFFFFF;\n",
              "      }\n",
              "    </style>\n",
              "    <button class=\"colab-df-generate\" onclick=\"generateWithVariable('data')\"\n",
              "            title=\"Generate code using this dataframe.\"\n",
              "            style=\"display:none;\">\n",
              "\n",
              "  <svg xmlns=\"http://www.w3.org/2000/svg\" height=\"24px\"viewBox=\"0 0 24 24\"\n",
              "       width=\"24px\">\n",
              "    <path d=\"M7,19H8.4L18.45,9,17,7.55,7,17.6ZM5,21V16.75L18.45,3.32a2,2,0,0,1,2.83,0l1.4,1.43a1.91,1.91,0,0,1,.58,1.4,1.91,1.91,0,0,1-.58,1.4L9.25,21ZM18.45,9,17,7.55Zm-12,3A5.31,5.31,0,0,0,4.9,8.1,5.31,5.31,0,0,0,1,6.5,5.31,5.31,0,0,0,4.9,4.9,5.31,5.31,0,0,0,6.5,1,5.31,5.31,0,0,0,8.1,4.9,5.31,5.31,0,0,0,12,6.5,5.46,5.46,0,0,0,6.5,12Z\"/>\n",
              "  </svg>\n",
              "    </button>\n",
              "    <script>\n",
              "      (() => {\n",
              "      const buttonEl =\n",
              "        document.querySelector('#id_c8d5b37f-239f-468b-9fba-bb425de864e8 button.colab-df-generate');\n",
              "      buttonEl.style.display =\n",
              "        google.colab.kernel.accessAllowed ? 'block' : 'none';\n",
              "\n",
              "      buttonEl.onclick = () => {\n",
              "        google.colab.notebook.generateWithVariable('data');\n",
              "      }\n",
              "      })();\n",
              "    </script>\n",
              "  </div>\n",
              "\n",
              "    </div>\n",
              "  </div>\n"
            ]
          },
          "metadata": {}
        }
      ],
      "source": [
        "import pandas as pd\n",
        "\n",
        "data = pd.read_csv('sample_data/breast_cancer.csv')\n",
        "\n",
        "display(data)"
      ]
    },
    {
      "cell_type": "code",
      "execution_count": null,
      "metadata": {
        "id": "YPAFdd5_ExGj",
        "colab": {
          "base_uri": "https://localhost:8080/"
        },
        "outputId": "5a6bbc28-7336-489e-a4fd-43421f110be7"
      },
      "outputs": [
        {
          "output_type": "stream",
          "name": "stdout",
          "text": [
            "(551, 30) (551,)\n"
          ]
        }
      ],
      "source": [
        "x = data.drop('labels', axis=1)\n",
        "y = data['labels']\n",
        "\n",
        "print(x.shape, y.shape)"
      ]
    },
    {
      "cell_type": "code",
      "execution_count": null,
      "metadata": {
        "id": "hpK5lUhCFMlk",
        "colab": {
          "base_uri": "https://localhost:8080/"
        },
        "outputId": "25d10648-e93c-4c62-fc7f-6407ae3ded08"
      },
      "outputs": [
        {
          "output_type": "stream",
          "name": "stdout",
          "text": [
            "(385, 30) (166, 30) (385,) (166,)\n"
          ]
        }
      ],
      "source": [
        "from sklearn.model_selection import train_test_split\n",
        "from sklearn.preprocessing import MinMaxScaler\n",
        "\n",
        "x_train, x_test, y_train, y_test = train_test_split(x, y, test_size=0.30)\n",
        "\n",
        "print(x_train.shape, x_test.shape, y_train.shape, y_test.shape)"
      ]
    },
    {
      "cell_type": "code",
      "execution_count": null,
      "metadata": {
        "id": "e_iEIOM2Gd0x",
        "colab": {
          "base_uri": "https://localhost:8080/"
        },
        "outputId": "f7ed2fc1-c27b-4d07-a6f5-51ef64b2c159"
      },
      "outputs": [
        {
          "output_type": "stream",
          "name": "stdout",
          "text": [
            "[[0.20935467 0.40887751 0.20913982 ... 0.32006873 0.27399961 0.09871442]\n",
            " [0.12153236 0.45369185 0.11403815 ... 0.22395189 0.25882121 0.24314574]\n",
            " [0.31845981 0.50874947 0.30130669 ... 0.44054983 0.25744136 0.09268005]\n",
            " ...\n",
            " [0.40554822 0.10798122 0.37998742 ... 0.3556701  0.14882712 0.12921422]\n",
            " [0.21229023 0.71276142 0.19544406 ... 0.07158076 0.25310467 0.10383051]\n",
            " [0.25045257 0.31327358 0.23953602 ... 0.21532646 0.29252908 0.10343697]]\n"
          ]
        }
      ],
      "source": [
        "x_train_scaled = MinMaxScaler().fit_transform(x_train)\n",
        "x_test_scaled = MinMaxScaler().fit_transform(x_test)\n",
        "\n",
        "print(x_train_scaled)"
      ]
    },
    {
      "cell_type": "code",
      "execution_count": null,
      "metadata": {
        "id": "w7wnBe9HHFt3"
      },
      "outputs": [],
      "source": [
        "from sklearn.neural_network import MLPClassifier\n",
        "\n",
        "model = MLPClassifier(hidden_layer_sizes=(50,50,50), max_iter=1000)\n",
        "model.fit(x_train_scaled, y_train)\n",
        "y_test_predicted = model.predict(x_test_scaled)"
      ]
    },
    {
      "cell_type": "code",
      "execution_count": null,
      "metadata": {
        "id": "UH3lH-gYIjwx",
        "colab": {
          "base_uri": "https://localhost:8080/"
        },
        "outputId": "1de6ff52-4381-4f87-a61b-c8420f5361f1"
      },
      "outputs": [
        {
          "output_type": "stream",
          "name": "stdout",
          "text": [
            "MAE: 0.06626506024096386\n",
            "MSE: 0.06626506024096386\n",
            "MSLE: 0.031837247910242256\n"
          ]
        }
      ],
      "source": [
        "from sklearn.metrics import mean_absolute_error, mean_squared_error, mean_squared_log_error\n",
        "\n",
        "\n",
        "print(f\"MAE: {mean_absolute_error(y_test, y_test_predicted)}\")\n",
        "print(f\"MSE: {mean_squared_error(y_test, y_test_predicted)}\")\n",
        "print(f\"MSLE: {mean_squared_log_error(y_test, y_test_predicted)}\")"
      ]
    },
    {
      "cell_type": "code",
      "execution_count": null,
      "metadata": {
        "id": "lDpIH06hJN75",
        "colab": {
          "base_uri": "https://localhost:8080/"
        },
        "outputId": "480465a4-051b-4ba8-e2c9-1603855165e5"
      },
      "outputs": [
        {
          "output_type": "stream",
          "name": "stdout",
          "text": [
            "Actual Labels: [1, 1, 1, 1, 1, 0, 0, 1, 0, 1, 0, 0, 0, 1, 1, 0, 1, 0, 0, 0, 0, 1, 1, 1, 1, 1, 1, 1, 1, 1, 1, 0, 1, 1, 0, 0, 0, 1, 0, 1, 1, 0, 0, 1, 1, 0, 0, 1, 1, 0, 1, 1, 0, 0, 0, 1, 0, 1, 0, 1, 1, 1, 1, 1, 1, 0, 1, 1, 1, 0, 1, 1, 0, 0, 0, 0, 1, 0, 1, 1, 1, 0, 0, 1, 1, 0, 1, 1, 0, 0, 0, 0, 1, 1, 1, 1, 1, 1, 1, 0, 1, 0, 0, 1, 1, 1, 1, 0, 1, 0, 0, 1, 1, 0, 0, 0, 1, 0, 1, 0, 0, 1, 0, 1, 1, 0, 0, 1, 1, 1, 0, 1, 0, 1, 1, 1, 1, 1, 1, 1, 0, 1, 1, 1, 1, 1, 0, 1, 1, 1, 1, 1, 0, 1, 0, 1, 0, 1, 1, 0, 0, 0, 1, 1, 0, 0]\n",
            "Predicted Labels: [1, 1, 1, 1, 1, 0, 0, 1, 0, 1, 0, 0, 0, 1, 1, 0, 1, 0, 0, 0, 0, 1, 1, 1, 0, 1, 1, 1, 1, 1, 1, 0, 1, 0, 0, 0, 0, 1, 0, 1, 1, 0, 0, 1, 0, 0, 0, 1, 1, 0, 1, 1, 0, 0, 0, 1, 0, 1, 0, 1, 1, 1, 1, 1, 1, 0, 1, 1, 0, 0, 0, 1, 0, 0, 0, 0, 1, 0, 1, 1, 1, 0, 0, 1, 1, 0, 1, 1, 0, 0, 0, 0, 1, 1, 1, 1, 1, 1, 0, 1, 1, 0, 0, 1, 1, 1, 1, 0, 1, 0, 0, 1, 1, 0, 0, 0, 1, 0, 1, 0, 0, 1, 0, 1, 1, 1, 0, 1, 1, 1, 0, 1, 0, 1, 0, 1, 1, 1, 1, 1, 1, 1, 1, 1, 1, 1, 0, 1, 1, 1, 0, 1, 0, 1, 0, 1, 0, 1, 1, 0, 0, 0, 1, 1, 0, 0]\n"
          ]
        }
      ],
      "source": [
        "print(f\"Actual Labels: {list(y_test)}\")\n",
        "print(f\"Predicted Labels: {list(y_test_predicted)}\")"
      ]
    },
    {
      "cell_type": "code",
      "execution_count": null,
      "metadata": {
        "id": "TfFZXqsvKBaU",
        "colab": {
          "base_uri": "https://localhost:8080/"
        },
        "outputId": "5314e7f4-e39e-407c-f9fa-3ed25f021e8d"
      },
      "outputs": [
        {
          "output_type": "stream",
          "name": "stdout",
          "text": [
            "[[64  3]\n",
            " [ 8 91]]\n"
          ]
        }
      ],
      "source": [
        "from sklearn.metrics import confusion_matrix\n",
        "\n",
        "confusionMatrix = confusion_matrix(y_test, y_test_predicted)\n",
        "print(confusionMatrix)"
      ]
    },
    {
      "cell_type": "code",
      "execution_count": null,
      "metadata": {
        "id": "hdcTxiQkKaPm",
        "colab": {
          "base_uri": "https://localhost:8080/"
        },
        "outputId": "da23075f-8b19-4316-801f-10c97fc0523a"
      },
      "outputs": [
        {
          "output_type": "stream",
          "name": "stdout",
          "text": [
            "              precision    recall  f1-score   support\n",
            "\n",
            "           0       0.89      0.96      0.92        67\n",
            "           1       0.97      0.92      0.94        99\n",
            "\n",
            "    accuracy                           0.93       166\n",
            "   macro avg       0.93      0.94      0.93       166\n",
            "weighted avg       0.94      0.93      0.93       166\n",
            "\n"
          ]
        }
      ],
      "source": [
        "from sklearn.metrics import classification_report\n",
        "\n",
        "print(classification_report(y_test, y_test_predicted))"
      ]
    },
    {
      "cell_type": "code",
      "execution_count": null,
      "metadata": {
        "id": "tfk43IYeK3cR",
        "colab": {
          "base_uri": "https://localhost:8080/",
          "height": 417
        },
        "outputId": "6239c902-3fb0-474e-f1f3-c0552bf47511"
      },
      "outputs": [
        {
          "output_type": "error",
          "ename": "FileNotFoundError",
          "evalue": "[Errno 2] No such file or directory: 'sample_data/breast_cancer_unknown.csv'",
          "traceback": [
            "\u001b[0;31m---------------------------------------------------------------------------\u001b[0m",
            "\u001b[0;31mFileNotFoundError\u001b[0m                         Traceback (most recent call last)",
            "\u001b[0;32m<ipython-input-22-ac3ca1514071>\u001b[0m in \u001b[0;36m<cell line: 1>\u001b[0;34m()\u001b[0m\n\u001b[0;32m----> 1\u001b[0;31m \u001b[0mx_unknown\u001b[0m \u001b[0;34m=\u001b[0m \u001b[0mpd\u001b[0m\u001b[0;34m.\u001b[0m\u001b[0mread_csv\u001b[0m\u001b[0;34m(\u001b[0m\u001b[0;34m'sample_data/breast_cancer_unknown.csv'\u001b[0m\u001b[0;34m)\u001b[0m\u001b[0;34m\u001b[0m\u001b[0;34m\u001b[0m\u001b[0m\n\u001b[0m\u001b[1;32m      2\u001b[0m \u001b[0;34m\u001b[0m\u001b[0m\n\u001b[1;32m      3\u001b[0m \u001b[0;31m#display(x_unknown)\u001b[0m\u001b[0;34m\u001b[0m\u001b[0;34m\u001b[0m\u001b[0m\n\u001b[1;32m      4\u001b[0m \u001b[0mx_unknown_minmax\u001b[0m \u001b[0;34m=\u001b[0m \u001b[0mMinMaxScaler\u001b[0m\u001b[0;34m(\u001b[0m\u001b[0;34m)\u001b[0m\u001b[0;34m.\u001b[0m\u001b[0mfit_transform\u001b[0m\u001b[0;34m(\u001b[0m\u001b[0mx_unknown\u001b[0m\u001b[0;34m)\u001b[0m\u001b[0;34m\u001b[0m\u001b[0;34m\u001b[0m\u001b[0m\n\u001b[1;32m      5\u001b[0m \u001b[0my_unknown_predicted\u001b[0m \u001b[0;34m=\u001b[0m \u001b[0mmodel\u001b[0m\u001b[0;34m.\u001b[0m\u001b[0mpredict\u001b[0m\u001b[0;34m(\u001b[0m\u001b[0mx_unknown_minmax\u001b[0m\u001b[0;34m)\u001b[0m\u001b[0;34m\u001b[0m\u001b[0;34m\u001b[0m\u001b[0m\n",
            "\u001b[0;32m/usr/local/lib/python3.10/dist-packages/pandas/util/_decorators.py\u001b[0m in \u001b[0;36mwrapper\u001b[0;34m(*args, **kwargs)\u001b[0m\n\u001b[1;32m    209\u001b[0m                 \u001b[0;32melse\u001b[0m\u001b[0;34m:\u001b[0m\u001b[0;34m\u001b[0m\u001b[0;34m\u001b[0m\u001b[0m\n\u001b[1;32m    210\u001b[0m                     \u001b[0mkwargs\u001b[0m\u001b[0;34m[\u001b[0m\u001b[0mnew_arg_name\u001b[0m\u001b[0;34m]\u001b[0m \u001b[0;34m=\u001b[0m \u001b[0mnew_arg_value\u001b[0m\u001b[0;34m\u001b[0m\u001b[0;34m\u001b[0m\u001b[0m\n\u001b[0;32m--> 211\u001b[0;31m             \u001b[0;32mreturn\u001b[0m \u001b[0mfunc\u001b[0m\u001b[0;34m(\u001b[0m\u001b[0;34m*\u001b[0m\u001b[0margs\u001b[0m\u001b[0;34m,\u001b[0m \u001b[0;34m**\u001b[0m\u001b[0mkwargs\u001b[0m\u001b[0;34m)\u001b[0m\u001b[0;34m\u001b[0m\u001b[0;34m\u001b[0m\u001b[0m\n\u001b[0m\u001b[1;32m    212\u001b[0m \u001b[0;34m\u001b[0m\u001b[0m\n\u001b[1;32m    213\u001b[0m         \u001b[0;32mreturn\u001b[0m \u001b[0mcast\u001b[0m\u001b[0;34m(\u001b[0m\u001b[0mF\u001b[0m\u001b[0;34m,\u001b[0m \u001b[0mwrapper\u001b[0m\u001b[0;34m)\u001b[0m\u001b[0;34m\u001b[0m\u001b[0;34m\u001b[0m\u001b[0m\n",
            "\u001b[0;32m/usr/local/lib/python3.10/dist-packages/pandas/util/_decorators.py\u001b[0m in \u001b[0;36mwrapper\u001b[0;34m(*args, **kwargs)\u001b[0m\n\u001b[1;32m    329\u001b[0m                     \u001b[0mstacklevel\u001b[0m\u001b[0;34m=\u001b[0m\u001b[0mfind_stack_level\u001b[0m\u001b[0;34m(\u001b[0m\u001b[0;34m)\u001b[0m\u001b[0;34m,\u001b[0m\u001b[0;34m\u001b[0m\u001b[0;34m\u001b[0m\u001b[0m\n\u001b[1;32m    330\u001b[0m                 )\n\u001b[0;32m--> 331\u001b[0;31m             \u001b[0;32mreturn\u001b[0m \u001b[0mfunc\u001b[0m\u001b[0;34m(\u001b[0m\u001b[0;34m*\u001b[0m\u001b[0margs\u001b[0m\u001b[0;34m,\u001b[0m \u001b[0;34m**\u001b[0m\u001b[0mkwargs\u001b[0m\u001b[0;34m)\u001b[0m\u001b[0;34m\u001b[0m\u001b[0;34m\u001b[0m\u001b[0m\n\u001b[0m\u001b[1;32m    332\u001b[0m \u001b[0;34m\u001b[0m\u001b[0m\n\u001b[1;32m    333\u001b[0m         \u001b[0;31m# error: \"Callable[[VarArg(Any), KwArg(Any)], Any]\" has no\u001b[0m\u001b[0;34m\u001b[0m\u001b[0;34m\u001b[0m\u001b[0m\n",
            "\u001b[0;32m/usr/local/lib/python3.10/dist-packages/pandas/io/parsers/readers.py\u001b[0m in \u001b[0;36mread_csv\u001b[0;34m(filepath_or_buffer, sep, delimiter, header, names, index_col, usecols, squeeze, prefix, mangle_dupe_cols, dtype, engine, converters, true_values, false_values, skipinitialspace, skiprows, skipfooter, nrows, na_values, keep_default_na, na_filter, verbose, skip_blank_lines, parse_dates, infer_datetime_format, keep_date_col, date_parser, dayfirst, cache_dates, iterator, chunksize, compression, thousands, decimal, lineterminator, quotechar, quoting, doublequote, escapechar, comment, encoding, encoding_errors, dialect, error_bad_lines, warn_bad_lines, on_bad_lines, delim_whitespace, low_memory, memory_map, float_precision, storage_options)\u001b[0m\n\u001b[1;32m    948\u001b[0m     \u001b[0mkwds\u001b[0m\u001b[0;34m.\u001b[0m\u001b[0mupdate\u001b[0m\u001b[0;34m(\u001b[0m\u001b[0mkwds_defaults\u001b[0m\u001b[0;34m)\u001b[0m\u001b[0;34m\u001b[0m\u001b[0;34m\u001b[0m\u001b[0m\n\u001b[1;32m    949\u001b[0m \u001b[0;34m\u001b[0m\u001b[0m\n\u001b[0;32m--> 950\u001b[0;31m     \u001b[0;32mreturn\u001b[0m \u001b[0m_read\u001b[0m\u001b[0;34m(\u001b[0m\u001b[0mfilepath_or_buffer\u001b[0m\u001b[0;34m,\u001b[0m \u001b[0mkwds\u001b[0m\u001b[0;34m)\u001b[0m\u001b[0;34m\u001b[0m\u001b[0;34m\u001b[0m\u001b[0m\n\u001b[0m\u001b[1;32m    951\u001b[0m \u001b[0;34m\u001b[0m\u001b[0m\n\u001b[1;32m    952\u001b[0m \u001b[0;34m\u001b[0m\u001b[0m\n",
            "\u001b[0;32m/usr/local/lib/python3.10/dist-packages/pandas/io/parsers/readers.py\u001b[0m in \u001b[0;36m_read\u001b[0;34m(filepath_or_buffer, kwds)\u001b[0m\n\u001b[1;32m    603\u001b[0m \u001b[0;34m\u001b[0m\u001b[0m\n\u001b[1;32m    604\u001b[0m     \u001b[0;31m# Create the parser.\u001b[0m\u001b[0;34m\u001b[0m\u001b[0;34m\u001b[0m\u001b[0m\n\u001b[0;32m--> 605\u001b[0;31m     \u001b[0mparser\u001b[0m \u001b[0;34m=\u001b[0m \u001b[0mTextFileReader\u001b[0m\u001b[0;34m(\u001b[0m\u001b[0mfilepath_or_buffer\u001b[0m\u001b[0;34m,\u001b[0m \u001b[0;34m**\u001b[0m\u001b[0mkwds\u001b[0m\u001b[0;34m)\u001b[0m\u001b[0;34m\u001b[0m\u001b[0;34m\u001b[0m\u001b[0m\n\u001b[0m\u001b[1;32m    606\u001b[0m \u001b[0;34m\u001b[0m\u001b[0m\n\u001b[1;32m    607\u001b[0m     \u001b[0;32mif\u001b[0m \u001b[0mchunksize\u001b[0m \u001b[0;32mor\u001b[0m \u001b[0miterator\u001b[0m\u001b[0;34m:\u001b[0m\u001b[0;34m\u001b[0m\u001b[0;34m\u001b[0m\u001b[0m\n",
            "\u001b[0;32m/usr/local/lib/python3.10/dist-packages/pandas/io/parsers/readers.py\u001b[0m in \u001b[0;36m__init__\u001b[0;34m(self, f, engine, **kwds)\u001b[0m\n\u001b[1;32m   1440\u001b[0m \u001b[0;34m\u001b[0m\u001b[0m\n\u001b[1;32m   1441\u001b[0m         \u001b[0mself\u001b[0m\u001b[0;34m.\u001b[0m\u001b[0mhandles\u001b[0m\u001b[0;34m:\u001b[0m \u001b[0mIOHandles\u001b[0m \u001b[0;34m|\u001b[0m \u001b[0;32mNone\u001b[0m \u001b[0;34m=\u001b[0m \u001b[0;32mNone\u001b[0m\u001b[0;34m\u001b[0m\u001b[0;34m\u001b[0m\u001b[0m\n\u001b[0;32m-> 1442\u001b[0;31m         \u001b[0mself\u001b[0m\u001b[0;34m.\u001b[0m\u001b[0m_engine\u001b[0m \u001b[0;34m=\u001b[0m \u001b[0mself\u001b[0m\u001b[0;34m.\u001b[0m\u001b[0m_make_engine\u001b[0m\u001b[0;34m(\u001b[0m\u001b[0mf\u001b[0m\u001b[0;34m,\u001b[0m \u001b[0mself\u001b[0m\u001b[0;34m.\u001b[0m\u001b[0mengine\u001b[0m\u001b[0;34m)\u001b[0m\u001b[0;34m\u001b[0m\u001b[0;34m\u001b[0m\u001b[0m\n\u001b[0m\u001b[1;32m   1443\u001b[0m \u001b[0;34m\u001b[0m\u001b[0m\n\u001b[1;32m   1444\u001b[0m     \u001b[0;32mdef\u001b[0m \u001b[0mclose\u001b[0m\u001b[0;34m(\u001b[0m\u001b[0mself\u001b[0m\u001b[0;34m)\u001b[0m \u001b[0;34m->\u001b[0m \u001b[0;32mNone\u001b[0m\u001b[0;34m:\u001b[0m\u001b[0;34m\u001b[0m\u001b[0;34m\u001b[0m\u001b[0m\n",
            "\u001b[0;32m/usr/local/lib/python3.10/dist-packages/pandas/io/parsers/readers.py\u001b[0m in \u001b[0;36m_make_engine\u001b[0;34m(self, f, engine)\u001b[0m\n\u001b[1;32m   1733\u001b[0m                 \u001b[0;32mif\u001b[0m \u001b[0;34m\"b\"\u001b[0m \u001b[0;32mnot\u001b[0m \u001b[0;32min\u001b[0m \u001b[0mmode\u001b[0m\u001b[0;34m:\u001b[0m\u001b[0;34m\u001b[0m\u001b[0;34m\u001b[0m\u001b[0m\n\u001b[1;32m   1734\u001b[0m                     \u001b[0mmode\u001b[0m \u001b[0;34m+=\u001b[0m \u001b[0;34m\"b\"\u001b[0m\u001b[0;34m\u001b[0m\u001b[0;34m\u001b[0m\u001b[0m\n\u001b[0;32m-> 1735\u001b[0;31m             self.handles = get_handle(\n\u001b[0m\u001b[1;32m   1736\u001b[0m                 \u001b[0mf\u001b[0m\u001b[0;34m,\u001b[0m\u001b[0;34m\u001b[0m\u001b[0;34m\u001b[0m\u001b[0m\n\u001b[1;32m   1737\u001b[0m                 \u001b[0mmode\u001b[0m\u001b[0;34m,\u001b[0m\u001b[0;34m\u001b[0m\u001b[0;34m\u001b[0m\u001b[0m\n",
            "\u001b[0;32m/usr/local/lib/python3.10/dist-packages/pandas/io/common.py\u001b[0m in \u001b[0;36mget_handle\u001b[0;34m(path_or_buf, mode, encoding, compression, memory_map, is_text, errors, storage_options)\u001b[0m\n\u001b[1;32m    854\u001b[0m         \u001b[0;32mif\u001b[0m \u001b[0mioargs\u001b[0m\u001b[0;34m.\u001b[0m\u001b[0mencoding\u001b[0m \u001b[0;32mand\u001b[0m \u001b[0;34m\"b\"\u001b[0m \u001b[0;32mnot\u001b[0m \u001b[0;32min\u001b[0m \u001b[0mioargs\u001b[0m\u001b[0;34m.\u001b[0m\u001b[0mmode\u001b[0m\u001b[0;34m:\u001b[0m\u001b[0;34m\u001b[0m\u001b[0;34m\u001b[0m\u001b[0m\n\u001b[1;32m    855\u001b[0m             \u001b[0;31m# Encoding\u001b[0m\u001b[0;34m\u001b[0m\u001b[0;34m\u001b[0m\u001b[0m\n\u001b[0;32m--> 856\u001b[0;31m             handle = open(\n\u001b[0m\u001b[1;32m    857\u001b[0m                 \u001b[0mhandle\u001b[0m\u001b[0;34m,\u001b[0m\u001b[0;34m\u001b[0m\u001b[0;34m\u001b[0m\u001b[0m\n\u001b[1;32m    858\u001b[0m                 \u001b[0mioargs\u001b[0m\u001b[0;34m.\u001b[0m\u001b[0mmode\u001b[0m\u001b[0;34m,\u001b[0m\u001b[0;34m\u001b[0m\u001b[0;34m\u001b[0m\u001b[0m\n",
            "\u001b[0;31mFileNotFoundError\u001b[0m: [Errno 2] No such file or directory: 'sample_data/breast_cancer_unknown.csv'"
          ]
        }
      ],
      "source": [
        "x_unknown = pd.read_csv('sample_data/breast_cancer_unknown.csv')\n",
        "\n",
        "#display(x_unknown)\n",
        "x_unknown_minmax = MinMaxScaler().fit_transform(x_unknown)\n",
        "y_unknown_predicted = model.predict(x_unknown_minmax)\n",
        "print(y_unknown_predicted)"
      ]
    },
    {
      "cell_type": "markdown",
      "source": [
        "## Neural Network - 2"
      ],
      "metadata": {
        "id": "l0MkXPIrMkfm"
      }
    },
    {
      "cell_type": "code",
      "source": [
        "from sklearn.datasets import load_breast_cancer\n",
        "from sklearn.model_selection import train_test_split\n",
        "from sklearn.preprocessing import MinMaxScaler\n",
        "from sklearn.neural_network import MLPClassifier\n",
        "from sklearn.metrics import accuracy_score\n"
      ],
      "metadata": {
        "id": "qmKy4ZMxMo_1"
      },
      "execution_count": null,
      "outputs": []
    },
    {
      "cell_type": "code",
      "source": [
        "# Load dataset\n",
        "data = load_breast_cancer()\n",
        "X = data.data\n",
        "y = data.target\n",
        "\n",
        "# Split dataset into training and test sets\n",
        "X_train, X_test, y_train, y_test = train_test_split(X, y, test_size=0.2, random_state=42)\n",
        "\n",
        "# Scale features using MinMaxScaler\n",
        "scaler = MinMaxScaler()\n",
        "X_train_scaled = scaler.fit_transform(X_train)\n",
        "X_test_scaled = scaler.transform(X_test)\n"
      ],
      "metadata": {
        "id": "ppNoqXzPMsYE"
      },
      "execution_count": null,
      "outputs": []
    },
    {
      "cell_type": "code",
      "source": [
        "# Create MLPClassifier\n",
        "mlp = MLPClassifier(hidden_layer_sizes=(12, 8), max_iter=1000, random_state=42)\n",
        "\n",
        "# Train the model\n",
        "mlp.fit(X_train_scaled, y_train)\n"
      ],
      "metadata": {
        "colab": {
          "base_uri": "https://localhost:8080/",
          "height": 75
        },
        "id": "0L8rTFkpMwBd",
        "outputId": "bf206f33-397d-40f1-e3b6-7702cfd2a74e"
      },
      "execution_count": null,
      "outputs": [
        {
          "output_type": "execute_result",
          "data": {
            "text/plain": [
              "MLPClassifier(hidden_layer_sizes=(12, 8), max_iter=1000, random_state=42)"
            ],
            "text/html": [
              "<style>#sk-container-id-1 {color: black;background-color: white;}#sk-container-id-1 pre{padding: 0;}#sk-container-id-1 div.sk-toggleable {background-color: white;}#sk-container-id-1 label.sk-toggleable__label {cursor: pointer;display: block;width: 100%;margin-bottom: 0;padding: 0.3em;box-sizing: border-box;text-align: center;}#sk-container-id-1 label.sk-toggleable__label-arrow:before {content: \"▸\";float: left;margin-right: 0.25em;color: #696969;}#sk-container-id-1 label.sk-toggleable__label-arrow:hover:before {color: black;}#sk-container-id-1 div.sk-estimator:hover label.sk-toggleable__label-arrow:before {color: black;}#sk-container-id-1 div.sk-toggleable__content {max-height: 0;max-width: 0;overflow: hidden;text-align: left;background-color: #f0f8ff;}#sk-container-id-1 div.sk-toggleable__content pre {margin: 0.2em;color: black;border-radius: 0.25em;background-color: #f0f8ff;}#sk-container-id-1 input.sk-toggleable__control:checked~div.sk-toggleable__content {max-height: 200px;max-width: 100%;overflow: auto;}#sk-container-id-1 input.sk-toggleable__control:checked~label.sk-toggleable__label-arrow:before {content: \"▾\";}#sk-container-id-1 div.sk-estimator input.sk-toggleable__control:checked~label.sk-toggleable__label {background-color: #d4ebff;}#sk-container-id-1 div.sk-label input.sk-toggleable__control:checked~label.sk-toggleable__label {background-color: #d4ebff;}#sk-container-id-1 input.sk-hidden--visually {border: 0;clip: rect(1px 1px 1px 1px);clip: rect(1px, 1px, 1px, 1px);height: 1px;margin: -1px;overflow: hidden;padding: 0;position: absolute;width: 1px;}#sk-container-id-1 div.sk-estimator {font-family: monospace;background-color: #f0f8ff;border: 1px dotted black;border-radius: 0.25em;box-sizing: border-box;margin-bottom: 0.5em;}#sk-container-id-1 div.sk-estimator:hover {background-color: #d4ebff;}#sk-container-id-1 div.sk-parallel-item::after {content: \"\";width: 100%;border-bottom: 1px solid gray;flex-grow: 1;}#sk-container-id-1 div.sk-label:hover label.sk-toggleable__label {background-color: #d4ebff;}#sk-container-id-1 div.sk-serial::before {content: \"\";position: absolute;border-left: 1px solid gray;box-sizing: border-box;top: 0;bottom: 0;left: 50%;z-index: 0;}#sk-container-id-1 div.sk-serial {display: flex;flex-direction: column;align-items: center;background-color: white;padding-right: 0.2em;padding-left: 0.2em;position: relative;}#sk-container-id-1 div.sk-item {position: relative;z-index: 1;}#sk-container-id-1 div.sk-parallel {display: flex;align-items: stretch;justify-content: center;background-color: white;position: relative;}#sk-container-id-1 div.sk-item::before, #sk-container-id-1 div.sk-parallel-item::before {content: \"\";position: absolute;border-left: 1px solid gray;box-sizing: border-box;top: 0;bottom: 0;left: 50%;z-index: -1;}#sk-container-id-1 div.sk-parallel-item {display: flex;flex-direction: column;z-index: 1;position: relative;background-color: white;}#sk-container-id-1 div.sk-parallel-item:first-child::after {align-self: flex-end;width: 50%;}#sk-container-id-1 div.sk-parallel-item:last-child::after {align-self: flex-start;width: 50%;}#sk-container-id-1 div.sk-parallel-item:only-child::after {width: 0;}#sk-container-id-1 div.sk-dashed-wrapped {border: 1px dashed gray;margin: 0 0.4em 0.5em 0.4em;box-sizing: border-box;padding-bottom: 0.4em;background-color: white;}#sk-container-id-1 div.sk-label label {font-family: monospace;font-weight: bold;display: inline-block;line-height: 1.2em;}#sk-container-id-1 div.sk-label-container {text-align: center;}#sk-container-id-1 div.sk-container {/* jupyter's `normalize.less` sets `[hidden] { display: none; }` but bootstrap.min.css set `[hidden] { display: none !important; }` so we also need the `!important` here to be able to override the default hidden behavior on the sphinx rendered scikit-learn.org. See: https://github.com/scikit-learn/scikit-learn/issues/21755 */display: inline-block !important;position: relative;}#sk-container-id-1 div.sk-text-repr-fallback {display: none;}</style><div id=\"sk-container-id-1\" class=\"sk-top-container\"><div class=\"sk-text-repr-fallback\"><pre>MLPClassifier(hidden_layer_sizes=(12, 8), max_iter=1000, random_state=42)</pre><b>In a Jupyter environment, please rerun this cell to show the HTML representation or trust the notebook. <br />On GitHub, the HTML representation is unable to render, please try loading this page with nbviewer.org.</b></div><div class=\"sk-container\" hidden><div class=\"sk-item\"><div class=\"sk-estimator sk-toggleable\"><input class=\"sk-toggleable__control sk-hidden--visually\" id=\"sk-estimator-id-1\" type=\"checkbox\" checked><label for=\"sk-estimator-id-1\" class=\"sk-toggleable__label sk-toggleable__label-arrow\">MLPClassifier</label><div class=\"sk-toggleable__content\"><pre>MLPClassifier(hidden_layer_sizes=(12, 8), max_iter=1000, random_state=42)</pre></div></div></div></div></div>"
            ]
          },
          "metadata": {},
          "execution_count": 25
        }
      ]
    },
    {
      "cell_type": "code",
      "source": [
        "# Predict and evaluate accuracy\n",
        "y_pred = mlp.predict(X_test_scaled)\n",
        "accuracy = accuracy_score(y_test, y_pred)\n",
        "print(f'Accuracy: {accuracy*100:.2f}%')\n"
      ],
      "metadata": {
        "colab": {
          "base_uri": "https://localhost:8080/"
        },
        "id": "XHAmQRIaMyCb",
        "outputId": "d74692fe-1a43-4df3-88ef-e4af54b52974"
      },
      "execution_count": null,
      "outputs": [
        {
          "output_type": "stream",
          "name": "stdout",
          "text": [
            "Accuracy: 97.37%\n"
          ]
        }
      ]
    },
    {
      "cell_type": "code",
      "source": [
        "from sklearn.datasets import load_iris\n",
        "from sklearn.model_selection import train_test_split\n",
        "from sklearn.preprocessing import StandardScaler\n",
        "from sklearn.neural_network import MLPClassifier\n",
        "from sklearn.metrics import accuracy_score\n",
        "\n",
        "# Load the dataset\n",
        "iris = load_iris()\n",
        "X, y = iris.data, iris.target\n",
        "\n",
        "# Split dataset into training and test sets\n",
        "X_train, X_test, y_train, y_test = train_test_split(X, y, test_size=0.2, random_state=42)\n",
        "\n",
        "# Optional: Standardize features\n",
        "scaler = StandardScaler()\n",
        "X_train = scaler.fit_transform(X_train)\n",
        "X_test = scaler.transform(X_test)\n",
        "\n",
        "# Create MLPClassifier\n",
        "mlp = MLPClassifier(hidden_layer_sizes=(10, 10), max_iter=1000, random_state=42)\n",
        "\n",
        "# Train the model\n",
        "mlp.fit(X_train, y_train)\n",
        "\n",
        "# Predict and evaluate accuracy\n",
        "y_pred = mlp.predict(X_test)\n",
        "accuracy = accuracy_score(y_test, y_pred)\n",
        "print(f'Accuracy: {accuracy*100:.2f}%')\n"
      ],
      "metadata": {
        "colab": {
          "base_uri": "https://localhost:8080/"
        },
        "id": "DP5GcDaiNRvd",
        "outputId": "58996626-2d4d-4ff2-e178-672a749e1194"
      },
      "execution_count": null,
      "outputs": [
        {
          "output_type": "stream",
          "name": "stdout",
          "text": [
            "Accuracy: 96.67%\n"
          ]
        }
      ]
    },
    {
      "cell_type": "code",
      "source": [
        "from sklearn.metrics import confusion_matrix, classification_report\n",
        "import matplotlib.pyplot as plt\n",
        "import seaborn as sns\n",
        "\n",
        "# Assuming you have already trained your MLPClassifier 'mlp' and have 'X_test', 'y_test'\n",
        "\n",
        "# Predict the test set\n",
        "y_pred = mlp.predict(X_test)\n",
        "\n",
        "# Generate the confusion matrix\n",
        "cm = confusion_matrix(y_test, y_pred)\n",
        "\n",
        "# Plot the confusion matrix\n",
        "plt.figure(figsize=(8, 6))\n",
        "sns.heatmap(cm, annot=True, fmt='g', cmap='Blues')\n",
        "plt.xlabel('Predicted labels')\n",
        "plt.ylabel('True labels')\n",
        "plt.title('Confusion Matrix')\n",
        "plt.show()\n",
        "\n",
        "# Print classification report\n",
        "print(classification_report(y_test, y_pred))\n",
        "print(cm)"
      ],
      "metadata": {
        "colab": {
          "base_uri": "https://localhost:8080/",
          "height": 796
        },
        "id": "RTgXlQXpNaTK",
        "outputId": "2914e85e-aeb7-40bc-b478-0d38b1d88186"
      },
      "execution_count": null,
      "outputs": [
        {
          "output_type": "display_data",
          "data": {
            "text/plain": [
              "<Figure size 800x600 with 2 Axes>"
            ],
            "image/png": "[encoded data removed]"
          },
          "metadata": {}
        },
        {
          "output_type": "stream",
          "name": "stdout",
          "text": [
            "              precision    recall  f1-score   support\n",
            "\n",
            "           0       1.00      1.00      1.00        10\n",
            "           1       1.00      0.89      0.94         9\n",
            "           2       0.92      1.00      0.96        11\n",
            "\n",
            "    accuracy                           0.97        30\n",
            "   macro avg       0.97      0.96      0.97        30\n",
            "weighted avg       0.97      0.97      0.97        30\n",
            "\n",
            "[[10  0  0]\n",
            " [ 0  8  1]\n",
            " [ 0  0 11]]\n"
          ]
        }
      ]
    },
    {
      "cell_type": "markdown",
      "source": [
        "# Lab 7 | Regression"
      ],
      "metadata": {
        "id": "PdrBWrJy1XG4"
      }
    },
    {
      "cell_type": "markdown",
      "source": [
        "## Simple Regression"
      ],
      "metadata": {
        "id": "xq81DVRy22Yt"
      }
    },
    {
      "cell_type": "code",
      "source": [
        "# Import Libraries\n",
        "import pandas as pd\n",
        "\n",
        "\n",
        "# Import Data\n",
        "data = pd.read_csv('sample_data/cars.csv')\n",
        "\n",
        "print(data.head())\n",
        "print(data.shape)\n",
        "\n",
        "# Create dependent & independent variables\n",
        "\n",
        "X = data[\"speed\"]\n",
        "y = data[\"dist\"]"
      ],
      "metadata": {
        "id": "GERBmzDA1jBc",
        "colab": {
          "base_uri": "https://localhost:8080/"
        },
        "outputId": "67c3ccec-7f40-4c11-8d1a-327508ee40ca"
      },
      "execution_count": null,
      "outputs": [
        {
          "output_type": "stream",
          "name": "stdout",
          "text": [
            "   Unnamed: 0  speed  dist\n",
            "0           1      4     2\n",
            "1           2      4    10\n",
            "2           3      7     4\n",
            "3           4      7    22\n",
            "4           5      8    16\n",
            "(50, 3)\n"
          ]
        }
      ]
    },
    {
      "cell_type": "code",
      "source": [
        "import matplotlib.pyplot as plt\n",
        "\n",
        "plt.scatter(X, y, color=\"b\")\n",
        "plt.show()"
      ],
      "metadata": {
        "id": "AUd4SdDf1oDM",
        "colab": {
          "base_uri": "https://localhost:8080/",
          "height": 430
        },
        "outputId": "d8dc2489-c3a7-4e68-a17e-708025534eb3"
      },
      "execution_count": null,
      "outputs": [
        {
          "output_type": "display_data",
          "data": {
            "text/plain": [
              "<Figure size 640x480 with 1 Axes>"
            ],
            "image/png": "[encoded data removed]"
          },
          "metadata": {}
        }
      ]
    },
    {
      "cell_type": "code",
      "source": [
        "display(data.describe())\n",
        "data[\"speed\"].max()\n",
        "data[[\"speed\",\"dist\"]].corr()"
      ],
      "metadata": {
        "id": "IyXDxyv_1qwx",
        "colab": {
          "base_uri": "https://localhost:8080/",
          "height": 394
        },
        "outputId": "4ef12d5a-a2e4-4f70-8e5f-e7872c1c2212"
      },
      "execution_count": null,
      "outputs": [
        {
          "output_type": "display_data",
          "data": {
            "text/plain": [
              "       Unnamed: 0      speed        dist\n",
              "count    50.00000  50.000000   50.000000\n",
              "mean     25.50000  15.400000   42.980000\n",
              "std      14.57738   5.287644   25.769377\n",
              "min       1.00000   4.000000    2.000000\n",
              "25%      13.25000  12.000000   26.000000\n",
              "50%      25.50000  15.000000   36.000000\n",
              "75%      37.75000  19.000000   56.000000\n",
              "max      50.00000  25.000000  120.000000"
            ],
            "text/html": [
              "\n",
              "  <div id=\"df-9ecc34c6-afb9-4b0c-941d-cd0c154a407b\" class=\"colab-df-container\">\n",
              "    <div>\n",
              "<style scoped>\n",
              "    .dataframe tbody tr th:only-of-type {\n",
              "        vertical-align: middle;\n",
              "    }\n",
              "\n",
              "    .dataframe tbody tr th {\n",
              "        vertical-align: top;\n",
              "    }\n",
              "\n",
              "    .dataframe thead th {\n",
              "        text-align: right;\n",
              "    }\n",
              "</style>\n",
              "<table border=\"1\" class=\"dataframe\">\n",
              "  <thead>\n",
              "    <tr style=\"text-align: right;\">\n",
              "      <th></th>\n",
              "      <th>Unnamed: 0</th>\n",
              "      <th>speed</th>\n",
              "      <th>dist</th>\n",
              "    </tr>\n",
              "  </thead>\n",
              "  <tbody>\n",
              "    <tr>\n",
              "      <th>count</th>\n",
              "      <td>50.00000</td>\n",
              "      <td>50.000000</td>\n",
              "      <td>50.000000</td>\n",
              "    </tr>\n",
              "    <tr>\n",
              "      <th>mean</th>\n",
              "      <td>25.50000</td>\n",
              "      <td>15.400000</td>\n",
              "      <td>42.980000</td>\n",
              "    </tr>\n",
              "    <tr>\n",
              "      <th>std</th>\n",
              "      <td>14.57738</td>\n",
              "      <td>5.287644</td>\n",
              "      <td>25.769377</td>\n",
              "    </tr>\n",
              "    <tr>\n",
              "      <th>min</th>\n",
              "      <td>1.00000</td>\n",
              "      <td>4.000000</td>\n",
              "      <td>2.000000</td>\n",
              "    </tr>\n",
              "    <tr>\n",
              "      <th>25%</th>\n",
              "      <td>13.25000</td>\n",
              "      <td>12.000000</td>\n",
              "      <td>26.000000</td>\n",
              "    </tr>\n",
              "    <tr>\n",
              "      <th>50%</th>\n",
              "      <td>25.50000</td>\n",
              "      <td>15.000000</td>\n",
              "      <td>36.000000</td>\n",
              "    </tr>\n",
              "    <tr>\n",
              "      <th>75%</th>\n",
              "      <td>37.75000</td>\n",
              "      <td>19.000000</td>\n",
              "      <td>56.000000</td>\n",
              "    </tr>\n",
              "    <tr>\n",
              "      <th>max</th>\n",
              "      <td>50.00000</td>\n",
              "      <td>25.000000</td>\n",
              "      <td>120.000000</td>\n",
              "    </tr>\n",
              "  </tbody>\n",
              "</table>\n",
              "</div>\n",
              "    <div class=\"colab-df-buttons\">\n",
              "\n",
              "  <div class=\"colab-df-container\">\n",
              "    <button class=\"colab-df-convert\" onclick=\"convertToInteractive('df-9ecc34c6-afb9-4b0c-941d-cd0c154a407b')\"\n",
              "            title=\"Convert this dataframe to an interactive table.\"\n",
              "            style=\"display:none;\">\n",
              "\n",
              "  <svg xmlns=\"http://www.w3.org/2000/svg\" height=\"24px\" viewBox=\"0 -960 960 960\">\n",
              "    <path d=\"M120-120v-720h720v720H120Zm60-500h600v-160H180v160Zm220 220h160v-160H400v160Zm0 220h160v-160H400v160ZM180-400h160v-160H180v160Zm440 0h160v-160H620v160ZM180-180h160v-160H180v160Zm440 0h160v-160H620v160Z\"/>\n",
              "  </svg>\n",
              "    </button>\n",
              "\n",
              "  <style>\n",
              "    .colab-df-container {\n",
              "      display:flex;\n",
              "      gap: 12px;\n",
              "    }\n",
              "\n",
              "    .colab-df-convert {\n",
              "      background-color: #E8F0FE;\n",
              "      border: none;\n",
              "      border-radius: 50%;\n",
              "      cursor: pointer;\n",
              "      display: none;\n",
              "      fill: #1967D2;\n",
              "      height: 32px;\n",
              "      padding: 0 0 0 0;\n",
              "      width: 32px;\n",
              "    }\n",
              "\n",
              "    .colab-df-convert:hover {\n",
              "      background-color: #E2EBFA;\n",
              "      box-shadow: 0px 1px 2px rgba(60, 64, 67, 0.3), 0px 1px 3px 1px rgba(60, 64, 67, 0.15);\n",
              "      fill: #174EA6;\n",
              "    }\n",
              "\n",
              "    .colab-df-buttons div {\n",
              "      margin-bottom: 4px;\n",
              "    }\n",
              "\n",
              "    [theme=dark] .colab-df-convert {\n",
              "      background-color: #3B4455;\n",
              "      fill: #D2E3FC;\n",
              "    }\n",
              "\n",
              "    [theme=dark] .colab-df-convert:hover {\n",
              "      background-color: #434B5C;\n",
              "      box-shadow: 0px 1px 3px 1px rgba(0, 0, 0, 0.15);\n",
              "      filter: drop-shadow(0px 1px 2px rgba(0, 0, 0, 0.3));\n",
              "      fill: #FFFFFF;\n",
              "    }\n",
              "  </style>\n",
              "\n",
              "    <script>\n",
              "      const buttonEl =\n",
              "        document.querySelector('#df-9ecc34c6-afb9-4b0c-941d-cd0c154a407b button.colab-df-convert');\n",
              "      buttonEl.style.display =\n",
              "        google.colab.kernel.accessAllowed ? 'block' : 'none';\n",
              "\n",
              "      async function convertToInteractive(key) {\n",
              "        const element = document.querySelector('#df-9ecc34c6-afb9-4b0c-941d-cd0c154a407b');\n",
              "        const dataTable =\n",
              "          await google.colab.kernel.invokeFunction('convertToInteractive',\n",
              "                                                    [key], {});\n",
              "        if (!dataTable) return;\n",
              "\n",
              "        const docLinkHtml = 'Like what you see? Visit the ' +\n",
              "          '<a target=\"_blank\" href=https://colab.research.google.com/notebooks/data_table.ipynb>data table notebook</a>'\n",
              "          + ' to learn more about interactive tables.';\n",
              "        element.innerHTML = '';\n",
              "        dataTable['output_type'] = 'display_data';\n",
              "        await google.colab.output.renderOutput(dataTable, element);\n",
              "        const docLink = document.createElement('div');\n",
              "        docLink.innerHTML = docLinkHtml;\n",
              "        element.appendChild(docLink);\n",
              "      }\n",
              "    </script>\n",
              "  </div>\n",
              "\n",
              "\n",
              "<div id=\"df-ef2886da-a039-4c52-b62e-9e610ced18a4\">\n",
              "  <button class=\"colab-df-quickchart\" onclick=\"quickchart('df-ef2886da-a039-4c52-b62e-9e610ced18a4')\"\n",
              "            title=\"Suggest charts\"\n",
              "            style=\"display:none;\">\n",
              "\n",
              "<svg xmlns=\"http://www.w3.org/2000/svg\" height=\"24px\"viewBox=\"0 0 24 24\"\n",
              "     width=\"24px\">\n",
              "    <g>\n",
              "        <path d=\"M19 3H5c-1.1 0-2 .9-2 2v14c0 1.1.9 2 2 2h14c1.1 0 2-.9 2-2V5c0-1.1-.9-2-2-2zM9 17H7v-7h2v7zm4 0h-2V7h2v10zm4 0h-2v-4h2v4z\"/>\n",
              "    </g>\n",
              "</svg>\n",
              "  </button>\n",
              "\n",
              "<style>\n",
              "  .colab-df-quickchart {\n",
              "      --bg-color: #E8F0FE;\n",
              "      --fill-color: #1967D2;\n",
              "      --hover-bg-color: #E2EBFA;\n",
              "      --hover-fill-color: #174EA6;\n",
              "      --disabled-fill-color: #AAA;\n",
              "      --disabled-bg-color: #DDD;\n",
              "  }\n",
              "\n",
              "  [theme=dark] .colab-df-quickchart {\n",
              "      --bg-color: #3B4455;\n",
              "      --fill-color: #D2E3FC;\n",
              "      --hover-bg-color: #434B5C;\n",
              "      --hover-fill-color: #FFFFFF;\n",
              "      --disabled-bg-color: #3B4455;\n",
              "      --disabled-fill-color: #666;\n",
              "  }\n",
              "\n",
              "  .colab-df-quickchart {\n",
              "    background-color: var(--bg-color);\n",
              "    border: none;\n",
              "    border-radius: 50%;\n",
              "    cursor: pointer;\n",
              "    display: none;\n",
              "    fill: var(--fill-color);\n",
              "    height: 32px;\n",
              "    padding: 0;\n",
              "    width: 32px;\n",
              "  }\n",
              "\n",
              "  .colab-df-quickchart:hover {\n",
              "    background-color: var(--hover-bg-color);\n",
              "    box-shadow: 0 1px 2px rgba(60, 64, 67, 0.3), 0 1px 3px 1px rgba(60, 64, 67, 0.15);\n",
              "    fill: var(--button-hover-fill-color);\n",
              "  }\n",
              "\n",
              "  .colab-df-quickchart-complete:disabled,\n",
              "  .colab-df-quickchart-complete:disabled:hover {\n",
              "    background-color: var(--disabled-bg-color);\n",
              "    fill: var(--disabled-fill-color);\n",
              "    box-shadow: none;\n",
              "  }\n",
              "\n",
              "  .colab-df-spinner {\n",
              "    border: 2px solid var(--fill-color);\n",
              "    border-color: transparent;\n",
              "    border-bottom-color: var(--fill-color);\n",
              "    animation:\n",
              "      spin 1s steps(1) infinite;\n",
              "  }\n",
              "\n",
              "  @keyframes spin {\n",
              "    0% {\n",
              "      border-color: transparent;\n",
              "      border-bottom-color: var(--fill-color);\n",
              "      border-left-color: var(--fill-color);\n",
              "    }\n",
              "    20% {\n",
              "      border-color: transparent;\n",
              "      border-left-color: var(--fill-color);\n",
              "      border-top-color: var(--fill-color);\n",
              "    }\n",
              "    30% {\n",
              "      border-color: transparent;\n",
              "      border-left-color: var(--fill-color);\n",
              "      border-top-color: var(--fill-color);\n",
              "      border-right-color: var(--fill-color);\n",
              "    }\n",
              "    40% {\n",
              "      border-color: transparent;\n",
              "      border-right-color: var(--fill-color);\n",
              "      border-top-color: var(--fill-color);\n",
              "    }\n",
              "    60% {\n",
              "      border-color: transparent;\n",
              "      border-right-color: var(--fill-color);\n",
              "    }\n",
              "    80% {\n",
              "      border-color: transparent;\n",
              "      border-right-color: var(--fill-color);\n",
              "      border-bottom-color: var(--fill-color);\n",
              "    }\n",
              "    90% {\n",
              "      border-color: transparent;\n",
              "      border-bottom-color: var(--fill-color);\n",
              "    }\n",
              "  }\n",
              "</style>\n",
              "\n",
              "  <script>\n",
              "    async function quickchart(key) {\n",
              "      const quickchartButtonEl =\n",
              "        document.querySelector('#' + key + ' button');\n",
              "      quickchartButtonEl.disabled = true;  // To prevent multiple clicks.\n",
              "      quickchartButtonEl.classList.add('colab-df-spinner');\n",
              "      try {\n",
              "        const charts = await google.colab.kernel.invokeFunction(\n",
              "            'suggestCharts', [key], {});\n",
              "      } catch (error) {\n",
              "        console.error('Error during call to suggestCharts:', error);\n",
              "      }\n",
              "      quickchartButtonEl.classList.remove('colab-df-spinner');\n",
              "      quickchartButtonEl.classList.add('colab-df-quickchart-complete');\n",
              "    }\n",
              "    (() => {\n",
              "      let quickchartButtonEl =\n",
              "        document.querySelector('#df-ef2886da-a039-4c52-b62e-9e610ced18a4 button');\n",
              "      quickchartButtonEl.style.display =\n",
              "        google.colab.kernel.accessAllowed ? 'block' : 'none';\n",
              "    })();\n",
              "  </script>\n",
              "</div>\n",
              "\n",
              "    </div>\n",
              "  </div>\n"
            ]
          },
          "metadata": {}
        },
        {
          "output_type": "execute_result",
          "data": {
            "text/plain": [
              "          speed      dist\n",
              "speed  1.000000  0.806895\n",
              "dist   0.806895  1.000000"
            ],
            "text/html": [
              "\n",
              "  <div id=\"df-ea1231f3-7830-433a-9fc1-a3a82a4993eb\" class=\"colab-df-container\">\n",
              "    <div>\n",
              "<style scoped>\n",
              "    .dataframe tbody tr th:only-of-type {\n",
              "        vertical-align: middle;\n",
              "    }\n",
              "\n",
              "    .dataframe tbody tr th {\n",
              "        vertical-align: top;\n",
              "    }\n",
              "\n",
              "    .dataframe thead th {\n",
              "        text-align: right;\n",
              "    }\n",
              "</style>\n",
              "<table border=\"1\" class=\"dataframe\">\n",
              "  <thead>\n",
              "    <tr style=\"text-align: right;\">\n",
              "      <th></th>\n",
              "      <th>speed</th>\n",
              "      <th>dist</th>\n",
              "    </tr>\n",
              "  </thead>\n",
              "  <tbody>\n",
              "    <tr>\n",
              "      <th>speed</th>\n",
              "      <td>1.000000</td>\n",
              "      <td>0.806895</td>\n",
              "    </tr>\n",
              "    <tr>\n",
              "      <th>dist</th>\n",
              "      <td>0.806895</td>\n",
              "      <td>1.000000</td>\n",
              "    </tr>\n",
              "  </tbody>\n",
              "</table>\n",
              "</div>\n",
              "    <div class=\"colab-df-buttons\">\n",
              "\n",
              "  <div class=\"colab-df-container\">\n",
              "    <button class=\"colab-df-convert\" onclick=\"convertToInteractive('df-ea1231f3-7830-433a-9fc1-a3a82a4993eb')\"\n",
              "            title=\"Convert this dataframe to an interactive table.\"\n",
              "            style=\"display:none;\">\n",
              "\n",
              "  <svg xmlns=\"http://www.w3.org/2000/svg\" height=\"24px\" viewBox=\"0 -960 960 960\">\n",
              "    <path d=\"M120-120v-720h720v720H120Zm60-500h600v-160H180v160Zm220 220h160v-160H400v160Zm0 220h160v-160H400v160ZM180-400h160v-160H180v160Zm440 0h160v-160H620v160ZM180-180h160v-160H180v160Zm440 0h160v-160H620v160Z\"/>\n",
              "  </svg>\n",
              "    </button>\n",
              "\n",
              "  <style>\n",
              "    .colab-df-container {\n",
              "      display:flex;\n",
              "      gap: 12px;\n",
              "    }\n",
              "\n",
              "    .colab-df-convert {\n",
              "      background-color: #E8F0FE;\n",
              "      border: none;\n",
              "      border-radius: 50%;\n",
              "      cursor: pointer;\n",
              "      display: none;\n",
              "      fill: #1967D2;\n",
              "      height: 32px;\n",
              "      padding: 0 0 0 0;\n",
              "      width: 32px;\n",
              "    }\n",
              "\n",
              "    .colab-df-convert:hover {\n",
              "      background-color: #E2EBFA;\n",
              "      box-shadow: 0px 1px 2px rgba(60, 64, 67, 0.3), 0px 1px 3px 1px rgba(60, 64, 67, 0.15);\n",
              "      fill: #174EA6;\n",
              "    }\n",
              "\n",
              "    .colab-df-buttons div {\n",
              "      margin-bottom: 4px;\n",
              "    }\n",
              "\n",
              "    [theme=dark] .colab-df-convert {\n",
              "      background-color: #3B4455;\n",
              "      fill: #D2E3FC;\n",
              "    }\n",
              "\n",
              "    [theme=dark] .colab-df-convert:hover {\n",
              "      background-color: #434B5C;\n",
              "      box-shadow: 0px 1px 3px 1px rgba(0, 0, 0, 0.15);\n",
              "      filter: drop-shadow(0px 1px 2px rgba(0, 0, 0, 0.3));\n",
              "      fill: #FFFFFF;\n",
              "    }\n",
              "  </style>\n",
              "\n",
              "    <script>\n",
              "      const buttonEl =\n",
              "        document.querySelector('#df-ea1231f3-7830-433a-9fc1-a3a82a4993eb button.colab-df-convert');\n",
              "      buttonEl.style.display =\n",
              "        google.colab.kernel.accessAllowed ? 'block' : 'none';\n",
              "\n",
              "      async function convertToInteractive(key) {\n",
              "        const element = document.querySelector('#df-ea1231f3-7830-433a-9fc1-a3a82a4993eb');\n",
              "        const dataTable =\n",
              "          await google.colab.kernel.invokeFunction('convertToInteractive',\n",
              "                                                    [key], {});\n",
              "        if (!dataTable) return;\n",
              "\n",
              "        const docLinkHtml = 'Like what you see? Visit the ' +\n",
              "          '<a target=\"_blank\" href=https://colab.research.google.com/notebooks/data_table.ipynb>data table notebook</a>'\n",
              "          + ' to learn more about interactive tables.';\n",
              "        element.innerHTML = '';\n",
              "        dataTable['output_type'] = 'display_data';\n",
              "        await google.colab.output.renderOutput(dataTable, element);\n",
              "        const docLink = document.createElement('div');\n",
              "        docLink.innerHTML = docLinkHtml;\n",
              "        element.appendChild(docLink);\n",
              "      }\n",
              "    </script>\n",
              "  </div>\n",
              "\n",
              "\n",
              "<div id=\"df-1522d7ef-4b59-409c-ae98-6c26833d2d4d\">\n",
              "  <button class=\"colab-df-quickchart\" onclick=\"quickchart('df-1522d7ef-4b59-409c-ae98-6c26833d2d4d')\"\n",
              "            title=\"Suggest charts\"\n",
              "            style=\"display:none;\">\n",
              "\n",
              "<svg xmlns=\"http://www.w3.org/2000/svg\" height=\"24px\"viewBox=\"0 0 24 24\"\n",
              "     width=\"24px\">\n",
              "    <g>\n",
              "        <path d=\"M19 3H5c-1.1 0-2 .9-2 2v14c0 1.1.9 2 2 2h14c1.1 0 2-.9 2-2V5c0-1.1-.9-2-2-2zM9 17H7v-7h2v7zm4 0h-2V7h2v10zm4 0h-2v-4h2v4z\"/>\n",
              "    </g>\n",
              "</svg>\n",
              "  </button>\n",
              "\n",
              "<style>\n",
              "  .colab-df-quickchart {\n",
              "      --bg-color: #E8F0FE;\n",
              "      --fill-color: #1967D2;\n",
              "      --hover-bg-color: #E2EBFA;\n",
              "      --hover-fill-color: #174EA6;\n",
              "      --disabled-fill-color: #AAA;\n",
              "      --disabled-bg-color: #DDD;\n",
              "  }\n",
              "\n",
              "  [theme=dark] .colab-df-quickchart {\n",
              "      --bg-color: #3B4455;\n",
              "      --fill-color: #D2E3FC;\n",
              "      --hover-bg-color: #434B5C;\n",
              "      --hover-fill-color: #FFFFFF;\n",
              "      --disabled-bg-color: #3B4455;\n",
              "      --disabled-fill-color: #666;\n",
              "  }\n",
              "\n",
              "  .colab-df-quickchart {\n",
              "    background-color: var(--bg-color);\n",
              "    border: none;\n",
              "    border-radius: 50%;\n",
              "    cursor: pointer;\n",
              "    display: none;\n",
              "    fill: var(--fill-color);\n",
              "    height: 32px;\n",
              "    padding: 0;\n",
              "    width: 32px;\n",
              "  }\n",
              "\n",
              "  .colab-df-quickchart:hover {\n",
              "    background-color: var(--hover-bg-color);\n",
              "    box-shadow: 0 1px 2px rgba(60, 64, 67, 0.3), 0 1px 3px 1px rgba(60, 64, 67, 0.15);\n",
              "    fill: var(--button-hover-fill-color);\n",
              "  }\n",
              "\n",
              "  .colab-df-quickchart-complete:disabled,\n",
              "  .colab-df-quickchart-complete:disabled:hover {\n",
              "    background-color: var(--disabled-bg-color);\n",
              "    fill: var(--disabled-fill-color);\n",
              "    box-shadow: none;\n",
              "  }\n",
              "\n",
              "  .colab-df-spinner {\n",
              "    border: 2px solid var(--fill-color);\n",
              "    border-color: transparent;\n",
              "    border-bottom-color: var(--fill-color);\n",
              "    animation:\n",
              "      spin 1s steps(1) infinite;\n",
              "  }\n",
              "\n",
              "  @keyframes spin {\n",
              "    0% {\n",
              "      border-color: transparent;\n",
              "      border-bottom-color: var(--fill-color);\n",
              "      border-left-color: var(--fill-color);\n",
              "    }\n",
              "    20% {\n",
              "      border-color: transparent;\n",
              "      border-left-color: var(--fill-color);\n",
              "      border-top-color: var(--fill-color);\n",
              "    }\n",
              "    30% {\n",
              "      border-color: transparent;\n",
              "      border-left-color: var(--fill-color);\n",
              "      border-top-color: var(--fill-color);\n",
              "      border-right-color: var(--fill-color);\n",
              "    }\n",
              "    40% {\n",
              "      border-color: transparent;\n",
              "      border-right-color: var(--fill-color);\n",
              "      border-top-color: var(--fill-color);\n",
              "    }\n",
              "    60% {\n",
              "      border-color: transparent;\n",
              "      border-right-color: var(--fill-color);\n",
              "    }\n",
              "    80% {\n",
              "      border-color: transparent;\n",
              "      border-right-color: var(--fill-color);\n",
              "      border-bottom-color: var(--fill-color);\n",
              "    }\n",
              "    90% {\n",
              "      border-color: transparent;\n",
              "      border-bottom-color: var(--fill-color);\n",
              "    }\n",
              "  }\n",
              "</style>\n",
              "\n",
              "  <script>\n",
              "    async function quickchart(key) {\n",
              "      const quickchartButtonEl =\n",
              "        document.querySelector('#' + key + ' button');\n",
              "      quickchartButtonEl.disabled = true;  // To prevent multiple clicks.\n",
              "      quickchartButtonEl.classList.add('colab-df-spinner');\n",
              "      try {\n",
              "        const charts = await google.colab.kernel.invokeFunction(\n",
              "            'suggestCharts', [key], {});\n",
              "      } catch (error) {\n",
              "        console.error('Error during call to suggestCharts:', error);\n",
              "      }\n",
              "      quickchartButtonEl.classList.remove('colab-df-spinner');\n",
              "      quickchartButtonEl.classList.add('colab-df-quickchart-complete');\n",
              "    }\n",
              "    (() => {\n",
              "      let quickchartButtonEl =\n",
              "        document.querySelector('#df-1522d7ef-4b59-409c-ae98-6c26833d2d4d button');\n",
              "      quickchartButtonEl.style.display =\n",
              "        google.colab.kernel.accessAllowed ? 'block' : 'none';\n",
              "    })();\n",
              "  </script>\n",
              "</div>\n",
              "\n",
              "    </div>\n",
              "  </div>\n"
            ]
          },
          "metadata": {},
          "execution_count": 4
        }
      ]
    },
    {
      "cell_type": "markdown",
      "source": [
        "### using sklearn LinearRegression"
      ],
      "metadata": {
        "id": "FC3fObNZ14_X"
      }
    },
    {
      "cell_type": "code",
      "source": [
        "# Import libs\n",
        "from sklearn.linear_model import LinearRegression\n",
        "import numpy as np\n",
        "\n",
        "# Create model\n",
        "model = LinearRegression()\n",
        "\n",
        "# Train model\n",
        "X_shaped = np.array(X).reshape(-1,1)\n",
        "model.fit(X_shaped, y)\n",
        "\n",
        "# Predict\n",
        "y_predicted = model.predict(X_shaped)"
      ],
      "metadata": {
        "id": "hs2dxxg-1sea"
      },
      "execution_count": null,
      "outputs": []
    },
    {
      "cell_type": "code",
      "source": [
        "print(f\"Accuracy: {model.score(X_shaped, y)}\")\n",
        "print(f\"Intercept: {model.intercept_}\")\n",
        "\n",
        "# If 1 unit increased in speed, distance would increase by 3.92 units\n",
        "print(f\"Slope: {model.coef_}\")\n",
        "\n",
        "print(y_predicted)"
      ],
      "metadata": {
        "id": "vTQxyFpz1utZ",
        "colab": {
          "base_uri": "https://localhost:8080/"
        },
        "outputId": "301c3981-cf3e-4e4c-e375-fed6c76b40e4"
      },
      "execution_count": null,
      "outputs": [
        {
          "output_type": "stream",
          "name": "stdout",
          "text": [
            "Accuracy: 0.6510793807582509\n",
            "Intercept: -17.579094890510973\n",
            "Slope: [3.93240876]\n",
            "[-1.84945985 -1.84945985  9.94776642  9.94776642 13.88017518 17.81258394\n",
            " 21.7449927  21.7449927  21.7449927  25.67740146 25.67740146 29.60981022\n",
            " 29.60981022 29.60981022 29.60981022 33.54221898 33.54221898 33.54221898\n",
            " 33.54221898 37.47462774 37.47462774 37.47462774 37.47462774 41.4070365\n",
            " 41.4070365  41.4070365  45.33944526 45.33944526 49.27185401 49.27185401\n",
            " 49.27185401 53.20426277 53.20426277 53.20426277 53.20426277 57.13667153\n",
            " 57.13667153 57.13667153 61.06908029 61.06908029 61.06908029 61.06908029\n",
            " 61.06908029 68.93389781 72.86630657 76.79871533 76.79871533 76.79871533\n",
            " 76.79871533 80.73112409]\n"
          ]
        }
      ]
    },
    {
      "cell_type": "code",
      "source": [
        "plt.scatter(X,y,color=\"b\")\n",
        "plt.plot(X_shaped, y_predicted, color=\"k\")\n",
        "plt.show()"
      ],
      "metadata": {
        "id": "R3p9HtUc1w96",
        "colab": {
          "base_uri": "https://localhost:8080/",
          "height": 430
        },
        "outputId": "6b565e64-ebd4-428c-ed91-bb38f3a6ce4f"
      },
      "execution_count": null,
      "outputs": [
        {
          "output_type": "display_data",
          "data": {
            "text/plain": [
              "<Figure size 640x480 with 1 Axes>"
            ],
            "image/png": "[encoded data removed]"
          },
          "metadata": {}
        }
      ]
    },
    {
      "cell_type": "code",
      "source": [
        "X_unknown = np.array([10]).reshape(-1,1) # speed\n",
        "\n",
        "y_unknown_predicted = model.predict(X_unknown) # predict distance\n",
        "\n",
        "print(y_unknown_predicted)"
      ],
      "metadata": {
        "id": "7ceClW4410Ec"
      },
      "execution_count": null,
      "outputs": []
    },
    {
      "cell_type": "markdown",
      "source": [
        "### using statsmodel ols"
      ],
      "metadata": {
        "id": "VZKbTkBE1_En"
      }
    },
    {
      "cell_type": "code",
      "source": [
        "from statsmodels.formula.api import ols\n",
        "from statsmodels.stats.anova import anova_lm\n",
        "\n",
        "# Create model\n",
        "dependent_var = \"dist\" # predicting dist\n",
        "independent_var = \"speed\"\n",
        "formula = dependent_var + \" ~ \" + independent_var # Key combination: Alt+Ü then space\n",
        "\n",
        "model = ols(formula, data).fit()\n",
        "\n",
        "# Results\n",
        "print(\"Anova:\")\n",
        "print(f\"{anova_lm(model)}\")\n",
        "print(\"Params:\")\n",
        "print(f\"{model.params}\")\n",
        "print(\"Summary:\")\n",
        "print(f\"{model.summary()}\")"
      ],
      "metadata": {
        "id": "ZDUMBaeg10qJ",
        "colab": {
          "base_uri": "https://localhost:8080/"
        },
        "outputId": "2a630fec-04e1-4a18-fc90-d95877f09fe8"
      },
      "execution_count": null,
      "outputs": [
        {
          "output_type": "stream",
          "name": "stdout",
          "text": [
            "Anova:\n",
            "            df        sum_sq       mean_sq          F        PR(>F)\n",
            "speed      1.0  21185.458949  21185.458949  89.567107  1.489836e-12\n",
            "Residual  48.0  11353.521051    236.531689        NaN           NaN\n",
            "Params:\n",
            "Intercept   -17.579095\n",
            "speed         3.932409\n",
            "dtype: float64\n",
            "Summary:\n",
            "                            OLS Regression Results                            \n",
            "==============================================================================\n",
            "Dep. Variable:                   dist   R-squared:                       0.651\n",
            "Model:                            OLS   Adj. R-squared:                  0.644\n",
            "Method:                 Least Squares   F-statistic:                     89.57\n",
            "Date:                Mon, 25 Dec 2023   Prob (F-statistic):           1.49e-12\n",
            "Time:                        22:21:04   Log-Likelihood:                -206.58\n",
            "No. Observations:                  50   AIC:                             417.2\n",
            "Df Residuals:                      48   BIC:                             421.0\n",
            "Df Model:                           1                                         \n",
            "Covariance Type:            nonrobust                                         \n",
            "==============================================================================\n",
            "                 coef    std err          t      P>|t|      [0.025      0.975]\n",
            "------------------------------------------------------------------------------\n",
            "Intercept    -17.5791      6.758     -2.601      0.012     -31.168      -3.990\n",
            "speed          3.9324      0.416      9.464      0.000       3.097       4.768\n",
            "==============================================================================\n",
            "Omnibus:                        8.975   Durbin-Watson:                   1.676\n",
            "Prob(Omnibus):                  0.011   Jarque-Bera (JB):                8.189\n",
            "Skew:                           0.885   Prob(JB):                       0.0167\n",
            "Kurtosis:                       3.893   Cond. No.                         50.7\n",
            "==============================================================================\n",
            "\n",
            "Notes:\n",
            "[1] Standard Errors assume that the covariance matrix of the errors is correctly specified.\n"
          ]
        }
      ]
    },
    {
      "cell_type": "markdown",
      "source": [
        "## Multiple Regression"
      ],
      "metadata": {
        "id": "d1tmAUwh2J7x"
      }
    },
    {
      "cell_type": "code",
      "source": [
        "auto = pd.read_csv(\"sample_data/auto_extended.csv\")\n",
        "\n",
        "auto.head()"
      ],
      "metadata": {
        "id": "y8HEpSs02Lek",
        "colab": {
          "base_uri": "https://localhost:8080/",
          "height": 226
        },
        "outputId": "ff2970fa-23b8-465e-9e79-d243c11a49d0"
      },
      "execution_count": null,
      "outputs": [
        {
          "output_type": "execute_result",
          "data": {
            "text/plain": [
              "    mpg  cylinders  displacement  horsepower  weight  acceleration  modelyear  \\\n",
              "0  18.0          8         307.0         130    3504          12.0         70   \n",
              "1  15.0          8         350.0         165    3693          11.5         70   \n",
              "2  18.0          8         318.0         150    3436          11.0         70   \n",
              "3  16.0          8         304.0         150    3433          12.0         70   \n",
              "4  17.0          8         302.0         140    3449          10.5         70   \n",
              "\n",
              "   origin origin_not_encoded  \n",
              "0       1           American  \n",
              "1       1           American  \n",
              "2       1           American  \n",
              "3       1           American  \n",
              "4       1           American  "
            ],
            "text/html": [
              "\n",
              "  <div id=\"df-fe1d4624-6c71-403c-a95b-14be4e2194a0\" class=\"colab-df-container\">\n",
              "    <div>\n",
              "<style scoped>\n",
              "    .dataframe tbody tr th:only-of-type {\n",
              "        vertical-align: middle;\n",
              "    }\n",
              "\n",
              "    .dataframe tbody tr th {\n",
              "        vertical-align: top;\n",
              "    }\n",
              "\n",
              "    .dataframe thead th {\n",
              "        text-align: right;\n",
              "    }\n",
              "</style>\n",
              "<table border=\"1\" class=\"dataframe\">\n",
              "  <thead>\n",
              "    <tr style=\"text-align: right;\">\n",
              "      <th></th>\n",
              "      <th>mpg</th>\n",
              "      <th>cylinders</th>\n",
              "      <th>displacement</th>\n",
              "      <th>horsepower</th>\n",
              "      <th>weight</th>\n",
              "      <th>acceleration</th>\n",
              "      <th>modelyear</th>\n",
              "      <th>origin</th>\n",
              "      <th>origin_not_encoded</th>\n",
              "    </tr>\n",
              "  </thead>\n",
              "  <tbody>\n",
              "    <tr>\n",
              "      <th>0</th>\n",
              "      <td>18.0</td>\n",
              "      <td>8</td>\n",
              "      <td>307.0</td>\n",
              "      <td>130</td>\n",
              "      <td>3504</td>\n",
              "      <td>12.0</td>\n",
              "      <td>70</td>\n",
              "      <td>1</td>\n",
              "      <td>American</td>\n",
              "    </tr>\n",
              "    <tr>\n",
              "      <th>1</th>\n",
              "      <td>15.0</td>\n",
              "      <td>8</td>\n",
              "      <td>350.0</td>\n",
              "      <td>165</td>\n",
              "      <td>3693</td>\n",
              "      <td>11.5</td>\n",
              "      <td>70</td>\n",
              "      <td>1</td>\n",
              "      <td>American</td>\n",
              "    </tr>\n",
              "    <tr>\n",
              "      <th>2</th>\n",
              "      <td>18.0</td>\n",
              "      <td>8</td>\n",
              "      <td>318.0</td>\n",
              "      <td>150</td>\n",
              "      <td>3436</td>\n",
              "      <td>11.0</td>\n",
              "      <td>70</td>\n",
              "      <td>1</td>\n",
              "      <td>American</td>\n",
              "    </tr>\n",
              "    <tr>\n",
              "      <th>3</th>\n",
              "      <td>16.0</td>\n",
              "      <td>8</td>\n",
              "      <td>304.0</td>\n",
              "      <td>150</td>\n",
              "      <td>3433</td>\n",
              "      <td>12.0</td>\n",
              "      <td>70</td>\n",
              "      <td>1</td>\n",
              "      <td>American</td>\n",
              "    </tr>\n",
              "    <tr>\n",
              "      <th>4</th>\n",
              "      <td>17.0</td>\n",
              "      <td>8</td>\n",
              "      <td>302.0</td>\n",
              "      <td>140</td>\n",
              "      <td>3449</td>\n",
              "      <td>10.5</td>\n",
              "      <td>70</td>\n",
              "      <td>1</td>\n",
              "      <td>American</td>\n",
              "    </tr>\n",
              "  </tbody>\n",
              "</table>\n",
              "</div>\n",
              "    <div class=\"colab-df-buttons\">\n",
              "\n",
              "  <div class=\"colab-df-container\">\n",
              "    <button class=\"colab-df-convert\" onclick=\"convertToInteractive('df-fe1d4624-6c71-403c-a95b-14be4e2194a0')\"\n",
              "            title=\"Convert this dataframe to an interactive table.\"\n",
              "            style=\"display:none;\">\n",
              "\n",
              "  <svg xmlns=\"http://www.w3.org/2000/svg\" height=\"24px\" viewBox=\"0 -960 960 960\">\n",
              "    <path d=\"M120-120v-720h720v720H120Zm60-500h600v-160H180v160Zm220 220h160v-160H400v160Zm0 220h160v-160H400v160ZM180-400h160v-160H180v160Zm440 0h160v-160H620v160ZM180-180h160v-160H180v160Zm440 0h160v-160H620v160Z\"/>\n",
              "  </svg>\n",
              "    </button>\n",
              "\n",
              "  <style>\n",
              "    .colab-df-container {\n",
              "      display:flex;\n",
              "      gap: 12px;\n",
              "    }\n",
              "\n",
              "    .colab-df-convert {\n",
              "      background-color: #E8F0FE;\n",
              "      border: none;\n",
              "      border-radius: 50%;\n",
              "      cursor: pointer;\n",
              "      display: none;\n",
              "      fill: #1967D2;\n",
              "      height: 32px;\n",
              "      padding: 0 0 0 0;\n",
              "      width: 32px;\n",
              "    }\n",
              "\n",
              "    .colab-df-convert:hover {\n",
              "      background-color: #E2EBFA;\n",
              "      box-shadow: 0px 1px 2px rgba(60, 64, 67, 0.3), 0px 1px 3px 1px rgba(60, 64, 67, 0.15);\n",
              "      fill: #174EA6;\n",
              "    }\n",
              "\n",
              "    .colab-df-buttons div {\n",
              "      margin-bottom: 4px;\n",
              "    }\n",
              "\n",
              "    [theme=dark] .colab-df-convert {\n",
              "      background-color: #3B4455;\n",
              "      fill: #D2E3FC;\n",
              "    }\n",
              "\n",
              "    [theme=dark] .colab-df-convert:hover {\n",
              "      background-color: #434B5C;\n",
              "      box-shadow: 0px 1px 3px 1px rgba(0, 0, 0, 0.15);\n",
              "      filter: drop-shadow(0px 1px 2px rgba(0, 0, 0, 0.3));\n",
              "      fill: #FFFFFF;\n",
              "    }\n",
              "  </style>\n",
              "\n",
              "    <script>\n",
              "      const buttonEl =\n",
              "        document.querySelector('#df-fe1d4624-6c71-403c-a95b-14be4e2194a0 button.colab-df-convert');\n",
              "      buttonEl.style.display =\n",
              "        google.colab.kernel.accessAllowed ? 'block' : 'none';\n",
              "\n",
              "      async function convertToInteractive(key) {\n",
              "        const element = document.querySelector('#df-fe1d4624-6c71-403c-a95b-14be4e2194a0');\n",
              "        const dataTable =\n",
              "          await google.colab.kernel.invokeFunction('convertToInteractive',\n",
              "                                                    [key], {});\n",
              "        if (!dataTable) return;\n",
              "\n",
              "        const docLinkHtml = 'Like what you see? Visit the ' +\n",
              "          '<a target=\"_blank\" href=https://colab.research.google.com/notebooks/data_table.ipynb>data table notebook</a>'\n",
              "          + ' to learn more about interactive tables.';\n",
              "        element.innerHTML = '';\n",
              "        dataTable['output_type'] = 'display_data';\n",
              "        await google.colab.output.renderOutput(dataTable, element);\n",
              "        const docLink = document.createElement('div');\n",
              "        docLink.innerHTML = docLinkHtml;\n",
              "        element.appendChild(docLink);\n",
              "      }\n",
              "    </script>\n",
              "  </div>\n",
              "\n",
              "\n",
              "<div id=\"df-382247ae-63b1-4255-afe9-9384ceae8625\">\n",
              "  <button class=\"colab-df-quickchart\" onclick=\"quickchart('df-382247ae-63b1-4255-afe9-9384ceae8625')\"\n",
              "            title=\"Suggest charts\"\n",
              "            style=\"display:none;\">\n",
              "\n",
              "<svg xmlns=\"http://www.w3.org/2000/svg\" height=\"24px\"viewBox=\"0 0 24 24\"\n",
              "     width=\"24px\">\n",
              "    <g>\n",
              "        <path d=\"M19 3H5c-1.1 0-2 .9-2 2v14c0 1.1.9 2 2 2h14c1.1 0 2-.9 2-2V5c0-1.1-.9-2-2-2zM9 17H7v-7h2v7zm4 0h-2V7h2v10zm4 0h-2v-4h2v4z\"/>\n",
              "    </g>\n",
              "</svg>\n",
              "  </button>\n",
              "\n",
              "<style>\n",
              "  .colab-df-quickchart {\n",
              "      --bg-color: #E8F0FE;\n",
              "      --fill-color: #1967D2;\n",
              "      --hover-bg-color: #E2EBFA;\n",
              "      --hover-fill-color: #174EA6;\n",
              "      --disabled-fill-color: #AAA;\n",
              "      --disabled-bg-color: #DDD;\n",
              "  }\n",
              "\n",
              "  [theme=dark] .colab-df-quickchart {\n",
              "      --bg-color: #3B4455;\n",
              "      --fill-color: #D2E3FC;\n",
              "      --hover-bg-color: #434B5C;\n",
              "      --hover-fill-color: #FFFFFF;\n",
              "      --disabled-bg-color: #3B4455;\n",
              "      --disabled-fill-color: #666;\n",
              "  }\n",
              "\n",
              "  .colab-df-quickchart {\n",
              "    background-color: var(--bg-color);\n",
              "    border: none;\n",
              "    border-radius: 50%;\n",
              "    cursor: pointer;\n",
              "    display: none;\n",
              "    fill: var(--fill-color);\n",
              "    height: 32px;\n",
              "    padding: 0;\n",
              "    width: 32px;\n",
              "  }\n",
              "\n",
              "  .colab-df-quickchart:hover {\n",
              "    background-color: var(--hover-bg-color);\n",
              "    box-shadow: 0 1px 2px rgba(60, 64, 67, 0.3), 0 1px 3px 1px rgba(60, 64, 67, 0.15);\n",
              "    fill: var(--button-hover-fill-color);\n",
              "  }\n",
              "\n",
              "  .colab-df-quickchart-complete:disabled,\n",
              "  .colab-df-quickchart-complete:disabled:hover {\n",
              "    background-color: var(--disabled-bg-color);\n",
              "    fill: var(--disabled-fill-color);\n",
              "    box-shadow: none;\n",
              "  }\n",
              "\n",
              "  .colab-df-spinner {\n",
              "    border: 2px solid var(--fill-color);\n",
              "    border-color: transparent;\n",
              "    border-bottom-color: var(--fill-color);\n",
              "    animation:\n",
              "      spin 1s steps(1) infinite;\n",
              "  }\n",
              "\n",
              "  @keyframes spin {\n",
              "    0% {\n",
              "      border-color: transparent;\n",
              "      border-bottom-color: var(--fill-color);\n",
              "      border-left-color: var(--fill-color);\n",
              "    }\n",
              "    20% {\n",
              "      border-color: transparent;\n",
              "      border-left-color: var(--fill-color);\n",
              "      border-top-color: var(--fill-color);\n",
              "    }\n",
              "    30% {\n",
              "      border-color: transparent;\n",
              "      border-left-color: var(--fill-color);\n",
              "      border-top-color: var(--fill-color);\n",
              "      border-right-color: var(--fill-color);\n",
              "    }\n",
              "    40% {\n",
              "      border-color: transparent;\n",
              "      border-right-color: var(--fill-color);\n",
              "      border-top-color: var(--fill-color);\n",
              "    }\n",
              "    60% {\n",
              "      border-color: transparent;\n",
              "      border-right-color: var(--fill-color);\n",
              "    }\n",
              "    80% {\n",
              "      border-color: transparent;\n",
              "      border-right-color: var(--fill-color);\n",
              "      border-bottom-color: var(--fill-color);\n",
              "    }\n",
              "    90% {\n",
              "      border-color: transparent;\n",
              "      border-bottom-color: var(--fill-color);\n",
              "    }\n",
              "  }\n",
              "</style>\n",
              "\n",
              "  <script>\n",
              "    async function quickchart(key) {\n",
              "      const quickchartButtonEl =\n",
              "        document.querySelector('#' + key + ' button');\n",
              "      quickchartButtonEl.disabled = true;  // To prevent multiple clicks.\n",
              "      quickchartButtonEl.classList.add('colab-df-spinner');\n",
              "      try {\n",
              "        const charts = await google.colab.kernel.invokeFunction(\n",
              "            'suggestCharts', [key], {});\n",
              "      } catch (error) {\n",
              "        console.error('Error during call to suggestCharts:', error);\n",
              "      }\n",
              "      quickchartButtonEl.classList.remove('colab-df-spinner');\n",
              "      quickchartButtonEl.classList.add('colab-df-quickchart-complete');\n",
              "    }\n",
              "    (() => {\n",
              "      let quickchartButtonEl =\n",
              "        document.querySelector('#df-382247ae-63b1-4255-afe9-9384ceae8625 button');\n",
              "      quickchartButtonEl.style.display =\n",
              "        google.colab.kernel.accessAllowed ? 'block' : 'none';\n",
              "    })();\n",
              "  </script>\n",
              "</div>\n",
              "\n",
              "    </div>\n",
              "  </div>\n"
            ]
          },
          "metadata": {},
          "execution_count": 10
        }
      ]
    },
    {
      "cell_type": "code",
      "source": [
        "from statsmodels.formula.api import ols\n",
        "from statsmodels.stats.anova import anova_lm\n",
        "\n",
        "# Create formula\n",
        "dependent_var = \"mpg\" # we are predicting 'mpg'\n",
        "independent_var = \"cylinders + displacement + horsepower + weight + acceleration + modelyear + origin\"\n",
        "\n",
        "formula = dependent_var + \" ~ \" + independent_var\n",
        "\n",
        "# Create model & train\n",
        "model = ols(formula, auto).fit()\n",
        "\n",
        "# Results\n",
        "print(\"Anova:\")\n",
        "print(f\"{anova_lm(model)}\")\n",
        "print(\"Params:\")\n",
        "print(f\"{model.params}\")\n",
        "print(\"Summary:\")\n",
        "print(f\"{model.summary()}\")"
      ],
      "metadata": {
        "id": "y1XsWr_u2NIR",
        "colab": {
          "base_uri": "https://localhost:8080/"
        },
        "outputId": "17075112-bfe8-4234-9b2b-4d721cb87093"
      },
      "execution_count": null,
      "outputs": [
        {
          "output_type": "stream",
          "name": "stdout",
          "text": [
            "Anova:\n",
            "                 df        sum_sq       mean_sq            F         PR(>F)\n",
            "cylinders       1.0  14403.083079  14403.083079  1300.683788  2.319511e-125\n",
            "displacement    1.0   1073.344025   1073.344025    96.929329   1.530906e-20\n",
            "horsepower      1.0    403.408069    403.408069    36.430140   3.731128e-09\n",
            "weight          1.0    975.724953    975.724953    88.113748   5.544461e-19\n",
            "acceleration    1.0      0.966071      0.966071     0.087242   7.678728e-01\n",
            "modelyear       1.0   2419.120249   2419.120249   218.460900   1.875281e-39\n",
            "origin          1.0    291.134494    291.134494    26.291171   4.665681e-07\n",
            "Residual      384.0   4252.212530     11.073470          NaN            NaN\n",
            "Params:\n",
            "Intercept      -17.218435\n",
            "cylinders       -0.493376\n",
            "displacement     0.019896\n",
            "horsepower      -0.016951\n",
            "weight          -0.006474\n",
            "acceleration     0.080576\n",
            "modelyear        0.750773\n",
            "origin           1.426140\n",
            "dtype: float64\n",
            "Summary:\n",
            "                            OLS Regression Results                            \n",
            "==============================================================================\n",
            "Dep. Variable:                    mpg   R-squared:                       0.821\n",
            "Model:                            OLS   Adj. R-squared:                  0.818\n",
            "Method:                 Least Squares   F-statistic:                     252.4\n",
            "Date:                Tue, 26 Dec 2023   Prob (F-statistic):          2.04e-139\n",
            "Time:                        08:45:35   Log-Likelihood:                -1023.5\n",
            "No. Observations:                 392   AIC:                             2063.\n",
            "Df Residuals:                     384   BIC:                             2095.\n",
            "Df Model:                           7                                         \n",
            "Covariance Type:            nonrobust                                         \n",
            "================================================================================\n",
            "                   coef    std err          t      P>|t|      [0.025      0.975]\n",
            "--------------------------------------------------------------------------------\n",
            "Intercept      -17.2184      4.644     -3.707      0.000     -26.350      -8.087\n",
            "cylinders       -0.4934      0.323     -1.526      0.128      -1.129       0.142\n",
            "displacement     0.0199      0.008      2.647      0.008       0.005       0.035\n",
            "horsepower      -0.0170      0.014     -1.230      0.220      -0.044       0.010\n",
            "weight          -0.0065      0.001     -9.929      0.000      -0.008      -0.005\n",
            "acceleration     0.0806      0.099      0.815      0.415      -0.114       0.275\n",
            "modelyear        0.7508      0.051     14.729      0.000       0.651       0.851\n",
            "origin           1.4261      0.278      5.127      0.000       0.879       1.973\n",
            "==============================================================================\n",
            "Omnibus:                       31.906   Durbin-Watson:                   1.309\n",
            "Prob(Omnibus):                  0.000   Jarque-Bera (JB):               53.100\n",
            "Skew:                           0.529   Prob(JB):                     2.95e-12\n",
            "Kurtosis:                       4.460   Cond. No.                     8.59e+04\n",
            "==============================================================================\n",
            "\n",
            "Notes:\n",
            "[1] Standard Errors assume that the covariance matrix of the errors is correctly specified.\n",
            "[2] The condition number is large, 8.59e+04. This might indicate that there are\n",
            "strong multicollinearity or other numerical problems.\n"
          ]
        }
      ]
    },
    {
      "cell_type": "code",
      "source": [
        "# Create Dummies Manually\n",
        "\n",
        "auto.origin.value_counts()\n",
        "\n",
        "#auto['is_usa'] = auto.loc[auto.origin == 1, 'origin']\n",
        "#auto['is_european'] = auto.loc[auto.origin == 2, 'origin']\n",
        "#auto['is_asian'] = auto.loc[auto.origin == 3, 'origin']\n",
        "#auto['is_european'] = auto['is_european']/auto['is_european']\n",
        "#auto['is_asian'] = auto['is_asian']/auto['is_asian']\n",
        "auto.loc[auto['origin'] == 1, 'is_usa'] = 1\n",
        "auto.loc[auto['origin'] == 2, 'is_european'] = 1\n",
        "auto.loc[auto['origin'] == 3, 'is_asian'] = 1\n",
        "\n",
        "auto = auto.fillna(0)\n",
        "\n",
        "auto.columns\n",
        "auto.head(30)"
      ],
      "metadata": {
        "id": "VqtkOuAV2Peg",
        "colab": {
          "base_uri": "https://localhost:8080/",
          "height": 1000
        },
        "outputId": "d7ea1a87-e7ef-4470-ec93-ab22875e1916"
      },
      "execution_count": null,
      "outputs": [
        {
          "output_type": "execute_result",
          "data": {
            "text/plain": [
              "     mpg  cylinders  displacement  horsepower  weight  acceleration  \\\n",
              "0   18.0          8         307.0         130    3504          12.0   \n",
              "1   15.0          8         350.0         165    3693          11.5   \n",
              "2   18.0          8         318.0         150    3436          11.0   \n",
              "3   16.0          8         304.0         150    3433          12.0   \n",
              "4   17.0          8         302.0         140    3449          10.5   \n",
              "5   15.0          8         429.0         198    4341          10.0   \n",
              "6   14.0          8         454.0         220    4354           9.0   \n",
              "7   14.0          8         440.0         215    4312           8.5   \n",
              "8   14.0          8         455.0         225    4425          10.0   \n",
              "9   15.0          8         390.0         190    3850           8.5   \n",
              "10  15.0          8         383.0         170    3563          10.0   \n",
              "11  14.0          8         340.0         160    3609           8.0   \n",
              "12  15.0          8         400.0         150    3761           9.5   \n",
              "13  14.0          8         455.0         225    3086          10.0   \n",
              "14  24.0          4         113.0          95    2372          15.0   \n",
              "15  22.0          6         198.0          95    2833          15.5   \n",
              "16  18.0          6         199.0          97    2774          15.5   \n",
              "17  21.0          6         200.0          85    2587          16.0   \n",
              "18  27.0          4          97.0          88    2130          14.5   \n",
              "19  26.0          4          97.0          46    1835          20.5   \n",
              "20  25.0          4         110.0          87    2672          17.5   \n",
              "21  24.0          4         107.0          90    2430          14.5   \n",
              "22  25.0          4         104.0          95    2375          17.5   \n",
              "23  26.0          4         121.0         113    2234          12.5   \n",
              "24  21.0          6         199.0          90    2648          15.0   \n",
              "25  10.0          8         360.0         215    4615          14.0   \n",
              "26  10.0          8         307.0         200    4376          15.0   \n",
              "27  11.0          8         318.0         210    4382          13.5   \n",
              "28   9.0          8         304.0         193    4732          18.5   \n",
              "29  27.0          4          97.0          88    2130          14.5   \n",
              "\n",
              "    modelyear  origin origin_not_encoded  is_usa  is_european  is_asian  \n",
              "0          70       1           American     1.0          0.0       0.0  \n",
              "1          70       1           American     1.0          0.0       0.0  \n",
              "2          70       1           American     1.0          0.0       0.0  \n",
              "3          70       1           American     1.0          0.0       0.0  \n",
              "4          70       1           American     1.0          0.0       0.0  \n",
              "5          70       1           American     1.0          0.0       0.0  \n",
              "6          70       1           American     1.0          0.0       0.0  \n",
              "7          70       1           American     1.0          0.0       0.0  \n",
              "8          70       1           American     1.0          0.0       0.0  \n",
              "9          70       1           American     1.0          0.0       0.0  \n",
              "10         70       1           American     1.0          0.0       0.0  \n",
              "11         70       1           American     1.0          0.0       0.0  \n",
              "12         70       1           American     1.0          0.0       0.0  \n",
              "13         70       1           American     1.0          0.0       0.0  \n",
              "14         70       3              Asian     0.0          0.0       1.0  \n",
              "15         70       1           American     1.0          0.0       0.0  \n",
              "16         70       1           American     1.0          0.0       0.0  \n",
              "17         70       1           American     1.0          0.0       0.0  \n",
              "18         70       3              Asian     0.0          0.0       1.0  \n",
              "19         70       2           European     0.0          1.0       0.0  \n",
              "20         70       2           European     0.0          1.0       0.0  \n",
              "21         70       2           European     0.0          1.0       0.0  \n",
              "22         70       2           European     0.0          1.0       0.0  \n",
              "23         70       2           European     0.0          1.0       0.0  \n",
              "24         70       1           American     1.0          0.0       0.0  \n",
              "25         70       1           American     1.0          0.0       0.0  \n",
              "26         70       1           American     1.0          0.0       0.0  \n",
              "27         70       1           American     1.0          0.0       0.0  \n",
              "28         70       1           American     1.0          0.0       0.0  \n",
              "29         71       3              Asian     0.0          0.0       1.0  "
            ],
            "text/html": [
              "\n",
              "  <div id=\"df-1f4f3f76-9379-4492-972a-597c4c395442\" class=\"colab-df-container\">\n",
              "    <div>\n",
              "<style scoped>\n",
              "    .dataframe tbody tr th:only-of-type {\n",
              "        vertical-align: middle;\n",
              "    }\n",
              "\n",
              "    .dataframe tbody tr th {\n",
              "        vertical-align: top;\n",
              "    }\n",
              "\n",
              "    .dataframe thead th {\n",
              "        text-align: right;\n",
              "    }\n",
              "</style>\n",
              "<table border=\"1\" class=\"dataframe\">\n",
              "  <thead>\n",
              "    <tr style=\"text-align: right;\">\n",
              "      <th></th>\n",
              "      <th>mpg</th>\n",
              "      <th>cylinders</th>\n",
              "      <th>displacement</th>\n",
              "      <th>horsepower</th>\n",
              "      <th>weight</th>\n",
              "      <th>acceleration</th>\n",
              "      <th>modelyear</th>\n",
              "      <th>origin</th>\n",
              "      <th>origin_not_encoded</th>\n",
              "      <th>is_usa</th>\n",
              "      <th>is_european</th>\n",
              "      <th>is_asian</th>\n",
              "    </tr>\n",
              "  </thead>\n",
              "  <tbody>\n",
              "    <tr>\n",
              "      <th>0</th>\n",
              "      <td>18.0</td>\n",
              "      <td>8</td>\n",
              "      <td>307.0</td>\n",
              "      <td>130</td>\n",
              "      <td>3504</td>\n",
              "      <td>12.0</td>\n",
              "      <td>70</td>\n",
              "      <td>1</td>\n",
              "      <td>American</td>\n",
              "      <td>1.0</td>\n",
              "      <td>0.0</td>\n",
              "      <td>0.0</td>\n",
              "    </tr>\n",
              "    <tr>\n",
              "      <th>1</th>\n",
              "      <td>15.0</td>\n",
              "      <td>8</td>\n",
              "      <td>350.0</td>\n",
              "      <td>165</td>\n",
              "      <td>3693</td>\n",
              "      <td>11.5</td>\n",
              "      <td>70</td>\n",
              "      <td>1</td>\n",
              "      <td>American</td>\n",
              "      <td>1.0</td>\n",
              "      <td>0.0</td>\n",
              "      <td>0.0</td>\n",
              "    </tr>\n",
              "    <tr>\n",
              "      <th>2</th>\n",
              "      <td>18.0</td>\n",
              "      <td>8</td>\n",
              "      <td>318.0</td>\n",
              "      <td>150</td>\n",
              "      <td>3436</td>\n",
              "      <td>11.0</td>\n",
              "      <td>70</td>\n",
              "      <td>1</td>\n",
              "      <td>American</td>\n",
              "      <td>1.0</td>\n",
              "      <td>0.0</td>\n",
              "      <td>0.0</td>\n",
              "    </tr>\n",
              "    <tr>\n",
              "      <th>3</th>\n",
              "      <td>16.0</td>\n",
              "      <td>8</td>\n",
              "      <td>304.0</td>\n",
              "      <td>150</td>\n",
              "      <td>3433</td>\n",
              "      <td>12.0</td>\n",
              "      <td>70</td>\n",
              "      <td>1</td>\n",
              "      <td>American</td>\n",
              "      <td>1.0</td>\n",
              "      <td>0.0</td>\n",
              "      <td>0.0</td>\n",
              "    </tr>\n",
              "    <tr>\n",
              "      <th>4</th>\n",
              "      <td>17.0</td>\n",
              "      <td>8</td>\n",
              "      <td>302.0</td>\n",
              "      <td>140</td>\n",
              "      <td>3449</td>\n",
              "      <td>10.5</td>\n",
              "      <td>70</td>\n",
              "      <td>1</td>\n",
              "      <td>American</td>\n",
              "      <td>1.0</td>\n",
              "      <td>0.0</td>\n",
              "      <td>0.0</td>\n",
              "    </tr>\n",
              "    <tr>\n",
              "      <th>5</th>\n",
              "      <td>15.0</td>\n",
              "      <td>8</td>\n",
              "      <td>429.0</td>\n",
              "      <td>198</td>\n",
              "      <td>4341</td>\n",
              "      <td>10.0</td>\n",
              "      <td>70</td>\n",
              "      <td>1</td>\n",
              "      <td>American</td>\n",
              "      <td>1.0</td>\n",
              "      <td>0.0</td>\n",
              "      <td>0.0</td>\n",
              "    </tr>\n",
              "    <tr>\n",
              "      <th>6</th>\n",
              "      <td>14.0</td>\n",
              "      <td>8</td>\n",
              "      <td>454.0</td>\n",
              "      <td>220</td>\n",
              "      <td>4354</td>\n",
              "      <td>9.0</td>\n",
              "      <td>70</td>\n",
              "      <td>1</td>\n",
              "      <td>American</td>\n",
              "      <td>1.0</td>\n",
              "      <td>0.0</td>\n",
              "      <td>0.0</td>\n",
              "    </tr>\n",
              "    <tr>\n",
              "      <th>7</th>\n",
              "      <td>14.0</td>\n",
              "      <td>8</td>\n",
              "      <td>440.0</td>\n",
              "      <td>215</td>\n",
              "      <td>4312</td>\n",
              "      <td>8.5</td>\n",
              "      <td>70</td>\n",
              "      <td>1</td>\n",
              "      <td>American</td>\n",
              "      <td>1.0</td>\n",
              "      <td>0.0</td>\n",
              "      <td>0.0</td>\n",
              "    </tr>\n",
              "    <tr>\n",
              "      <th>8</th>\n",
              "      <td>14.0</td>\n",
              "      <td>8</td>\n",
              "      <td>455.0</td>\n",
              "      <td>225</td>\n",
              "      <td>4425</td>\n",
              "      <td>10.0</td>\n",
              "      <td>70</td>\n",
              "      <td>1</td>\n",
              "      <td>American</td>\n",
              "      <td>1.0</td>\n",
              "      <td>0.0</td>\n",
              "      <td>0.0</td>\n",
              "    </tr>\n",
              "    <tr>\n",
              "      <th>9</th>\n",
              "      <td>15.0</td>\n",
              "      <td>8</td>\n",
              "      <td>390.0</td>\n",
              "      <td>190</td>\n",
              "      <td>3850</td>\n",
              "      <td>8.5</td>\n",
              "      <td>70</td>\n",
              "      <td>1</td>\n",
              "      <td>American</td>\n",
              "      <td>1.0</td>\n",
              "      <td>0.0</td>\n",
              "      <td>0.0</td>\n",
              "    </tr>\n",
              "    <tr>\n",
              "      <th>10</th>\n",
              "      <td>15.0</td>\n",
              "      <td>8</td>\n",
              "      <td>383.0</td>\n",
              "      <td>170</td>\n",
              "      <td>3563</td>\n",
              "      <td>10.0</td>\n",
              "      <td>70</td>\n",
              "      <td>1</td>\n",
              "      <td>American</td>\n",
              "      <td>1.0</td>\n",
              "      <td>0.0</td>\n",
              "      <td>0.0</td>\n",
              "    </tr>\n",
              "    <tr>\n",
              "      <th>11</th>\n",
              "      <td>14.0</td>\n",
              "      <td>8</td>\n",
              "      <td>340.0</td>\n",
              "      <td>160</td>\n",
              "      <td>3609</td>\n",
              "      <td>8.0</td>\n",
              "      <td>70</td>\n",
              "      <td>1</td>\n",
              "      <td>American</td>\n",
              "      <td>1.0</td>\n",
              "      <td>0.0</td>\n",
              "      <td>0.0</td>\n",
              "    </tr>\n",
              "    <tr>\n",
              "      <th>12</th>\n",
              "      <td>15.0</td>\n",
              "      <td>8</td>\n",
              "      <td>400.0</td>\n",
              "      <td>150</td>\n",
              "      <td>3761</td>\n",
              "      <td>9.5</td>\n",
              "      <td>70</td>\n",
              "      <td>1</td>\n",
              "      <td>American</td>\n",
              "      <td>1.0</td>\n",
              "      <td>0.0</td>\n",
              "      <td>0.0</td>\n",
              "    </tr>\n",
              "    <tr>\n",
              "      <th>13</th>\n",
              "      <td>14.0</td>\n",
              "      <td>8</td>\n",
              "      <td>455.0</td>\n",
              "      <td>225</td>\n",
              "      <td>3086</td>\n",
              "      <td>10.0</td>\n",
              "      <td>70</td>\n",
              "      <td>1</td>\n",
              "      <td>American</td>\n",
              "      <td>1.0</td>\n",
              "      <td>0.0</td>\n",
              "      <td>0.0</td>\n",
              "    </tr>\n",
              "    <tr>\n",
              "      <th>14</th>\n",
              "      <td>24.0</td>\n",
              "      <td>4</td>\n",
              "      <td>113.0</td>\n",
              "      <td>95</td>\n",
              "      <td>2372</td>\n",
              "      <td>15.0</td>\n",
              "      <td>70</td>\n",
              "      <td>3</td>\n",
              "      <td>Asian</td>\n",
              "      <td>0.0</td>\n",
              "      <td>0.0</td>\n",
              "      <td>1.0</td>\n",
              "    </tr>\n",
              "    <tr>\n",
              "      <th>15</th>\n",
              "      <td>22.0</td>\n",
              "      <td>6</td>\n",
              "      <td>198.0</td>\n",
              "      <td>95</td>\n",
              "      <td>2833</td>\n",
              "      <td>15.5</td>\n",
              "      <td>70</td>\n",
              "      <td>1</td>\n",
              "      <td>American</td>\n",
              "      <td>1.0</td>\n",
              "      <td>0.0</td>\n",
              "      <td>0.0</td>\n",
              "    </tr>\n",
              "    <tr>\n",
              "      <th>16</th>\n",
              "      <td>18.0</td>\n",
              "      <td>6</td>\n",
              "      <td>199.0</td>\n",
              "      <td>97</td>\n",
              "      <td>2774</td>\n",
              "      <td>15.5</td>\n",
              "      <td>70</td>\n",
              "      <td>1</td>\n",
              "      <td>American</td>\n",
              "      <td>1.0</td>\n",
              "      <td>0.0</td>\n",
              "      <td>0.0</td>\n",
              "    </tr>\n",
              "    <tr>\n",
              "      <th>17</th>\n",
              "      <td>21.0</td>\n",
              "      <td>6</td>\n",
              "      <td>200.0</td>\n",
              "      <td>85</td>\n",
              "      <td>2587</td>\n",
              "      <td>16.0</td>\n",
              "      <td>70</td>\n",
              "      <td>1</td>\n",
              "      <td>American</td>\n",
              "      <td>1.0</td>\n",
              "      <td>0.0</td>\n",
              "      <td>0.0</td>\n",
              "    </tr>\n",
              "    <tr>\n",
              "      <th>18</th>\n",
              "      <td>27.0</td>\n",
              "      <td>4</td>\n",
              "      <td>97.0</td>\n",
              "      <td>88</td>\n",
              "      <td>2130</td>\n",
              "      <td>14.5</td>\n",
              "      <td>70</td>\n",
              "      <td>3</td>\n",
              "      <td>Asian</td>\n",
              "      <td>0.0</td>\n",
              "      <td>0.0</td>\n",
              "      <td>1.0</td>\n",
              "    </tr>\n",
              "    <tr>\n",
              "      <th>19</th>\n",
              "      <td>26.0</td>\n",
              "      <td>4</td>\n",
              "      <td>97.0</td>\n",
              "      <td>46</td>\n",
              "      <td>1835</td>\n",
              "      <td>20.5</td>\n",
              "      <td>70</td>\n",
              "      <td>2</td>\n",
              "      <td>European</td>\n",
              "      <td>0.0</td>\n",
              "      <td>1.0</td>\n",
              "      <td>0.0</td>\n",
              "    </tr>\n",
              "    <tr>\n",
              "      <th>20</th>\n",
              "      <td>25.0</td>\n",
              "      <td>4</td>\n",
              "      <td>110.0</td>\n",
              "      <td>87</td>\n",
              "      <td>2672</td>\n",
              "      <td>17.5</td>\n",
              "      <td>70</td>\n",
              "      <td>2</td>\n",
              "      <td>European</td>\n",
              "      <td>0.0</td>\n",
              "      <td>1.0</td>\n",
              "      <td>0.0</td>\n",
              "    </tr>\n",
              "    <tr>\n",
              "      <th>21</th>\n",
              "      <td>24.0</td>\n",
              "      <td>4</td>\n",
              "      <td>107.0</td>\n",
              "      <td>90</td>\n",
              "      <td>2430</td>\n",
              "      <td>14.5</td>\n",
              "      <td>70</td>\n",
              "      <td>2</td>\n",
              "      <td>European</td>\n",
              "      <td>0.0</td>\n",
              "      <td>1.0</td>\n",
              "      <td>0.0</td>\n",
              "    </tr>\n",
              "    <tr>\n",
              "      <th>22</th>\n",
              "      <td>25.0</td>\n",
              "      <td>4</td>\n",
              "      <td>104.0</td>\n",
              "      <td>95</td>\n",
              "      <td>2375</td>\n",
              "      <td>17.5</td>\n",
              "      <td>70</td>\n",
              "      <td>2</td>\n",
              "      <td>European</td>\n",
              "      <td>0.0</td>\n",
              "      <td>1.0</td>\n",
              "      <td>0.0</td>\n",
              "    </tr>\n",
              "    <tr>\n",
              "      <th>23</th>\n",
              "      <td>26.0</td>\n",
              "      <td>4</td>\n",
              "      <td>121.0</td>\n",
              "      <td>113</td>\n",
              "      <td>2234</td>\n",
              "      <td>12.5</td>\n",
              "      <td>70</td>\n",
              "      <td>2</td>\n",
              "      <td>European</td>\n",
              "      <td>0.0</td>\n",
              "      <td>1.0</td>\n",
              "      <td>0.0</td>\n",
              "    </tr>\n",
              "    <tr>\n",
              "      <th>24</th>\n",
              "      <td>21.0</td>\n",
              "      <td>6</td>\n",
              "      <td>199.0</td>\n",
              "      <td>90</td>\n",
              "      <td>2648</td>\n",
              "      <td>15.0</td>\n",
              "      <td>70</td>\n",
              "      <td>1</td>\n",
              "      <td>American</td>\n",
              "      <td>1.0</td>\n",
              "      <td>0.0</td>\n",
              "      <td>0.0</td>\n",
              "    </tr>\n",
              "    <tr>\n",
              "      <th>25</th>\n",
              "      <td>10.0</td>\n",
              "      <td>8</td>\n",
              "      <td>360.0</td>\n",
              "      <td>215</td>\n",
              "      <td>4615</td>\n",
              "      <td>14.0</td>\n",
              "      <td>70</td>\n",
              "      <td>1</td>\n",
              "      <td>American</td>\n",
              "      <td>1.0</td>\n",
              "      <td>0.0</td>\n",
              "      <td>0.0</td>\n",
              "    </tr>\n",
              "    <tr>\n",
              "      <th>26</th>\n",
              "      <td>10.0</td>\n",
              "      <td>8</td>\n",
              "      <td>307.0</td>\n",
              "      <td>200</td>\n",
              "      <td>4376</td>\n",
              "      <td>15.0</td>\n",
              "      <td>70</td>\n",
              "      <td>1</td>\n",
              "      <td>American</td>\n",
              "      <td>1.0</td>\n",
              "      <td>0.0</td>\n",
              "      <td>0.0</td>\n",
              "    </tr>\n",
              "    <tr>\n",
              "      <th>27</th>\n",
              "      <td>11.0</td>\n",
              "      <td>8</td>\n",
              "      <td>318.0</td>\n",
              "      <td>210</td>\n",
              "      <td>4382</td>\n",
              "      <td>13.5</td>\n",
              "      <td>70</td>\n",
              "      <td>1</td>\n",
              "      <td>American</td>\n",
              "      <td>1.0</td>\n",
              "      <td>0.0</td>\n",
              "      <td>0.0</td>\n",
              "    </tr>\n",
              "    <tr>\n",
              "      <th>28</th>\n",
              "      <td>9.0</td>\n",
              "      <td>8</td>\n",
              "      <td>304.0</td>\n",
              "      <td>193</td>\n",
              "      <td>4732</td>\n",
              "      <td>18.5</td>\n",
              "      <td>70</td>\n",
              "      <td>1</td>\n",
              "      <td>American</td>\n",
              "      <td>1.0</td>\n",
              "      <td>0.0</td>\n",
              "      <td>0.0</td>\n",
              "    </tr>\n",
              "    <tr>\n",
              "      <th>29</th>\n",
              "      <td>27.0</td>\n",
              "      <td>4</td>\n",
              "      <td>97.0</td>\n",
              "      <td>88</td>\n",
              "      <td>2130</td>\n",
              "      <td>14.5</td>\n",
              "      <td>71</td>\n",
              "      <td>3</td>\n",
              "      <td>Asian</td>\n",
              "      <td>0.0</td>\n",
              "      <td>0.0</td>\n",
              "      <td>1.0</td>\n",
              "    </tr>\n",
              "  </tbody>\n",
              "</table>\n",
              "</div>\n",
              "    <div class=\"colab-df-buttons\">\n",
              "\n",
              "  <div class=\"colab-df-container\">\n",
              "    <button class=\"colab-df-convert\" onclick=\"convertToInteractive('df-1f4f3f76-9379-4492-972a-597c4c395442')\"\n",
              "            title=\"Convert this dataframe to an interactive table.\"\n",
              "            style=\"display:none;\">\n",
              "\n",
              "  <svg xmlns=\"http://www.w3.org/2000/svg\" height=\"24px\" viewBox=\"0 -960 960 960\">\n",
              "    <path d=\"M120-120v-720h720v720H120Zm60-500h600v-160H180v160Zm220 220h160v-160H400v160Zm0 220h160v-160H400v160ZM180-400h160v-160H180v160Zm440 0h160v-160H620v160ZM180-180h160v-160H180v160Zm440 0h160v-160H620v160Z\"/>\n",
              "  </svg>\n",
              "    </button>\n",
              "\n",
              "  <style>\n",
              "    .colab-df-container {\n",
              "      display:flex;\n",
              "      gap: 12px;\n",
              "    }\n",
              "\n",
              "    .colab-df-convert {\n",
              "      background-color: #E8F0FE;\n",
              "      border: none;\n",
              "      border-radius: 50%;\n",
              "      cursor: pointer;\n",
              "      display: none;\n",
              "      fill: #1967D2;\n",
              "      height: 32px;\n",
              "      padding: 0 0 0 0;\n",
              "      width: 32px;\n",
              "    }\n",
              "\n",
              "    .colab-df-convert:hover {\n",
              "      background-color: #E2EBFA;\n",
              "      box-shadow: 0px 1px 2px rgba(60, 64, 67, 0.3), 0px 1px 3px 1px rgba(60, 64, 67, 0.15);\n",
              "      fill: #174EA6;\n",
              "    }\n",
              "\n",
              "    .colab-df-buttons div {\n",
              "      margin-bottom: 4px;\n",
              "    }\n",
              "\n",
              "    [theme=dark] .colab-df-convert {\n",
              "      background-color: #3B4455;\n",
              "      fill: #D2E3FC;\n",
              "    }\n",
              "\n",
              "    [theme=dark] .colab-df-convert:hover {\n",
              "      background-color: #434B5C;\n",
              "      box-shadow: 0px 1px 3px 1px rgba(0, 0, 0, 0.15);\n",
              "      filter: drop-shadow(0px 1px 2px rgba(0, 0, 0, 0.3));\n",
              "      fill: #FFFFFF;\n",
              "    }\n",
              "  </style>\n",
              "\n",
              "    <script>\n",
              "      const buttonEl =\n",
              "        document.querySelector('#df-1f4f3f76-9379-4492-972a-597c4c395442 button.colab-df-convert');\n",
              "      buttonEl.style.display =\n",
              "        google.colab.kernel.accessAllowed ? 'block' : 'none';\n",
              "\n",
              "      async function convertToInteractive(key) {\n",
              "        const element = document.querySelector('#df-1f4f3f76-9379-4492-972a-597c4c395442');\n",
              "        const dataTable =\n",
              "          await google.colab.kernel.invokeFunction('convertToInteractive',\n",
              "                                                    [key], {});\n",
              "        if (!dataTable) return;\n",
              "\n",
              "        const docLinkHtml = 'Like what you see? Visit the ' +\n",
              "          '<a target=\"_blank\" href=https://colab.research.google.com/notebooks/data_table.ipynb>data table notebook</a>'\n",
              "          + ' to learn more about interactive tables.';\n",
              "        element.innerHTML = '';\n",
              "        dataTable['output_type'] = 'display_data';\n",
              "        await google.colab.output.renderOutput(dataTable, element);\n",
              "        const docLink = document.createElement('div');\n",
              "        docLink.innerHTML = docLinkHtml;\n",
              "        element.appendChild(docLink);\n",
              "      }\n",
              "    </script>\n",
              "  </div>\n",
              "\n",
              "\n",
              "<div id=\"df-f8dc6c92-33eb-43b9-acf0-b068a8c48fd4\">\n",
              "  <button class=\"colab-df-quickchart\" onclick=\"quickchart('df-f8dc6c92-33eb-43b9-acf0-b068a8c48fd4')\"\n",
              "            title=\"Suggest charts\"\n",
              "            style=\"display:none;\">\n",
              "\n",
              "<svg xmlns=\"http://www.w3.org/2000/svg\" height=\"24px\"viewBox=\"0 0 24 24\"\n",
              "     width=\"24px\">\n",
              "    <g>\n",
              "        <path d=\"M19 3H5c-1.1 0-2 .9-2 2v14c0 1.1.9 2 2 2h14c1.1 0 2-.9 2-2V5c0-1.1-.9-2-2-2zM9 17H7v-7h2v7zm4 0h-2V7h2v10zm4 0h-2v-4h2v4z\"/>\n",
              "    </g>\n",
              "</svg>\n",
              "  </button>\n",
              "\n",
              "<style>\n",
              "  .colab-df-quickchart {\n",
              "      --bg-color: #E8F0FE;\n",
              "      --fill-color: #1967D2;\n",
              "      --hover-bg-color: #E2EBFA;\n",
              "      --hover-fill-color: #174EA6;\n",
              "      --disabled-fill-color: #AAA;\n",
              "      --disabled-bg-color: #DDD;\n",
              "  }\n",
              "\n",
              "  [theme=dark] .colab-df-quickchart {\n",
              "      --bg-color: #3B4455;\n",
              "      --fill-color: #D2E3FC;\n",
              "      --hover-bg-color: #434B5C;\n",
              "      --hover-fill-color: #FFFFFF;\n",
              "      --disabled-bg-color: #3B4455;\n",
              "      --disabled-fill-color: #666;\n",
              "  }\n",
              "\n",
              "  .colab-df-quickchart {\n",
              "    background-color: var(--bg-color);\n",
              "    border: none;\n",
              "    border-radius: 50%;\n",
              "    cursor: pointer;\n",
              "    display: none;\n",
              "    fill: var(--fill-color);\n",
              "    height: 32px;\n",
              "    padding: 0;\n",
              "    width: 32px;\n",
              "  }\n",
              "\n",
              "  .colab-df-quickchart:hover {\n",
              "    background-color: var(--hover-bg-color);\n",
              "    box-shadow: 0 1px 2px rgba(60, 64, 67, 0.3), 0 1px 3px 1px rgba(60, 64, 67, 0.15);\n",
              "    fill: var(--button-hover-fill-color);\n",
              "  }\n",
              "\n",
              "  .colab-df-quickchart-complete:disabled,\n",
              "  .colab-df-quickchart-complete:disabled:hover {\n",
              "    background-color: var(--disabled-bg-color);\n",
              "    fill: var(--disabled-fill-color);\n",
              "    box-shadow: none;\n",
              "  }\n",
              "\n",
              "  .colab-df-spinner {\n",
              "    border: 2px solid var(--fill-color);\n",
              "    border-color: transparent;\n",
              "    border-bottom-color: var(--fill-color);\n",
              "    animation:\n",
              "      spin 1s steps(1) infinite;\n",
              "  }\n",
              "\n",
              "  @keyframes spin {\n",
              "    0% {\n",
              "      border-color: transparent;\n",
              "      border-bottom-color: var(--fill-color);\n",
              "      border-left-color: var(--fill-color);\n",
              "    }\n",
              "    20% {\n",
              "      border-color: transparent;\n",
              "      border-left-color: var(--fill-color);\n",
              "      border-top-color: var(--fill-color);\n",
              "    }\n",
              "    30% {\n",
              "      border-color: transparent;\n",
              "      border-left-color: var(--fill-color);\n",
              "      border-top-color: var(--fill-color);\n",
              "      border-right-color: var(--fill-color);\n",
              "    }\n",
              "    40% {\n",
              "      border-color: transparent;\n",
              "      border-right-color: var(--fill-color);\n",
              "      border-top-color: var(--fill-color);\n",
              "    }\n",
              "    60% {\n",
              "      border-color: transparent;\n",
              "      border-right-color: var(--fill-color);\n",
              "    }\n",
              "    80% {\n",
              "      border-color: transparent;\n",
              "      border-right-color: var(--fill-color);\n",
              "      border-bottom-color: var(--fill-color);\n",
              "    }\n",
              "    90% {\n",
              "      border-color: transparent;\n",
              "      border-bottom-color: var(--fill-color);\n",
              "    }\n",
              "  }\n",
              "</style>\n",
              "\n",
              "  <script>\n",
              "    async function quickchart(key) {\n",
              "      const quickchartButtonEl =\n",
              "        document.querySelector('#' + key + ' button');\n",
              "      quickchartButtonEl.disabled = true;  // To prevent multiple clicks.\n",
              "      quickchartButtonEl.classList.add('colab-df-spinner');\n",
              "      try {\n",
              "        const charts = await google.colab.kernel.invokeFunction(\n",
              "            'suggestCharts', [key], {});\n",
              "      } catch (error) {\n",
              "        console.error('Error during call to suggestCharts:', error);\n",
              "      }\n",
              "      quickchartButtonEl.classList.remove('colab-df-spinner');\n",
              "      quickchartButtonEl.classList.add('colab-df-quickchart-complete');\n",
              "    }\n",
              "    (() => {\n",
              "      let quickchartButtonEl =\n",
              "        document.querySelector('#df-f8dc6c92-33eb-43b9-acf0-b068a8c48fd4 button');\n",
              "      quickchartButtonEl.style.display =\n",
              "        google.colab.kernel.accessAllowed ? 'block' : 'none';\n",
              "    })();\n",
              "  </script>\n",
              "</div>\n",
              "\n",
              "    </div>\n",
              "  </div>\n"
            ]
          },
          "metadata": {},
          "execution_count": 13
        }
      ]
    },
    {
      "cell_type": "code",
      "source": [
        "# Create dummies using get_dummies function\n",
        "\n",
        "auto_encoded = pd.get_dummies(auto, columns=['origin'])\n",
        "\n",
        "auto_encoded.head(15)"
      ],
      "metadata": {
        "id": "-BDTCsAn2WS7",
        "colab": {
          "base_uri": "https://localhost:8080/",
          "height": 520
        },
        "outputId": "e5770405-27d0-480b-e1e9-1e61ff3259ee"
      },
      "execution_count": null,
      "outputs": [
        {
          "output_type": "execute_result",
          "data": {
            "text/plain": [
              "     mpg  cylinders  displacement  horsepower  weight  acceleration  \\\n",
              "0   18.0          8         307.0         130    3504          12.0   \n",
              "1   15.0          8         350.0         165    3693          11.5   \n",
              "2   18.0          8         318.0         150    3436          11.0   \n",
              "3   16.0          8         304.0         150    3433          12.0   \n",
              "4   17.0          8         302.0         140    3449          10.5   \n",
              "5   15.0          8         429.0         198    4341          10.0   \n",
              "6   14.0          8         454.0         220    4354           9.0   \n",
              "7   14.0          8         440.0         215    4312           8.5   \n",
              "8   14.0          8         455.0         225    4425          10.0   \n",
              "9   15.0          8         390.0         190    3850           8.5   \n",
              "10  15.0          8         383.0         170    3563          10.0   \n",
              "11  14.0          8         340.0         160    3609           8.0   \n",
              "12  15.0          8         400.0         150    3761           9.5   \n",
              "13  14.0          8         455.0         225    3086          10.0   \n",
              "14  24.0          4         113.0          95    2372          15.0   \n",
              "\n",
              "    modelyear origin_not_encoded  origin_1  origin_2  origin_3  \n",
              "0          70           American         1         0         0  \n",
              "1          70           American         1         0         0  \n",
              "2          70           American         1         0         0  \n",
              "3          70           American         1         0         0  \n",
              "4          70           American         1         0         0  \n",
              "5          70           American         1         0         0  \n",
              "6          70           American         1         0         0  \n",
              "7          70           American         1         0         0  \n",
              "8          70           American         1         0         0  \n",
              "9          70           American         1         0         0  \n",
              "10         70           American         1         0         0  \n",
              "11         70           American         1         0         0  \n",
              "12         70           American         1         0         0  \n",
              "13         70           American         1         0         0  \n",
              "14         70              Asian         0         0         1  "
            ],
            "text/html": [
              "\n",
              "  <div id=\"df-30186736-443b-4bbb-8de0-fd185306099f\" class=\"colab-df-container\">\n",
              "    <div>\n",
              "<style scoped>\n",
              "    .dataframe tbody tr th:only-of-type {\n",
              "        vertical-align: middle;\n",
              "    }\n",
              "\n",
              "    .dataframe tbody tr th {\n",
              "        vertical-align: top;\n",
              "    }\n",
              "\n",
              "    .dataframe thead th {\n",
              "        text-align: right;\n",
              "    }\n",
              "</style>\n",
              "<table border=\"1\" class=\"dataframe\">\n",
              "  <thead>\n",
              "    <tr style=\"text-align: right;\">\n",
              "      <th></th>\n",
              "      <th>mpg</th>\n",
              "      <th>cylinders</th>\n",
              "      <th>displacement</th>\n",
              "      <th>horsepower</th>\n",
              "      <th>weight</th>\n",
              "      <th>acceleration</th>\n",
              "      <th>modelyear</th>\n",
              "      <th>origin_not_encoded</th>\n",
              "      <th>origin_1</th>\n",
              "      <th>origin_2</th>\n",
              "      <th>origin_3</th>\n",
              "    </tr>\n",
              "  </thead>\n",
              "  <tbody>\n",
              "    <tr>\n",
              "      <th>0</th>\n",
              "      <td>18.0</td>\n",
              "      <td>8</td>\n",
              "      <td>307.0</td>\n",
              "      <td>130</td>\n",
              "      <td>3504</td>\n",
              "      <td>12.0</td>\n",
              "      <td>70</td>\n",
              "      <td>American</td>\n",
              "      <td>1</td>\n",
              "      <td>0</td>\n",
              "      <td>0</td>\n",
              "    </tr>\n",
              "    <tr>\n",
              "      <th>1</th>\n",
              "      <td>15.0</td>\n",
              "      <td>8</td>\n",
              "      <td>350.0</td>\n",
              "      <td>165</td>\n",
              "      <td>3693</td>\n",
              "      <td>11.5</td>\n",
              "      <td>70</td>\n",
              "      <td>American</td>\n",
              "      <td>1</td>\n",
              "      <td>0</td>\n",
              "      <td>0</td>\n",
              "    </tr>\n",
              "    <tr>\n",
              "      <th>2</th>\n",
              "      <td>18.0</td>\n",
              "      <td>8</td>\n",
              "      <td>318.0</td>\n",
              "      <td>150</td>\n",
              "      <td>3436</td>\n",
              "      <td>11.0</td>\n",
              "      <td>70</td>\n",
              "      <td>American</td>\n",
              "      <td>1</td>\n",
              "      <td>0</td>\n",
              "      <td>0</td>\n",
              "    </tr>\n",
              "    <tr>\n",
              "      <th>3</th>\n",
              "      <td>16.0</td>\n",
              "      <td>8</td>\n",
              "      <td>304.0</td>\n",
              "      <td>150</td>\n",
              "      <td>3433</td>\n",
              "      <td>12.0</td>\n",
              "      <td>70</td>\n",
              "      <td>American</td>\n",
              "      <td>1</td>\n",
              "      <td>0</td>\n",
              "      <td>0</td>\n",
              "    </tr>\n",
              "    <tr>\n",
              "      <th>4</th>\n",
              "      <td>17.0</td>\n",
              "      <td>8</td>\n",
              "      <td>302.0</td>\n",
              "      <td>140</td>\n",
              "      <td>3449</td>\n",
              "      <td>10.5</td>\n",
              "      <td>70</td>\n",
              "      <td>American</td>\n",
              "      <td>1</td>\n",
              "      <td>0</td>\n",
              "      <td>0</td>\n",
              "    </tr>\n",
              "    <tr>\n",
              "      <th>5</th>\n",
              "      <td>15.0</td>\n",
              "      <td>8</td>\n",
              "      <td>429.0</td>\n",
              "      <td>198</td>\n",
              "      <td>4341</td>\n",
              "      <td>10.0</td>\n",
              "      <td>70</td>\n",
              "      <td>American</td>\n",
              "      <td>1</td>\n",
              "      <td>0</td>\n",
              "      <td>0</td>\n",
              "    </tr>\n",
              "    <tr>\n",
              "      <th>6</th>\n",
              "      <td>14.0</td>\n",
              "      <td>8</td>\n",
              "      <td>454.0</td>\n",
              "      <td>220</td>\n",
              "      <td>4354</td>\n",
              "      <td>9.0</td>\n",
              "      <td>70</td>\n",
              "      <td>American</td>\n",
              "      <td>1</td>\n",
              "      <td>0</td>\n",
              "      <td>0</td>\n",
              "    </tr>\n",
              "    <tr>\n",
              "      <th>7</th>\n",
              "      <td>14.0</td>\n",
              "      <td>8</td>\n",
              "      <td>440.0</td>\n",
              "      <td>215</td>\n",
              "      <td>4312</td>\n",
              "      <td>8.5</td>\n",
              "      <td>70</td>\n",
              "      <td>American</td>\n",
              "      <td>1</td>\n",
              "      <td>0</td>\n",
              "      <td>0</td>\n",
              "    </tr>\n",
              "    <tr>\n",
              "      <th>8</th>\n",
              "      <td>14.0</td>\n",
              "      <td>8</td>\n",
              "      <td>455.0</td>\n",
              "      <td>225</td>\n",
              "      <td>4425</td>\n",
              "      <td>10.0</td>\n",
              "      <td>70</td>\n",
              "      <td>American</td>\n",
              "      <td>1</td>\n",
              "      <td>0</td>\n",
              "      <td>0</td>\n",
              "    </tr>\n",
              "    <tr>\n",
              "      <th>9</th>\n",
              "      <td>15.0</td>\n",
              "      <td>8</td>\n",
              "      <td>390.0</td>\n",
              "      <td>190</td>\n",
              "      <td>3850</td>\n",
              "      <td>8.5</td>\n",
              "      <td>70</td>\n",
              "      <td>American</td>\n",
              "      <td>1</td>\n",
              "      <td>0</td>\n",
              "      <td>0</td>\n",
              "    </tr>\n",
              "    <tr>\n",
              "      <th>10</th>\n",
              "      <td>15.0</td>\n",
              "      <td>8</td>\n",
              "      <td>383.0</td>\n",
              "      <td>170</td>\n",
              "      <td>3563</td>\n",
              "      <td>10.0</td>\n",
              "      <td>70</td>\n",
              "      <td>American</td>\n",
              "      <td>1</td>\n",
              "      <td>0</td>\n",
              "      <td>0</td>\n",
              "    </tr>\n",
              "    <tr>\n",
              "      <th>11</th>\n",
              "      <td>14.0</td>\n",
              "      <td>8</td>\n",
              "      <td>340.0</td>\n",
              "      <td>160</td>\n",
              "      <td>3609</td>\n",
              "      <td>8.0</td>\n",
              "      <td>70</td>\n",
              "      <td>American</td>\n",
              "      <td>1</td>\n",
              "      <td>0</td>\n",
              "      <td>0</td>\n",
              "    </tr>\n",
              "    <tr>\n",
              "      <th>12</th>\n",
              "      <td>15.0</td>\n",
              "      <td>8</td>\n",
              "      <td>400.0</td>\n",
              "      <td>150</td>\n",
              "      <td>3761</td>\n",
              "      <td>9.5</td>\n",
              "      <td>70</td>\n",
              "      <td>American</td>\n",
              "      <td>1</td>\n",
              "      <td>0</td>\n",
              "      <td>0</td>\n",
              "    </tr>\n",
              "    <tr>\n",
              "      <th>13</th>\n",
              "      <td>14.0</td>\n",
              "      <td>8</td>\n",
              "      <td>455.0</td>\n",
              "      <td>225</td>\n",
              "      <td>3086</td>\n",
              "      <td>10.0</td>\n",
              "      <td>70</td>\n",
              "      <td>American</td>\n",
              "      <td>1</td>\n",
              "      <td>0</td>\n",
              "      <td>0</td>\n",
              "    </tr>\n",
              "    <tr>\n",
              "      <th>14</th>\n",
              "      <td>24.0</td>\n",
              "      <td>4</td>\n",
              "      <td>113.0</td>\n",
              "      <td>95</td>\n",
              "      <td>2372</td>\n",
              "      <td>15.0</td>\n",
              "      <td>70</td>\n",
              "      <td>Asian</td>\n",
              "      <td>0</td>\n",
              "      <td>0</td>\n",
              "      <td>1</td>\n",
              "    </tr>\n",
              "  </tbody>\n",
              "</table>\n",
              "</div>\n",
              "    <div class=\"colab-df-buttons\">\n",
              "\n",
              "  <div class=\"colab-df-container\">\n",
              "    <button class=\"colab-df-convert\" onclick=\"convertToInteractive('df-30186736-443b-4bbb-8de0-fd185306099f')\"\n",
              "            title=\"Convert this dataframe to an interactive table.\"\n",
              "            style=\"display:none;\">\n",
              "\n",
              "  <svg xmlns=\"http://www.w3.org/2000/svg\" height=\"24px\" viewBox=\"0 -960 960 960\">\n",
              "    <path d=\"M120-120v-720h720v720H120Zm60-500h600v-160H180v160Zm220 220h160v-160H400v160Zm0 220h160v-160H400v160ZM180-400h160v-160H180v160Zm440 0h160v-160H620v160ZM180-180h160v-160H180v160Zm440 0h160v-160H620v160Z\"/>\n",
              "  </svg>\n",
              "    </button>\n",
              "\n",
              "  <style>\n",
              "    .colab-df-container {\n",
              "      display:flex;\n",
              "      gap: 12px;\n",
              "    }\n",
              "\n",
              "    .colab-df-convert {\n",
              "      background-color: #E8F0FE;\n",
              "      border: none;\n",
              "      border-radius: 50%;\n",
              "      cursor: pointer;\n",
              "      display: none;\n",
              "      fill: #1967D2;\n",
              "      height: 32px;\n",
              "      padding: 0 0 0 0;\n",
              "      width: 32px;\n",
              "    }\n",
              "\n",
              "    .colab-df-convert:hover {\n",
              "      background-color: #E2EBFA;\n",
              "      box-shadow: 0px 1px 2px rgba(60, 64, 67, 0.3), 0px 1px 3px 1px rgba(60, 64, 67, 0.15);\n",
              "      fill: #174EA6;\n",
              "    }\n",
              "\n",
              "    .colab-df-buttons div {\n",
              "      margin-bottom: 4px;\n",
              "    }\n",
              "\n",
              "    [theme=dark] .colab-df-convert {\n",
              "      background-color: #3B4455;\n",
              "      fill: #D2E3FC;\n",
              "    }\n",
              "\n",
              "    [theme=dark] .colab-df-convert:hover {\n",
              "      background-color: #434B5C;\n",
              "      box-shadow: 0px 1px 3px 1px rgba(0, 0, 0, 0.15);\n",
              "      filter: drop-shadow(0px 1px 2px rgba(0, 0, 0, 0.3));\n",
              "      fill: #FFFFFF;\n",
              "    }\n",
              "  </style>\n",
              "\n",
              "    <script>\n",
              "      const buttonEl =\n",
              "        document.querySelector('#df-30186736-443b-4bbb-8de0-fd185306099f button.colab-df-convert');\n",
              "      buttonEl.style.display =\n",
              "        google.colab.kernel.accessAllowed ? 'block' : 'none';\n",
              "\n",
              "      async function convertToInteractive(key) {\n",
              "        const element = document.querySelector('#df-30186736-443b-4bbb-8de0-fd185306099f');\n",
              "        const dataTable =\n",
              "          await google.colab.kernel.invokeFunction('convertToInteractive',\n",
              "                                                    [key], {});\n",
              "        if (!dataTable) return;\n",
              "\n",
              "        const docLinkHtml = 'Like what you see? Visit the ' +\n",
              "          '<a target=\"_blank\" href=https://colab.research.google.com/notebooks/data_table.ipynb>data table notebook</a>'\n",
              "          + ' to learn more about interactive tables.';\n",
              "        element.innerHTML = '';\n",
              "        dataTable['output_type'] = 'display_data';\n",
              "        await google.colab.output.renderOutput(dataTable, element);\n",
              "        const docLink = document.createElement('div');\n",
              "        docLink.innerHTML = docLinkHtml;\n",
              "        element.appendChild(docLink);\n",
              "      }\n",
              "    </script>\n",
              "  </div>\n",
              "\n",
              "\n",
              "<div id=\"df-a164c9e4-c545-4c18-a4b9-751c1382c2ad\">\n",
              "  <button class=\"colab-df-quickchart\" onclick=\"quickchart('df-a164c9e4-c545-4c18-a4b9-751c1382c2ad')\"\n",
              "            title=\"Suggest charts\"\n",
              "            style=\"display:none;\">\n",
              "\n",
              "<svg xmlns=\"http://www.w3.org/2000/svg\" height=\"24px\"viewBox=\"0 0 24 24\"\n",
              "     width=\"24px\">\n",
              "    <g>\n",
              "        <path d=\"M19 3H5c-1.1 0-2 .9-2 2v14c0 1.1.9 2 2 2h14c1.1 0 2-.9 2-2V5c0-1.1-.9-2-2-2zM9 17H7v-7h2v7zm4 0h-2V7h2v10zm4 0h-2v-4h2v4z\"/>\n",
              "    </g>\n",
              "</svg>\n",
              "  </button>\n",
              "\n",
              "<style>\n",
              "  .colab-df-quickchart {\n",
              "      --bg-color: #E8F0FE;\n",
              "      --fill-color: #1967D2;\n",
              "      --hover-bg-color: #E2EBFA;\n",
              "      --hover-fill-color: #174EA6;\n",
              "      --disabled-fill-color: #AAA;\n",
              "      --disabled-bg-color: #DDD;\n",
              "  }\n",
              "\n",
              "  [theme=dark] .colab-df-quickchart {\n",
              "      --bg-color: #3B4455;\n",
              "      --fill-color: #D2E3FC;\n",
              "      --hover-bg-color: #434B5C;\n",
              "      --hover-fill-color: #FFFFFF;\n",
              "      --disabled-bg-color: #3B4455;\n",
              "      --disabled-fill-color: #666;\n",
              "  }\n",
              "\n",
              "  .colab-df-quickchart {\n",
              "    background-color: var(--bg-color);\n",
              "    border: none;\n",
              "    border-radius: 50%;\n",
              "    cursor: pointer;\n",
              "    display: none;\n",
              "    fill: var(--fill-color);\n",
              "    height: 32px;\n",
              "    padding: 0;\n",
              "    width: 32px;\n",
              "  }\n",
              "\n",
              "  .colab-df-quickchart:hover {\n",
              "    background-color: var(--hover-bg-color);\n",
              "    box-shadow: 0 1px 2px rgba(60, 64, 67, 0.3), 0 1px 3px 1px rgba(60, 64, 67, 0.15);\n",
              "    fill: var(--button-hover-fill-color);\n",
              "  }\n",
              "\n",
              "  .colab-df-quickchart-complete:disabled,\n",
              "  .colab-df-quickchart-complete:disabled:hover {\n",
              "    background-color: var(--disabled-bg-color);\n",
              "    fill: var(--disabled-fill-color);\n",
              "    box-shadow: none;\n",
              "  }\n",
              "\n",
              "  .colab-df-spinner {\n",
              "    border: 2px solid var(--fill-color);\n",
              "    border-color: transparent;\n",
              "    border-bottom-color: var(--fill-color);\n",
              "    animation:\n",
              "      spin 1s steps(1) infinite;\n",
              "  }\n",
              "\n",
              "  @keyframes spin {\n",
              "    0% {\n",
              "      border-color: transparent;\n",
              "      border-bottom-color: var(--fill-color);\n",
              "      border-left-color: var(--fill-color);\n",
              "    }\n",
              "    20% {\n",
              "      border-color: transparent;\n",
              "      border-left-color: var(--fill-color);\n",
              "      border-top-color: var(--fill-color);\n",
              "    }\n",
              "    30% {\n",
              "      border-color: transparent;\n",
              "      border-left-color: var(--fill-color);\n",
              "      border-top-color: var(--fill-color);\n",
              "      border-right-color: var(--fill-color);\n",
              "    }\n",
              "    40% {\n",
              "      border-color: transparent;\n",
              "      border-right-color: var(--fill-color);\n",
              "      border-top-color: var(--fill-color);\n",
              "    }\n",
              "    60% {\n",
              "      border-color: transparent;\n",
              "      border-right-color: var(--fill-color);\n",
              "    }\n",
              "    80% {\n",
              "      border-color: transparent;\n",
              "      border-right-color: var(--fill-color);\n",
              "      border-bottom-color: var(--fill-color);\n",
              "    }\n",
              "    90% {\n",
              "      border-color: transparent;\n",
              "      border-bottom-color: var(--fill-color);\n",
              "    }\n",
              "  }\n",
              "</style>\n",
              "\n",
              "  <script>\n",
              "    async function quickchart(key) {\n",
              "      const quickchartButtonEl =\n",
              "        document.querySelector('#' + key + ' button');\n",
              "      quickchartButtonEl.disabled = true;  // To prevent multiple clicks.\n",
              "      quickchartButtonEl.classList.add('colab-df-spinner');\n",
              "      try {\n",
              "        const charts = await google.colab.kernel.invokeFunction(\n",
              "            'suggestCharts', [key], {});\n",
              "      } catch (error) {\n",
              "        console.error('Error during call to suggestCharts:', error);\n",
              "      }\n",
              "      quickchartButtonEl.classList.remove('colab-df-spinner');\n",
              "      quickchartButtonEl.classList.add('colab-df-quickchart-complete');\n",
              "    }\n",
              "    (() => {\n",
              "      let quickchartButtonEl =\n",
              "        document.querySelector('#df-a164c9e4-c545-4c18-a4b9-751c1382c2ad button');\n",
              "      quickchartButtonEl.style.display =\n",
              "        google.colab.kernel.accessAllowed ? 'block' : 'none';\n",
              "    })();\n",
              "  </script>\n",
              "</div>\n",
              "\n",
              "    </div>\n",
              "  </div>\n"
            ]
          },
          "metadata": {},
          "execution_count": 21
        }
      ]
    },
    {
      "cell_type": "code",
      "source": [
        "# Conducting multiple regression using all three dummies (incorrect)\n",
        "\n",
        "#Create formula\n",
        "dependent_var = \"mpg\"\n",
        "independent_var = \"cylinders + displacement + horsepower + weight + acceleration + modelyear + is_usa + is_european + is_asian\"\n",
        "\n",
        "formula = dependent_var + \" ~ \" + independent_var\n",
        "\n",
        "# Create & Train model\n",
        "model = ols(formula, auto).fit()\n",
        "\n",
        "# Print the results\n",
        "print(\"Anova:\")\n",
        "print(f\"{anova_lm(model)}\")\n",
        "print(\"Params:\")\n",
        "print(f\"{model.params}\")\n",
        "print(\"Summary:\")\n",
        "print(f\"{model.summary()}\")"
      ],
      "metadata": {
        "id": "YufpVv7X2cnt",
        "colab": {
          "base_uri": "https://localhost:8080/"
        },
        "outputId": "a8a65ccf-4447-4eae-9fde-455ee4c28cea"
      },
      "execution_count": null,
      "outputs": [
        {
          "output_type": "stream",
          "name": "stdout",
          "text": [
            "Anova:\n",
            "                 df        sum_sq       mean_sq            F         PR(>F)\n",
            "cylinders       1.0  14403.083079  14403.083079  1317.378751  4.991337e-126\n",
            "displacement    1.0   1073.344025   1073.344025    98.173468   9.390980e-21\n",
            "horsepower      1.0    403.408069    403.408069    36.897740   3.003965e-09\n",
            "weight          1.0    975.724953    975.724953    89.244734   3.521249e-19\n",
            "acceleration    1.0      0.966071      0.966071     0.088362   7.664315e-01\n",
            "modelyear       1.0   2419.120249   2419.120249   221.264961   8.013075e-40\n",
            "is_usa          1.0    354.255203    354.255203    32.401971   2.496895e-08\n",
            "is_european     1.0      1.700144      1.700144     0.155504   6.935498e-01\n",
            "is_asian        1.0      6.781118      6.781118     0.620235   4.314469e-01\n",
            "Residual      383.0   4187.391678     10.933138          NaN            NaN\n",
            "Params:\n",
            "Intercept      -12.095144\n",
            "cylinders       -0.489709\n",
            "displacement     0.023979\n",
            "horsepower      -0.018183\n",
            "weight          -0.006710\n",
            "acceleration     0.079103\n",
            "modelyear        0.777027\n",
            "is_usa          -5.859458\n",
            "is_european     -3.229456\n",
            "is_asian        -3.006230\n",
            "dtype: float64\n",
            "Summary:\n",
            "                            OLS Regression Results                            \n",
            "==============================================================================\n",
            "Dep. Variable:                    mpg   R-squared:                       0.824\n",
            "Model:                            OLS   Adj. R-squared:                  0.821\n",
            "Method:                 Least Squares   F-statistic:                     224.5\n",
            "Date:                Tue, 26 Dec 2023   Prob (F-statistic):          1.79e-139\n",
            "Time:                        08:51:56   Log-Likelihood:                -1020.5\n",
            "No. Observations:                 392   AIC:                             2059.\n",
            "Df Residuals:                     383   BIC:                             2095.\n",
            "Df Model:                           8                                         \n",
            "Covariance Type:            nonrobust                                         \n",
            "================================================================================\n",
            "                   coef    std err          t      P>|t|      [0.025      0.975]\n",
            "--------------------------------------------------------------------------------\n",
            "Intercept      -12.0951      3.482     -3.474      0.001     -18.941      -5.250\n",
            "cylinders       -0.4897      0.321     -1.524      0.128      -1.121       0.142\n",
            "displacement     0.0240      0.008      3.133      0.002       0.009       0.039\n",
            "horsepower      -0.0182      0.014     -1.326      0.185      -0.045       0.009\n",
            "weight          -0.0067      0.001    -10.243      0.000      -0.008      -0.005\n",
            "acceleration     0.0791      0.098      0.805      0.421      -0.114       0.272\n",
            "modelyear        0.7770      0.052     15.005      0.000       0.675       0.879\n",
            "is_usa          -5.8595      1.227     -4.775      0.000      -8.272      -3.447\n",
            "is_european     -3.2295      1.156     -2.794      0.005      -5.502      -0.957\n",
            "is_asian        -3.0062      1.231     -2.443      0.015      -5.426      -0.587\n",
            "==============================================================================\n",
            "Omnibus:                       23.395   Durbin-Watson:                   1.291\n",
            "Prob(Omnibus):                  0.000   Jarque-Bera (JB):               34.452\n",
            "Skew:                           0.444   Prob(JB):                     3.30e-08\n",
            "Kurtosis:                       4.150   Cond. No.                     5.22e+18\n",
            "==============================================================================\n",
            "\n",
            "Notes:\n",
            "[1] Standard Errors assume that the covariance matrix of the errors is correctly specified.\n",
            "[2] The smallest eigenvalue is 1.39e-28. This might indicate that there are\n",
            "strong multicollinearity problems or that the design matrix is singular.\n"
          ]
        }
      ]
    },
    {
      "cell_type": "code",
      "source": [
        "# Conducting multiple regression using n-1 dummies\n",
        "\n",
        "#Create formula\n",
        "dependent_var = \"mpg\"\n",
        "independent_var = \"cylinders + displacement + horsepower + weight + acceleration + modelyear + is_usa + is_european\"\n",
        "\n",
        "formula = dependent_var + \" ~ \" + independent_var\n",
        "\n",
        "# Create & Train model\n",
        "model = ols(formula, auto).fit()\n",
        "\n",
        "# Print the results\n",
        "print(\"Anova:\")\n",
        "print(f\"{anova_lm(model)}\")\n",
        "print(\"Params:\")\n",
        "print(f\"{model.params}\")\n",
        "print(\"Summary:\")\n",
        "print(f\"{model.summary()}\")"
      ],
      "metadata": {
        "id": "wJmYYj2H2hKK",
        "colab": {
          "base_uri": "https://localhost:8080/"
        },
        "outputId": "12e85d79-0741-47dc-b5dd-477b4bd5db66"
      },
      "execution_count": null,
      "outputs": [
        {
          "output_type": "stream",
          "name": "stdout",
          "text": [
            "Anova:\n",
            "                 df        sum_sq       mean_sq            F         PR(>F)\n",
            "cylinders       1.0  14403.083079  14403.083079  1317.378751  4.991337e-126\n",
            "displacement    1.0   1073.344025   1073.344025    98.173468   9.390980e-21\n",
            "horsepower      1.0    403.408069    403.408069    36.897740   3.003965e-09\n",
            "weight          1.0    975.724953    975.724953    89.244734   3.521249e-19\n",
            "acceleration    1.0      0.966071      0.966071     0.088362   7.664315e-01\n",
            "modelyear       1.0   2419.120249   2419.120249   221.264961   8.013075e-40\n",
            "is_usa          1.0    354.255203    354.255203    32.401971   2.496895e-08\n",
            "is_european     1.0      1.700144      1.700144     0.155504   6.935498e-01\n",
            "Residual      383.0   4187.391678     10.933138          NaN            NaN\n",
            "Params:\n",
            "Intercept      -15.101374\n",
            "cylinders       -0.489709\n",
            "displacement     0.023979\n",
            "horsepower      -0.018183\n",
            "weight          -0.006710\n",
            "acceleration     0.079103\n",
            "modelyear        0.777027\n",
            "is_usa          -2.853228\n",
            "is_european     -0.223226\n",
            "dtype: float64\n",
            "Summary:\n",
            "                            OLS Regression Results                            \n",
            "==============================================================================\n",
            "Dep. Variable:                    mpg   R-squared:                       0.824\n",
            "Model:                            OLS   Adj. R-squared:                  0.821\n",
            "Method:                 Least Squares   F-statistic:                     224.5\n",
            "Date:                Tue, 26 Dec 2023   Prob (F-statistic):          1.79e-139\n",
            "Time:                        08:54:27   Log-Likelihood:                -1020.5\n",
            "No. Observations:                 392   AIC:                             2059.\n",
            "Df Residuals:                     383   BIC:                             2095.\n",
            "Df Model:                           8                                         \n",
            "Covariance Type:            nonrobust                                         \n",
            "================================================================================\n",
            "                   coef    std err          t      P>|t|      [0.025      0.975]\n",
            "--------------------------------------------------------------------------------\n",
            "Intercept      -15.1014      4.681     -3.226      0.001     -24.305      -5.898\n",
            "cylinders       -0.4897      0.321     -1.524      0.128      -1.121       0.142\n",
            "displacement     0.0240      0.008      3.133      0.002       0.009       0.039\n",
            "horsepower      -0.0182      0.014     -1.326      0.185      -0.045       0.009\n",
            "weight          -0.0067      0.001    -10.243      0.000      -0.008      -0.005\n",
            "acceleration     0.0791      0.098      0.805      0.421      -0.114       0.272\n",
            "modelyear        0.7770      0.052     15.005      0.000       0.675       0.879\n",
            "is_usa          -2.8532      0.553     -5.162      0.000      -3.940      -1.766\n",
            "is_european     -0.2232      0.566     -0.394      0.694      -1.336       0.890\n",
            "==============================================================================\n",
            "Omnibus:                       23.395   Durbin-Watson:                   1.291\n",
            "Prob(Omnibus):                  0.000   Jarque-Bera (JB):               34.452\n",
            "Skew:                           0.444   Prob(JB):                     3.30e-08\n",
            "Kurtosis:                       4.150   Cond. No.                     8.71e+04\n",
            "==============================================================================\n",
            "\n",
            "Notes:\n",
            "[1] Standard Errors assume that the covariance matrix of the errors is correctly specified.\n",
            "[2] The condition number is large, 8.71e+04. This might indicate that there are\n",
            "strong multicollinearity or other numerical problems.\n"
          ]
        }
      ]
    }
  ],
  "metadata": {
    "colab": {
      "collapsed_sections": [
        "SV3noVEid8W5",
        "jsjOp01SeZl6",
        "u82ehQoMfaJ1",
        "7io63_2NfzOE",
        "-7QpCAiUgr_1",
        "ez-UoueNjxcc",
        "kiBgQQfQBTyT",
        "QarTzWyMBggd",
        "UV3Trg77CZNv",
        "4Cuhd8aFCc2f",
        "QhBgjdfyCplh",
        "lEWg5kf3DGfs",
        "OLc5OcNuDPAv",
        "c0m739G_Dagk",
        "B8vhRPw3EGVg",
        "GWD2y9DnlXo2",
        "FUD38i-EmP0v",
        "dpDbq6xbmniu",
        "fNF-YgOYnuS3",
        "nuoQ0eq7oI31",
        "RILVMuPgpUhk",
        "7TfVxCtLrUFg",
        "7Zi51eb-CV_C",
        "ErDU9TKICgAb",
        "VBmrcRYpCsBp",
        "0_PaMho4DFWX",
        "aPcl0N9jDVHP",
        "EyNhdSsqDupV",
        "jORUYLkRCxjS",
        "T1VsYKhdCy2-",
        "wIfnDZZuC3nF",
        "F5iYzLhlEGKP",
        "DzoJMbzqELRG",
        "zmimzTTYEQNR",
        "YNSEoN0aEUwm",
        "TD5ei3-bEYcS",
        "Ok85_wuNEdM1",
        "tlki1A7yEe3H",
        "PQkxByhXEip1",
        "0ra-lRwzEo82",
        "lixHDKBSEsoJ",
        "fdiO4oyHEy2c",
        "5FiUCxcNE3zG",
        "cSZvb4mpfjBD",
        "PIDsE2T5HC9x",
        "fJuJzuwnHIDU",
        "pega65rhHM3a",
        "EesmqoZjHXIZ",
        "rmY26ZUaHohk",
        "qLYH2a3H-i0G",
        "NVIdfuCa-6HU",
        "jlOdwOgm--F1",
        "LpcU6Qzs_Ade",
        "8AVv8mqE_Clb",
        "6zAhNIFo_rQB"
      ],
      "provenance": [],
      "include_colab_link": true
    },
    "kernelspec": {
      "display_name": "Python 3",
      "name": "python3"
    },
    "language_info": {
      "name": "python"
    }
  },
  "nbformat": 4,
  "nbformat_minor": 0
}